{
 "cells": [
  {
   "cell_type": "code",
   "execution_count": 39,
   "metadata": {},
   "outputs": [
    {
     "data": {
      "text/html": [
       "\n",
       "    <div class=\"bk-root\">\n",
       "        <a href=\"https://bokeh.pydata.org\" target=\"_blank\" class=\"bk-logo bk-logo-small bk-logo-notebook\"></a>\n",
       "        <span id=\"2265\">Loading BokehJS ...</span>\n",
       "    </div>"
      ]
     },
     "metadata": {},
     "output_type": "display_data"
    },
    {
     "data": {
      "application/javascript": [
       "\n",
       "(function(root) {\n",
       "  function now() {\n",
       "    return new Date();\n",
       "  }\n",
       "\n",
       "  var force = true;\n",
       "\n",
       "  if (typeof root._bokeh_onload_callbacks === \"undefined\" || force === true) {\n",
       "    root._bokeh_onload_callbacks = [];\n",
       "    root._bokeh_is_loading = undefined;\n",
       "  }\n",
       "\n",
       "  var JS_MIME_TYPE = 'application/javascript';\n",
       "  var HTML_MIME_TYPE = 'text/html';\n",
       "  var EXEC_MIME_TYPE = 'application/vnd.bokehjs_exec.v0+json';\n",
       "  var CLASS_NAME = 'output_bokeh rendered_html';\n",
       "\n",
       "  /**\n",
       "   * Render data to the DOM node\n",
       "   */\n",
       "  function render(props, node) {\n",
       "    var script = document.createElement(\"script\");\n",
       "    node.appendChild(script);\n",
       "  }\n",
       "\n",
       "  /**\n",
       "   * Handle when an output is cleared or removed\n",
       "   */\n",
       "  function handleClearOutput(event, handle) {\n",
       "    var cell = handle.cell;\n",
       "\n",
       "    var id = cell.output_area._bokeh_element_id;\n",
       "    var server_id = cell.output_area._bokeh_server_id;\n",
       "    // Clean up Bokeh references\n",
       "    if (id != null && id in Bokeh.index) {\n",
       "      Bokeh.index[id].model.document.clear();\n",
       "      delete Bokeh.index[id];\n",
       "    }\n",
       "\n",
       "    if (server_id !== undefined) {\n",
       "      // Clean up Bokeh references\n",
       "      var cmd = \"from bokeh.io.state import curstate; print(curstate().uuid_to_server['\" + server_id + \"'].get_sessions()[0].document.roots[0]._id)\";\n",
       "      cell.notebook.kernel.execute(cmd, {\n",
       "        iopub: {\n",
       "          output: function(msg) {\n",
       "            var id = msg.content.text.trim();\n",
       "            if (id in Bokeh.index) {\n",
       "              Bokeh.index[id].model.document.clear();\n",
       "              delete Bokeh.index[id];\n",
       "            }\n",
       "          }\n",
       "        }\n",
       "      });\n",
       "      // Destroy server and session\n",
       "      var cmd = \"import bokeh.io.notebook as ion; ion.destroy_server('\" + server_id + \"')\";\n",
       "      cell.notebook.kernel.execute(cmd);\n",
       "    }\n",
       "  }\n",
       "\n",
       "  /**\n",
       "   * Handle when a new output is added\n",
       "   */\n",
       "  function handleAddOutput(event, handle) {\n",
       "    var output_area = handle.output_area;\n",
       "    var output = handle.output;\n",
       "\n",
       "    // limit handleAddOutput to display_data with EXEC_MIME_TYPE content only\n",
       "    if ((output.output_type != \"display_data\") || (!output.data.hasOwnProperty(EXEC_MIME_TYPE))) {\n",
       "      return\n",
       "    }\n",
       "\n",
       "    var toinsert = output_area.element.find(\".\" + CLASS_NAME.split(' ')[0]);\n",
       "\n",
       "    if (output.metadata[EXEC_MIME_TYPE][\"id\"] !== undefined) {\n",
       "      toinsert[toinsert.length - 1].firstChild.textContent = output.data[JS_MIME_TYPE];\n",
       "      // store reference to embed id on output_area\n",
       "      output_area._bokeh_element_id = output.metadata[EXEC_MIME_TYPE][\"id\"];\n",
       "    }\n",
       "    if (output.metadata[EXEC_MIME_TYPE][\"server_id\"] !== undefined) {\n",
       "      var bk_div = document.createElement(\"div\");\n",
       "      bk_div.innerHTML = output.data[HTML_MIME_TYPE];\n",
       "      var script_attrs = bk_div.children[0].attributes;\n",
       "      for (var i = 0; i < script_attrs.length; i++) {\n",
       "        toinsert[toinsert.length - 1].firstChild.setAttribute(script_attrs[i].name, script_attrs[i].value);\n",
       "      }\n",
       "      // store reference to server id on output_area\n",
       "      output_area._bokeh_server_id = output.metadata[EXEC_MIME_TYPE][\"server_id\"];\n",
       "    }\n",
       "  }\n",
       "\n",
       "  function register_renderer(events, OutputArea) {\n",
       "\n",
       "    function append_mime(data, metadata, element) {\n",
       "      // create a DOM node to render to\n",
       "      var toinsert = this.create_output_subarea(\n",
       "        metadata,\n",
       "        CLASS_NAME,\n",
       "        EXEC_MIME_TYPE\n",
       "      );\n",
       "      this.keyboard_manager.register_events(toinsert);\n",
       "      // Render to node\n",
       "      var props = {data: data, metadata: metadata[EXEC_MIME_TYPE]};\n",
       "      render(props, toinsert[toinsert.length - 1]);\n",
       "      element.append(toinsert);\n",
       "      return toinsert\n",
       "    }\n",
       "\n",
       "    /* Handle when an output is cleared or removed */\n",
       "    events.on('clear_output.CodeCell', handleClearOutput);\n",
       "    events.on('delete.Cell', handleClearOutput);\n",
       "\n",
       "    /* Handle when a new output is added */\n",
       "    events.on('output_added.OutputArea', handleAddOutput);\n",
       "\n",
       "    /**\n",
       "     * Register the mime type and append_mime function with output_area\n",
       "     */\n",
       "    OutputArea.prototype.register_mime_type(EXEC_MIME_TYPE, append_mime, {\n",
       "      /* Is output safe? */\n",
       "      safe: true,\n",
       "      /* Index of renderer in `output_area.display_order` */\n",
       "      index: 0\n",
       "    });\n",
       "  }\n",
       "\n",
       "  // register the mime type if in Jupyter Notebook environment and previously unregistered\n",
       "  if (root.Jupyter !== undefined) {\n",
       "    var events = require('base/js/events');\n",
       "    var OutputArea = require('notebook/js/outputarea').OutputArea;\n",
       "\n",
       "    if (OutputArea.prototype.mime_types().indexOf(EXEC_MIME_TYPE) == -1) {\n",
       "      register_renderer(events, OutputArea);\n",
       "    }\n",
       "  }\n",
       "\n",
       "  \n",
       "  if (typeof (root._bokeh_timeout) === \"undefined\" || force === true) {\n",
       "    root._bokeh_timeout = Date.now() + 5000;\n",
       "    root._bokeh_failed_load = false;\n",
       "  }\n",
       "\n",
       "  var NB_LOAD_WARNING = {'data': {'text/html':\n",
       "     \"<div style='background-color: #fdd'>\\n\"+\n",
       "     \"<p>\\n\"+\n",
       "     \"BokehJS does not appear to have successfully loaded. If loading BokehJS from CDN, this \\n\"+\n",
       "     \"may be due to a slow or bad network connection. Possible fixes:\\n\"+\n",
       "     \"</p>\\n\"+\n",
       "     \"<ul>\\n\"+\n",
       "     \"<li>re-rerun `output_notebook()` to attempt to load from CDN again, or</li>\\n\"+\n",
       "     \"<li>use INLINE resources instead, as so:</li>\\n\"+\n",
       "     \"</ul>\\n\"+\n",
       "     \"<code>\\n\"+\n",
       "     \"from bokeh.resources import INLINE\\n\"+\n",
       "     \"output_notebook(resources=INLINE)\\n\"+\n",
       "     \"</code>\\n\"+\n",
       "     \"</div>\"}};\n",
       "\n",
       "  function display_loaded() {\n",
       "    var el = document.getElementById(\"2265\");\n",
       "    if (el != null) {\n",
       "      el.textContent = \"BokehJS is loading...\";\n",
       "    }\n",
       "    if (root.Bokeh !== undefined) {\n",
       "      if (el != null) {\n",
       "        el.textContent = \"BokehJS \" + root.Bokeh.version + \" successfully loaded.\";\n",
       "      }\n",
       "    } else if (Date.now() < root._bokeh_timeout) {\n",
       "      setTimeout(display_loaded, 100)\n",
       "    }\n",
       "  }\n",
       "\n",
       "\n",
       "  function run_callbacks() {\n",
       "    try {\n",
       "      root._bokeh_onload_callbacks.forEach(function(callback) {\n",
       "        if (callback != null)\n",
       "          callback();\n",
       "      });\n",
       "    } finally {\n",
       "      delete root._bokeh_onload_callbacks\n",
       "    }\n",
       "    console.debug(\"Bokeh: all callbacks have finished\");\n",
       "  }\n",
       "\n",
       "  function load_libs(css_urls, js_urls, callback) {\n",
       "    if (css_urls == null) css_urls = [];\n",
       "    if (js_urls == null) js_urls = [];\n",
       "\n",
       "    root._bokeh_onload_callbacks.push(callback);\n",
       "    if (root._bokeh_is_loading > 0) {\n",
       "      console.debug(\"Bokeh: BokehJS is being loaded, scheduling callback at\", now());\n",
       "      return null;\n",
       "    }\n",
       "    if (js_urls == null || js_urls.length === 0) {\n",
       "      run_callbacks();\n",
       "      return null;\n",
       "    }\n",
       "    console.debug(\"Bokeh: BokehJS not loaded, scheduling load and callback at\", now());\n",
       "    root._bokeh_is_loading = css_urls.length + js_urls.length;\n",
       "\n",
       "    function on_load() {\n",
       "      root._bokeh_is_loading--;\n",
       "      if (root._bokeh_is_loading === 0) {\n",
       "        console.debug(\"Bokeh: all BokehJS libraries/stylesheets loaded\");\n",
       "        run_callbacks()\n",
       "      }\n",
       "    }\n",
       "\n",
       "    function on_error() {\n",
       "      console.error(\"failed to load \" + url);\n",
       "    }\n",
       "\n",
       "    for (var i = 0; i < css_urls.length; i++) {\n",
       "      var url = css_urls[i];\n",
       "      const element = document.createElement(\"link\");\n",
       "      element.onload = on_load;\n",
       "      element.onerror = on_error;\n",
       "      element.rel = \"stylesheet\";\n",
       "      element.type = \"text/css\";\n",
       "      element.href = url;\n",
       "      console.debug(\"Bokeh: injecting link tag for BokehJS stylesheet: \", url);\n",
       "      document.body.appendChild(element);\n",
       "    }\n",
       "\n",
       "    for (var i = 0; i < js_urls.length; i++) {\n",
       "      var url = js_urls[i];\n",
       "      var element = document.createElement('script');\n",
       "      element.onload = on_load;\n",
       "      element.onerror = on_error;\n",
       "      element.async = false;\n",
       "      element.src = url;\n",
       "      console.debug(\"Bokeh: injecting script tag for BokehJS library: \", url);\n",
       "      document.head.appendChild(element);\n",
       "    }\n",
       "  };var element = document.getElementById(\"2265\");\n",
       "  if (element == null) {\n",
       "    console.error(\"Bokeh: ERROR: autoload.js configured with elementid '2265' but no matching script tag was found. \")\n",
       "    return false;\n",
       "  }\n",
       "\n",
       "  function inject_raw_css(css) {\n",
       "    const element = document.createElement(\"style\");\n",
       "    element.appendChild(document.createTextNode(css));\n",
       "    document.body.appendChild(element);\n",
       "  }\n",
       "\n",
       "  var js_urls = [\"https://cdn.pydata.org/bokeh/release/bokeh-1.3.4.min.js\", \"https://cdn.pydata.org/bokeh/release/bokeh-widgets-1.3.4.min.js\", \"https://cdn.pydata.org/bokeh/release/bokeh-tables-1.3.4.min.js\", \"https://cdn.pydata.org/bokeh/release/bokeh-gl-1.3.4.min.js\"];\n",
       "  var css_urls = [];\n",
       "\n",
       "  var inline_js = [\n",
       "    function(Bokeh) {\n",
       "      Bokeh.set_log_level(\"info\");\n",
       "    },\n",
       "    \n",
       "    function(Bokeh) {\n",
       "      \n",
       "    },\n",
       "    function(Bokeh) {} // ensure no trailing comma for IE\n",
       "  ];\n",
       "\n",
       "  function run_inline_js() {\n",
       "    \n",
       "    if ((root.Bokeh !== undefined) || (force === true)) {\n",
       "      for (var i = 0; i < inline_js.length; i++) {\n",
       "        inline_js[i].call(root, root.Bokeh);\n",
       "      }if (force === true) {\n",
       "        display_loaded();\n",
       "      }} else if (Date.now() < root._bokeh_timeout) {\n",
       "      setTimeout(run_inline_js, 100);\n",
       "    } else if (!root._bokeh_failed_load) {\n",
       "      console.log(\"Bokeh: BokehJS failed to load within specified timeout.\");\n",
       "      root._bokeh_failed_load = true;\n",
       "    } else if (force !== true) {\n",
       "      var cell = $(document.getElementById(\"2265\")).parents('.cell').data().cell;\n",
       "      cell.output_area.append_execute_result(NB_LOAD_WARNING)\n",
       "    }\n",
       "\n",
       "  }\n",
       "\n",
       "  if (root._bokeh_is_loading === 0) {\n",
       "    console.debug(\"Bokeh: BokehJS loaded, going straight to plotting\");\n",
       "    run_inline_js();\n",
       "  } else {\n",
       "    load_libs(css_urls, js_urls, function() {\n",
       "      console.debug(\"Bokeh: BokehJS plotting callback run at\", now());\n",
       "      run_inline_js();\n",
       "    });\n",
       "  }\n",
       "}(window));"
      ],
      "application/vnd.bokehjs_load.v0+json": "\n(function(root) {\n  function now() {\n    return new Date();\n  }\n\n  var force = true;\n\n  if (typeof root._bokeh_onload_callbacks === \"undefined\" || force === true) {\n    root._bokeh_onload_callbacks = [];\n    root._bokeh_is_loading = undefined;\n  }\n\n  \n\n  \n  if (typeof (root._bokeh_timeout) === \"undefined\" || force === true) {\n    root._bokeh_timeout = Date.now() + 5000;\n    root._bokeh_failed_load = false;\n  }\n\n  var NB_LOAD_WARNING = {'data': {'text/html':\n     \"<div style='background-color: #fdd'>\\n\"+\n     \"<p>\\n\"+\n     \"BokehJS does not appear to have successfully loaded. If loading BokehJS from CDN, this \\n\"+\n     \"may be due to a slow or bad network connection. Possible fixes:\\n\"+\n     \"</p>\\n\"+\n     \"<ul>\\n\"+\n     \"<li>re-rerun `output_notebook()` to attempt to load from CDN again, or</li>\\n\"+\n     \"<li>use INLINE resources instead, as so:</li>\\n\"+\n     \"</ul>\\n\"+\n     \"<code>\\n\"+\n     \"from bokeh.resources import INLINE\\n\"+\n     \"output_notebook(resources=INLINE)\\n\"+\n     \"</code>\\n\"+\n     \"</div>\"}};\n\n  function display_loaded() {\n    var el = document.getElementById(\"2265\");\n    if (el != null) {\n      el.textContent = \"BokehJS is loading...\";\n    }\n    if (root.Bokeh !== undefined) {\n      if (el != null) {\n        el.textContent = \"BokehJS \" + root.Bokeh.version + \" successfully loaded.\";\n      }\n    } else if (Date.now() < root._bokeh_timeout) {\n      setTimeout(display_loaded, 100)\n    }\n  }\n\n\n  function run_callbacks() {\n    try {\n      root._bokeh_onload_callbacks.forEach(function(callback) {\n        if (callback != null)\n          callback();\n      });\n    } finally {\n      delete root._bokeh_onload_callbacks\n    }\n    console.debug(\"Bokeh: all callbacks have finished\");\n  }\n\n  function load_libs(css_urls, js_urls, callback) {\n    if (css_urls == null) css_urls = [];\n    if (js_urls == null) js_urls = [];\n\n    root._bokeh_onload_callbacks.push(callback);\n    if (root._bokeh_is_loading > 0) {\n      console.debug(\"Bokeh: BokehJS is being loaded, scheduling callback at\", now());\n      return null;\n    }\n    if (js_urls == null || js_urls.length === 0) {\n      run_callbacks();\n      return null;\n    }\n    console.debug(\"Bokeh: BokehJS not loaded, scheduling load and callback at\", now());\n    root._bokeh_is_loading = css_urls.length + js_urls.length;\n\n    function on_load() {\n      root._bokeh_is_loading--;\n      if (root._bokeh_is_loading === 0) {\n        console.debug(\"Bokeh: all BokehJS libraries/stylesheets loaded\");\n        run_callbacks()\n      }\n    }\n\n    function on_error() {\n      console.error(\"failed to load \" + url);\n    }\n\n    for (var i = 0; i < css_urls.length; i++) {\n      var url = css_urls[i];\n      const element = document.createElement(\"link\");\n      element.onload = on_load;\n      element.onerror = on_error;\n      element.rel = \"stylesheet\";\n      element.type = \"text/css\";\n      element.href = url;\n      console.debug(\"Bokeh: injecting link tag for BokehJS stylesheet: \", url);\n      document.body.appendChild(element);\n    }\n\n    for (var i = 0; i < js_urls.length; i++) {\n      var url = js_urls[i];\n      var element = document.createElement('script');\n      element.onload = on_load;\n      element.onerror = on_error;\n      element.async = false;\n      element.src = url;\n      console.debug(\"Bokeh: injecting script tag for BokehJS library: \", url);\n      document.head.appendChild(element);\n    }\n  };var element = document.getElementById(\"2265\");\n  if (element == null) {\n    console.error(\"Bokeh: ERROR: autoload.js configured with elementid '2265' but no matching script tag was found. \")\n    return false;\n  }\n\n  function inject_raw_css(css) {\n    const element = document.createElement(\"style\");\n    element.appendChild(document.createTextNode(css));\n    document.body.appendChild(element);\n  }\n\n  var js_urls = [\"https://cdn.pydata.org/bokeh/release/bokeh-1.3.4.min.js\", \"https://cdn.pydata.org/bokeh/release/bokeh-widgets-1.3.4.min.js\", \"https://cdn.pydata.org/bokeh/release/bokeh-tables-1.3.4.min.js\", \"https://cdn.pydata.org/bokeh/release/bokeh-gl-1.3.4.min.js\"];\n  var css_urls = [];\n\n  var inline_js = [\n    function(Bokeh) {\n      Bokeh.set_log_level(\"info\");\n    },\n    \n    function(Bokeh) {\n      \n    },\n    function(Bokeh) {} // ensure no trailing comma for IE\n  ];\n\n  function run_inline_js() {\n    \n    if ((root.Bokeh !== undefined) || (force === true)) {\n      for (var i = 0; i < inline_js.length; i++) {\n        inline_js[i].call(root, root.Bokeh);\n      }if (force === true) {\n        display_loaded();\n      }} else if (Date.now() < root._bokeh_timeout) {\n      setTimeout(run_inline_js, 100);\n    } else if (!root._bokeh_failed_load) {\n      console.log(\"Bokeh: BokehJS failed to load within specified timeout.\");\n      root._bokeh_failed_load = true;\n    } else if (force !== true) {\n      var cell = $(document.getElementById(\"2265\")).parents('.cell').data().cell;\n      cell.output_area.append_execute_result(NB_LOAD_WARNING)\n    }\n\n  }\n\n  if (root._bokeh_is_loading === 0) {\n    console.debug(\"Bokeh: BokehJS loaded, going straight to plotting\");\n    run_inline_js();\n  } else {\n    load_libs(css_urls, js_urls, function() {\n      console.debug(\"Bokeh: BokehJS plotting callback run at\", now());\n      run_inline_js();\n    });\n  }\n}(window));"
     },
     "metadata": {},
     "output_type": "display_data"
    }
   ],
   "source": [
    "import pandas as pd\n",
    "import dill\n",
    "import numpy as np\n",
    "from bokeh.plotting import figure, show\n",
    "from bokeh.io import output_notebook,export_png\n",
    "from bokeh.layouts import row\n",
    "import bokeh.palettes as palettes \n",
    "output_notebook()"
   ]
  },
  {
   "cell_type": "code",
   "execution_count": 40,
   "metadata": {},
   "outputs": [],
   "source": [
    "#Get results from first analysis\n",
    "\n",
    "lstWeights,lstCols,lstReturnsLR,lstCovLR,lstfactBetasLR, lstfactInterceptsLR,lsterrEstLR = dill.load(open('output_v4/FinalProject_v4_LRVariables.db','rb'))\n",
    "dfBmk = pd.read_csv('output_v4/dfBmk_v4.csv',parse_dates=['MonthYear'])\n",
    "dfEstLR = pd.read_csv('output_v4/dfEstLR_v4.csv',parse_dates=['Date'])\n",
    "dfActLR = pd.read_csv('output_v4/dfActLR_v4.csv',parse_dates=['Date'])\n",
    "dfSecRtn = pd.read_csv('output_v4/dfSecRtn_v4.csv',parse_dates=['Date'])\n",
    "dfFamaData = pd.read_csv('output_v4/dfFamaData_v4.csv',parse_dates=['YearMonth'])\n",
    "dfConstList = pd.read_csv('output_v4/dfConstList_v4.csv')\n",
    "\n",
    "#Bayes results\n",
    "dfEstB = pd.read_csv('output_v4/dfEstB_v4.csv',parse_dates=['Date'])\n",
    "dfActB = pd.read_csv('output_v4/dfActB_v4.csv',parse_dates=['Date'])\n",
    "lstWeightsB,lstReturnsB,lstCovB,lstfactBetasB, lstfactInterceptsB,lsterrEstB = dill.load(open('output_v4/FinalProject_v4_BayesVariables.db','rb'))\n",
    "\n",
    "dfBmk.set_index('MonthYear', inplace=True)\n",
    "dfSecRtn.set_index('Date', inplace=True)\n",
    "dfFamaData.set_index('YearMonth', inplace=True)\n",
    "dfActLR.set_index('Date', inplace=True)\n",
    "dfEstLR.set_index('Date', inplace=True)\n",
    "dfActB.set_index('Date', inplace=True)\n",
    "dfEstB.set_index('Date', inplace=True)\n",
    "dfActLR.drop(['Unnamed: 0'],axis=1, inplace=True)\n",
    "dfEstB.drop(['Unnamed: 0'],axis=1, inplace=True)\n",
    "dfEstLR.drop(['Unnamed: 0'],axis=1, inplace=True)\n",
    "dfActB.drop(['Unnamed: 0'],axis=1, inplace=True)"
   ]
  },
  {
   "cell_type": "code",
   "execution_count": 41,
   "metadata": {},
   "outputs": [
    {
     "name": "stdout",
     "output_type": "stream",
     "text": [
      "LR Annualized Rtn  16.1673\n",
      "Bayes Annualized Rtn   15.9110\n",
      "BMK Annualized Rtn   6.8188\n",
      "LR Annualized Volatility  1.3051\n",
      "Bayes Annualized Volatility   1.3260\n"
     ]
    }
   ],
   "source": [
    "#print (np.prod((1 + dfEstLR/100)**(12/len(dfEstLR))) -1)\n",
    "#print (np.prod((1 + dfEstB/100)**(12/len(dfEstB))) -1)\n",
    "print ('LR Annualized Rtn % 5.4f' %((np.prod((1 + dfActLR/100)**(12/len(dfActLR))) -1)*100))\n",
    "print ('Bayes Annualized Rtn  % 5.4f' % ((np.prod((1 + dfActB/100)**(12/len(dfActB))) -1)*100))\n",
    "print ('BMK Annualized Rtn  % 5.4f' % ((np.prod((1 + dfBmk.RETURN/100)**(12/len(dfBmk.RETURN))) -1)*100))\n",
    "print('LR Annualized Volatility % 5.4f' %(((1 + dfActLR/100)-1).std() * np.sqrt(12/len(dfActLR))*100))\n",
    "print('Bayes Annualized Volatility  % 5.4f' %( ((1 + dfActB/100) -1).std() * np.sqrt(12/len(dfActB))*100))\n"
   ]
  },
  {
   "cell_type": "code",
   "execution_count": 42,
   "metadata": {},
   "outputs": [],
   "source": [
    "#get the constituent counts\n",
    "dfPortCount = pd.DataFrame([ (w[0], sum([np.round(c,2) > 0 for c in w[1]['weight']])) for w in lstWeights], columns=['Date','Count'])\n",
    "#get the difference in returns this is the error we are looking to minimize\n",
    "dfDifLR = pd.DataFrame(np.subtract(dfActLR.Rtn, dfEstLR.Rtn), columns=['Rtn'])\n",
    "MAE_LR = np.sum(abs(dfDifLR))/len(dfDifLR)\n",
    "RMSE_LR = np.sqrt(np.sum(dfDifLR**2)/dfDifLR.size)\n",
    "MSELR =  np.mean(np.subtract(abs(dfActLR.Rtn),abs(dfEstLR.Rtn))**2)\n",
    "MAPE_LR = np.sum(abs((dfActLR - dfEstLR)/dfActLR))/dfActLR.size*(1/100)\n",
    "SMAPE_LR = np.sum(abs(dfEstLR-dfActLR))/np.sum(dfEstLR+dfActLR)\n",
    "CumErr_LR = (np.cumprod(1+dfEstLR.Rtn/100)*100)/(np.cumprod(1+dfActLR.Rtn/100)*100)\n",
    "\n",
    "MSELR =  np.mean(np.subtract(np.log(1+ dfActLR.Rtn/100),np.log(1 + dfEstLR.Rtn/100))**2)*100\n",
    "\n",
    "#dfEstLR.Rtn.abs().sum()/dfActLR.Rtn.abs().sum()"
   ]
  },
  {
   "cell_type": "code",
   "execution_count": 43,
   "metadata": {},
   "outputs": [
    {
     "name": "stdout",
     "output_type": "stream",
     "text": [
      "Rtn    0.019182\n",
      "dtype: float64\n",
      "Rtn    1.006806\n",
      "dtype: float64\n"
     ]
    },
    {
     "data": {
      "text/plain": [
       "0.17967124799232492"
      ]
     },
     "execution_count": 43,
     "metadata": {},
     "output_type": "execute_result"
    }
   ],
   "source": [
    "print(MAPE_LR)\n",
    "print(SMAPE_LR)\n",
    "MAE_LR\n",
    "CumErr_LR.describe()\n",
    "MSELR\n"
   ]
  },
  {
   "cell_type": "code",
   "execution_count": 44,
   "metadata": {},
   "outputs": [],
   "source": [
    "#get the constituent counts\n",
    "dfPortCountB = pd.DataFrame([ (w[0], sum([np.round(c,2) > 0 for c in w[1]['weight']])) for w in lstWeightsB], columns=['Date','Count'])\n",
    "#get the difference in returns this is the error we are looking to minimize\n",
    "dfDifB = pd.DataFrame(np.subtract(dfActB.Rtn,dfEstB.Rtn), columns=['Rtn'])\n",
    "MAE_B = np.sum(abs(dfDifB))/len(dfDifB)\n",
    "RMSE_B = np.sqrt(np.sum(dfDifB**2)/dfDifB.size)\n",
    "MSEB = np.mean(np.subtract(abs(dfActB.Rtn),abs(dfEstB.Rtn))**2)\n",
    "MAPE_B = np.sum(abs((dfActB - dfEstB)/dfActB))/dfActB.size*(1/100)\n",
    "SMAPE_B = np.sum(abs(dfEstB-dfActB))/np.sum(dfEstB+dfActB)\n",
    "\n",
    "CumErr_B = (np.cumprod(1+dfEstB.Rtn/100)*100)/(np.cumprod(1+dfActB.Rtn/100)*100)\n",
    "\n",
    "MSEB =  np.mean(np.subtract(np.log(1 + dfEstB.Rtn/100),np.log(1+ dfActB.Rtn/100))**2)*100"
   ]
  },
  {
   "cell_type": "code",
   "execution_count": 45,
   "metadata": {},
   "outputs": [
    {
     "data": {
      "text/plain": [
       "count    129.000000\n",
       "mean       0.970788\n",
       "std        0.083507\n",
       "min        0.798366\n",
       "25%        0.909630\n",
       "50%        0.971435\n",
       "75%        1.035287\n",
       "max        1.215557\n",
       "Name: Rtn, dtype: float64"
      ]
     },
     "execution_count": 45,
     "metadata": {},
     "output_type": "execute_result"
    }
   ],
   "source": [
    "SMAPE_B\n",
    "MAE_B\n",
    "CumErr_B.describe()"
   ]
  },
  {
   "cell_type": "code",
   "execution_count": 46,
   "metadata": {},
   "outputs": [
    {
     "data": {
      "text/html": [
       "<div>\n",
       "<style scoped>\n",
       "    .dataframe tbody tr th:only-of-type {\n",
       "        vertical-align: middle;\n",
       "    }\n",
       "\n",
       "    .dataframe tbody tr th {\n",
       "        vertical-align: top;\n",
       "    }\n",
       "\n",
       "    .dataframe thead th {\n",
       "        text-align: right;\n",
       "    }\n",
       "</style>\n",
       "<table border=\"1\" class=\"dataframe\">\n",
       "  <thead>\n",
       "    <tr style=\"text-align: right;\">\n",
       "      <th></th>\n",
       "      <th>Count</th>\n",
       "    </tr>\n",
       "  </thead>\n",
       "  <tbody>\n",
       "    <tr>\n",
       "      <td>count</td>\n",
       "      <td>129.000000</td>\n",
       "    </tr>\n",
       "    <tr>\n",
       "      <td>mean</td>\n",
       "      <td>37.852713</td>\n",
       "    </tr>\n",
       "    <tr>\n",
       "      <td>std</td>\n",
       "      <td>3.199367</td>\n",
       "    </tr>\n",
       "    <tr>\n",
       "      <td>min</td>\n",
       "      <td>28.000000</td>\n",
       "    </tr>\n",
       "    <tr>\n",
       "      <td>25%</td>\n",
       "      <td>36.000000</td>\n",
       "    </tr>\n",
       "    <tr>\n",
       "      <td>50%</td>\n",
       "      <td>38.000000</td>\n",
       "    </tr>\n",
       "    <tr>\n",
       "      <td>75%</td>\n",
       "      <td>40.000000</td>\n",
       "    </tr>\n",
       "    <tr>\n",
       "      <td>max</td>\n",
       "      <td>49.000000</td>\n",
       "    </tr>\n",
       "  </tbody>\n",
       "</table>\n",
       "</div>"
      ],
      "text/plain": [
       "            Count\n",
       "count  129.000000\n",
       "mean    37.852713\n",
       "std      3.199367\n",
       "min     28.000000\n",
       "25%     36.000000\n",
       "50%     38.000000\n",
       "75%     40.000000\n",
       "max     49.000000"
      ]
     },
     "execution_count": 46,
     "metadata": {},
     "output_type": "execute_result"
    }
   ],
   "source": [
    "dfPortCountB.describe()"
   ]
  },
  {
   "cell_type": "code",
   "execution_count": 47,
   "metadata": {},
   "outputs": [],
   "source": [
    "dfPortWeights = pd.DataFrame([ (w[0], np.mean([np.round(c,2)  for c in w[1]['weight'] if np.round(c,2)>0]),min([np.round(c,2) for c in w[1]['weight'] if np.round(c,2)>0]),max([np.round(c,2) for c in w[1]['weight']])) for w in lstWeights], columns=['Date','Mean', 'Min','Max'])"
   ]
  },
  {
   "cell_type": "code",
   "execution_count": 48,
   "metadata": {},
   "outputs": [],
   "source": [
    "dfPortWeights = pd.DataFrame([ (w[0], [np.round(c,2)  for c in w[1]['weight'] if np.round(c,2)>0]) for w in lstWeightsB], columns=['Date','Wght'])\n",
    "dfPortWeights = pd.DataFrame([(np.mean(m), min(m), max(m)) for m in dfPortWeights['Wght']], columns=['mean','min','max'])"
   ]
  },
  {
   "cell_type": "code",
   "execution_count": 49,
   "metadata": {},
   "outputs": [
    {
     "data": {
      "text/html": [
       "<div>\n",
       "<style scoped>\n",
       "    .dataframe tbody tr th:only-of-type {\n",
       "        vertical-align: middle;\n",
       "    }\n",
       "\n",
       "    .dataframe tbody tr th {\n",
       "        vertical-align: top;\n",
       "    }\n",
       "\n",
       "    .dataframe thead th {\n",
       "        text-align: right;\n",
       "    }\n",
       "</style>\n",
       "<table border=\"1\" class=\"dataframe\">\n",
       "  <thead>\n",
       "    <tr style=\"text-align: right;\">\n",
       "      <th></th>\n",
       "      <th>mean</th>\n",
       "      <th>min</th>\n",
       "      <th>max</th>\n",
       "    </tr>\n",
       "  </thead>\n",
       "  <tbody>\n",
       "    <tr>\n",
       "      <td>count</td>\n",
       "      <td>129.000000</td>\n",
       "      <td>1.290000e+02</td>\n",
       "      <td>129.000000</td>\n",
       "    </tr>\n",
       "    <tr>\n",
       "      <td>mean</td>\n",
       "      <td>0.026364</td>\n",
       "      <td>1.000000e-02</td>\n",
       "      <td>0.083023</td>\n",
       "    </tr>\n",
       "    <tr>\n",
       "      <td>std</td>\n",
       "      <td>0.002176</td>\n",
       "      <td>6.965946e-18</td>\n",
       "      <td>0.018269</td>\n",
       "    </tr>\n",
       "    <tr>\n",
       "      <td>min</td>\n",
       "      <td>0.020851</td>\n",
       "      <td>1.000000e-02</td>\n",
       "      <td>0.050000</td>\n",
       "    </tr>\n",
       "    <tr>\n",
       "      <td>25%</td>\n",
       "      <td>0.024872</td>\n",
       "      <td>1.000000e-02</td>\n",
       "      <td>0.070000</td>\n",
       "    </tr>\n",
       "    <tr>\n",
       "      <td>50%</td>\n",
       "      <td>0.026216</td>\n",
       "      <td>1.000000e-02</td>\n",
       "      <td>0.080000</td>\n",
       "    </tr>\n",
       "    <tr>\n",
       "      <td>75%</td>\n",
       "      <td>0.027568</td>\n",
       "      <td>1.000000e-02</td>\n",
       "      <td>0.090000</td>\n",
       "    </tr>\n",
       "    <tr>\n",
       "      <td>max</td>\n",
       "      <td>0.033571</td>\n",
       "      <td>1.000000e-02</td>\n",
       "      <td>0.140000</td>\n",
       "    </tr>\n",
       "  </tbody>\n",
       "</table>\n",
       "</div>"
      ],
      "text/plain": [
       "             mean           min         max\n",
       "count  129.000000  1.290000e+02  129.000000\n",
       "mean     0.026364  1.000000e-02    0.083023\n",
       "std      0.002176  6.965946e-18    0.018269\n",
       "min      0.020851  1.000000e-02    0.050000\n",
       "25%      0.024872  1.000000e-02    0.070000\n",
       "50%      0.026216  1.000000e-02    0.080000\n",
       "75%      0.027568  1.000000e-02    0.090000\n",
       "max      0.033571  1.000000e-02    0.140000"
      ]
     },
     "execution_count": 49,
     "metadata": {},
     "output_type": "execute_result"
    }
   ],
   "source": [
    "dfPortWeights.describe()"
   ]
  },
  {
   "cell_type": "markdown",
   "metadata": {},
   "source": [
    "#### Show constituent counts after Optimizer ran"
   ]
  },
  {
   "cell_type": "code",
   "execution_count": 50,
   "metadata": {},
   "outputs": [
    {
     "data": {
      "text/html": [
       "\n",
       "\n",
       "\n",
       "\n",
       "\n",
       "\n",
       "  <div class=\"bk-root\" id=\"716dc244-8e69-4b8e-8b77-f9641f9dded4\" data-root-id=\"2545\"></div>\n"
      ]
     },
     "metadata": {},
     "output_type": "display_data"
    },
    {
     "data": {
      "application/javascript": [
       "(function(root) {\n",
       "  function embed_document(root) {\n",
       "    \n",
       "  var docs_json = {\"774c2be1-80e7-4689-b769-78b42d94499a\":{\"roots\":{\"references\":[{\"attributes\":{\"children\":[{\"id\":\"2305\",\"subtype\":\"Figure\",\"type\":\"Plot\"},{\"id\":\"2266\",\"subtype\":\"Figure\",\"type\":\"Plot\"}]},\"id\":\"2545\",\"type\":\"Row\"},{\"attributes\":{},\"id\":\"2363\",\"type\":\"UnionRenderers\"},{\"attributes\":{\"data_source\":{\"id\":\"2300\",\"type\":\"ColumnDataSource\"},\"glyph\":{\"id\":\"2301\",\"type\":\"VBar\"},\"hover_glyph\":null,\"muted_glyph\":null,\"nonselection_glyph\":{\"id\":\"2302\",\"type\":\"VBar\"},\"selection_glyph\":null,\"view\":{\"id\":\"2304\",\"type\":\"CDSView\"}},\"id\":\"2303\",\"type\":\"GlyphRenderer\"},{\"attributes\":{},\"id\":\"2287\",\"type\":\"PanTool\"},{\"attributes\":{\"days\":[1,2,3,4,5,6,7,8,9,10,11,12,13,14,15,16,17,18,19,20,21,22,23,24,25,26,27,28,29,30,31]},\"id\":\"2353\",\"type\":\"DaysTicker\"},{\"attributes\":{\"num_minor_ticks\":5,\"tickers\":[{\"id\":\"2637\",\"type\":\"AdaptiveTicker\"},{\"id\":\"2638\",\"type\":\"AdaptiveTicker\"},{\"id\":\"2639\",\"type\":\"AdaptiveTicker\"},{\"id\":\"2640\",\"type\":\"DaysTicker\"},{\"id\":\"2641\",\"type\":\"DaysTicker\"},{\"id\":\"2642\",\"type\":\"DaysTicker\"},{\"id\":\"2643\",\"type\":\"DaysTicker\"},{\"id\":\"2644\",\"type\":\"MonthsTicker\"},{\"id\":\"2645\",\"type\":\"MonthsTicker\"},{\"id\":\"2646\",\"type\":\"MonthsTicker\"},{\"id\":\"2647\",\"type\":\"MonthsTicker\"},{\"id\":\"2648\",\"type\":\"YearsTicker\"}]},\"id\":\"2317\",\"type\":\"DatetimeTicker\"},{\"attributes\":{},\"id\":\"2292\",\"type\":\"HelpTool\"},{\"attributes\":{\"text\":\"Bayes Constituent Counts\"},\"id\":\"2267\",\"type\":\"Title\"},{\"attributes\":{\"formatter\":{\"id\":\"2629\",\"type\":\"BasicTickFormatter\"},\"ticker\":{\"id\":\"2322\",\"type\":\"BasicTicker\"}},\"id\":\"2321\",\"type\":\"LinearAxis\"},{\"attributes\":{},\"id\":\"2322\",\"type\":\"BasicTicker\"},{\"attributes\":{\"fill_color\":{\"value\":\"#1f77b4\"},\"line_color\":{\"value\":\"#1f77b4\"},\"top\":{\"field\":\"top\"},\"width\":{\"value\":0.9},\"x\":{\"field\":\"x\"}},\"id\":\"2301\",\"type\":\"VBar\"},{\"attributes\":{},\"id\":\"2312\",\"type\":\"LinearScale\"},{\"attributes\":{\"below\":[{\"id\":\"2316\",\"type\":\"DatetimeAxis\"}],\"center\":[{\"id\":\"2320\",\"type\":\"Grid\"},{\"id\":\"2325\",\"type\":\"Grid\"}],\"left\":[{\"id\":\"2321\",\"type\":\"LinearAxis\"}],\"renderers\":[{\"id\":\"2342\",\"type\":\"GlyphRenderer\"}],\"title\":{\"id\":\"2306\",\"type\":\"Title\"},\"toolbar\":{\"id\":\"2332\",\"type\":\"Toolbar\"},\"toolbar_location\":null,\"x_range\":{\"id\":\"2308\",\"type\":\"DataRange1d\"},\"x_scale\":{\"id\":\"2312\",\"type\":\"LinearScale\"},\"y_range\":{\"id\":\"2310\",\"type\":\"DataRange1d\"},\"y_scale\":{\"id\":\"2314\",\"type\":\"LinearScale\"}},\"id\":\"2305\",\"subtype\":\"Figure\",\"type\":\"Plot\"},{\"attributes\":{\"formatter\":{\"id\":\"2348\",\"type\":\"DatetimeTickFormatter\"},\"ticker\":{\"id\":\"2278\",\"type\":\"DatetimeTicker\"}},\"id\":\"2277\",\"type\":\"DatetimeAxis\"},{\"attributes\":{\"callback\":null},\"id\":\"2308\",\"type\":\"DataRange1d\"},{\"attributes\":{},\"id\":\"2273\",\"type\":\"LinearScale\"},{\"attributes\":{\"months\":[0,2,4,6,8,10]},\"id\":\"2358\",\"type\":\"MonthsTicker\"},{\"attributes\":{},\"id\":\"2288\",\"type\":\"WheelZoomTool\"},{\"attributes\":{\"months\":[0,1,2,3,4,5,6,7,8,9,10,11]},\"id\":\"2357\",\"type\":\"MonthsTicker\"},{\"attributes\":{\"months\":[0,4,8]},\"id\":\"2359\",\"type\":\"MonthsTicker\"},{\"attributes\":{\"active_drag\":\"auto\",\"active_inspect\":\"auto\",\"active_multi\":null,\"active_scroll\":\"auto\",\"active_tap\":\"auto\",\"tools\":[{\"id\":\"2287\",\"type\":\"PanTool\"},{\"id\":\"2288\",\"type\":\"WheelZoomTool\"},{\"id\":\"2289\",\"type\":\"BoxZoomTool\"},{\"id\":\"2290\",\"type\":\"SaveTool\"},{\"id\":\"2291\",\"type\":\"ResetTool\"},{\"id\":\"2292\",\"type\":\"HelpTool\"}]},\"id\":\"2293\",\"type\":\"Toolbar\"},{\"attributes\":{\"active_drag\":\"auto\",\"active_inspect\":\"auto\",\"active_multi\":null,\"active_scroll\":\"auto\",\"active_tap\":\"auto\",\"tools\":[{\"id\":\"2326\",\"type\":\"PanTool\"},{\"id\":\"2327\",\"type\":\"WheelZoomTool\"},{\"id\":\"2328\",\"type\":\"BoxZoomTool\"},{\"id\":\"2329\",\"type\":\"SaveTool\"},{\"id\":\"2330\",\"type\":\"ResetTool\"},{\"id\":\"2331\",\"type\":\"HelpTool\"}]},\"id\":\"2332\",\"type\":\"Toolbar\"},{\"attributes\":{\"below\":[{\"id\":\"2277\",\"type\":\"DatetimeAxis\"}],\"center\":[{\"id\":\"2281\",\"type\":\"Grid\"},{\"id\":\"2286\",\"type\":\"Grid\"}],\"left\":[{\"id\":\"2282\",\"type\":\"LinearAxis\"}],\"renderers\":[{\"id\":\"2303\",\"type\":\"GlyphRenderer\"}],\"title\":{\"id\":\"2267\",\"type\":\"Title\"},\"toolbar\":{\"id\":\"2293\",\"type\":\"Toolbar\"},\"toolbar_location\":null,\"x_range\":{\"id\":\"2269\",\"type\":\"DataRange1d\"},\"x_scale\":{\"id\":\"2273\",\"type\":\"LinearScale\"},\"y_range\":{\"id\":\"2271\",\"type\":\"DataRange1d\"},\"y_scale\":{\"id\":\"2275\",\"type\":\"LinearScale\"}},\"id\":\"2266\",\"subtype\":\"Figure\",\"type\":\"Plot\"},{\"attributes\":{\"overlay\":{\"id\":\"2349\",\"type\":\"BoxAnnotation\"}},\"id\":\"2289\",\"type\":\"BoxZoomTool\"},{\"attributes\":{\"months\":[0,6]},\"id\":\"2360\",\"type\":\"MonthsTicker\"},{\"attributes\":{\"callback\":null},\"id\":\"2271\",\"type\":\"DataRange1d\"},{\"attributes\":{},\"id\":\"2348\",\"type\":\"DatetimeTickFormatter\"},{\"attributes\":{},\"id\":\"2290\",\"type\":\"SaveTool\"},{\"attributes\":{},\"id\":\"2362\",\"type\":\"Selection\"},{\"attributes\":{},\"id\":\"2291\",\"type\":\"ResetTool\"},{\"attributes\":{},\"id\":\"2361\",\"type\":\"YearsTicker\"},{\"attributes\":{},\"id\":\"2631\",\"type\":\"DatetimeTickFormatter\"},{\"attributes\":{\"days\":[1,4,7,10,13,16,19,22,25,28]},\"id\":\"2354\",\"type\":\"DaysTicker\"},{\"attributes\":{\"base\":60,\"mantissas\":[1,2,5,10,15,20,30],\"max_interval\":1800000.0,\"min_interval\":1000.0,\"num_minor_ticks\":0},\"id\":\"2351\",\"type\":\"AdaptiveTicker\"},{\"attributes\":{\"days\":[1,8,15,22]},\"id\":\"2355\",\"type\":\"DaysTicker\"},{\"attributes\":{},\"id\":\"2275\",\"type\":\"LinearScale\"},{\"attributes\":{\"fill_alpha\":{\"value\":0.1},\"fill_color\":{\"value\":\"#1f77b4\"},\"line_alpha\":{\"value\":0.1},\"line_color\":{\"value\":\"#1f77b4\"},\"top\":{\"field\":\"top\"},\"width\":{\"value\":0.9},\"x\":{\"field\":\"x\"}},\"id\":\"2302\",\"type\":\"VBar\"},{\"attributes\":{\"mantissas\":[1,2,5],\"max_interval\":500.0,\"num_minor_ticks\":0},\"id\":\"2637\",\"type\":\"AdaptiveTicker\"},{\"attributes\":{\"days\":[1,15]},\"id\":\"2356\",\"type\":\"DaysTicker\"},{\"attributes\":{\"bottom_units\":\"screen\",\"fill_alpha\":{\"value\":0.5},\"fill_color\":{\"value\":\"lightgrey\"},\"left_units\":\"screen\",\"level\":\"overlay\",\"line_alpha\":{\"value\":1.0},\"line_color\":{\"value\":\"black\"},\"line_dash\":[4,4],\"line_width\":{\"value\":2},\"render_mode\":\"css\",\"right_units\":\"screen\",\"top_units\":\"screen\"},\"id\":\"2636\",\"type\":\"BoxAnnotation\"},{\"attributes\":{\"base\":24,\"mantissas\":[1,2,4,6,8,12],\"max_interval\":43200000.0,\"min_interval\":3600000.0,\"num_minor_ticks\":0},\"id\":\"2352\",\"type\":\"AdaptiveTicker\"},{\"attributes\":{\"formatter\":{\"id\":\"2631\",\"type\":\"DatetimeTickFormatter\"},\"ticker\":{\"id\":\"2317\",\"type\":\"DatetimeTicker\"}},\"id\":\"2316\",\"type\":\"DatetimeAxis\"},{\"attributes\":{},\"id\":\"2314\",\"type\":\"LinearScale\"},{\"attributes\":{\"callback\":null},\"id\":\"2310\",\"type\":\"DataRange1d\"},{\"attributes\":{\"formatter\":{\"id\":\"2346\",\"type\":\"BasicTickFormatter\"},\"ticker\":{\"id\":\"2283\",\"type\":\"BasicTicker\"}},\"id\":\"2282\",\"type\":\"LinearAxis\"},{\"attributes\":{\"dimension\":1,\"ticker\":{\"id\":\"2283\",\"type\":\"BasicTicker\"}},\"id\":\"2286\",\"type\":\"Grid\"},{\"attributes\":{\"callback\":null,\"data\":{\"top\":[49,36,32,45,35,35,36,35,38,38,37,36,37,37,39,36,39,35,35,47,38,38,37,40,37,40,41,36,35,38,38,39,42,33,34,42,38,38,38,37,37,34,37,40,35,39,36,35,37,39,40,40,38,43,39,41,39,35,37,42,38,34,40,39,36,43,34,36,42,35,39,40,39,30,39,36,36,36,40,37,38,41,41,31,36,28,37,40,36,37,36,40,38,33,43,35,39,37,40,41,39,39,39,40,36,43,41,38,38,37,38,37,43,35,38,42,35,39,39,46,39,41,36,31,39,32,38,35,35],\"x\":{\"__ndarray__\":\"AADA1PfocUIAAAAn8vJxQgAAAEj1+3FCAABAmu8FckIAAMCGlw9yQgAAANmRGXJCAACAxTkjckIAAMAXNC1yQgAAAGouN3JCAACAVtZAckIAAMCo0EpyQgAAQJV4VHJCAACA53JeckIAAMA5bWhyQgAAwFpwcXJCAAAArWp7ckIAAICZEoVyQgAAwOsMj3JCAABA2LSYckIAAIAqr6JyQgAAwHyprHJCAABAaVG2ckIAAIC7S8ByQgAAAKjzyXJCAABA+u3TckIAAIBM6N1yQgAAgG3r5nJCAADAv+XwckIAAECsjfpyQgAAgP6HBHNCAAAA6y8Oc0IAAEA9KhhzQgAAgI8kInNCAAAAfMwrc0IAAEDOxjVzQgAAwLpuP3NCAAAADWlJc0IAAEBfY1NzQgAAAOa4XHNCAABAOLNmc0IAAMAkW3BzQgAAAHdVenNCAACAY/2Dc0IAAMC1941zQgAAAAjyl3NCAACA9Jmhc0IAAMBGlKtzQgAAQDM8tXNCAACAhTa/c0IAAMDXMMlzQgAAwPgz0nNCAAAASy7cc0IAAIA31uVzQgAAwInQ73NCAABAdnj5c0IAAIDIcgN0QgAAwBptDXRCAABABxUXdEIAAIBZDyF0QgAAAEa3KnRCAABAmLE0dEIAAIDqqz50QgAAgAuvR3RCAADAXalRdEIAAEBKUVt0QgAAgJxLZXRCAAAAifNudEIAAEDb7Xh0QgAAgC3ognRCAAAAGpCMdEIAAEBsipZ0QgAAwFgyoHRCAAAAqyyqdEIAAED9JrR0QgAAQB4qvXRCAACAcCTHdEIAAABdzNB0QgAAQK/G2nRCAADAm27kdEIAAADuaO50QgAAQEBj+HRCAADALAsCdUIAAAB/BQx1QgAAgGutFXVCAADAvacfdUIAAAAQoil1QgAAwJb3MnVCAAAA6fE8dUIAAIDVmUZ1QgAAwCeUUHVCAABAFDxadUIAAIBmNmR1QgAAwLgwbnVCAABApdh3dUIAAID30oF1QgAAAOR6i3VCAABANnWVdUIAAICIb591QgAAgKlyqHVCAADA+2yydUIAAEDoFLx1QgAAgDoPxnVCAAAAJ7fPdUIAAEB5sdl1QgAAgMur43VCAAAAuFPtdUIAAEAKTvd1QgAAwPb1AHZCAAAASfAKdkIAAECb6hR2QgAAQLztHXZCAACADugndkIAAAD7jzF2QgAAQE2KO3ZCAADAOTJFdkIAAACMLE92QgAAQN4mWXZCAADAys5idkIAAAAdyWx2QgAAgAlxdnZCAADAW2uAdkIAAACuZYp2QgAAAM9ok3ZCAABAIWOddkIAAMANC6d2QgAAAGAFsXZCAACATK26dkIAAMCep8R2QgAAAPGhznZC\",\"dtype\":\"float64\",\"shape\":[129]}},\"selected\":{\"id\":\"2362\",\"type\":\"Selection\"},\"selection_policy\":{\"id\":\"2363\",\"type\":\"UnionRenderers\"}},\"id\":\"2300\",\"type\":\"ColumnDataSource\"},{\"attributes\":{},\"id\":\"2648\",\"type\":\"YearsTicker\"},{\"attributes\":{\"source\":{\"id\":\"2339\",\"type\":\"ColumnDataSource\"}},\"id\":\"2343\",\"type\":\"CDSView\"},{\"attributes\":{\"text\":\"LR Constituent Counts\"},\"id\":\"2306\",\"type\":\"Title\"},{\"attributes\":{\"fill_color\":{\"value\":\"#1f77b4\"},\"line_color\":{\"value\":\"#1f77b4\"},\"top\":{\"field\":\"top\"},\"width\":{\"value\":0.9},\"x\":{\"field\":\"x\"}},\"id\":\"2340\",\"type\":\"VBar\"},{\"attributes\":{},\"id\":\"2649\",\"type\":\"Selection\"},{\"attributes\":{\"months\":[0,2,4,6,8,10]},\"id\":\"2645\",\"type\":\"MonthsTicker\"},{\"attributes\":{},\"id\":\"2331\",\"type\":\"HelpTool\"},{\"attributes\":{\"months\":[0,1,2,3,4,5,6,7,8,9,10,11]},\"id\":\"2644\",\"type\":\"MonthsTicker\"},{\"attributes\":{\"ticker\":{\"id\":\"2317\",\"type\":\"DatetimeTicker\"}},\"id\":\"2320\",\"type\":\"Grid\"},{\"attributes\":{\"base\":60,\"mantissas\":[1,2,5,10,15,20,30],\"max_interval\":1800000.0,\"min_interval\":1000.0,\"num_minor_ticks\":0},\"id\":\"2638\",\"type\":\"AdaptiveTicker\"},{\"attributes\":{\"bottom_units\":\"screen\",\"fill_alpha\":{\"value\":0.5},\"fill_color\":{\"value\":\"lightgrey\"},\"left_units\":\"screen\",\"level\":\"overlay\",\"line_alpha\":{\"value\":1.0},\"line_color\":{\"value\":\"black\"},\"line_dash\":[4,4],\"line_width\":{\"value\":2},\"render_mode\":\"css\",\"right_units\":\"screen\",\"top_units\":\"screen\"},\"id\":\"2349\",\"type\":\"BoxAnnotation\"},{\"attributes\":{\"source\":{\"id\":\"2300\",\"type\":\"ColumnDataSource\"}},\"id\":\"2304\",\"type\":\"CDSView\"},{\"attributes\":{},\"id\":\"2283\",\"type\":\"BasicTicker\"},{\"attributes\":{\"months\":[0,6]},\"id\":\"2647\",\"type\":\"MonthsTicker\"},{\"attributes\":{\"months\":[0,4,8]},\"id\":\"2646\",\"type\":\"MonthsTicker\"},{\"attributes\":{\"days\":[1,8,15,22]},\"id\":\"2642\",\"type\":\"DaysTicker\"},{\"attributes\":{\"days\":[1,4,7,10,13,16,19,22,25,28]},\"id\":\"2641\",\"type\":\"DaysTicker\"},{\"attributes\":{\"dimension\":1,\"ticker\":{\"id\":\"2322\",\"type\":\"BasicTicker\"}},\"id\":\"2325\",\"type\":\"Grid\"},{\"attributes\":{\"callback\":null},\"id\":\"2269\",\"type\":\"DataRange1d\"},{\"attributes\":{\"ticker\":{\"id\":\"2278\",\"type\":\"DatetimeTicker\"}},\"id\":\"2281\",\"type\":\"Grid\"},{\"attributes\":{},\"id\":\"2629\",\"type\":\"BasicTickFormatter\"},{\"attributes\":{\"fill_alpha\":{\"value\":0.1},\"fill_color\":{\"value\":\"#1f77b4\"},\"line_alpha\":{\"value\":0.1},\"line_color\":{\"value\":\"#1f77b4\"},\"top\":{\"field\":\"top\"},\"width\":{\"value\":0.9},\"x\":{\"field\":\"x\"}},\"id\":\"2341\",\"type\":\"VBar\"},{\"attributes\":{},\"id\":\"2650\",\"type\":\"UnionRenderers\"},{\"attributes\":{},\"id\":\"2330\",\"type\":\"ResetTool\"},{\"attributes\":{},\"id\":\"2327\",\"type\":\"WheelZoomTool\"},{\"attributes\":{\"mantissas\":[1,2,5],\"max_interval\":500.0,\"num_minor_ticks\":0},\"id\":\"2350\",\"type\":\"AdaptiveTicker\"},{\"attributes\":{\"data_source\":{\"id\":\"2339\",\"type\":\"ColumnDataSource\"},\"glyph\":{\"id\":\"2340\",\"type\":\"VBar\"},\"hover_glyph\":null,\"muted_glyph\":null,\"nonselection_glyph\":{\"id\":\"2341\",\"type\":\"VBar\"},\"selection_glyph\":null,\"view\":{\"id\":\"2343\",\"type\":\"CDSView\"}},\"id\":\"2342\",\"type\":\"GlyphRenderer\"},{\"attributes\":{\"days\":[1,2,3,4,5,6,7,8,9,10,11,12,13,14,15,16,17,18,19,20,21,22,23,24,25,26,27,28,29,30,31]},\"id\":\"2640\",\"type\":\"DaysTicker\"},{\"attributes\":{},\"id\":\"2346\",\"type\":\"BasicTickFormatter\"},{\"attributes\":{\"days\":[1,15]},\"id\":\"2643\",\"type\":\"DaysTicker\"},{\"attributes\":{\"callback\":null,\"data\":{\"top\":[45,35,33,45,34,35,42,33,37,41,37,46,42,37,40,41,35,32,34,37,35,39,39,41,46,40,38,41,37,38,41,35,37,35,38,44,40,39,43,38,39,34,42,36,42,40,41,44,37,36,37,40,38,34,37,37,38,41,39,40,43,36,41,42,39,35,35,32,37,37,41,36,38,42,40,33,40,34,36,35,37,41,41,40,39,38,45,45,38,42,35,41,42,39,34,39,46,43,41,38,38,38,42,38,39,38,42,42,36,42,38,34,42,34,40,37,37,38,34,40,33,37,35,37,41,35,35,38,32],\"x\":{\"__ndarray__\":\"AADA1PfocUIAAAAn8vJxQgAAAEj1+3FCAABAmu8FckIAAMCGlw9yQgAAANmRGXJCAACAxTkjckIAAMAXNC1yQgAAAGouN3JCAACAVtZAckIAAMCo0EpyQgAAQJV4VHJCAACA53JeckIAAMA5bWhyQgAAwFpwcXJCAAAArWp7ckIAAICZEoVyQgAAwOsMj3JCAABA2LSYckIAAIAqr6JyQgAAwHyprHJCAABAaVG2ckIAAIC7S8ByQgAAAKjzyXJCAABA+u3TckIAAIBM6N1yQgAAgG3r5nJCAADAv+XwckIAAECsjfpyQgAAgP6HBHNCAAAA6y8Oc0IAAEA9KhhzQgAAgI8kInNCAAAAfMwrc0IAAEDOxjVzQgAAwLpuP3NCAAAADWlJc0IAAEBfY1NzQgAAAOa4XHNCAABAOLNmc0IAAMAkW3BzQgAAAHdVenNCAACAY/2Dc0IAAMC1941zQgAAAAjyl3NCAACA9Jmhc0IAAMBGlKtzQgAAQDM8tXNCAACAhTa/c0IAAMDXMMlzQgAAwPgz0nNCAAAASy7cc0IAAIA31uVzQgAAwInQ73NCAABAdnj5c0IAAIDIcgN0QgAAwBptDXRCAABABxUXdEIAAIBZDyF0QgAAAEa3KnRCAABAmLE0dEIAAIDqqz50QgAAgAuvR3RCAADAXalRdEIAAEBKUVt0QgAAgJxLZXRCAAAAifNudEIAAEDb7Xh0QgAAgC3ognRCAAAAGpCMdEIAAEBsipZ0QgAAwFgyoHRCAAAAqyyqdEIAAED9JrR0QgAAQB4qvXRCAACAcCTHdEIAAABdzNB0QgAAQK/G2nRCAADAm27kdEIAAADuaO50QgAAQEBj+HRCAADALAsCdUIAAAB/BQx1QgAAgGutFXVCAADAvacfdUIAAAAQoil1QgAAwJb3MnVCAAAA6fE8dUIAAIDVmUZ1QgAAwCeUUHVCAABAFDxadUIAAIBmNmR1QgAAwLgwbnVCAABApdh3dUIAAID30oF1QgAAAOR6i3VCAABANnWVdUIAAICIb591QgAAgKlyqHVCAADA+2yydUIAAEDoFLx1QgAAgDoPxnVCAAAAJ7fPdUIAAEB5sdl1QgAAgMur43VCAAAAuFPtdUIAAEAKTvd1QgAAwPb1AHZCAAAASfAKdkIAAECb6hR2QgAAQLztHXZCAACADugndkIAAAD7jzF2QgAAQE2KO3ZCAADAOTJFdkIAAACMLE92QgAAQN4mWXZCAADAys5idkIAAAAdyWx2QgAAgAlxdnZCAADAW2uAdkIAAACuZYp2QgAAAM9ok3ZCAABAIWOddkIAAMANC6d2QgAAAGAFsXZCAACATK26dkIAAMCep8R2QgAAAPGhznZC\",\"dtype\":\"float64\",\"shape\":[129]}},\"selected\":{\"id\":\"2649\",\"type\":\"Selection\"},\"selection_policy\":{\"id\":\"2650\",\"type\":\"UnionRenderers\"}},\"id\":\"2339\",\"type\":\"ColumnDataSource\"},{\"attributes\":{\"base\":24,\"mantissas\":[1,2,4,6,8,12],\"max_interval\":43200000.0,\"min_interval\":3600000.0,\"num_minor_ticks\":0},\"id\":\"2639\",\"type\":\"AdaptiveTicker\"},{\"attributes\":{},\"id\":\"2326\",\"type\":\"PanTool\"},{\"attributes\":{},\"id\":\"2329\",\"type\":\"SaveTool\"},{\"attributes\":{\"num_minor_ticks\":5,\"tickers\":[{\"id\":\"2350\",\"type\":\"AdaptiveTicker\"},{\"id\":\"2351\",\"type\":\"AdaptiveTicker\"},{\"id\":\"2352\",\"type\":\"AdaptiveTicker\"},{\"id\":\"2353\",\"type\":\"DaysTicker\"},{\"id\":\"2354\",\"type\":\"DaysTicker\"},{\"id\":\"2355\",\"type\":\"DaysTicker\"},{\"id\":\"2356\",\"type\":\"DaysTicker\"},{\"id\":\"2357\",\"type\":\"MonthsTicker\"},{\"id\":\"2358\",\"type\":\"MonthsTicker\"},{\"id\":\"2359\",\"type\":\"MonthsTicker\"},{\"id\":\"2360\",\"type\":\"MonthsTicker\"},{\"id\":\"2361\",\"type\":\"YearsTicker\"}]},\"id\":\"2278\",\"type\":\"DatetimeTicker\"},{\"attributes\":{\"overlay\":{\"id\":\"2636\",\"type\":\"BoxAnnotation\"}},\"id\":\"2328\",\"type\":\"BoxZoomTool\"}],\"root_ids\":[\"2545\"]},\"title\":\"Bokeh Application\",\"version\":\"1.3.4\"}};\n",
       "  var render_items = [{\"docid\":\"774c2be1-80e7-4689-b769-78b42d94499a\",\"roots\":{\"2545\":\"716dc244-8e69-4b8e-8b77-f9641f9dded4\"}}];\n",
       "  root.Bokeh.embed.embed_items_notebook(docs_json, render_items);\n",
       "\n",
       "  }\n",
       "  if (root.Bokeh !== undefined) {\n",
       "    embed_document(root);\n",
       "  } else {\n",
       "    var attempts = 0;\n",
       "    var timer = setInterval(function(root) {\n",
       "      if (root.Bokeh !== undefined) {\n",
       "        embed_document(root);\n",
       "        clearInterval(timer);\n",
       "      }\n",
       "      attempts++;\n",
       "      if (attempts > 100) {\n",
       "        console.log(\"Bokeh: ERROR: Unable to run BokehJS code because BokehJS library is missing\");\n",
       "        clearInterval(timer);\n",
       "      }\n",
       "    }, 10, root)\n",
       "  }\n",
       "})(window);"
      ],
      "application/vnd.bokehjs_exec.v0+json": ""
     },
     "metadata": {
      "application/vnd.bokehjs_exec.v0+json": {
       "id": "2545"
      }
     },
     "output_type": "display_data"
    }
   ],
   "source": [
    "pB = figure(title=\"Bayes Constituent Counts\", toolbar_location=None, x_axis_type='datetime')\n",
    "pB.vbar(x=dfPortCountB.Date, top=dfPortCountB.Count , width=.9)\n",
    "pLR = figure(title=\"LR Constituent Counts\", toolbar_location=None, x_axis_type='datetime')\n",
    "pLR.vbar(x=dfPortCount.Date, top=dfPortCount.Count , width=.9)\n",
    "export_png(pB, filename=\"plot.png\")\n",
    "show(row(pLR, pB) )"
   ]
  },
  {
   "cell_type": "code",
   "execution_count": 51,
   "metadata": {},
   "outputs": [
    {
     "data": {
      "text/html": [
       "\n",
       "\n",
       "\n",
       "\n",
       "\n",
       "\n",
       "  <div class=\"bk-root\" id=\"64d65cde-580c-4a54-8e6b-dd71eede9dbd\" data-root-id=\"2984\"></div>\n"
      ]
     },
     "metadata": {},
     "output_type": "display_data"
    },
    {
     "data": {
      "application/javascript": [
       "(function(root) {\n",
       "  function embed_document(root) {\n",
       "    \n",
       "  var docs_json = {\"b84c5821-2a44-4120-8b7e-75160e0240e9\":{\"roots\":{\"references\":[{\"attributes\":{\"children\":[{\"id\":\"2906\",\"subtype\":\"Figure\",\"type\":\"Plot\"},{\"id\":\"2945\",\"subtype\":\"Figure\",\"type\":\"Plot\"}]},\"id\":\"2984\",\"type\":\"Row\"},{\"attributes\":{\"data_source\":{\"id\":\"2979\",\"type\":\"ColumnDataSource\"},\"glyph\":{\"id\":\"2980\",\"type\":\"VBar\"},\"hover_glyph\":null,\"muted_glyph\":null,\"nonselection_glyph\":{\"id\":\"2981\",\"type\":\"VBar\"},\"selection_glyph\":null,\"view\":{\"id\":\"2983\",\"type\":\"CDSView\"}},\"id\":\"2982\",\"type\":\"GlyphRenderer\"},{\"attributes\":{},\"id\":\"3128\",\"type\":\"Selection\"},{\"attributes\":{\"below\":[{\"id\":\"2917\",\"type\":\"DatetimeAxis\"}],\"center\":[{\"id\":\"2921\",\"type\":\"Grid\"},{\"id\":\"2926\",\"type\":\"Grid\"}],\"left\":[{\"id\":\"2922\",\"type\":\"LinearAxis\"}],\"renderers\":[{\"id\":\"2943\",\"type\":\"GlyphRenderer\"}],\"title\":{\"id\":\"2907\",\"type\":\"Title\"},\"toolbar\":{\"id\":\"2933\",\"type\":\"Toolbar\"},\"toolbar_location\":null,\"x_range\":{\"id\":\"2909\",\"type\":\"DataRange1d\"},\"x_scale\":{\"id\":\"2913\",\"type\":\"LinearScale\"},\"y_range\":{\"id\":\"2911\",\"type\":\"DataRange1d\"},\"y_scale\":{\"id\":\"2915\",\"type\":\"LinearScale\"}},\"id\":\"2906\",\"subtype\":\"Figure\",\"type\":\"Plot\"},{\"attributes\":{},\"id\":\"3129\",\"type\":\"UnionRenderers\"},{\"attributes\":{},\"id\":\"2913\",\"type\":\"LinearScale\"},{\"attributes\":{\"callback\":null},\"id\":\"2948\",\"type\":\"DataRange1d\"},{\"attributes\":{\"text\":\"LR Difference between predicted return for period and actual return\"},\"id\":\"2907\",\"type\":\"Title\"},{\"attributes\":{},\"id\":\"2952\",\"type\":\"LinearScale\"},{\"attributes\":{},\"id\":\"2962\",\"type\":\"BasicTicker\"},{\"attributes\":{\"bottom_units\":\"screen\",\"fill_alpha\":{\"value\":0.5},\"fill_color\":{\"value\":\"lightgrey\"},\"left_units\":\"screen\",\"level\":\"overlay\",\"line_alpha\":{\"value\":1.0},\"line_color\":{\"value\":\"black\"},\"line_dash\":[4,4],\"line_width\":{\"value\":2},\"render_mode\":\"css\",\"right_units\":\"screen\",\"top_units\":\"screen\"},\"id\":\"3130\",\"type\":\"BoxAnnotation\"},{\"attributes\":{\"formatter\":{\"id\":\"3114\",\"type\":\"DatetimeTickFormatter\"},\"ticker\":{\"id\":\"2957\",\"type\":\"DatetimeTicker\"}},\"id\":\"2956\",\"type\":\"DatetimeAxis\"},{\"attributes\":{\"base\":60,\"mantissas\":[1,2,5,10,15,20,30],\"max_interval\":1800000.0,\"min_interval\":1000.0,\"num_minor_ticks\":0},\"id\":\"3132\",\"type\":\"AdaptiveTicker\"},{\"attributes\":{\"days\":[1,2,3,4,5,6,7,8,9,10,11,12,13,14,15,16,17,18,19,20,21,22,23,24,25,26,27,28,29,30,31]},\"id\":\"3119\",\"type\":\"DaysTicker\"},{\"attributes\":{\"mantissas\":[1,2,5],\"max_interval\":500.0,\"num_minor_ticks\":0},\"id\":\"3131\",\"type\":\"AdaptiveTicker\"},{\"attributes\":{\"mantissas\":[1,2,5],\"max_interval\":500.0,\"num_minor_ticks\":0},\"id\":\"3116\",\"type\":\"AdaptiveTicker\"},{\"attributes\":{},\"id\":\"3110\",\"type\":\"DatetimeTickFormatter\"},{\"attributes\":{\"callback\":null},\"id\":\"2909\",\"type\":\"DataRange1d\"},{\"attributes\":{},\"id\":\"3112\",\"type\":\"BasicTickFormatter\"},{\"attributes\":{\"callback\":null,\"data\":{\"top\":{\"__ndarray__\":\"0+b0ojUnFMB0UIFrfwgtwE7lNROF+xRAjAmS0Ou2KUDgJP+/ge/zv8J777Ti7wfAObohNhx9EkDgIzDBP8G1PwSY3WVCRQhAEj+FhgpME8DkQFe9cBsHQBoayJmdvQJAUxn4no96CMAEzxnzJtcRQLoV2Mt27AtA+AhYf5D59L9r99DQ1ucgwKH7QpOHqBnAMmk4P6W8EkAyso42KBMawALhMSeTbiFAtmbmufDv8r+AMBWeilLBPyHXonZdLBpATNejtegR7j8vvKntavkQQLCit0Hpnc4/eMcUFQpm8T9ql0RqwCgUwLjxGvIGjwDAVo6ZqaiZFMAtrGme+IAcwPvmn/CyxiPAO6QU8YnpJ0CoRAEgfknavwBp2d19v84/fJF6XtDEFUDwP67x1WsFQPKgtDu87QLAOTfjLpgh779WA2nyMuIdwBDXt0UflbE/aIAn9fx6yL8sWyPILB/gvyJKYoKvPe4/5rsQTrLnA8DNqi6trA/rvwBoOa1SUbu/MWP5UUtuHEAOSGSDZVDsP4Gj7mbxugVAKCRNNqxdzL/OnvrfaCXmv1Uf27qKowTAFBhRI2eGEkDMekGm88EUwPZZn4qnxwFAxBiW8yxZBkCYaccRZhLJvyRECjgc4t8/PneBUuk3E8DOw7lwdHcRQDDJu4l0DOa/0PRMHChctL9d9RkivRH2v+c7mi771v4/EXztlP5vEsAes3aWycb6P/4FlFyjlxXAMIXz8yNd1z9WilSxI9fjv7SmZ0o7DwfAVMSWUMDqGMAMl66s/eYQQO5WnHpbsAbAsKWTr3UB6D+e8iGB+Cv9v/gFuFanBATAimtdnVnFAsBqx+qbYSIlwAzTPCO6vBPAuytkE2eNGEAHSnWnhYIGwD7xDeiQNxXAjvfFghdMFcDoBZFUiIHpP6QhktS6vxpA2Oisnu+S+D9A+EQ/q1q9v9Ab9ZUFruu/O0H+xYuj9D+vxg2P0J0BwK87QVkw7PG/KsyNCDK8CcCm+EEM9wwOQEozfuXq0PG/mnqcUe/B6L8SPbEee8YBQIqIj3f/i/q/7SPbvNxp978JkiNM5e/wvwaChE+acAHA4Nsl3Hh15z/DYExOKBH2v+3r4CBLVARAQIZZ3M2K9b+RzbUJLT8NQDB/voYFCNo/YKkrJpPSCkCFVcNwdzobwMZubYkjIgLArZ6TCHTfAcBbVPAyQ4rxvxV7BsjmDAbAqvNyK67xBUDVUk57Sfn1P2SlTnplgQrA/lR3fTAuGcBCrS3SEmnoP6q/Y3Eg2CHAZue5df5XIEBqpE2YHtz/PwDXcTDfOI6/2NS5TcN/+j9MGmvr0lAbwDXnJjY6ExBAC6yZm+m3AsA9j7CrlZ8JwKCgKt2xyrc/\",\"dtype\":\"float64\",\"shape\":[129]},\"x\":{\"__ndarray__\":\"AADA1PfocUIAAAAn8vJxQgAAAEj1+3FCAABAmu8FckIAAMCGlw9yQgAAANmRGXJCAACAxTkjckIAAMAXNC1yQgAAAGouN3JCAACAVtZAckIAAMCo0EpyQgAAQJV4VHJCAACA53JeckIAAMA5bWhyQgAAwFpwcXJCAAAArWp7ckIAAICZEoVyQgAAwOsMj3JCAABA2LSYckIAAIAqr6JyQgAAwHyprHJCAABAaVG2ckIAAIC7S8ByQgAAAKjzyXJCAABA+u3TckIAAIBM6N1yQgAAgG3r5nJCAADAv+XwckIAAECsjfpyQgAAgP6HBHNCAAAA6y8Oc0IAAEA9KhhzQgAAgI8kInNCAAAAfMwrc0IAAEDOxjVzQgAAwLpuP3NCAAAADWlJc0IAAEBfY1NzQgAAAOa4XHNCAABAOLNmc0IAAMAkW3BzQgAAAHdVenNCAACAY/2Dc0IAAMC1941zQgAAAAjyl3NCAACA9Jmhc0IAAMBGlKtzQgAAQDM8tXNCAACAhTa/c0IAAMDXMMlzQgAAwPgz0nNCAAAASy7cc0IAAIA31uVzQgAAwInQ73NCAABAdnj5c0IAAIDIcgN0QgAAwBptDXRCAABABxUXdEIAAIBZDyF0QgAAAEa3KnRCAABAmLE0dEIAAIDqqz50QgAAgAuvR3RCAADAXalRdEIAAEBKUVt0QgAAgJxLZXRCAAAAifNudEIAAEDb7Xh0QgAAgC3ognRCAAAAGpCMdEIAAEBsipZ0QgAAwFgyoHRCAAAAqyyqdEIAAED9JrR0QgAAQB4qvXRCAACAcCTHdEIAAABdzNB0QgAAQK/G2nRCAADAm27kdEIAAADuaO50QgAAQEBj+HRCAADALAsCdUIAAAB/BQx1QgAAgGutFXVCAADAvacfdUIAAAAQoil1QgAAwJb3MnVCAAAA6fE8dUIAAIDVmUZ1QgAAwCeUUHVCAABAFDxadUIAAIBmNmR1QgAAwLgwbnVCAABApdh3dUIAAID30oF1QgAAAOR6i3VCAABANnWVdUIAAICIb591QgAAgKlyqHVCAADA+2yydUIAAEDoFLx1QgAAgDoPxnVCAAAAJ7fPdUIAAEB5sdl1QgAAgMur43VCAAAAuFPtdUIAAEAKTvd1QgAAwPb1AHZCAAAASfAKdkIAAECb6hR2QgAAQLztHXZCAACADugndkIAAAD7jzF2QgAAQE2KO3ZCAADAOTJFdkIAAACMLE92QgAAQN4mWXZCAADAys5idkIAAAAdyWx2QgAAgAlxdnZCAADAW2uAdkIAAACuZYp2QgAAAM9ok3ZCAABAIWOddkIAAMANC6d2QgAAAGAFsXZCAACATK26dkIAAMCep8R2QgAAAPGhznZC\",\"dtype\":\"float64\",\"shape\":[129]}},\"selected\":{\"id\":\"3128\",\"type\":\"Selection\"},\"selection_policy\":{\"id\":\"3129\",\"type\":\"UnionRenderers\"}},\"id\":\"2940\",\"type\":\"ColumnDataSource\"},{\"attributes\":{\"callback\":null},\"id\":\"2950\",\"type\":\"DataRange1d\"},{\"attributes\":{},\"id\":\"2954\",\"type\":\"LinearScale\"},{\"attributes\":{\"ticker\":{\"id\":\"2957\",\"type\":\"DatetimeTicker\"}},\"id\":\"2960\",\"type\":\"Grid\"},{\"attributes\":{},\"id\":\"3114\",\"type\":\"DatetimeTickFormatter\"},{\"attributes\":{\"formatter\":{\"id\":\"3112\",\"type\":\"BasicTickFormatter\"},\"ticker\":{\"id\":\"2962\",\"type\":\"BasicTicker\"}},\"id\":\"2961\",\"type\":\"LinearAxis\"},{\"attributes\":{\"num_minor_ticks\":5,\"tickers\":[{\"id\":\"3131\",\"type\":\"AdaptiveTicker\"},{\"id\":\"3132\",\"type\":\"AdaptiveTicker\"},{\"id\":\"3133\",\"type\":\"AdaptiveTicker\"},{\"id\":\"3134\",\"type\":\"DaysTicker\"},{\"id\":\"3135\",\"type\":\"DaysTicker\"},{\"id\":\"3136\",\"type\":\"DaysTicker\"},{\"id\":\"3137\",\"type\":\"DaysTicker\"},{\"id\":\"3138\",\"type\":\"MonthsTicker\"},{\"id\":\"3139\",\"type\":\"MonthsTicker\"},{\"id\":\"3140\",\"type\":\"MonthsTicker\"},{\"id\":\"3141\",\"type\":\"MonthsTicker\"},{\"id\":\"3142\",\"type\":\"YearsTicker\"}]},\"id\":\"2957\",\"type\":\"DatetimeTicker\"},{\"attributes\":{\"num_minor_ticks\":5,\"tickers\":[{\"id\":\"3116\",\"type\":\"AdaptiveTicker\"},{\"id\":\"3117\",\"type\":\"AdaptiveTicker\"},{\"id\":\"3118\",\"type\":\"AdaptiveTicker\"},{\"id\":\"3119\",\"type\":\"DaysTicker\"},{\"id\":\"3120\",\"type\":\"DaysTicker\"},{\"id\":\"3121\",\"type\":\"DaysTicker\"},{\"id\":\"3122\",\"type\":\"DaysTicker\"},{\"id\":\"3123\",\"type\":\"MonthsTicker\"},{\"id\":\"3124\",\"type\":\"MonthsTicker\"},{\"id\":\"3125\",\"type\":\"MonthsTicker\"},{\"id\":\"3126\",\"type\":\"MonthsTicker\"},{\"id\":\"3127\",\"type\":\"YearsTicker\"}]},\"id\":\"2918\",\"type\":\"DatetimeTicker\"},{\"attributes\":{\"base\":24,\"mantissas\":[1,2,4,6,8,12],\"max_interval\":43200000.0,\"min_interval\":3600000.0,\"num_minor_ticks\":0},\"id\":\"3133\",\"type\":\"AdaptiveTicker\"},{\"attributes\":{\"active_drag\":\"auto\",\"active_inspect\":\"auto\",\"active_multi\":null,\"active_scroll\":\"auto\",\"active_tap\":\"auto\",\"tools\":[{\"id\":\"2927\",\"type\":\"PanTool\"},{\"id\":\"2928\",\"type\":\"WheelZoomTool\"},{\"id\":\"2929\",\"type\":\"BoxZoomTool\"},{\"id\":\"2930\",\"type\":\"SaveTool\"},{\"id\":\"2931\",\"type\":\"ResetTool\"},{\"id\":\"2932\",\"type\":\"HelpTool\"}]},\"id\":\"2933\",\"type\":\"Toolbar\"},{\"attributes\":{},\"id\":\"3127\",\"type\":\"YearsTicker\"},{\"attributes\":{},\"id\":\"2971\",\"type\":\"HelpTool\"},{\"attributes\":{\"dimension\":1,\"ticker\":{\"id\":\"2923\",\"type\":\"BasicTicker\"}},\"id\":\"2926\",\"type\":\"Grid\"},{\"attributes\":{},\"id\":\"2932\",\"type\":\"HelpTool\"},{\"attributes\":{\"formatter\":{\"id\":\"3110\",\"type\":\"DatetimeTickFormatter\"},\"ticker\":{\"id\":\"2918\",\"type\":\"DatetimeTicker\"}},\"id\":\"2917\",\"type\":\"DatetimeAxis\"},{\"attributes\":{\"overlay\":{\"id\":\"3115\",\"type\":\"BoxAnnotation\"}},\"id\":\"2929\",\"type\":\"BoxZoomTool\"},{\"attributes\":{\"source\":{\"id\":\"2979\",\"type\":\"ColumnDataSource\"}},\"id\":\"2983\",\"type\":\"CDSView\"},{\"attributes\":{\"fill_color\":{\"value\":\"#1f77b4\"},\"line_color\":{\"value\":\"#1f77b4\"},\"top\":{\"field\":\"top\"},\"width\":{\"value\":1},\"x\":{\"field\":\"x\"}},\"id\":\"2980\",\"type\":\"VBar\"},{\"attributes\":{},\"id\":\"3142\",\"type\":\"YearsTicker\"},{\"attributes\":{},\"id\":\"2930\",\"type\":\"SaveTool\"},{\"attributes\":{\"fill_alpha\":{\"value\":0.1},\"fill_color\":{\"value\":\"#1f77b4\"},\"line_alpha\":{\"value\":0.1},\"line_color\":{\"value\":\"#1f77b4\"},\"top\":{\"field\":\"top\"},\"width\":{\"value\":1},\"x\":{\"field\":\"x\"}},\"id\":\"2981\",\"type\":\"VBar\"},{\"attributes\":{\"bottom_units\":\"screen\",\"fill_alpha\":{\"value\":0.5},\"fill_color\":{\"value\":\"lightgrey\"},\"left_units\":\"screen\",\"level\":\"overlay\",\"line_alpha\":{\"value\":1.0},\"line_color\":{\"value\":\"black\"},\"line_dash\":[4,4],\"line_width\":{\"value\":2},\"render_mode\":\"css\",\"right_units\":\"screen\",\"top_units\":\"screen\"},\"id\":\"3115\",\"type\":\"BoxAnnotation\"},{\"attributes\":{\"months\":[0,6]},\"id\":\"3141\",\"type\":\"MonthsTicker\"},{\"attributes\":{},\"id\":\"2915\",\"type\":\"LinearScale\"},{\"attributes\":{\"base\":24,\"mantissas\":[1,2,4,6,8,12],\"max_interval\":43200000.0,\"min_interval\":3600000.0,\"num_minor_ticks\":0},\"id\":\"3118\",\"type\":\"AdaptiveTicker\"},{\"attributes\":{\"callback\":null,\"data\":{\"top\":{\"__ndarray__\":\"jQMrlZeRI8BcH2vtdVciwCQKeihbsh5AdKkFkKTpMEBhuGz6GBkbwB5RG3Hj1wHAchdW+s6gG0AQYbII2FIPQBZ1jDW1oQlAse3L2LFCEsAuz+G0VjILQASPgzRRqv8/Wp8+bSJlGsCMiOVeR70OQJdTs55aVhFAUE8CfS47xr9bziv3P1whwB7gjrGRKxHA8lT9+7euEkBYQ4/CubgawHR+5sFB/SFALHs851UH4z8AjF2LU33evz4tmkfeIhtAbDO36G620j+SbK+R/ZIBQD1ju1MQTOM/0idlH544+j+pm3mUjrwAwOLLzDHCs/+/sfZ2nhVmAsCFdch4MpQXwKiTIjQxjyPADcSPZn9FKUDo3F7WeDcHwEG7PKHRlu0/ms72Oq6/DkB7TzKUSfUFQGgn2Pzultk/grdhXjrxAMDivY1NSYEZwPOZ7GbgvxNA5gD6L7b46r+IlqOBorC3P5VBKacEcfI/LQllKSKCBcAWw5Nd3bjvP6g4VDLUKvA/Pn9nANIYFkAg9/z+LEiov7sVghIwTg1AP0Vlhu9D8L9BvLvEtmDqP7zzuCvGdPq/8atmkF7FFUBaZOpxD9kQwEIGYwVybQdAyrLL2VgLDEDTYgSecDz3PygiD2fmDvE/VDZMSNQqEcBZkQMg8vUQQNChsm/XL7Y/Olj3JZ1W5j/WMF+lVCXuvwcDAU+p2wRAD/I2GaP8GMCeE258lEIDQLtNDjgB3RHASA2Fl4Zi6j86AblRJWvlP75QmPLEFvS/FNwbJQizE8DG3qgP3tQQQGaMuCmp5gXABKpL0t8p5z+nbegMF7j3v/6sklxgeAzArt1m6dZZ/L/srcVFAPIfwNYyW0gG9RPAFu6MbhN+GUA+kAuJr470v7BZPUx2hRLAiLC6gF79FcAI34epCUnzP2uS5jJpIR9A2IxRduOj0D+84SlVMKLxPyKuUJky2e+/2vbFgZWg7D8w2AwUxVPwv24tb5nMdNq/lPpbVVnj/r+yPL6t6pcUQF5PsIpkHfe/YM1pPyUroL/Udr5upU8NQFD3E6MSeQLAZH55Snda3z/EFJ535DzHv0DttTuYoNg/ia+3CMFp/z+k9DZo0gb4v4T36ZtdBAxA0TLFzpkM+D9WBFtHVsUIQHKH14EIxuI/NAJ7hOm1A0B+OVdKJ4wWwJC/mWhpRe6/EZ9PrnAH879KwZaNR6jvPzT12dzEWv+//GVFz/ZUBkDVZIPeVPvzv3KDINZ2UvK/2P7wjpfEH8CU2ofPHyQFQNiY3zsa6CLAqXDbFfZAIkB07zt5/8/3P+57jYq7NPy/AsAh2s30BUDnkgxBgC8TwD1Ef0Z+IR1AIQDVgleQ4L/KTHWdRRn7vwynPy1+Tek/\",\"dtype\":\"float64\",\"shape\":[129]},\"x\":{\"__ndarray__\":\"/Knx0k1iQMP8qfHSTWJAw/yp8dJNYkDD/Knx0k1iQMP8qfHSTWJAw/yp8dJNYkDD/Knx0k1iQMP8qfHSTWJAwwAAAGouN3JCAACAVtZAckIAAMCo0EpyQgAAQJV4VHJCAACA53JeckIAAMA5bWhyQgAAwFpwcXJCAAAArWp7ckIAAICZEoVyQgAAwOsMj3JCAABA2LSYckIAAIAqr6JyQgAAwHyprHJCAABAaVG2ckIAAIC7S8ByQgAAAKjzyXJCAABA+u3TckIAAIBM6N1yQgAAgG3r5nJCAADAv+XwckIAAECsjfpyQgAAgP6HBHNCAAAA6y8Oc0IAAEA9KhhzQgAAgI8kInNCAAAAfMwrc0IAAEDOxjVzQgAAwLpuP3NCAAAADWlJc0IAAEBfY1NzQgAAAOa4XHNCAABAOLNmc0IAAMAkW3BzQgAAAHdVenNCAACAY/2Dc0IAAMC1941zQgAAAAjyl3NCAACA9Jmhc0IAAMBGlKtzQgAAQDM8tXNCAACAhTa/c0IAAMDXMMlzQgAAwPgz0nNCAAAASy7cc0IAAIA31uVzQgAAwInQ73NCAABAdnj5c0IAAIDIcgN0QgAAwBptDXRCAABABxUXdEIAAIBZDyF0QgAAAEa3KnRCAABAmLE0dEIAAIDqqz50QgAAgAuvR3RCAADAXalRdEIAAEBKUVt0QgAAgJxLZXRCAAAAifNudEIAAEDb7Xh0QgAAgC3ognRCAAAAGpCMdEIAAEBsipZ0QgAAwFgyoHRCAAAAqyyqdEIAAED9JrR0QgAAQB4qvXRCAACAcCTHdEIAAABdzNB0QgAAQK/G2nRCAADAm27kdEIAAADuaO50QgAAQEBj+HRCAADALAsCdUIAAAB/BQx1QgAAgGutFXVCAADAvacfdUIAAAAQoil1QgAAwJb3MnVCAAAA6fE8dUIAAIDVmUZ1QgAAwCeUUHVCAABAFDxadUIAAIBmNmR1QgAAwLgwbnVCAABApdh3dUIAAID30oF1QgAAAOR6i3VCAABANnWVdUIAAICIb591QgAAgKlyqHVCAADA+2yydUIAAEDoFLx1QgAAgDoPxnVCAAAAJ7fPdUIAAEB5sdl1QgAAgMur43VCAAAAuFPtdUIAAEAKTvd1QgAAwPb1AHZCAAAASfAKdkIAAECb6hR2QgAAQLztHXZCAACADugndkIAAAD7jzF2QgAAQE2KO3ZCAADAOTJFdkIAAACMLE92QgAAQN4mWXZCAADAys5idkIAAAAdyWx2QgAAgAlxdnZCAADAW2uAdkIAAACuZYp2QgAAAM9ok3ZCAABAIWOddkIAAMANC6d2QgAAAGAFsXZCAACATK26dkIAAMCep8R2QgAAAPGhznZC\",\"dtype\":\"float64\",\"shape\":[129]}},\"selected\":{\"id\":\"3143\",\"type\":\"Selection\"},\"selection_policy\":{\"id\":\"3144\",\"type\":\"UnionRenderers\"}},\"id\":\"2979\",\"type\":\"ColumnDataSource\"},{\"attributes\":{\"months\":[0,6]},\"id\":\"3126\",\"type\":\"MonthsTicker\"},{\"attributes\":{},\"id\":\"2927\",\"type\":\"PanTool\"},{\"attributes\":{},\"id\":\"2923\",\"type\":\"BasicTicker\"},{\"attributes\":{\"overlay\":{\"id\":\"3130\",\"type\":\"BoxAnnotation\"}},\"id\":\"2968\",\"type\":\"BoxZoomTool\"},{\"attributes\":{\"callback\":null},\"id\":\"2911\",\"type\":\"DataRange1d\"},{\"attributes\":{\"months\":[0,2,4,6,8,10]},\"id\":\"3139\",\"type\":\"MonthsTicker\"},{\"attributes\":{\"days\":[1,2,3,4,5,6,7,8,9,10,11,12,13,14,15,16,17,18,19,20,21,22,23,24,25,26,27,28,29,30,31]},\"id\":\"3134\",\"type\":\"DaysTicker\"},{\"attributes\":{\"below\":[{\"id\":\"2956\",\"type\":\"DatetimeAxis\"}],\"center\":[{\"id\":\"2960\",\"type\":\"Grid\"},{\"id\":\"2965\",\"type\":\"Grid\"}],\"left\":[{\"id\":\"2961\",\"type\":\"LinearAxis\"}],\"renderers\":[{\"id\":\"2982\",\"type\":\"GlyphRenderer\"}],\"title\":{\"id\":\"2946\",\"type\":\"Title\"},\"toolbar\":{\"id\":\"2972\",\"type\":\"Toolbar\"},\"toolbar_location\":null,\"x_range\":{\"id\":\"2948\",\"type\":\"DataRange1d\"},\"x_scale\":{\"id\":\"2952\",\"type\":\"LinearScale\"},\"y_range\":{\"id\":\"2950\",\"type\":\"DataRange1d\"},\"y_scale\":{\"id\":\"2954\",\"type\":\"LinearScale\"}},\"id\":\"2945\",\"subtype\":\"Figure\",\"type\":\"Plot\"},{\"attributes\":{},\"id\":\"2928\",\"type\":\"WheelZoomTool\"},{\"attributes\":{\"months\":[0,1,2,3,4,5,6,7,8,9,10,11]},\"id\":\"3138\",\"type\":\"MonthsTicker\"},{\"attributes\":{\"fill_alpha\":{\"value\":0.1},\"fill_color\":{\"value\":\"#1f77b4\"},\"line_alpha\":{\"value\":0.1},\"line_color\":{\"value\":\"#1f77b4\"},\"top\":{\"field\":\"top\"},\"width\":{\"value\":1},\"x\":{\"field\":\"x\"}},\"id\":\"2942\",\"type\":\"VBar\"},{\"attributes\":{\"base\":60,\"mantissas\":[1,2,5,10,15,20,30],\"max_interval\":1800000.0,\"min_interval\":1000.0,\"num_minor_ticks\":0},\"id\":\"3117\",\"type\":\"AdaptiveTicker\"},{\"attributes\":{\"active_drag\":\"auto\",\"active_inspect\":\"auto\",\"active_multi\":null,\"active_scroll\":\"auto\",\"active_tap\":\"auto\",\"tools\":[{\"id\":\"2966\",\"type\":\"PanTool\"},{\"id\":\"2967\",\"type\":\"WheelZoomTool\"},{\"id\":\"2968\",\"type\":\"BoxZoomTool\"},{\"id\":\"2969\",\"type\":\"SaveTool\"},{\"id\":\"2970\",\"type\":\"ResetTool\"},{\"id\":\"2971\",\"type\":\"HelpTool\"}]},\"id\":\"2972\",\"type\":\"Toolbar\"},{\"attributes\":{\"dimension\":1,\"ticker\":{\"id\":\"2962\",\"type\":\"BasicTicker\"}},\"id\":\"2965\",\"type\":\"Grid\"},{\"attributes\":{},\"id\":\"2969\",\"type\":\"SaveTool\"},{\"attributes\":{\"ticker\":{\"id\":\"2918\",\"type\":\"DatetimeTicker\"}},\"id\":\"2921\",\"type\":\"Grid\"},{\"attributes\":{},\"id\":\"3108\",\"type\":\"BasicTickFormatter\"},{\"attributes\":{\"text\":\"BayesDifference between predicted return for period and actual return\"},\"id\":\"2946\",\"type\":\"Title\"},{\"attributes\":{\"days\":[1,4,7,10,13,16,19,22,25,28]},\"id\":\"3135\",\"type\":\"DaysTicker\"},{\"attributes\":{\"days\":[1,15]},\"id\":\"3122\",\"type\":\"DaysTicker\"},{\"attributes\":{},\"id\":\"2966\",\"type\":\"PanTool\"},{\"attributes\":{\"formatter\":{\"id\":\"3108\",\"type\":\"BasicTickFormatter\"},\"ticker\":{\"id\":\"2923\",\"type\":\"BasicTicker\"}},\"id\":\"2922\",\"type\":\"LinearAxis\"},{\"attributes\":{\"months\":[0,2,4,6,8,10]},\"id\":\"3124\",\"type\":\"MonthsTicker\"},{\"attributes\":{\"source\":{\"id\":\"2940\",\"type\":\"ColumnDataSource\"}},\"id\":\"2944\",\"type\":\"CDSView\"},{\"attributes\":{},\"id\":\"2967\",\"type\":\"WheelZoomTool\"},{\"attributes\":{\"days\":[1,15]},\"id\":\"3137\",\"type\":\"DaysTicker\"},{\"attributes\":{},\"id\":\"3143\",\"type\":\"Selection\"},{\"attributes\":{\"data_source\":{\"id\":\"2940\",\"type\":\"ColumnDataSource\"},\"glyph\":{\"id\":\"2941\",\"type\":\"VBar\"},\"hover_glyph\":null,\"muted_glyph\":null,\"nonselection_glyph\":{\"id\":\"2942\",\"type\":\"VBar\"},\"selection_glyph\":null,\"view\":{\"id\":\"2944\",\"type\":\"CDSView\"}},\"id\":\"2943\",\"type\":\"GlyphRenderer\"},{\"attributes\":{\"fill_color\":{\"value\":\"#1f77b4\"},\"line_color\":{\"value\":\"#1f77b4\"},\"top\":{\"field\":\"top\"},\"width\":{\"value\":1},\"x\":{\"field\":\"x\"}},\"id\":\"2941\",\"type\":\"VBar\"},{\"attributes\":{\"days\":[1,8,15,22]},\"id\":\"3121\",\"type\":\"DaysTicker\"},{\"attributes\":{},\"id\":\"2931\",\"type\":\"ResetTool\"},{\"attributes\":{\"months\":[0,4,8]},\"id\":\"3125\",\"type\":\"MonthsTicker\"},{\"attributes\":{\"days\":[1,8,15,22]},\"id\":\"3136\",\"type\":\"DaysTicker\"},{\"attributes\":{},\"id\":\"3144\",\"type\":\"UnionRenderers\"},{\"attributes\":{\"months\":[0,1,2,3,4,5,6,7,8,9,10,11]},\"id\":\"3123\",\"type\":\"MonthsTicker\"},{\"attributes\":{\"days\":[1,4,7,10,13,16,19,22,25,28]},\"id\":\"3120\",\"type\":\"DaysTicker\"},{\"attributes\":{\"months\":[0,4,8]},\"id\":\"3140\",\"type\":\"MonthsTicker\"},{\"attributes\":{},\"id\":\"2970\",\"type\":\"ResetTool\"}],\"root_ids\":[\"2984\"]},\"title\":\"Bokeh Application\",\"version\":\"1.3.4\"}};\n",
       "  var render_items = [{\"docid\":\"b84c5821-2a44-4120-8b7e-75160e0240e9\",\"roots\":{\"2984\":\"64d65cde-580c-4a54-8e6b-dd71eede9dbd\"}}];\n",
       "  root.Bokeh.embed.embed_items_notebook(docs_json, render_items);\n",
       "\n",
       "  }\n",
       "  if (root.Bokeh !== undefined) {\n",
       "    embed_document(root);\n",
       "  } else {\n",
       "    var attempts = 0;\n",
       "    var timer = setInterval(function(root) {\n",
       "      if (root.Bokeh !== undefined) {\n",
       "        embed_document(root);\n",
       "        clearInterval(timer);\n",
       "      }\n",
       "      attempts++;\n",
       "      if (attempts > 100) {\n",
       "        console.log(\"Bokeh: ERROR: Unable to run BokehJS code because BokehJS library is missing\");\n",
       "        clearInterval(timer);\n",
       "      }\n",
       "    }, 10, root)\n",
       "  }\n",
       "})(window);"
      ],
      "application/vnd.bokehjs_exec.v0+json": ""
     },
     "metadata": {
      "application/vnd.bokehjs_exec.v0+json": {
       "id": "2984"
      }
     },
     "output_type": "display_data"
    }
   ],
   "source": [
    "pLRC = figure(title=\"LR Difference between predicted return for period and actual return\", toolbar_location=None, x_axis_type='datetime')\n",
    "pLRC.vbar(x=dfDifLR.index, top=dfDifLR.Rtn , width=1)\n",
    "pBC = figure(title=\"BayesDifference between predicted return for period and actual return\", toolbar_location=None, x_axis_type='datetime')\n",
    "pBC.vbar(x=dfDifB.index, top=dfDifB.Rtn , width=1)\n",
    "show(row(pLRC, pBC))"
   ]
  },
  {
   "cell_type": "code",
   "execution_count": 52,
   "metadata": {},
   "outputs": [
    {
     "data": {
      "text/html": [
       "<div>\n",
       "<style scoped>\n",
       "    .dataframe tbody tr th:only-of-type {\n",
       "        vertical-align: middle;\n",
       "    }\n",
       "\n",
       "    .dataframe tbody tr th {\n",
       "        vertical-align: top;\n",
       "    }\n",
       "\n",
       "    .dataframe thead th {\n",
       "        text-align: right;\n",
       "    }\n",
       "</style>\n",
       "<table border=\"1\" class=\"dataframe\">\n",
       "  <thead>\n",
       "    <tr style=\"text-align: right;\">\n",
       "      <th></th>\n",
       "      <th>Rtn</th>\n",
       "    </tr>\n",
       "    <tr>\n",
       "      <th>Date</th>\n",
       "      <th></th>\n",
       "    </tr>\n",
       "  </thead>\n",
       "  <tbody>\n",
       "    <tr>\n",
       "      <td>2009-01-01</td>\n",
       "      <td>-5.038291</td>\n",
       "    </tr>\n",
       "    <tr>\n",
       "      <td>2009-02-01</td>\n",
       "      <td>-14.516597</td>\n",
       "    </tr>\n",
       "    <tr>\n",
       "      <td>2009-03-01</td>\n",
       "      <td>5.245625</td>\n",
       "    </tr>\n",
       "    <tr>\n",
       "      <td>2009-04-01</td>\n",
       "      <td>12.857268</td>\n",
       "    </tr>\n",
       "    <tr>\n",
       "      <td>2009-05-01</td>\n",
       "      <td>-1.245973</td>\n",
       "    </tr>\n",
       "    <tr>\n",
       "      <td>...</td>\n",
       "      <td>...</td>\n",
       "    </tr>\n",
       "    <tr>\n",
       "      <td>2019-05-01</td>\n",
       "      <td>-6.828930</td>\n",
       "    </tr>\n",
       "    <tr>\n",
       "      <td>2019-06-01</td>\n",
       "      <td>4.018777</td>\n",
       "    </tr>\n",
       "    <tr>\n",
       "      <td>2019-07-01</td>\n",
       "      <td>-2.339801</td>\n",
       "    </tr>\n",
       "    <tr>\n",
       "      <td>2019-08-01</td>\n",
       "      <td>-3.202922</td>\n",
       "    </tr>\n",
       "    <tr>\n",
       "      <td>2019-09-01</td>\n",
       "      <td>0.092937</td>\n",
       "    </tr>\n",
       "  </tbody>\n",
       "</table>\n",
       "<p>129 rows × 1 columns</p>\n",
       "</div>"
      ],
      "text/plain": [
       "                  Rtn\n",
       "Date                 \n",
       "2009-01-01  -5.038291\n",
       "2009-02-01 -14.516597\n",
       "2009-03-01   5.245625\n",
       "2009-04-01  12.857268\n",
       "2009-05-01  -1.245973\n",
       "...               ...\n",
       "2019-05-01  -6.828930\n",
       "2019-06-01   4.018777\n",
       "2019-07-01  -2.339801\n",
       "2019-08-01  -3.202922\n",
       "2019-09-01   0.092937\n",
       "\n",
       "[129 rows x 1 columns]"
      ]
     },
     "execution_count": 52,
     "metadata": {},
     "output_type": "execute_result"
    }
   ],
   "source": [
    "dfDifLR"
   ]
  },
  {
   "cell_type": "code",
   "execution_count": 53,
   "metadata": {},
   "outputs": [
    {
     "data": {
      "text/html": [
       "\n",
       "\n",
       "\n",
       "\n",
       "\n",
       "\n",
       "  <div class=\"bk-root\" id=\"0a9c24fb-00df-4b82-a119-8518a92e8efb\" data-root-id=\"3385\"></div>\n"
      ]
     },
     "metadata": {},
     "output_type": "display_data"
    },
    {
     "data": {
      "application/javascript": [
       "(function(root) {\n",
       "  function embed_document(root) {\n",
       "    \n",
       "  var docs_json = {\"c5b48dc1-8e8f-4532-8200-c4febc5f2c87\":{\"roots\":{\"references\":[{\"attributes\":{\"below\":[{\"id\":\"3396\",\"type\":\"DatetimeAxis\"}],\"center\":[{\"id\":\"3400\",\"type\":\"Grid\"},{\"id\":\"3405\",\"type\":\"Grid\"},{\"id\":\"3442\",\"type\":\"Legend\"}],\"left\":[{\"id\":\"3401\",\"type\":\"LinearAxis\"}],\"renderers\":[{\"id\":\"3422\",\"type\":\"GlyphRenderer\"},{\"id\":\"3447\",\"type\":\"GlyphRenderer\"},{\"id\":\"3473\",\"type\":\"GlyphRenderer\"}],\"title\":{\"id\":\"3386\",\"type\":\"Title\"},\"toolbar\":{\"id\":\"3412\",\"type\":\"Toolbar\"},\"toolbar_location\":null,\"x_range\":{\"id\":\"3388\",\"type\":\"DataRange1d\"},\"x_scale\":{\"id\":\"3392\",\"type\":\"LinearScale\"},\"y_range\":{\"id\":\"3390\",\"type\":\"DataRange1d\"},\"y_scale\":{\"id\":\"3394\",\"type\":\"LinearScale\"}},\"id\":\"3385\",\"subtype\":\"Figure\",\"type\":\"Plot\"},{\"attributes\":{\"line_alpha\":0.1,\"line_color\":\"#1f77b4\",\"line_width\":2,\"x\":{\"field\":\"x\"},\"y\":{\"field\":\"y\"}},\"id\":\"3446\",\"type\":\"Line\"},{\"attributes\":{\"callback\":null},\"id\":\"3388\",\"type\":\"DataRange1d\"},{\"attributes\":{},\"id\":\"3411\",\"type\":\"HelpTool\"},{\"attributes\":{\"source\":{\"id\":\"3470\",\"type\":\"ColumnDataSource\"}},\"id\":\"3474\",\"type\":\"CDSView\"},{\"attributes\":{\"bottom_units\":\"screen\",\"fill_alpha\":{\"value\":0.5},\"fill_color\":{\"value\":\"lightgrey\"},\"left_units\":\"screen\",\"level\":\"overlay\",\"line_alpha\":{\"value\":1.0},\"line_color\":{\"value\":\"black\"},\"line_dash\":[4,4],\"line_width\":{\"value\":2},\"render_mode\":\"css\",\"right_units\":\"screen\",\"top_units\":\"screen\"},\"id\":\"3429\",\"type\":\"BoxAnnotation\"},{\"attributes\":{\"months\":[0,2,4,6,8,10]},\"id\":\"3438\",\"type\":\"MonthsTicker\"},{\"attributes\":{},\"id\":\"3441\",\"type\":\"YearsTicker\"},{\"attributes\":{},\"id\":\"3394\",\"type\":\"LinearScale\"},{\"attributes\":{\"active_drag\":\"auto\",\"active_inspect\":\"auto\",\"active_multi\":null,\"active_scroll\":\"auto\",\"active_tap\":\"auto\",\"tools\":[{\"id\":\"3406\",\"type\":\"PanTool\"},{\"id\":\"3407\",\"type\":\"WheelZoomTool\"},{\"id\":\"3408\",\"type\":\"BoxZoomTool\"},{\"id\":\"3409\",\"type\":\"SaveTool\"},{\"id\":\"3410\",\"type\":\"ResetTool\"},{\"id\":\"3411\",\"type\":\"HelpTool\"}]},\"id\":\"3412\",\"type\":\"Toolbar\"},{\"attributes\":{\"data_source\":{\"id\":\"3470\",\"type\":\"ColumnDataSource\"},\"glyph\":{\"id\":\"3471\",\"type\":\"Line\"},\"hover_glyph\":null,\"muted_glyph\":null,\"nonselection_glyph\":{\"id\":\"3472\",\"type\":\"Line\"},\"selection_glyph\":null,\"view\":{\"id\":\"3474\",\"type\":\"CDSView\"}},\"id\":\"3473\",\"type\":\"GlyphRenderer\"},{\"attributes\":{\"line_alpha\":0.1,\"line_color\":\"#1f77b4\",\"line_width\":2,\"x\":{\"field\":\"x\"},\"y\":{\"field\":\"y\"}},\"id\":\"3421\",\"type\":\"Line\"},{\"attributes\":{},\"id\":\"3521\",\"type\":\"UnionRenderers\"},{\"attributes\":{\"line_alpha\":0.1,\"line_color\":\"#1f77b4\",\"line_width\":2,\"x\":{\"field\":\"x\"},\"y\":{\"field\":\"y\"}},\"id\":\"3472\",\"type\":\"Line\"},{\"attributes\":{\"months\":[0,1,2,3,4,5,6,7,8,9,10,11]},\"id\":\"3437\",\"type\":\"MonthsTicker\"},{\"attributes\":{},\"id\":\"3467\",\"type\":\"Selection\"},{\"attributes\":{\"dimension\":1,\"ticker\":{\"id\":\"3402\",\"type\":\"BasicTicker\"}},\"id\":\"3405\",\"type\":\"Grid\"},{\"attributes\":{},\"id\":\"3402\",\"type\":\"BasicTicker\"},{\"attributes\":{\"items\":[{\"id\":\"3443\",\"type\":\"LegendItem\"},{\"id\":\"3469\",\"type\":\"LegendItem\"},{\"id\":\"3497\",\"type\":\"LegendItem\"}],\"location\":\"top_left\"},\"id\":\"3442\",\"type\":\"Legend\"},{\"attributes\":{\"days\":[1,4,7,10,13,16,19,22,25,28]},\"id\":\"3434\",\"type\":\"DaysTicker\"},{\"attributes\":{},\"id\":\"3468\",\"type\":\"UnionRenderers\"},{\"attributes\":{\"label\":{\"value\":\"Bayes Expected Return\"},\"renderers\":[{\"id\":\"3447\",\"type\":\"GlyphRenderer\"}]},\"id\":\"3469\",\"type\":\"LegendItem\"},{\"attributes\":{\"formatter\":{\"id\":\"3426\",\"type\":\"BasicTickFormatter\"},\"ticker\":{\"id\":\"3402\",\"type\":\"BasicTicker\"}},\"id\":\"3401\",\"type\":\"LinearAxis\"},{\"attributes\":{\"overlay\":{\"id\":\"3429\",\"type\":\"BoxAnnotation\"}},\"id\":\"3408\",\"type\":\"BoxZoomTool\"},{\"attributes\":{},\"id\":\"3406\",\"type\":\"PanTool\"},{\"attributes\":{},\"id\":\"3428\",\"type\":\"DatetimeTickFormatter\"},{\"attributes\":{\"line_color\":\"#ff7f00\",\"line_width\":2,\"x\":{\"field\":\"x\"},\"y\":{\"field\":\"y\"}},\"id\":\"3471\",\"type\":\"Line\"},{\"attributes\":{\"days\":[1,8,15,22]},\"id\":\"3435\",\"type\":\"DaysTicker\"},{\"attributes\":{\"callback\":null,\"data\":{\"x\":{\"__ndarray__\":\"/Knx0k1iQMP8qfHSTWJAw/yp8dJNYkDD/Knx0k1iQMP8qfHSTWJAw/yp8dJNYkDD/Knx0k1iQMP8qfHSTWJAwwAAAGouN3JCAACAVtZAckIAAMCo0EpyQgAAQJV4VHJCAACA53JeckIAAMA5bWhyQgAAwFpwcXJCAAAArWp7ckIAAICZEoVyQgAAwOsMj3JCAABA2LSYckIAAIAqr6JyQgAAwHyprHJCAABAaVG2ckIAAIC7S8ByQgAAAKjzyXJCAABA+u3TckIAAIBM6N1yQgAAgG3r5nJCAADAv+XwckIAAECsjfpyQgAAgP6HBHNCAAAA6y8Oc0IAAEA9KhhzQgAAgI8kInNCAAAAfMwrc0IAAEDOxjVzQgAAwLpuP3NCAAAADWlJc0IAAEBfY1NzQgAAAOa4XHNCAABAOLNmc0IAAMAkW3BzQgAAAHdVenNCAACAY/2Dc0IAAMC1941zQgAAAAjyl3NCAACA9Jmhc0IAAMBGlKtzQgAAQDM8tXNCAACAhTa/c0IAAMDXMMlzQgAAwPgz0nNCAAAASy7cc0IAAIA31uVzQgAAwInQ73NCAABAdnj5c0IAAIDIcgN0QgAAwBptDXRCAABABxUXdEIAAIBZDyF0QgAAAEa3KnRCAABAmLE0dEIAAIDqqz50QgAAgAuvR3RCAADAXalRdEIAAEBKUVt0QgAAgJxLZXRCAAAAifNudEIAAEDb7Xh0QgAAgC3ognRCAAAAGpCMdEIAAEBsipZ0QgAAwFgyoHRCAAAAqyyqdEIAAED9JrR0QgAAQB4qvXRCAACAcCTHdEIAAABdzNB0QgAAQK/G2nRCAADAm27kdEIAAADuaO50QgAAQEBj+HRCAADALAsCdUIAAAB/BQx1QgAAgGutFXVCAADAvacfdUIAAAAQoil1QgAAwJb3MnVCAAAA6fE8dUIAAIDVmUZ1QgAAwCeUUHVCAABAFDxadUIAAIBmNmR1QgAAwLgwbnVCAABApdh3dUIAAID30oF1QgAAAOR6i3VCAABANnWVdUIAAICIb591QgAAgKlyqHVCAADA+2yydUIAAEDoFLx1QgAAgDoPxnVCAAAAJ7fPdUIAAEB5sdl1QgAAgMur43VCAAAAuFPtdUIAAEAKTvd1QgAAwPb1AHZCAAAASfAKdkIAAECb6hR2QgAAQLztHXZCAACADugndkIAAAD7jzF2QgAAQE2KO3ZCAADAOTJFdkIAAACMLE92QgAAQN4mWXZCAADAys5idkIAAAAdyWx2QgAAgAlxdnZCAADAW2uAdkIAAACuZYp2QgAAAM9ok3ZCAABAIWOddkIAAMANC6d2QgAAAGAFsXZCAACATK26dkIAAMCep8R2QgAAAPGhznZC\",\"dtype\":\"float64\",\"shape\":[129]},\"y\":{\"__ndarray__\":\"Q4Tn4fNWWUAb/We7AvxZQHo3rv5oUlpAb82dbn0YW0ACH1YVcVVdQDNDjqF3HF5AQgWs2+ZwXkDFz1OLMVdfQPdDsaym419AhsVIlwo2YECsxEDoc2JgQGawU5cLt2BAB9EKuiEAYUBF38jMCRthQAHLeO1eVGFApnYgPtm5YUCRHDcJHf5hQJZSiXG5F2JAsM1ZrzxSYkAqGBmQZahiQGKczNXnz2JAKfQdS+9gY0AiO09TC6NjQG46ZvYxyGNAh5UFYjMpZEBowBq53lBkQDZ9DxLidmRAROfQ1SijZEBL28injO5kQNOJJyo6E2VAbojL9HcoZUBP6+fWykllQF/1AQrremVA+b6e7GmoZUAd9L9yAExmQC20DYtyaWZAjnRyZSKPZkAIqiFjJP9mQLDPvEjCRmdAp8s9AQ15Z0DAdKRjXZ5nQJvDUsjpqGdABQN4LFjvZ0AaTG3fFiJoQNPNy8fVV2hA57ZozD6YaEC3YlKyZbRoQMh807YA72hAG8shsBgfaUDO5XbdGXtpQCTjTv6TrWlADw5bk1YDakBl5FPJaEBqQH5ZnN8xiWpAq9mCCm+yakCIToEDvBFrQIbu12hLSmtAhmXZcr+qa0CFBcwSwQZsQDFp6zNWUmxANrzGyHmsbEDT8PX2C+RsQE7QDee+QW1Af0jmWmqCbUBrcEjk1thtQNaGGCSYOG5AvLC7NuCZbkCYo16VPPtuQC0yI/iVWm9AsoZDYDOvb0BMDTLZ/xNwQHtxNziaZnBAu7PJGWd8cEC1zowytK1wQFEpTQPO+nBAaGLJOLEScUAJ+UMHoEtxQIg9N0rXd3FATmlvFySgcUDkvSnw2vxxQElKwiJQGXJA3ZjaGjgqckBAeczFK4xyQM6i+C6ltnJA+fTr0jP0ckD0k4HDvvxyQD5pDmzPKXNAduXNroqLc0A1JzpYqslzQOdteisw/nNAhL2HsTIldEBPJXtC+HV0QCbWFgNXmXRAnQuuSIvIdEBHSqPi5fN0QHzpK6YwYHVAgFm1IuiIdUCT8mJ1Utd1QHvfUPvCMHZAZjmtpy94dkCLUqg/V652QE2Ff3dgCHdANKUrYMw0d0BOh2ZWEmt3QPLVaSDdp3dAIbk9Eg7hd0CeqDao+xV4QA0E8coGX3hAFfqO5DufeEDGQuiXrSZ5QIQwNNrfVHlAo8RM+ViYeUCf7objrcl5QBgoSYrCSXpA0GuyFMWdekBRTt2JG+96QBMnFETNXntA1M4rkzGqe0CR9u7qSdt7QN5RcCqTJ3xAu/LwmD1ofEAJzwuit/18QFFfs7IbXX1AcKDF62nefUB2uijWLjN+QDCeOGK5dn5AqUSR6qnofkBSeFRCzyB/QAQP/7zZgn9A\",\"dtype\":\"float64\",\"shape\":[129]}},\"selected\":{\"id\":\"3495\",\"type\":\"Selection\"},\"selection_policy\":{\"id\":\"3496\",\"type\":\"UnionRenderers\"}},\"id\":\"3444\",\"type\":\"ColumnDataSource\"},{\"attributes\":{},\"id\":\"3520\",\"type\":\"Selection\"},{\"attributes\":{\"num_minor_ticks\":5,\"tickers\":[{\"id\":\"3430\",\"type\":\"AdaptiveTicker\"},{\"id\":\"3431\",\"type\":\"AdaptiveTicker\"},{\"id\":\"3432\",\"type\":\"AdaptiveTicker\"},{\"id\":\"3433\",\"type\":\"DaysTicker\"},{\"id\":\"3434\",\"type\":\"DaysTicker\"},{\"id\":\"3435\",\"type\":\"DaysTicker\"},{\"id\":\"3436\",\"type\":\"DaysTicker\"},{\"id\":\"3437\",\"type\":\"MonthsTicker\"},{\"id\":\"3438\",\"type\":\"MonthsTicker\"},{\"id\":\"3439\",\"type\":\"MonthsTicker\"},{\"id\":\"3440\",\"type\":\"MonthsTicker\"},{\"id\":\"3441\",\"type\":\"YearsTicker\"}]},\"id\":\"3397\",\"type\":\"DatetimeTicker\"},{\"attributes\":{\"label\":{\"value\":\"R1000\"},\"renderers\":[{\"id\":\"3422\",\"type\":\"GlyphRenderer\"}]},\"id\":\"3443\",\"type\":\"LegendItem\"},{\"attributes\":{\"ticker\":{\"id\":\"3397\",\"type\":\"DatetimeTicker\"}},\"id\":\"3400\",\"type\":\"Grid\"},{\"attributes\":{},\"id\":\"3409\",\"type\":\"SaveTool\"},{\"attributes\":{\"line_color\":\"#984ea3\",\"line_width\":2,\"x\":{\"field\":\"x\"},\"y\":{\"field\":\"y\"}},\"id\":\"3445\",\"type\":\"Line\"},{\"attributes\":{},\"id\":\"3392\",\"type\":\"LinearScale\"},{\"attributes\":{\"source\":{\"id\":\"3444\",\"type\":\"ColumnDataSource\"}},\"id\":\"3448\",\"type\":\"CDSView\"},{\"attributes\":{},\"id\":\"3426\",\"type\":\"BasicTickFormatter\"},{\"attributes\":{\"days\":[1,2,3,4,5,6,7,8,9,10,11,12,13,14,15,16,17,18,19,20,21,22,23,24,25,26,27,28,29,30,31]},\"id\":\"3433\",\"type\":\"DaysTicker\"},{\"attributes\":{},\"id\":\"3410\",\"type\":\"ResetTool\"},{\"attributes\":{\"callback\":null,\"data\":{\"x\":{\"__ndarray__\":\"/Knx0k1iQMP8qfHSTWJAw/yp8dJNYkDD/Knx0k1iQMP8qfHSTWJAw/yp8dJNYkDD/Knx0k1iQMP8qfHSTWJAwwAAAGouN3JCAACAVtZAckIAAMCo0EpyQgAAQJV4VHJCAACA53JeckIAAMA5bWhyQgAAwFpwcXJCAAAArWp7ckIAAICZEoVyQgAAwOsMj3JCAABA2LSYckIAAIAqr6JyQgAAwHyprHJCAABAaVG2ckIAAIC7S8ByQgAAAKjzyXJCAABA+u3TckIAAIBM6N1yQgAAgG3r5nJCAADAv+XwckIAAECsjfpyQgAAgP6HBHNCAAAA6y8Oc0IAAEA9KhhzQgAAgI8kInNCAAAAfMwrc0IAAEDOxjVzQgAAwLpuP3NCAAAADWlJc0IAAEBfY1NzQgAAAOa4XHNCAABAOLNmc0IAAMAkW3BzQgAAAHdVenNCAACAY/2Dc0IAAMC1941zQgAAAAjyl3NCAACA9Jmhc0IAAMBGlKtzQgAAQDM8tXNCAACAhTa/c0IAAMDXMMlzQgAAwPgz0nNCAAAASy7cc0IAAIA31uVzQgAAwInQ73NCAABAdnj5c0IAAIDIcgN0QgAAwBptDXRCAABABxUXdEIAAIBZDyF0QgAAAEa3KnRCAABAmLE0dEIAAIDqqz50QgAAgAuvR3RCAADAXalRdEIAAEBKUVt0QgAAgJxLZXRCAAAAifNudEIAAEDb7Xh0QgAAgC3ognRCAAAAGpCMdEIAAEBsipZ0QgAAwFgyoHRCAAAAqyyqdEIAAED9JrR0QgAAQB4qvXRCAACAcCTHdEIAAABdzNB0QgAAQK/G2nRCAADAm27kdEIAAADuaO50QgAAQEBj+HRCAADALAsCdUIAAAB/BQx1QgAAgGutFXVCAADAvacfdUIAAAAQoil1QgAAwJb3MnVCAAAA6fE8dUIAAIDVmUZ1QgAAwCeUUHVCAABAFDxadUIAAIBmNmR1QgAAwLgwbnVCAABApdh3dUIAAID30oF1QgAAAOR6i3VCAABANnWVdUIAAICIb591QgAAgKlyqHVCAADA+2yydUIAAEDoFLx1QgAAgDoPxnVCAAAAJ7fPdUIAAEB5sdl1QgAAgMur43VCAAAAuFPtdUIAAEAKTvd1QgAAwPb1AHZCAAAASfAKdkIAAECb6hR2QgAAQLztHXZCAACADugndkIAAAD7jzF2QgAAQE2KO3ZCAADAOTJFdkIAAACMLE92QgAAQN4mWXZCAADAys5idkIAAAAdyWx2QgAAgAlxdnZCAADAW2uAdkIAAACuZYp2QgAAAM9ok3ZCAABAIWOddkIAAMANC6d2QgAAAGAFsXZCAACATK26dkIAAMCep8R2QgAAAPGhznZC\",\"dtype\":\"float64\",\"shape\":[129]},\"y\":{\"__ndarray__\":\"0SNC78DkVkDYpBwlZmBVQPq/fEpwS1dAmYMkcVDrW0Clsk4KfFVcQNoHWJHxc1xAkAAdPdW6XkDzP/ZtqmtgQHq+ONDwO2FAdjMjNUO8YEDpvhfXwXthQPYQkhKaLmJAk/RQ5/RKYUDPYLaYbRBiQJKLd1BpFWNAcY307qx8Y0BfYuZPshZiQFF6TFiraWFAXFgCIS9yYkDUwJxUeI1hQNmBy2jPRmNA0Gp6xMP4Y0CiugpTiiRkQO1wc3h4qGVAlDszGOMiZkAKuC2H7spmQKURgg/EGGdAedWoKaOrZ0DwsrjxVYNnQL3mmSRFNWdAFpMzbgXEZkC5gtPKVJBlQEB5Pfk4pmNA1MMwNnJLZkBIhW6bNU5mQE+UP253oGZAe1AFXCelZ0DfWXDissBoQAqhOPEeJ2lA2gXPoRnVaECZAyz7OmdnQAA51w1+mWhAcDUpXqStaED/+ykrz+doQJKTUhrDaGlAsvY8KBz9aECiv1fnIFlpQEaFF5PU1mlAaScA+xZ2a0BabBhiVNdrQOxDra6RE21AqwVmSgIpbUATcq3RAKttQH9KNkqtf21ACVJi6YlIb0DZGozT5GZuQL4oB7dVim9AWjxb622KcEBzA0wj7v5wQAnsgu0mW3FAI8Ia37LTcEDX6Eng9qpxQMFlpk4v6HFAU4yogcQvckBRlPClKzlyQJsnNm5E7XJACKUJyoX7cUAfiqb3kKNyQEFeNhTXB3JApNpw8o5eckCNLiBrEcRyQGgV920p6HJAHph6XOwSckAHTE8nqwtzQMigYOw73nJA7Op+Er4bc0CU3Vr48RJzQK1+R1XvlXJA7wIpd4FsckDXQtdXvlRxQKxNYf/MknBAuiYmSq6wcUDdg1Pw4tVxQAdmU3hQK3FA4RJJkSlycEBazus2UqxwQP5lgc4UIHJAdkrTV5WIckCUL1ogyPdyQE2nTu/M+XJA+ebopEhKc0AQMFLtO2VzQDBj2788cnNAazq827E+c0AZoIO0e2R0QOhemfZ1gnRABPXaot6ndEByzEdn07R1QO9iJ19mjXVAcglgzMztdUDGwLPOdRh2QOSvUzDwhXZAVTTnsJQid0C3gaAVwP92QGAM16WmCXhA6eSBfUKgeEDOpAytC5p5QIMMKBYjDnpABRGRIR/3ekDcJUgVVgZ6QKbyoQYd93lAihckJzjteUAJxIb82WB6QPEh7zqIX3pArRTOLkhwe0AoeuK+aGx7QPL9fnu9jXtACcMhG26peUCFk3exk4R6QM4d8F9zS3hAVGOUiOS6ekDeujLIYq17QCy1dSaMi3tAao8acmDGfEASY2avuLZ7QIo4M+Zj+X1A+v+nmcdBfkAWi5WvjfV9QDKExneOkH5A\",\"dtype\":\"float64\",\"shape\":[129]}},\"selected\":{\"id\":\"3520\",\"type\":\"Selection\"},\"selection_policy\":{\"id\":\"3521\",\"type\":\"UnionRenderers\"}},\"id\":\"3470\",\"type\":\"ColumnDataSource\"},{\"attributes\":{\"base\":24,\"mantissas\":[1,2,4,6,8,12],\"max_interval\":43200000.0,\"min_interval\":3600000.0,\"num_minor_ticks\":0},\"id\":\"3432\",\"type\":\"AdaptiveTicker\"},{\"attributes\":{\"callback\":null},\"id\":\"3390\",\"type\":\"DataRange1d\"},{\"attributes\":{\"days\":[1,15]},\"id\":\"3436\",\"type\":\"DaysTicker\"},{\"attributes\":{\"line_color\":\"#e41a1c\",\"line_width\":2,\"x\":{\"field\":\"x\"},\"y\":{\"field\":\"y\"}},\"id\":\"3420\",\"type\":\"Line\"},{\"attributes\":{\"months\":[0,6]},\"id\":\"3440\",\"type\":\"MonthsTicker\"},{\"attributes\":{\"text\":\"Return Comparison\"},\"id\":\"3386\",\"type\":\"Title\"},{\"attributes\":{\"data_source\":{\"id\":\"3419\",\"type\":\"ColumnDataSource\"},\"glyph\":{\"id\":\"3420\",\"type\":\"Line\"},\"hover_glyph\":null,\"muted_glyph\":null,\"nonselection_glyph\":{\"id\":\"3421\",\"type\":\"Line\"},\"selection_glyph\":null,\"view\":{\"id\":\"3423\",\"type\":\"CDSView\"}},\"id\":\"3422\",\"type\":\"GlyphRenderer\"},{\"attributes\":{},\"id\":\"3495\",\"type\":\"Selection\"},{\"attributes\":{},\"id\":\"3496\",\"type\":\"UnionRenderers\"},{\"attributes\":{\"callback\":null,\"data\":{\"x\":{\"__ndarray__\":\"AADA1PfocUIAAAAn8vJxQgAAAEj1+3FCAABAmu8FckIAAMCGlw9yQgAAANmRGXJCAACAxTkjckIAAMAXNC1yQgAAAGouN3JCAACAVtZAckIAAMCo0EpyQgAAQJV4VHJCAACA53JeckIAAMA5bWhyQgAAwFpwcXJCAAAArWp7ckIAAICZEoVyQgAAwOsMj3JCAABA2LSYckIAAIAqr6JyQgAAwHyprHJCAABAaVG2ckIAAIC7S8ByQgAAAKjzyXJCAABA+u3TckIAAIBM6N1yQgAAgG3r5nJCAADAv+XwckIAAECsjfpyQgAAgP6HBHNCAAAA6y8Oc0IAAEA9KhhzQgAAgI8kInNCAAAAfMwrc0IAAEDOxjVzQgAAwLpuP3NCAAAADWlJc0IAAEBfY1NzQgAAAOa4XHNCAABAOLNmc0IAAMAkW3BzQgAAAHdVenNCAACAY/2Dc0IAAMC1941zQgAAAAjyl3NCAACA9Jmhc0IAAMBGlKtzQgAAQDM8tXNCAACAhTa/c0IAAMDXMMlzQgAAwPgz0nNCAAAASy7cc0IAAIA31uVzQgAAwInQ73NCAABAdnj5c0IAAIDIcgN0QgAAwBptDXRCAABABxUXdEIAAIBZDyF0QgAAAEa3KnRCAABAmLE0dEIAAIDqqz50QgAAgAuvR3RCAADAXalRdEIAAEBKUVt0QgAAgJxLZXRCAAAAifNudEIAAEDb7Xh0QgAAgC3ognRCAAAAGpCMdEIAAEBsipZ0QgAAwFgyoHRCAAAAqyyqdEIAAED9JrR0QgAAQB4qvXRCAACAcCTHdEIAAABdzNB0QgAAQK/G2nRCAADAm27kdEIAAADuaO50QgAAQEBj+HRCAADALAsCdUIAAAB/BQx1QgAAgGutFXVCAADAvacfdUIAAAAQoil1QgAAwJb3MnVCAAAA6fE8dUIAAIDVmUZ1QgAAwCeUUHVCAABAFDxadUIAAIBmNmR1QgAAwLgwbnVCAABApdh3dUIAAID30oF1QgAAAOR6i3VCAABANnWVdUIAAICIb591QgAAgKlyqHVCAADA+2yydUIAAEDoFLx1QgAAgDoPxnVCAAAAJ7fPdUIAAEB5sdl1QgAAgMur43VCAAAAuFPtdUIAAEAKTvd1QgAAwPb1AHZCAAAASfAKdkIAAECb6hR2QgAAQLztHXZCAACADugndkIAAAD7jzF2QgAAQE2KO3ZCAADAOTJFdkIAAACMLE92QgAAQN4mWXZCAADAys5idkIAAAAdyWx2QgAAgAlxdnZCAADAW2uAdkIAAACuZYp2QgAAAM9ok3ZCAABAIWOddkIAAMANC6d2QgAAAGAFsXZCAACATK26dkIAAMCep8R2QgAAAPGhznZC\",\"dtype\":\"float64\",\"shape\":[129]},\"y\":{\"__ndarray__\":\"YO79CURmWUAEr9P9jFNXQEu5e/wr6lRAb8Zl6nS+VkD/3MrK0AtZQN5UAf6pblpAteiQHDZ/WkB+GFXF24RcQIElNk8Njl1AKyU6AQ7BXkC4+z3NBxNeQA10AHCN2F9A78sH7YNPYEA8NhVviHJfQHsSylLvPWBAjC2DBm09YUBc8052HI9hQD4tB8u4KmBAY7IGFqSIXkC7L6I58FNgQAE3eyz6MV9A+0w0cdwHYUAB+65ciLFhQAEHjMVNwGFAUDhaaabvYkA8icUROmRjQEZKQ8PlEGRAnBrQgi0eZECJW86lFLlkQFuEn7YrgGRAT3j+nG4kZEBI5UfUh7RjQPyrovkQkmJA0C5fcFQvYUC3XhuBcRxjQO+ZBlKcD2NA1afO3mU4Y0C4+u97LyhkQN8HmGGgCmVAb3G4rS2zZUD+9Qzk8ZJlQNmDPPqMP2RAs3FkGAAGZUBkcrQ61kVlQOyNy70RymVAUPJxBI1ZZkA7DaH99PhlQGmet/+kJWZAgKPEKXFgZkC/0cLuHZdnQJrevCdB6GdA+Bdfr4fUaEB4sc3VUUdpQAEXPatE12lAkB6c2hx9aUDm5lH0QdpqQFRJvhymHGpAN5fDK70Fa0CiKkq0QTZsQAC2xnTkAG1AspjByjLJbUCVh+FYqdVsQOEhnKgJNG5AxRGmcUllbkDlxsbG6IluQHRS2AiPPW9A6N8DoHfzb0CppntnNG9vQD/bP5fbXXBAcOfIvmcUcEDs9rEUAnlwQBhqA7Jp53BA8f3IzFTdcEAtzHTdvmZwQE/5JxlaWXFAJ12EpwsicUAiGmBHLkFxQJWTSTX4enFAfo7PMAUncUAztk5VqHtxQA/kAMxubnBAyFByx0n2b0B+LiYKJ0ZxQLeAscTCVHFAlShZI/EEcUDApUribhpwQOXHhMQEGXBA3SsSmxc4cUAZF6p4EFBxQEQu5HytnXFAHzoE1OOncUCX70SgElRyQLmRUHhOWnJAQiruYwZeckATXiLOVQJyQEPsplkXuHJAubNzmx4Sc0DTUvPPSnRzQI/a+8sRNXRASGVXclY4dEAKlIJREG90QKwlvPXSsXRAtXiMkdDWdEAoageFdkB1QG35sCd7UXVAiK658bLFdUDrCOBoiUV2QDHGLkpp83ZAdmBNJ+k0d0A4uezBBnt4QDMo/VrxlHdA/ZLBEusLd0CXHWeH+B93QKjhF6kVt3dAdzVAFljed0CQ1+SNOLF4QHD9oZUIi3lArPRsJd2jeUCc+lkLYtN3QGilmGCCT3hAvv3A4bAYdkCAaoB8vfJ3QH768lRRwnhA5W2yMKoweUB3mbWeFjV6QOPciY6OiXhA4rYZS4xCekB8LBHE8qp6QO0r7b/oLXpA\",\"dtype\":\"float64\",\"shape\":[129]}},\"selected\":{\"id\":\"3467\",\"type\":\"Selection\"},\"selection_policy\":{\"id\":\"3468\",\"type\":\"UnionRenderers\"}},\"id\":\"3419\",\"type\":\"ColumnDataSource\"},{\"attributes\":{\"base\":60,\"mantissas\":[1,2,5,10,15,20,30],\"max_interval\":1800000.0,\"min_interval\":1000.0,\"num_minor_ticks\":0},\"id\":\"3431\",\"type\":\"AdaptiveTicker\"},{\"attributes\":{\"months\":[0,4,8]},\"id\":\"3439\",\"type\":\"MonthsTicker\"},{\"attributes\":{\"formatter\":{\"id\":\"3428\",\"type\":\"DatetimeTickFormatter\"},\"ticker\":{\"id\":\"3397\",\"type\":\"DatetimeTicker\"}},\"id\":\"3396\",\"type\":\"DatetimeAxis\"},{\"attributes\":{\"label\":{\"value\":\"Bayes Actual Return\"},\"renderers\":[{\"id\":\"3473\",\"type\":\"GlyphRenderer\"}]},\"id\":\"3497\",\"type\":\"LegendItem\"},{\"attributes\":{},\"id\":\"3407\",\"type\":\"WheelZoomTool\"},{\"attributes\":{\"mantissas\":[1,2,5],\"max_interval\":500.0,\"num_minor_ticks\":0},\"id\":\"3430\",\"type\":\"AdaptiveTicker\"},{\"attributes\":{\"source\":{\"id\":\"3419\",\"type\":\"ColumnDataSource\"}},\"id\":\"3423\",\"type\":\"CDSView\"},{\"attributes\":{\"data_source\":{\"id\":\"3444\",\"type\":\"ColumnDataSource\"},\"glyph\":{\"id\":\"3445\",\"type\":\"Line\"},\"hover_glyph\":null,\"muted_glyph\":null,\"nonselection_glyph\":{\"id\":\"3446\",\"type\":\"Line\"},\"selection_glyph\":null,\"view\":{\"id\":\"3448\",\"type\":\"CDSView\"}},\"id\":\"3447\",\"type\":\"GlyphRenderer\"}],\"root_ids\":[\"3385\"]},\"title\":\"Bokeh Application\",\"version\":\"1.3.4\"}};\n",
       "  var render_items = [{\"docid\":\"c5b48dc1-8e8f-4532-8200-c4febc5f2c87\",\"roots\":{\"3385\":\"0a9c24fb-00df-4b82-a119-8518a92e8efb\"}}];\n",
       "  root.Bokeh.embed.embed_items_notebook(docs_json, render_items);\n",
       "\n",
       "  }\n",
       "  if (root.Bokeh !== undefined) {\n",
       "    embed_document(root);\n",
       "  } else {\n",
       "    var attempts = 0;\n",
       "    var timer = setInterval(function(root) {\n",
       "      if (root.Bokeh !== undefined) {\n",
       "        embed_document(root);\n",
       "        clearInterval(timer);\n",
       "      }\n",
       "      attempts++;\n",
       "      if (attempts > 100) {\n",
       "        console.log(\"Bokeh: ERROR: Unable to run BokehJS code because BokehJS library is missing\");\n",
       "        clearInterval(timer);\n",
       "      }\n",
       "    }, 10, root)\n",
       "  }\n",
       "})(window);"
      ],
      "application/vnd.bokehjs_exec.v0+json": ""
     },
     "metadata": {
      "application/vnd.bokehjs_exec.v0+json": {
       "id": "3385"
      }
     },
     "output_type": "display_data"
    }
   ],
   "source": [
    "#Return analysis between predicted return weights and Index\n",
    "colors = palettes.all_palettes['Set1'][5]\n",
    "p = figure(title=\"Return Comparison\", toolbar_location=None, x_axis_type='datetime')\n",
    "\n",
    "p.line(x=dfBmk[dfEstLR.index.min():].index, y=np.cumprod(1+dfBmk[dfEstLR.index.min():].RETURN/100)*100, color=colors[0], legend='R1000', line_width=2)\n",
    "#p.line(x=dfEstLR.index, y=np.cumprod(1+dfEstLR.Rtn/100)*100,  color=colors[1],legend='LR Expected Return', line_width=2)\n",
    "#p.line(x=dfActLR.index, y=np.cumprod(1+dfActLR.Rtn/100)*100,  color=colors[2],legend='LR Actual Return', line_width=2)\n",
    "p.line(x=dfEstB.index, y=np.cumprod(1+dfEstB.Rtn/100)*100,  color=colors[3],legend='Bayes Expected Return', line_width=2)\n",
    "p.line(x=dfActB.index, y=np.cumprod(1+dfActB.Rtn/100)*100,  color=colors[4],legend='Bayes Actual Return', line_width=2)\n",
    "p.legend.location = \"top_left\"\n",
    "export_png(p, filename=\"plot.png\")\n",
    "show(p)"
   ]
  },
  {
   "cell_type": "code",
   "execution_count": 54,
   "metadata": {},
   "outputs": [
    {
     "data": {
      "text/html": [
       "\n",
       "\n",
       "\n",
       "\n",
       "\n",
       "\n",
       "  <div class=\"bk-root\" id=\"81d8b6a0-8f4f-42b7-bff1-a4768edd6606\" data-root-id=\"4067\"></div>\n"
      ]
     },
     "metadata": {},
     "output_type": "display_data"
    },
    {
     "data": {
      "application/javascript": [
       "(function(root) {\n",
       "  function embed_document(root) {\n",
       "    \n",
       "  var docs_json = {\"a0a80e8e-a0ad-4efe-a4e2-f38988026348\":{\"roots\":{\"references\":[{\"attributes\":{\"below\":[{\"id\":\"4078\",\"type\":\"DatetimeAxis\"}],\"center\":[{\"id\":\"4082\",\"type\":\"Grid\"},{\"id\":\"4087\",\"type\":\"Grid\"},{\"id\":\"4124\",\"type\":\"Legend\"}],\"left\":[{\"id\":\"4083\",\"type\":\"LinearAxis\"}],\"renderers\":[{\"id\":\"4104\",\"type\":\"GlyphRenderer\"},{\"id\":\"4129\",\"type\":\"GlyphRenderer\"},{\"id\":\"4155\",\"type\":\"GlyphRenderer\"},{\"id\":\"4183\",\"type\":\"GlyphRenderer\"}],\"title\":{\"id\":\"4068\",\"type\":\"Title\"},\"toolbar\":{\"id\":\"4094\",\"type\":\"Toolbar\"},\"toolbar_location\":null,\"x_range\":{\"id\":\"4070\",\"type\":\"DataRange1d\"},\"x_scale\":{\"id\":\"4074\",\"type\":\"LinearScale\"},\"y_range\":{\"id\":\"4072\",\"type\":\"DataRange1d\"},\"y_scale\":{\"id\":\"4076\",\"type\":\"LinearScale\"}},\"id\":\"4067\",\"subtype\":\"Figure\",\"type\":\"Plot\"},{\"attributes\":{\"days\":[1,2,3,4,5,6,7,8,9,10,11,12,13,14,15,16,17,18,19,20,21,22,23,24,25,26,27,28,29,30,31]},\"id\":\"4115\",\"type\":\"DaysTicker\"},{\"attributes\":{\"days\":[1,15]},\"id\":\"4118\",\"type\":\"DaysTicker\"},{\"attributes\":{\"data_source\":{\"id\":\"4126\",\"type\":\"ColumnDataSource\"},\"glyph\":{\"id\":\"4127\",\"type\":\"Line\"},\"hover_glyph\":null,\"muted_glyph\":null,\"nonselection_glyph\":{\"id\":\"4128\",\"type\":\"Line\"},\"selection_glyph\":null,\"view\":{\"id\":\"4130\",\"type\":\"CDSView\"}},\"id\":\"4129\",\"type\":\"GlyphRenderer\"},{\"attributes\":{\"line_alpha\":0.1,\"line_color\":\"#1f77b4\",\"line_width\":2,\"x\":{\"field\":\"x\"},\"y\":{\"field\":\"y\"}},\"id\":\"4154\",\"type\":\"Line\"},{\"attributes\":{\"months\":[0,4,8]},\"id\":\"4121\",\"type\":\"MonthsTicker\"},{\"attributes\":{\"line_alpha\":0.1,\"line_color\":\"#1f77b4\",\"line_width\":2,\"x\":{\"field\":\"x\"},\"y\":{\"field\":\"y\"}},\"id\":\"4128\",\"type\":\"Line\"},{\"attributes\":{\"months\":[0,6]},\"id\":\"4122\",\"type\":\"MonthsTicker\"},{\"attributes\":{\"months\":[0,2,4,6,8,10]},\"id\":\"4120\",\"type\":\"MonthsTicker\"},{\"attributes\":{},\"id\":\"4149\",\"type\":\"Selection\"},{\"attributes\":{\"callback\":null,\"data\":{\"x\":{\"__ndarray__\":\"/Knx0k1iQMP8qfHSTWJAw/yp8dJNYkDD/Knx0k1iQMP8qfHSTWJAw/yp8dJNYkDD/Knx0k1iQMP8qfHSTWJAwwAAAGouN3JCAACAVtZAckIAAMCo0EpyQgAAQJV4VHJCAACA53JeckIAAMA5bWhyQgAAwFpwcXJCAAAArWp7ckIAAICZEoVyQgAAwOsMj3JCAABA2LSYckIAAIAqr6JyQgAAwHyprHJCAABAaVG2ckIAAIC7S8ByQgAAAKjzyXJCAABA+u3TckIAAIBM6N1yQgAAgG3r5nJCAADAv+XwckIAAECsjfpyQgAAgP6HBHNCAAAA6y8Oc0IAAEA9KhhzQgAAgI8kInNCAAAAfMwrc0IAAEDOxjVzQgAAwLpuP3NCAAAADWlJc0IAAEBfY1NzQgAAAOa4XHNCAABAOLNmc0IAAMAkW3BzQgAAAHdVenNCAACAY/2Dc0IAAMC1941zQgAAAAjyl3NCAACA9Jmhc0IAAMBGlKtzQgAAQDM8tXNCAACAhTa/c0IAAMDXMMlzQgAAwPgz0nNCAAAASy7cc0IAAIA31uVzQgAAwInQ73NCAABAdnj5c0IAAIDIcgN0QgAAwBptDXRCAABABxUXdEIAAIBZDyF0QgAAAEa3KnRCAABAmLE0dEIAAIDqqz50QgAAgAuvR3RCAADAXalRdEIAAEBKUVt0QgAAgJxLZXRCAAAAifNudEIAAEDb7Xh0QgAAgC3ognRCAAAAGpCMdEIAAEBsipZ0QgAAwFgyoHRCAAAAqyyqdEIAAED9JrR0QgAAQB4qvXRCAACAcCTHdEIAAABdzNB0QgAAQK/G2nRCAADAm27kdEIAAADuaO50QgAAQEBj+HRCAADALAsCdUIAAAB/BQx1QgAAgGutFXVCAADAvacfdUIAAAAQoil1QgAAwJb3MnVCAAAA6fE8dUIAAIDVmUZ1QgAAwCeUUHVCAABAFDxadUIAAIBmNmR1QgAAwLgwbnVCAABApdh3dUIAAID30oF1QgAAAOR6i3VCAABANnWVdUIAAICIb591QgAAgKlyqHVCAADA+2yydUIAAEDoFLx1QgAAgDoPxnVCAAAAJ7fPdUIAAEB5sdl1QgAAgMur43VCAAAAuFPtdUIAAEAKTvd1QgAAwPb1AHZCAAAASfAKdkIAAECb6hR2QgAAQLztHXZCAACADugndkIAAAD7jzF2QgAAQE2KO3ZCAADAOTJFdkIAAACMLE92QgAAQN4mWXZCAADAys5idkIAAAAdyWx2QgAAgAlxdnZCAADAW2uAdkIAAACuZYp2QgAAAM9ok3ZCAABAIWOddkIAAMANC6d2QgAAAGAFsXZCAACATK26dkIAAMCep8R2QgAAAPGhznZC\",\"dtype\":\"float64\",\"shape\":[129]},\"y\":{\"__ndarray__\":\"Q4Tn4fNWWUAb/We7AvxZQHo3rv5oUlpAb82dbn0YW0ACH1YVcVVdQDNDjqF3HF5AQgWs2+ZwXkDFz1OLMVdfQPdDsaym419AhsVIlwo2YECsxEDoc2JgQGawU5cLt2BAB9EKuiEAYUBF38jMCRthQAHLeO1eVGFApnYgPtm5YUCRHDcJHf5hQJZSiXG5F2JAsM1ZrzxSYkAqGBmQZahiQGKczNXnz2JAKfQdS+9gY0AiO09TC6NjQG46ZvYxyGNAh5UFYjMpZEBowBq53lBkQDZ9DxLidmRAROfQ1SijZEBL28injO5kQNOJJyo6E2VAbojL9HcoZUBP6+fWykllQF/1AQrremVA+b6e7GmoZUAd9L9yAExmQC20DYtyaWZAjnRyZSKPZkAIqiFjJP9mQLDPvEjCRmdAp8s9AQ15Z0DAdKRjXZ5nQJvDUsjpqGdABQN4LFjvZ0AaTG3fFiJoQNPNy8fVV2hA57ZozD6YaEC3YlKyZbRoQMh807YA72hAG8shsBgfaUDO5XbdGXtpQCTjTv6TrWlADw5bk1YDakBl5FPJaEBqQH5ZnN8xiWpAq9mCCm+yakCIToEDvBFrQIbu12hLSmtAhmXZcr+qa0CFBcwSwQZsQDFp6zNWUmxANrzGyHmsbEDT8PX2C+RsQE7QDee+QW1Af0jmWmqCbUBrcEjk1thtQNaGGCSYOG5AvLC7NuCZbkCYo16VPPtuQC0yI/iVWm9AsoZDYDOvb0BMDTLZ/xNwQHtxNziaZnBAu7PJGWd8cEC1zowytK1wQFEpTQPO+nBAaGLJOLEScUAJ+UMHoEtxQIg9N0rXd3FATmlvFySgcUDkvSnw2vxxQElKwiJQGXJA3ZjaGjgqckBAeczFK4xyQM6i+C6ltnJA+fTr0jP0ckD0k4HDvvxyQD5pDmzPKXNAduXNroqLc0A1JzpYqslzQOdteisw/nNAhL2HsTIldEBPJXtC+HV0QCbWFgNXmXRAnQuuSIvIdEBHSqPi5fN0QHzpK6YwYHVAgFm1IuiIdUCT8mJ1Utd1QHvfUPvCMHZAZjmtpy94dkCLUqg/V652QE2Ff3dgCHdANKUrYMw0d0BOh2ZWEmt3QPLVaSDdp3dAIbk9Eg7hd0CeqDao+xV4QA0E8coGX3hAFfqO5DufeEDGQuiXrSZ5QIQwNNrfVHlAo8RM+ViYeUCf7objrcl5QBgoSYrCSXpA0GuyFMWdekBRTt2JG+96QBMnFETNXntA1M4rkzGqe0CR9u7qSdt7QN5RcCqTJ3xAu/LwmD1ofEAJzwuit/18QFFfs7IbXX1AcKDF62nefUB2uijWLjN+QDCeOGK5dn5AqUSR6qnofkBSeFRCzyB/QAQP/7zZgn9A\",\"dtype\":\"float64\",\"shape\":[129]}},\"selected\":{\"id\":\"4207\",\"type\":\"Selection\"},\"selection_policy\":{\"id\":\"4208\",\"type\":\"UnionRenderers\"}},\"id\":\"4152\",\"type\":\"ColumnDataSource\"},{\"attributes\":{\"line_alpha\":0.1,\"line_color\":\"#1f77b4\",\"line_width\":2,\"x\":{\"field\":\"x\"},\"y\":{\"field\":\"y\"}},\"id\":\"4182\",\"type\":\"Line\"},{\"attributes\":{\"days\":[1,8,15,22]},\"id\":\"4117\",\"type\":\"DaysTicker\"},{\"attributes\":{},\"id\":\"4208\",\"type\":\"UnionRenderers\"},{\"attributes\":{\"ticker\":{\"id\":\"4079\",\"type\":\"DatetimeTicker\"}},\"id\":\"4082\",\"type\":\"Grid\"},{\"attributes\":{},\"id\":\"4088\",\"type\":\"PanTool\"},{\"attributes\":{},\"id\":\"4089\",\"type\":\"WheelZoomTool\"},{\"attributes\":{},\"id\":\"4091\",\"type\":\"SaveTool\"},{\"attributes\":{\"num_minor_ticks\":5,\"tickers\":[{\"id\":\"4112\",\"type\":\"AdaptiveTicker\"},{\"id\":\"4113\",\"type\":\"AdaptiveTicker\"},{\"id\":\"4114\",\"type\":\"AdaptiveTicker\"},{\"id\":\"4115\",\"type\":\"DaysTicker\"},{\"id\":\"4116\",\"type\":\"DaysTicker\"},{\"id\":\"4117\",\"type\":\"DaysTicker\"},{\"id\":\"4118\",\"type\":\"DaysTicker\"},{\"id\":\"4119\",\"type\":\"MonthsTicker\"},{\"id\":\"4120\",\"type\":\"MonthsTicker\"},{\"id\":\"4121\",\"type\":\"MonthsTicker\"},{\"id\":\"4122\",\"type\":\"MonthsTicker\"},{\"id\":\"4123\",\"type\":\"YearsTicker\"}]},\"id\":\"4079\",\"type\":\"DatetimeTicker\"},{\"attributes\":{\"label\":{\"value\":\"LR Expected Return\"},\"renderers\":[{\"id\":\"4104\",\"type\":\"GlyphRenderer\"}]},\"id\":\"4125\",\"type\":\"LegendItem\"},{\"attributes\":{\"label\":{\"value\":\"Bayes Expected Return\"},\"renderers\":[{\"id\":\"4155\",\"type\":\"GlyphRenderer\"}]},\"id\":\"4179\",\"type\":\"LegendItem\"},{\"attributes\":{\"bottom_units\":\"screen\",\"fill_alpha\":{\"value\":0.5},\"fill_color\":{\"value\":\"lightgrey\"},\"left_units\":\"screen\",\"level\":\"overlay\",\"line_alpha\":{\"value\":1.0},\"line_color\":{\"value\":\"black\"},\"line_dash\":[4,4],\"line_width\":{\"value\":2},\"render_mode\":\"css\",\"right_units\":\"screen\",\"top_units\":\"screen\"},\"id\":\"4111\",\"type\":\"BoxAnnotation\"},{\"attributes\":{\"dimension\":1,\"ticker\":{\"id\":\"4084\",\"type\":\"BasicTicker\"}},\"id\":\"4087\",\"type\":\"Grid\"},{\"attributes\":{\"items\":[{\"id\":\"4125\",\"type\":\"LegendItem\"},{\"id\":\"4151\",\"type\":\"LegendItem\"},{\"id\":\"4179\",\"type\":\"LegendItem\"},{\"id\":\"4209\",\"type\":\"LegendItem\"}],\"location\":\"top_left\"},\"id\":\"4124\",\"type\":\"Legend\"},{\"attributes\":{\"text\":\"Return Comparison\"},\"id\":\"4068\",\"type\":\"Title\"},{\"attributes\":{},\"id\":\"4093\",\"type\":\"HelpTool\"},{\"attributes\":{\"base\":24,\"mantissas\":[1,2,4,6,8,12],\"max_interval\":43200000.0,\"min_interval\":3600000.0,\"num_minor_ticks\":0},\"id\":\"4114\",\"type\":\"AdaptiveTicker\"},{\"attributes\":{},\"id\":\"4150\",\"type\":\"UnionRenderers\"},{\"attributes\":{},\"id\":\"4177\",\"type\":\"Selection\"},{\"attributes\":{},\"id\":\"4207\",\"type\":\"Selection\"},{\"attributes\":{\"data_source\":{\"id\":\"4101\",\"type\":\"ColumnDataSource\"},\"glyph\":{\"id\":\"4102\",\"type\":\"Line\"},\"hover_glyph\":null,\"muted_glyph\":null,\"nonselection_glyph\":{\"id\":\"4103\",\"type\":\"Line\"},\"selection_glyph\":null,\"view\":{\"id\":\"4105\",\"type\":\"CDSView\"}},\"id\":\"4104\",\"type\":\"GlyphRenderer\"},{\"attributes\":{\"source\":{\"id\":\"4126\",\"type\":\"ColumnDataSource\"}},\"id\":\"4130\",\"type\":\"CDSView\"},{\"attributes\":{\"mantissas\":[1,2,5],\"max_interval\":500.0,\"num_minor_ticks\":0},\"id\":\"4112\",\"type\":\"AdaptiveTicker\"},{\"attributes\":{\"line_color\":\"#4daf4a\",\"line_width\":2,\"x\":{\"field\":\"x\"},\"y\":{\"field\":\"y\"}},\"id\":\"4127\",\"type\":\"Line\"},{\"attributes\":{\"source\":{\"id\":\"4180\",\"type\":\"ColumnDataSource\"}},\"id\":\"4184\",\"type\":\"CDSView\"},{\"attributes\":{},\"id\":\"4178\",\"type\":\"UnionRenderers\"},{\"attributes\":{\"active_drag\":\"auto\",\"active_inspect\":\"auto\",\"active_multi\":null,\"active_scroll\":\"auto\",\"active_tap\":\"auto\",\"tools\":[{\"id\":\"4088\",\"type\":\"PanTool\"},{\"id\":\"4089\",\"type\":\"WheelZoomTool\"},{\"id\":\"4090\",\"type\":\"BoxZoomTool\"},{\"id\":\"4091\",\"type\":\"SaveTool\"},{\"id\":\"4092\",\"type\":\"ResetTool\"},{\"id\":\"4093\",\"type\":\"HelpTool\"}]},\"id\":\"4094\",\"type\":\"Toolbar\"},{\"attributes\":{\"line_color\":\"#ff7f00\",\"line_width\":2,\"x\":{\"field\":\"x\"},\"y\":{\"field\":\"y\"}},\"id\":\"4181\",\"type\":\"Line\"},{\"attributes\":{},\"id\":\"4108\",\"type\":\"BasicTickFormatter\"},{\"attributes\":{},\"id\":\"4092\",\"type\":\"ResetTool\"},{\"attributes\":{\"line_alpha\":0.1,\"line_color\":\"#1f77b4\",\"line_width\":2,\"x\":{\"field\":\"x\"},\"y\":{\"field\":\"y\"}},\"id\":\"4103\",\"type\":\"Line\"},{\"attributes\":{},\"id\":\"4235\",\"type\":\"UnionRenderers\"},{\"attributes\":{\"formatter\":{\"id\":\"4110\",\"type\":\"DatetimeTickFormatter\"},\"ticker\":{\"id\":\"4079\",\"type\":\"DatetimeTicker\"}},\"id\":\"4078\",\"type\":\"DatetimeAxis\"},{\"attributes\":{},\"id\":\"4234\",\"type\":\"Selection\"},{\"attributes\":{\"callback\":null,\"data\":{\"x\":{\"__ndarray__\":\"AADA1PfocUIAAAAn8vJxQgAAAEj1+3FCAABAmu8FckIAAMCGlw9yQgAAANmRGXJCAACAxTkjckIAAMAXNC1yQgAAAGouN3JCAACAVtZAckIAAMCo0EpyQgAAQJV4VHJCAACA53JeckIAAMA5bWhyQgAAwFpwcXJCAAAArWp7ckIAAICZEoVyQgAAwOsMj3JCAABA2LSYckIAAIAqr6JyQgAAwHyprHJCAABAaVG2ckIAAIC7S8ByQgAAAKjzyXJCAABA+u3TckIAAIBM6N1yQgAAgG3r5nJCAADAv+XwckIAAECsjfpyQgAAgP6HBHNCAAAA6y8Oc0IAAEA9KhhzQgAAgI8kInNCAAAAfMwrc0IAAEDOxjVzQgAAwLpuP3NCAAAADWlJc0IAAEBfY1NzQgAAAOa4XHNCAABAOLNmc0IAAMAkW3BzQgAAAHdVenNCAACAY/2Dc0IAAMC1941zQgAAAAjyl3NCAACA9Jmhc0IAAMBGlKtzQgAAQDM8tXNCAACAhTa/c0IAAMDXMMlzQgAAwPgz0nNCAAAASy7cc0IAAIA31uVzQgAAwInQ73NCAABAdnj5c0IAAIDIcgN0QgAAwBptDXRCAABABxUXdEIAAIBZDyF0QgAAAEa3KnRCAABAmLE0dEIAAIDqqz50QgAAgAuvR3RCAADAXalRdEIAAEBKUVt0QgAAgJxLZXRCAAAAifNudEIAAEDb7Xh0QgAAgC3ognRCAAAAGpCMdEIAAEBsipZ0QgAAwFgyoHRCAAAAqyyqdEIAAED9JrR0QgAAQB4qvXRCAACAcCTHdEIAAABdzNB0QgAAQK/G2nRCAADAm27kdEIAAADuaO50QgAAQEBj+HRCAADALAsCdUIAAAB/BQx1QgAAgGutFXVCAADAvacfdUIAAAAQoil1QgAAwJb3MnVCAAAA6fE8dUIAAIDVmUZ1QgAAwCeUUHVCAABAFDxadUIAAIBmNmR1QgAAwLgwbnVCAABApdh3dUIAAID30oF1QgAAAOR6i3VCAABANnWVdUIAAICIb591QgAAgKlyqHVCAADA+2yydUIAAEDoFLx1QgAAgDoPxnVCAAAAJ7fPdUIAAEB5sdl1QgAAgMur43VCAAAAuFPtdUIAAEAKTvd1QgAAwPb1AHZCAAAASfAKdkIAAECb6hR2QgAAQLztHXZCAACADugndkIAAAD7jzF2QgAAQE2KO3ZCAADAOTJFdkIAAACMLE92QgAAQN4mWXZCAADAys5idkIAAAAdyWx2QgAAgAlxdnZCAADAW2uAdkIAAACuZYp2QgAAAM9ok3ZCAABAIWOddkIAAMANC6d2QgAAAGAFsXZCAACATK26dkIAAMCep8R2QgAAAPGhznZC\",\"dtype\":\"float64\",\"shape\":[129]},\"y\":{\"__ndarray__\":\"0W4cori2B8BFChgugSgkwIY5XTlrvB5AVMLdq6fOMEBDo/gwWS0iQF1bMpG+xOs/EEV5t7vSGEBIF7tSii4OQNf+fXzX8hNA/kizqqXmBMBj8PyH0L8VQKZwctaupRNA0usbcM4E9r8Iqsv2QjQWQKMaboMP7hRA7k9ACsv38z/WV2/ckZkbwAogkcObtRTA6/UVr1GjG0CA6QPhcToKwCVWMPVtmCRALQbHYAOVBkBvejPSjo4CQLlh6P9g4R9ADPfD/klwCEC56kjrw04YQHNJD2u8HPw/L4hMy8IjBUDS3prm8nwFwIAJyZ0D1dq/U8QBRaLAD8AW2BCRW8oWwO3H5JMgsR/AgVAx61mqKkBZNvsUo6IFQOFADxuSHPQ/fwSub22wGUAMVrN7XBgVQJnUrdSkXdG/ZRbDlt/j4j9tsE4mJJgYwK2dYBKU/Pg/kGfNg6El9T/yyc3W8U/zP5/D5yqSFgRAOX9SWMeL8r9iK0ZQnWDUP8lvzOdPavM/aHiAS+2RIEAOy5Z68ZQEQF/KaT7MLBBA5NBo1H+n9T+4d3Yuh/jpP/w7dgm6+vS/Q4mUsCxPFkC2Go+aujALwNatHDBLdQ1AVnfMLRDsEUDmfHQ1Hmj7P4PirsW3Pf8/nYLUW/dlCcDp/cYonRwWQEKrf8RmZ/I/DPkmPDTg8z9qsDcMgrXrP78AyjEPcAxAuzlXsNwKCcCIeb3vhhwLQJVShXo8mAzAzTVuzg4mA0DiDbjon5f1P2J1HIf/edy/EqS8eyV1FcCgp4uZp6sWQB5Hjt0OuOS/y4PMKcQ4/D/NZWCDQzXAP2IBwVhrmui/M8u5k+w8878T8SA+M7kdwEs0MkqDxRDAcHcKhYVrHEAxeg78bAzpv0kq27hQzw7A79Ct1R/pDcB04uiymfP8P5Q8s7nfAyBA5raJZBabDEDIFyiADQv5P04rJkW5o+Q/Ii+kvMt1BEBJp1U5iMnRvww2rp7X+8S/fsLaG6q9/L9/43eL6hUTQGDFH/ai0fo/FYsJRHOD0D/hcZqVFyIQQIrv3CSTzts/Hhw+DBIvvT8tRncXKK7dP/wCAjJWE8Y/tVqzNmBw+z/1jD51bjCzv6ICL3gjURBAkyZoYUCnwz/brdoMgQYVQN83sAZS9P0/tdQOFTanE0BWR5SxEVoRwEF+6dT/4PC/bAyIbj1xyr8ztruT00LHP2AgerL30em/AsunBNFGEUDKgVCVB10JQM68vk39R/K/QwPk6NF4EsBscQJoom//P1uYs3unzR7AaCXVfq19I0DAniyFRfMSQLfxlU3s5fo/5xFxYeUhDEBflH2ar54VwNJWEhTjwRVA581qtzuF1L+p148/VxL/v+TEPxtD5gJA\",\"dtype\":\"float64\",\"shape\":[129]}},\"selected\":{\"id\":\"4177\",\"type\":\"Selection\"},\"selection_policy\":{\"id\":\"4178\",\"type\":\"UnionRenderers\"}},\"id\":\"4126\",\"type\":\"ColumnDataSource\"},{\"attributes\":{\"source\":{\"id\":\"4101\",\"type\":\"ColumnDataSource\"}},\"id\":\"4105\",\"type\":\"CDSView\"},{\"attributes\":{\"days\":[1,4,7,10,13,16,19,22,25,28]},\"id\":\"4116\",\"type\":\"DaysTicker\"},{\"attributes\":{\"data_source\":{\"id\":\"4152\",\"type\":\"ColumnDataSource\"},\"glyph\":{\"id\":\"4153\",\"type\":\"Line\"},\"hover_glyph\":null,\"muted_glyph\":null,\"nonselection_glyph\":{\"id\":\"4154\",\"type\":\"Line\"},\"selection_glyph\":null,\"view\":{\"id\":\"4156\",\"type\":\"CDSView\"}},\"id\":\"4155\",\"type\":\"GlyphRenderer\"},{\"attributes\":{},\"id\":\"4074\",\"type\":\"LinearScale\"},{\"attributes\":{},\"id\":\"4076\",\"type\":\"LinearScale\"},{\"attributes\":{\"formatter\":{\"id\":\"4108\",\"type\":\"BasicTickFormatter\"},\"ticker\":{\"id\":\"4084\",\"type\":\"BasicTicker\"}},\"id\":\"4083\",\"type\":\"LinearAxis\"},{\"attributes\":{\"callback\":null},\"id\":\"4072\",\"type\":\"DataRange1d\"},{\"attributes\":{},\"id\":\"4110\",\"type\":\"DatetimeTickFormatter\"},{\"attributes\":{\"line_color\":\"#984ea3\",\"line_width\":2,\"x\":{\"field\":\"x\"},\"y\":{\"field\":\"y\"}},\"id\":\"4153\",\"type\":\"Line\"},{\"attributes\":{\"callback\":null},\"id\":\"4070\",\"type\":\"DataRange1d\"},{\"attributes\":{},\"id\":\"4123\",\"type\":\"YearsTicker\"},{\"attributes\":{},\"id\":\"4084\",\"type\":\"BasicTicker\"},{\"attributes\":{\"label\":{\"value\":\"Bayes Actual Return\"},\"renderers\":[{\"id\":\"4183\",\"type\":\"GlyphRenderer\"}]},\"id\":\"4209\",\"type\":\"LegendItem\"},{\"attributes\":{\"callback\":null,\"data\":{\"x\":{\"__ndarray__\":\"AADA1PfocUIAAAAn8vJxQgAAAEj1+3FCAABAmu8FckIAAMCGlw9yQgAAANmRGXJCAACAxTkjckIAAMAXNC1yQgAAAGouN3JCAACAVtZAckIAAMCo0EpyQgAAQJV4VHJCAACA53JeckIAAMA5bWhyQgAAwFpwcXJCAAAArWp7ckIAAICZEoVyQgAAwOsMj3JCAABA2LSYckIAAIAqr6JyQgAAwHyprHJCAABAaVG2ckIAAIC7S8ByQgAAAKjzyXJCAABA+u3TckIAAIBM6N1yQgAAgG3r5nJCAADAv+XwckIAAECsjfpyQgAAgP6HBHNCAAAA6y8Oc0IAAEA9KhhzQgAAgI8kInNCAAAAfMwrc0IAAEDOxjVzQgAAwLpuP3NCAAAADWlJc0IAAEBfY1NzQgAAAOa4XHNCAABAOLNmc0IAAMAkW3BzQgAAAHdVenNCAACAY/2Dc0IAAMC1941zQgAAAAjyl3NCAACA9Jmhc0IAAMBGlKtzQgAAQDM8tXNCAACAhTa/c0IAAMDXMMlzQgAAwPgz0nNCAAAASy7cc0IAAIA31uVzQgAAwInQ73NCAABAdnj5c0IAAIDIcgN0QgAAwBptDXRCAABABxUXdEIAAIBZDyF0QgAAAEa3KnRCAABAmLE0dEIAAIDqqz50QgAAgAuvR3RCAADAXalRdEIAAEBKUVt0QgAAgJxLZXRCAAAAifNudEIAAEDb7Xh0QgAAgC3ognRCAAAAGpCMdEIAAEBsipZ0QgAAwFgyoHRCAAAAqyyqdEIAAED9JrR0QgAAQB4qvXRCAACAcCTHdEIAAABdzNB0QgAAQK/G2nRCAADAm27kdEIAAADuaO50QgAAQEBj+HRCAADALAsCdUIAAAB/BQx1QgAAgGutFXVCAADAvacfdUIAAAAQoil1QgAAwJb3MnVCAAAA6fE8dUIAAIDVmUZ1QgAAwCeUUHVCAABAFDxadUIAAIBmNmR1QgAAwLgwbnVCAABApdh3dUIAAID30oF1QgAAAOR6i3VCAABANnWVdUIAAICIb591QgAAgKlyqHVCAADA+2yydUIAAEDoFLx1QgAAgDoPxnVCAAAAJ7fPdUIAAEB5sdl1QgAAgMur43VCAAAAuFPtdUIAAEAKTvd1QgAAwPb1AHZCAAAASfAKdkIAAECb6hR2QgAAQLztHXZCAACADugndkIAAAD7jzF2QgAAQE2KO3ZCAADAOTJFdkIAAACMLE92QgAAQN4mWXZCAADAys5idkIAAAAdyWx2QgAAgAlxdnZCAADAW2uAdkIAAACuZYp2QgAAAM9ok3ZCAABAIWOddkIAAMANC6d2QgAAAGAFsXZCAACATK26dkIAAMCep8R2QgAAAPGhznZC\",\"dtype\":\"float64\",\"shape\":[129]},\"y\":{\"__ndarray__\":\"0+b0ojUnFMB0UIFrfwgtwE7lNROF+xRAjAmS0Ou2KUDgJP+/ge/zv8J777Ti7wfAObohNhx9EkDgIzDBP8G1PwSY3WVCRQhAEj+FhgpME8DkQFe9cBsHQBoayJmdvQJAUxn4no96CMAEzxnzJtcRQLoV2Mt27AtA+AhYf5D59L9r99DQ1ucgwKH7QpOHqBnAMmk4P6W8EkAyso42KBMawALhMSeTbiFAtmbmufDv8r+AMBWeilLBPyHXonZdLBpATNejtegR7j8vvKntavkQQLCit0Hpnc4/eMcUFQpm8T9ql0RqwCgUwLjxGvIGjwDAVo6ZqaiZFMAtrGme+IAcwPvmn/CyxiPAO6QU8YnpJ0CoRAEgfknavwBp2d19v84/fJF6XtDEFUDwP67x1WsFQPKgtDu87QLAOTfjLpgh779WA2nyMuIdwBDXt0UflbE/aIAn9fx6yL8sWyPILB/gvyJKYoKvPe4/5rsQTrLnA8DNqi6trA/rvwBoOa1SUbu/MWP5UUtuHEAOSGSDZVDsP4Gj7mbxugVAKCRNNqxdzL/OnvrfaCXmv1Uf27qKowTAFBhRI2eGEkDMekGm88EUwPZZn4qnxwFAxBiW8yxZBkCYaccRZhLJvyRECjgc4t8/PneBUuk3E8DOw7lwdHcRQDDJu4l0DOa/0PRMHChctL9d9RkivRH2v+c7mi771v4/EXztlP5vEsAes3aWycb6P/4FlFyjlxXAMIXz8yNd1z9WilSxI9fjv7SmZ0o7DwfAVMSWUMDqGMAMl66s/eYQQO5WnHpbsAbAsKWTr3UB6D+e8iGB+Cv9v/gFuFanBATAimtdnVnFAsBqx+qbYSIlwAzTPCO6vBPAuytkE2eNGEAHSnWnhYIGwD7xDeiQNxXAjvfFghdMFcDoBZFUiIHpP6QhktS6vxpA2Oisnu+S+D9A+EQ/q1q9v9Ab9ZUFruu/O0H+xYuj9D+vxg2P0J0BwK87QVkw7PG/KsyNCDK8CcCm+EEM9wwOQEozfuXq0PG/mnqcUe/B6L8SPbEee8YBQIqIj3f/i/q/7SPbvNxp978JkiNM5e/wvwaChE+acAHA4Nsl3Hh15z/DYExOKBH2v+3r4CBLVARAQIZZ3M2K9b+RzbUJLT8NQDB/voYFCNo/YKkrJpPSCkCFVcNwdzobwMZubYkjIgLArZ6TCHTfAcBbVPAyQ4rxvxV7BsjmDAbAqvNyK67xBUDVUk57Sfn1P2SlTnplgQrA/lR3fTAuGcBCrS3SEmnoP6q/Y3Eg2CHAZue5df5XIEBqpE2YHtz/PwDXcTDfOI6/2NS5TcN/+j9MGmvr0lAbwDXnJjY6ExBAC6yZm+m3AsA9j7CrlZ8JwKCgKt2xyrc/\",\"dtype\":\"float64\",\"shape\":[129]}},\"selected\":{\"id\":\"4149\",\"type\":\"Selection\"},\"selection_policy\":{\"id\":\"4150\",\"type\":\"UnionRenderers\"}},\"id\":\"4101\",\"type\":\"ColumnDataSource\"},{\"attributes\":{\"line_color\":\"#377eb8\",\"line_width\":2,\"x\":{\"field\":\"x\"},\"y\":{\"field\":\"y\"}},\"id\":\"4102\",\"type\":\"Line\"},{\"attributes\":{\"callback\":null,\"data\":{\"x\":{\"__ndarray__\":\"/Knx0k1iQMP8qfHSTWJAw/yp8dJNYkDD/Knx0k1iQMP8qfHSTWJAw/yp8dJNYkDD/Knx0k1iQMP8qfHSTWJAwwAAAGouN3JCAACAVtZAckIAAMCo0EpyQgAAQJV4VHJCAACA53JeckIAAMA5bWhyQgAAwFpwcXJCAAAArWp7ckIAAICZEoVyQgAAwOsMj3JCAABA2LSYckIAAIAqr6JyQgAAwHyprHJCAABAaVG2ckIAAIC7S8ByQgAAAKjzyXJCAABA+u3TckIAAIBM6N1yQgAAgG3r5nJCAADAv+XwckIAAECsjfpyQgAAgP6HBHNCAAAA6y8Oc0IAAEA9KhhzQgAAgI8kInNCAAAAfMwrc0IAAEDOxjVzQgAAwLpuP3NCAAAADWlJc0IAAEBfY1NzQgAAAOa4XHNCAABAOLNmc0IAAMAkW3BzQgAAAHdVenNCAACAY/2Dc0IAAMC1941zQgAAAAjyl3NCAACA9Jmhc0IAAMBGlKtzQgAAQDM8tXNCAACAhTa/c0IAAMDXMMlzQgAAwPgz0nNCAAAASy7cc0IAAIA31uVzQgAAwInQ73NCAABAdnj5c0IAAIDIcgN0QgAAwBptDXRCAABABxUXdEIAAIBZDyF0QgAAAEa3KnRCAABAmLE0dEIAAIDqqz50QgAAgAuvR3RCAADAXalRdEIAAEBKUVt0QgAAgJxLZXRCAAAAifNudEIAAEDb7Xh0QgAAgC3ognRCAAAAGpCMdEIAAEBsipZ0QgAAwFgyoHRCAAAAqyyqdEIAAED9JrR0QgAAQB4qvXRCAACAcCTHdEIAAABdzNB0QgAAQK/G2nRCAADAm27kdEIAAADuaO50QgAAQEBj+HRCAADALAsCdUIAAAB/BQx1QgAAgGutFXVCAADAvacfdUIAAAAQoil1QgAAwJb3MnVCAAAA6fE8dUIAAIDVmUZ1QgAAwCeUUHVCAABAFDxadUIAAIBmNmR1QgAAwLgwbnVCAABApdh3dUIAAID30oF1QgAAAOR6i3VCAABANnWVdUIAAICIb591QgAAgKlyqHVCAADA+2yydUIAAEDoFLx1QgAAgDoPxnVCAAAAJ7fPdUIAAEB5sdl1QgAAgMur43VCAAAAuFPtdUIAAEAKTvd1QgAAwPb1AHZCAAAASfAKdkIAAECb6hR2QgAAQLztHXZCAACADugndkIAAAD7jzF2QgAAQE2KO3ZCAADAOTJFdkIAAACMLE92QgAAQN4mWXZCAADAys5idkIAAAAdyWx2QgAAgAlxdnZCAADAW2uAdkIAAACuZYp2QgAAAM9ok3ZCAABAIWOddkIAAMANC6d2QgAAAGAFsXZCAACATK26dkIAAMCep8R2QgAAAPGhznZC\",\"dtype\":\"float64\",\"shape\":[129]},\"y\":{\"__ndarray__\":\"0SNC78DkVkDYpBwlZmBVQPq/fEpwS1dAmYMkcVDrW0Clsk4KfFVcQNoHWJHxc1xAkAAdPdW6XkDzP/ZtqmtgQHq+ONDwO2FAdjMjNUO8YEDpvhfXwXthQPYQkhKaLmJAk/RQ5/RKYUDPYLaYbRBiQJKLd1BpFWNAcY307qx8Y0BfYuZPshZiQFF6TFiraWFAXFgCIS9yYkDUwJxUeI1hQNmBy2jPRmNA0Gp6xMP4Y0CiugpTiiRkQO1wc3h4qGVAlDszGOMiZkAKuC2H7spmQKURgg/EGGdAedWoKaOrZ0DwsrjxVYNnQL3mmSRFNWdAFpMzbgXEZkC5gtPKVJBlQEB5Pfk4pmNA1MMwNnJLZkBIhW6bNU5mQE+UP253oGZAe1AFXCelZ0DfWXDissBoQAqhOPEeJ2lA2gXPoRnVaECZAyz7OmdnQAA51w1+mWhAcDUpXqStaED/+ykrz+doQJKTUhrDaGlAsvY8KBz9aECiv1fnIFlpQEaFF5PU1mlAaScA+xZ2a0BabBhiVNdrQOxDra6RE21AqwVmSgIpbUATcq3RAKttQH9KNkqtf21ACVJi6YlIb0DZGozT5GZuQL4oB7dVim9AWjxb622KcEBzA0wj7v5wQAnsgu0mW3FAI8Ia37LTcEDX6Eng9qpxQMFlpk4v6HFAU4yogcQvckBRlPClKzlyQJsnNm5E7XJACKUJyoX7cUAfiqb3kKNyQEFeNhTXB3JApNpw8o5eckCNLiBrEcRyQGgV920p6HJAHph6XOwSckAHTE8nqwtzQMigYOw73nJA7Op+Er4bc0CU3Vr48RJzQK1+R1XvlXJA7wIpd4FsckDXQtdXvlRxQKxNYf/MknBAuiYmSq6wcUDdg1Pw4tVxQAdmU3hQK3FA4RJJkSlycEBazus2UqxwQP5lgc4UIHJAdkrTV5WIckCUL1ogyPdyQE2nTu/M+XJA+ebopEhKc0AQMFLtO2VzQDBj2788cnNAazq827E+c0AZoIO0e2R0QOhemfZ1gnRABPXaot6ndEByzEdn07R1QO9iJ19mjXVAcglgzMztdUDGwLPOdRh2QOSvUzDwhXZAVTTnsJQid0C3gaAVwP92QGAM16WmCXhA6eSBfUKgeEDOpAytC5p5QIMMKBYjDnpABRGRIR/3ekDcJUgVVgZ6QKbyoQYd93lAihckJzjteUAJxIb82WB6QPEh7zqIX3pArRTOLkhwe0AoeuK+aGx7QPL9fnu9jXtACcMhG26peUCFk3exk4R6QM4d8F9zS3hAVGOUiOS6ekDeujLIYq17QCy1dSaMi3tAao8acmDGfEASY2avuLZ7QIo4M+Zj+X1A+v+nmcdBfkAWi5WvjfV9QDKExneOkH5A\",\"dtype\":\"float64\",\"shape\":[129]}},\"selected\":{\"id\":\"4234\",\"type\":\"Selection\"},\"selection_policy\":{\"id\":\"4235\",\"type\":\"UnionRenderers\"}},\"id\":\"4180\",\"type\":\"ColumnDataSource\"},{\"attributes\":{\"label\":{\"value\":\"LR Actual Return\"},\"renderers\":[{\"id\":\"4129\",\"type\":\"GlyphRenderer\"}]},\"id\":\"4151\",\"type\":\"LegendItem\"},{\"attributes\":{\"source\":{\"id\":\"4152\",\"type\":\"ColumnDataSource\"}},\"id\":\"4156\",\"type\":\"CDSView\"},{\"attributes\":{\"base\":60,\"mantissas\":[1,2,5,10,15,20,30],\"max_interval\":1800000.0,\"min_interval\":1000.0,\"num_minor_ticks\":0},\"id\":\"4113\",\"type\":\"AdaptiveTicker\"},{\"attributes\":{\"months\":[0,1,2,3,4,5,6,7,8,9,10,11]},\"id\":\"4119\",\"type\":\"MonthsTicker\"},{\"attributes\":{\"overlay\":{\"id\":\"4111\",\"type\":\"BoxAnnotation\"}},\"id\":\"4090\",\"type\":\"BoxZoomTool\"},{\"attributes\":{\"data_source\":{\"id\":\"4180\",\"type\":\"ColumnDataSource\"},\"glyph\":{\"id\":\"4181\",\"type\":\"Line\"},\"hover_glyph\":null,\"muted_glyph\":null,\"nonselection_glyph\":{\"id\":\"4182\",\"type\":\"Line\"},\"selection_glyph\":null,\"view\":{\"id\":\"4184\",\"type\":\"CDSView\"}},\"id\":\"4183\",\"type\":\"GlyphRenderer\"}],\"root_ids\":[\"4067\"]},\"title\":\"Bokeh Application\",\"version\":\"1.3.4\"}};\n",
       "  var render_items = [{\"docid\":\"a0a80e8e-a0ad-4efe-a4e2-f38988026348\",\"roots\":{\"4067\":\"81d8b6a0-8f4f-42b7-bff1-a4768edd6606\"}}];\n",
       "  root.Bokeh.embed.embed_items_notebook(docs_json, render_items);\n",
       "\n",
       "  }\n",
       "  if (root.Bokeh !== undefined) {\n",
       "    embed_document(root);\n",
       "  } else {\n",
       "    var attempts = 0;\n",
       "    var timer = setInterval(function(root) {\n",
       "      if (root.Bokeh !== undefined) {\n",
       "        embed_document(root);\n",
       "        clearInterval(timer);\n",
       "      }\n",
       "      attempts++;\n",
       "      if (attempts > 100) {\n",
       "        console.log(\"Bokeh: ERROR: Unable to run BokehJS code because BokehJS library is missing\");\n",
       "        clearInterval(timer);\n",
       "      }\n",
       "    }, 10, root)\n",
       "  }\n",
       "})(window);"
      ],
      "application/vnd.bokehjs_exec.v0+json": ""
     },
     "metadata": {
      "application/vnd.bokehjs_exec.v0+json": {
       "id": "4067"
      }
     },
     "output_type": "display_data"
    }
   ],
   "source": [
    "#Return analysis between predicted return weights and Index\n",
    "colors = palettes.all_palettes['Set1'][5]\n",
    "p = figure(title=\"Return Comparison\", toolbar_location=None, x_axis_type='datetime')\n",
    "\n",
    "#p.line(x=dfBmk[dfEstLR.index.min():].index, y=np.cumprod(1+dfBmk[dfEstLR.index.min():].RETURN/100)*100, color=colors[0], legend='R1000', line_width=2)\n",
    "p.line(x=dfDifLR.index, y=dfDifLR.Rtn,  color=colors[1],legend='LR Expected Return', line_width=2)\n",
    "p.line(x=dfActLR.index, y=dfActLR.Rtn,  color=colors[2],legend='LR Actual Return', line_width=2)\n",
    "p.line(x=dfEstB.index, y=np.cumprod(1+dfEstB.Rtn/100)*100,  color=colors[3],legend='Bayes Expected Return', line_width=2)\n",
    "p.line(x=dfActB.index, y=np.cumprod(1+dfActB.Rtn/100)*100,  color=colors[4],legend='Bayes Actual Return', line_width=2)\n",
    "p.legend.location = \"top_left\"\n",
    "export_png(p, filename=\"plot.png\")\n",
    "show(p)"
   ]
  },
  {
   "cell_type": "code",
   "execution_count": 55,
   "metadata": {},
   "outputs": [
    {
     "data": {
      "text/html": [
       "\n",
       "\n",
       "\n",
       "\n",
       "\n",
       "\n",
       "  <div class=\"bk-root\" id=\"dda369d7-d6a6-4429-a207-c76c6ab17851\" data-root-id=\"4837\"></div>\n"
      ]
     },
     "metadata": {},
     "output_type": "display_data"
    },
    {
     "data": {
      "application/javascript": [
       "(function(root) {\n",
       "  function embed_document(root) {\n",
       "    \n",
       "  var docs_json = {\"bb2d84b6-17a2-451a-9120-5f52393855e0\":{\"roots\":{\"references\":[{\"attributes\":{\"below\":[{\"id\":\"4848\",\"type\":\"DatetimeAxis\"}],\"center\":[{\"id\":\"4852\",\"type\":\"Grid\"},{\"id\":\"4857\",\"type\":\"Grid\"},{\"id\":\"4928\",\"type\":\"Legend\"}],\"left\":[{\"id\":\"4853\",\"type\":\"LinearAxis\"}],\"renderers\":[{\"id\":\"4908\",\"type\":\"GlyphRenderer\"},{\"id\":\"4933\",\"type\":\"GlyphRenderer\"}],\"title\":{\"id\":\"4838\",\"type\":\"Title\"},\"toolbar\":{\"id\":\"4864\",\"type\":\"Toolbar\"},\"toolbar_location\":null,\"x_range\":{\"id\":\"4840\",\"type\":\"DataRange1d\"},\"x_scale\":{\"id\":\"4844\",\"type\":\"LinearScale\"},\"y_range\":{\"id\":\"4842\",\"type\":\"DataRange1d\"},\"y_scale\":{\"id\":\"4846\",\"type\":\"LinearScale\"}},\"id\":\"4837\",\"subtype\":\"Figure\",\"type\":\"Plot\"},{\"attributes\":{},\"id\":\"4863\",\"type\":\"HelpTool\"},{\"attributes\":{},\"id\":\"4844\",\"type\":\"LinearScale\"},{\"attributes\":{\"callback\":null},\"id\":\"4842\",\"type\":\"DataRange1d\"},{\"attributes\":{\"dimension\":1,\"ticker\":{\"id\":\"4854\",\"type\":\"BasicTicker\"}},\"id\":\"4857\",\"type\":\"Grid\"},{\"attributes\":{\"num_minor_ticks\":5,\"tickers\":[{\"id\":\"4916\",\"type\":\"AdaptiveTicker\"},{\"id\":\"4917\",\"type\":\"AdaptiveTicker\"},{\"id\":\"4918\",\"type\":\"AdaptiveTicker\"},{\"id\":\"4919\",\"type\":\"DaysTicker\"},{\"id\":\"4920\",\"type\":\"DaysTicker\"},{\"id\":\"4921\",\"type\":\"DaysTicker\"},{\"id\":\"4922\",\"type\":\"DaysTicker\"},{\"id\":\"4923\",\"type\":\"MonthsTicker\"},{\"id\":\"4924\",\"type\":\"MonthsTicker\"},{\"id\":\"4925\",\"type\":\"MonthsTicker\"},{\"id\":\"4926\",\"type\":\"MonthsTicker\"},{\"id\":\"4927\",\"type\":\"YearsTicker\"}]},\"id\":\"4849\",\"type\":\"DatetimeTicker\"},{\"attributes\":{\"line_alpha\":0.1,\"line_color\":\"#1f77b4\",\"line_width\":2,\"x\":{\"field\":\"x\"},\"y\":{\"field\":\"y\"}},\"id\":\"4932\",\"type\":\"Line\"},{\"attributes\":{\"base\":24,\"mantissas\":[1,2,4,6,8,12],\"max_interval\":43200000.0,\"min_interval\":3600000.0,\"num_minor_ticks\":0},\"id\":\"4918\",\"type\":\"AdaptiveTicker\"},{\"attributes\":{\"overlay\":{\"id\":\"4915\",\"type\":\"BoxAnnotation\"}},\"id\":\"4860\",\"type\":\"BoxZoomTool\"},{\"attributes\":{\"data_source\":{\"id\":\"4905\",\"type\":\"ColumnDataSource\"},\"glyph\":{\"id\":\"4906\",\"type\":\"Line\"},\"hover_glyph\":null,\"muted_glyph\":null,\"nonselection_glyph\":{\"id\":\"4907\",\"type\":\"Line\"},\"selection_glyph\":null,\"view\":{\"id\":\"4909\",\"type\":\"CDSView\"}},\"id\":\"4908\",\"type\":\"GlyphRenderer\"},{\"attributes\":{\"formatter\":{\"id\":\"4912\",\"type\":\"BasicTickFormatter\"},\"ticker\":{\"id\":\"4854\",\"type\":\"BasicTicker\"}},\"id\":\"4853\",\"type\":\"LinearAxis\"},{\"attributes\":{\"days\":[1,8,15,22]},\"id\":\"4921\",\"type\":\"DaysTicker\"},{\"attributes\":{},\"id\":\"4854\",\"type\":\"BasicTicker\"},{\"attributes\":{\"source\":{\"id\":\"4930\",\"type\":\"ColumnDataSource\"}},\"id\":\"4934\",\"type\":\"CDSView\"},{\"attributes\":{\"active_drag\":\"auto\",\"active_inspect\":\"auto\",\"active_multi\":null,\"active_scroll\":\"auto\",\"active_tap\":\"auto\",\"tools\":[{\"id\":\"4858\",\"type\":\"PanTool\"},{\"id\":\"4859\",\"type\":\"WheelZoomTool\"},{\"id\":\"4860\",\"type\":\"BoxZoomTool\"},{\"id\":\"4861\",\"type\":\"SaveTool\"},{\"id\":\"4862\",\"type\":\"ResetTool\"},{\"id\":\"4863\",\"type\":\"HelpTool\"}]},\"id\":\"4864\",\"type\":\"Toolbar\"},{\"attributes\":{\"formatter\":{\"id\":\"4914\",\"type\":\"DatetimeTickFormatter\"},\"ticker\":{\"id\":\"4849\",\"type\":\"DatetimeTicker\"}},\"id\":\"4848\",\"type\":\"DatetimeAxis\"},{\"attributes\":{},\"id\":\"4914\",\"type\":\"DatetimeTickFormatter\"},{\"attributes\":{},\"id\":\"4861\",\"type\":\"SaveTool\"},{\"attributes\":{},\"id\":\"4862\",\"type\":\"ResetTool\"},{\"attributes\":{},\"id\":\"4954\",\"type\":\"UnionRenderers\"},{\"attributes\":{\"ticker\":{\"id\":\"4849\",\"type\":\"DatetimeTicker\"}},\"id\":\"4852\",\"type\":\"Grid\"},{\"attributes\":{},\"id\":\"4953\",\"type\":\"Selection\"},{\"attributes\":{},\"id\":\"5187\",\"type\":\"UnionRenderers\"},{\"attributes\":{\"line_color\":\"#377eb8\",\"line_width\":2,\"x\":{\"field\":\"x\"},\"y\":{\"field\":\"y\"}},\"id\":\"4906\",\"type\":\"Line\"},{\"attributes\":{\"line_alpha\":0.1,\"line_color\":\"#1f77b4\",\"line_width\":2,\"x\":{\"field\":\"x\"},\"y\":{\"field\":\"y\"}},\"id\":\"4907\",\"type\":\"Line\"},{\"attributes\":{\"months\":[0,4,8]},\"id\":\"4925\",\"type\":\"MonthsTicker\"},{\"attributes\":{},\"id\":\"4912\",\"type\":\"BasicTickFormatter\"},{\"attributes\":{\"label\":{\"value\":\"LR Error\"},\"renderers\":[{\"id\":\"4933\",\"type\":\"GlyphRenderer\"}]},\"id\":\"4955\",\"type\":\"LegendItem\"},{\"attributes\":{},\"id\":\"4927\",\"type\":\"YearsTicker\"},{\"attributes\":{\"source\":{\"id\":\"4905\",\"type\":\"ColumnDataSource\"}},\"id\":\"4909\",\"type\":\"CDSView\"},{\"attributes\":{\"callback\":null,\"data\":{\"x\":{\"__ndarray__\":\"/Knx0k1iQMP8qfHSTWJAw/yp8dJNYkDD/Knx0k1iQMP8qfHSTWJAw/yp8dJNYkDD/Knx0k1iQMP8qfHSTWJAwwAAAGouN3JCAACAVtZAckIAAMCo0EpyQgAAQJV4VHJCAACA53JeckIAAMA5bWhyQgAAwFpwcXJCAAAArWp7ckIAAICZEoVyQgAAwOsMj3JCAABA2LSYckIAAIAqr6JyQgAAwHyprHJCAABAaVG2ckIAAIC7S8ByQgAAAKjzyXJCAABA+u3TckIAAIBM6N1yQgAAgG3r5nJCAADAv+XwckIAAECsjfpyQgAAgP6HBHNCAAAA6y8Oc0IAAEA9KhhzQgAAgI8kInNCAAAAfMwrc0IAAEDOxjVzQgAAwLpuP3NCAAAADWlJc0IAAEBfY1NzQgAAAOa4XHNCAABAOLNmc0IAAMAkW3BzQgAAAHdVenNCAACAY/2Dc0IAAMC1941zQgAAAAjyl3NCAACA9Jmhc0IAAMBGlKtzQgAAQDM8tXNCAACAhTa/c0IAAMDXMMlzQgAAwPgz0nNCAAAASy7cc0IAAIA31uVzQgAAwInQ73NCAABAdnj5c0IAAIDIcgN0QgAAwBptDXRCAABABxUXdEIAAIBZDyF0QgAAAEa3KnRCAABAmLE0dEIAAIDqqz50QgAAgAuvR3RCAADAXalRdEIAAEBKUVt0QgAAgJxLZXRCAAAAifNudEIAAEDb7Xh0QgAAgC3ognRCAAAAGpCMdEIAAEBsipZ0QgAAwFgyoHRCAAAAqyyqdEIAAED9JrR0QgAAQB4qvXRCAACAcCTHdEIAAABdzNB0QgAAQK/G2nRCAADAm27kdEIAAADuaO50QgAAQEBj+HRCAADALAsCdUIAAAB/BQx1QgAAgGutFXVCAADAvacfdUIAAAAQoil1QgAAwJb3MnVCAAAA6fE8dUIAAIDVmUZ1QgAAwCeUUHVCAABAFDxadUIAAIBmNmR1QgAAwLgwbnVCAABApdh3dUIAAID30oF1QgAAAOR6i3VCAABANnWVdUIAAICIb591QgAAgKlyqHVCAADA+2yydUIAAEDoFLx1QgAAgDoPxnVCAAAAJ7fPdUIAAEB5sdl1QgAAgMur43VCAAAAuFPtdUIAAEAKTvd1QgAAwPb1AHZCAAAASfAKdkIAAECb6hR2QgAAQLztHXZCAACADugndkIAAAD7jzF2QgAAQE2KO3ZCAADAOTJFdkIAAACMLE92QgAAQN4mWXZCAADAys5idkIAAAAdyWx2QgAAgAlxdnZCAADAW2uAdkIAAACuZYp2QgAAAM9ok3ZCAABAIWOddkIAAMANC6d2QgAAAGAFsXZCAACATK26dkIAAMCep8R2QgAAAPGhznZC\",\"dtype\":\"float64\",\"shape\":[129]},\"y\":{\"__ndarray__\":\"j59aDc2NVkBM3oHGS3xUQO6zi6PADlZAmA5d2sTJWUAjcYIQiApYQPB5PoxCgVdAY9TE3d8gWUCsH/AiwBxaQG7HjFzt8lpAcLNRavu3WUAg8pJOz5daQHm3FLmKHltAxTwFgGtUWUDskKIilE1aQG4/PyZvcVtA7DXQeTtlW0AGSBOxeARZQNmZDHOO8VdATs5OT9gPWUB0VuS4PWNXQJXGX6PFfVlAhDtmxZOkWUDC87G6TYVZQOEwibqGQFtAPDLfsexUW0AnzQCRoe5bQFLD537AGVxA1lXrD6WPXEBUrDYdrvZbQN11EcrWaFtAWLmsaHbHWkAPZ6oZWjNZQFcz5U1uvFZAr1S4n+KbWUBehSS5oN1YQDPFXP98GFlAmTOjZWsPWkC1TfPaiMZaQEVb+Qrx4VpApm8RWzJQWkBq3YT2raJYQEBnQXIQ2llArfo4gEiiWUBspLsaW6hZQIwkIe8P9FlAmHhEEW9BWUBj01vahoFZQFwiaDmBw1lA74gaMNsvW0BTBqgxjixbQNo68exiK1xASnYalRPiW0Cy0zGE6hxcQBglTBbqpVtAfmZyqiUnXUBSH/wnzexbQHr9slYmvlxABM0zuhfAXUDNelqlsi5eQF/mDDgTgV5AO8EqV+wxXUAi5aHD1G5eQDSnfk6VdV5Ac7blGwSsXkDEWJGrC2JeQMQXAdXWLF9A1JB7gEw6XUBNl+WXb+5dQAWAHbQ+mFxA04i/MprUXEDNUTu8AAZdQFJZsf22qFxA1lWFxmQ/W0Brakjk6GRcQA40sgDqnVtAfLzWKBfRW0ADNnA4hmdbQG2AQX7bbVpAitYgjfj1WUCUppGoM+NXQOjiT94YslZAxTixtGEkWEDlErdT+dRXQD6wPHx6ulZAl2DTk5x6VUCHm1Rc47xVQAdyto/7bVdA14c23ZN9V0Bu/SZh2r9XQCCuqq1Xg1dA8Uk9EjG5V0DP3Eq7N3tXQMCNeFxeYldAdR2XK83uVkBxx2YcDR1YQOQfc+Hew1dAtTJSC/PBV0BfETkKyaBYQAvc000zD1hAaSBUxl8tWEBFveg3IyJYQMoBCULpOVhAyoUZqayzWEBZMtjJtlRYQOowfg7aLllAn0JcvcCPWUB97PTqXlpaQJPQhjHzgVpAmIf20yQpW0DC21BLNKFZQHZUbxUjY1lAwQ1IfNcVWUAuH1BcX1VZQBLJZ/5H1lhAzgxek8WHWUBibRAtJjZZQFRxMZQ97FhAkoxy2IXxVkAPecgjvYxXQDXjNpLSUlVA4Vke5wpFV0AH4Tc6s51XQOx90TwfM1dA5ogWih/WV0B/KToUcbFWQPWomMKGWFhATWsy/0M4WEBaO57qQM9XQNLljAdz/1dA\",\"dtype\":\"float64\",\"shape\":[129]}},\"selected\":{\"id\":\"4953\",\"type\":\"Selection\"},\"selection_policy\":{\"id\":\"4954\",\"type\":\"UnionRenderers\"}},\"id\":\"4905\",\"type\":\"ColumnDataSource\"},{\"attributes\":{},\"id\":\"4858\",\"type\":\"PanTool\"},{\"attributes\":{\"line_color\":\"#4daf4a\",\"line_width\":2,\"x\":{\"field\":\"x\"},\"y\":{\"field\":\"y\"}},\"id\":\"4931\",\"type\":\"Line\"},{\"attributes\":{\"days\":[1,2,3,4,5,6,7,8,9,10,11,12,13,14,15,16,17,18,19,20,21,22,23,24,25,26,27,28,29,30,31]},\"id\":\"4919\",\"type\":\"DaysTicker\"},{\"attributes\":{\"data_source\":{\"id\":\"4930\",\"type\":\"ColumnDataSource\"},\"glyph\":{\"id\":\"4931\",\"type\":\"Line\"},\"hover_glyph\":null,\"muted_glyph\":null,\"nonselection_glyph\":{\"id\":\"4932\",\"type\":\"Line\"},\"selection_glyph\":null,\"view\":{\"id\":\"4934\",\"type\":\"CDSView\"}},\"id\":\"4933\",\"type\":\"GlyphRenderer\"},{\"attributes\":{\"callback\":null},\"id\":\"4840\",\"type\":\"DataRange1d\"},{\"attributes\":{},\"id\":\"4859\",\"type\":\"WheelZoomTool\"},{\"attributes\":{\"mantissas\":[1,2,5],\"max_interval\":500.0,\"num_minor_ticks\":0},\"id\":\"4916\",\"type\":\"AdaptiveTicker\"},{\"attributes\":{},\"id\":\"4846\",\"type\":\"LinearScale\"},{\"attributes\":{\"days\":[1,4,7,10,13,16,19,22,25,28]},\"id\":\"4920\",\"type\":\"DaysTicker\"},{\"attributes\":{\"months\":[0,2,4,6,8,10]},\"id\":\"4924\",\"type\":\"MonthsTicker\"},{\"attributes\":{\"base\":60,\"mantissas\":[1,2,5,10,15,20,30],\"max_interval\":1800000.0,\"min_interval\":1000.0,\"num_minor_ticks\":0},\"id\":\"4917\",\"type\":\"AdaptiveTicker\"},{\"attributes\":{\"months\":[0,1,2,3,4,5,6,7,8,9,10,11]},\"id\":\"4923\",\"type\":\"MonthsTicker\"},{\"attributes\":{\"items\":[{\"id\":\"4929\",\"type\":\"LegendItem\"},{\"id\":\"4955\",\"type\":\"LegendItem\"}],\"location\":\"top_left\"},\"id\":\"4928\",\"type\":\"Legend\"},{\"attributes\":{\"bottom_units\":\"screen\",\"fill_alpha\":{\"value\":0.5},\"fill_color\":{\"value\":\"lightgrey\"},\"left_units\":\"screen\",\"level\":\"overlay\",\"line_alpha\":{\"value\":1.0},\"line_color\":{\"value\":\"black\"},\"line_dash\":[4,4],\"line_width\":{\"value\":2},\"render_mode\":\"css\",\"right_units\":\"screen\",\"top_units\":\"screen\"},\"id\":\"4915\",\"type\":\"BoxAnnotation\"},{\"attributes\":{\"days\":[1,15]},\"id\":\"4922\",\"type\":\"DaysTicker\"},{\"attributes\":{},\"id\":\"5186\",\"type\":\"Selection\"},{\"attributes\":{\"label\":{\"value\":\"Bayes Error\"},\"renderers\":[{\"id\":\"4908\",\"type\":\"GlyphRenderer\"}]},\"id\":\"4929\",\"type\":\"LegendItem\"},{\"attributes\":{\"callback\":null,\"data\":{\"x\":{\"__ndarray__\":\"AADA1PfocUIAAAAn8vJxQgAAAEj1+3FCAABAmu8FckIAAMCGlw9yQgAAANmRGXJCAACAxTkjckIAAMAXNC1yQgAAAGouN3JCAACAVtZAckIAAMCo0EpyQgAAQJV4VHJCAACA53JeckIAAMA5bWhyQgAAwFpwcXJCAAAArWp7ckIAAICZEoVyQgAAwOsMj3JCAABA2LSYckIAAIAqr6JyQgAAwHyprHJCAABAaVG2ckIAAIC7S8ByQgAAAKjzyXJCAABA+u3TckIAAIBM6N1yQgAAgG3r5nJCAADAv+XwckIAAECsjfpyQgAAgP6HBHNCAAAA6y8Oc0IAAEA9KhhzQgAAgI8kInNCAAAAfMwrc0IAAEDOxjVzQgAAwLpuP3NCAAAADWlJc0IAAEBfY1NzQgAAAOa4XHNCAABAOLNmc0IAAMAkW3BzQgAAAHdVenNCAACAY/2Dc0IAAMC1941zQgAAAAjyl3NCAACA9Jmhc0IAAMBGlKtzQgAAQDM8tXNCAACAhTa/c0IAAMDXMMlzQgAAwPgz0nNCAAAASy7cc0IAAIA31uVzQgAAwInQ73NCAABAdnj5c0IAAIDIcgN0QgAAwBptDXRCAABABxUXdEIAAIBZDyF0QgAAAEa3KnRCAABAmLE0dEIAAIDqqz50QgAAgAuvR3RCAADAXalRdEIAAEBKUVt0QgAAgJxLZXRCAAAAifNudEIAAEDb7Xh0QgAAgC3ognRCAAAAGpCMdEIAAEBsipZ0QgAAwFgyoHRCAAAAqyyqdEIAAED9JrR0QgAAQB4qvXRCAACAcCTHdEIAAABdzNB0QgAAQK/G2nRCAADAm27kdEIAAADuaO50QgAAQEBj+HRCAADALAsCdUIAAAB/BQx1QgAAgGutFXVCAADAvacfdUIAAAAQoil1QgAAwJb3MnVCAAAA6fE8dUIAAIDVmUZ1QgAAwCeUUHVCAABAFDxadUIAAIBmNmR1QgAAwLgwbnVCAABApdh3dUIAAID30oF1QgAAAOR6i3VCAABANnWVdUIAAICIb591QgAAgKlyqHVCAADA+2yydUIAAEDoFLx1QgAAgDoPxnVCAAAAJ7fPdUIAAEB5sdl1QgAAgMur43VCAAAAuFPtdUIAAEAKTvd1QgAAwPb1AHZCAAAASfAKdkIAAECb6hR2QgAAQLztHXZCAACADugndkIAAAD7jzF2QgAAQE2KO3ZCAADAOTJFdkIAAACMLE92QgAAQN4mWXZCAADAys5idkIAAAAdyWx2QgAAgAlxdnZCAADAW2uAdkIAAACuZYp2QgAAAM9ok3ZCAABAIWOddkIAAMANC6d2QgAAAGAFsXZCAACATK26dkIAAMCep8R2QgAAAPGhznZC\",\"dtype\":\"float64\",\"shape\":[129]},\"y\":{\"__ndarray__\":\"k7HQpYy9V0Bzz2vJS0tUQH9NQmDSW1VA6KAEk9UaWEDYYtWD8s1XQOArB8CbF1dATOYyfNooWECUOhf+Gy5YQOOWpu/n6VhAUZs2JDi2V0B/fsAqjWVYQHdaZ9zb91hATqXqJEc0WECyxwqBo0hZQMsRB0mQKlpAPbH8DcDSWUAsGtK89KNXQFedeJu/H1ZAfBJbFw0pV0AL7tS4jaZVQOsWygWkiVdATZBSjlJCV0COaR9sYUpXQAC+G72E0FhAFWDfVTYMWUAwT8+vURxaQNUYy71OLFpAuSA24yp1WkAT2ZxM0B9ZQHI5KoKvmlhAzKYVtkxWV0A5xgD7kqxVQMDlVi3th1NAF9PBZbndVUDxl/57u8ZVQP5PLrkf1FVAeI4bqT0EV0DHC//CA6JXQMR9sszdEldA0QtQwmbZVkCyFQYMZiRVQLSFsq4dKFVAgwsD6MEdVUBjyHvfhQJVQAMnKgJaNVVADBg5GUOuVED99j+PfYFUQJOPbYXje1RANM0p75vwVUBjKvg/TiJWQEGfQ+s3vFZAIGzWAFKvVkBBFJk6IYdWQF8IjaNY8lVAD9ndyov2VkBbMVoEfMVVQDOQc7xaQVZAX5BMMYPgVkAYTqiECtVWQPGCcd8o8lZAUvWJAu7XVUBeC8ApHMxWQPk60eTlo1ZAgf+H2UmfVkB8BcdOaE9WQGj3eHd+vVZAKKYB6yixVUD0UN3/Fw5WQN7sexdQ3VRA94st1c/wVEA4aFD8ks9UQA3e+poCNlRAAZrCS7XzUkBZuQCKuMBTQOzmqHxOMVNA+gTgRipWU0Cv8bx46ftSQMHzqsNNglJAHMcEQSATUkCKnrOsKypQQC1Ijh32u05Aj6h3sHNPUEBxmkOL7rNPQJ+atP5wBU5ACnwOqj5sTEC+CzmwPaZMQEZmivCykE5AXE5xXeAIT0BiL0g2xP9OQKyDJGUfu05AhgvTVZogT0BWoLUuIXFOQPxvoHbVGU5AcO4ECvIhTUD9gWQuFzpOQCOufi/t401AG1yRvrmoTUDHMILvbVFOQAW7Lkan0E1A0Jx3GvZgTUBqYdjJWBFNQHGLYHcgb0xAcFvTRn2kTECtQu1IXD9MQFZWBfAe90xApDPA2UiTTECpC/lguJ5NQHXEbOmPvU1ANuOEx9S8TkByzcs3MaVMQH/i8Bj5/ktA+2Dn6NpeS0BUoefFChJLQHxiWIQHU0pAatBzqOELS0AHkMSr+GpLQERQyoprgkpAIRk5KzXXSECd4buntwdJQNbjV1QDzEZA90vGi+yoSED7b80loSZJQKgWPemtJUlAz82vt0yQSUAgQyThZNFHQNFWfElvxkhATCfsywgySEDRAkDupGtHQIZgpGY3cUdA\",\"dtype\":\"float64\",\"shape\":[129]}},\"selected\":{\"id\":\"5186\",\"type\":\"Selection\"},\"selection_policy\":{\"id\":\"5187\",\"type\":\"UnionRenderers\"}},\"id\":\"4930\",\"type\":\"ColumnDataSource\"},{\"attributes\":{\"months\":[0,6]},\"id\":\"4926\",\"type\":\"MonthsTicker\"},{\"attributes\":{\"text\":\"LR Error\"},\"id\":\"4838\",\"type\":\"Title\"}],\"root_ids\":[\"4837\"]},\"title\":\"Bokeh Application\",\"version\":\"1.3.4\"}};\n",
       "  var render_items = [{\"docid\":\"bb2d84b6-17a2-451a-9120-5f52393855e0\",\"roots\":{\"4837\":\"dda369d7-d6a6-4429-a207-c76c6ab17851\"}}];\n",
       "  root.Bokeh.embed.embed_items_notebook(docs_json, render_items);\n",
       "\n",
       "  }\n",
       "  if (root.Bokeh !== undefined) {\n",
       "    embed_document(root);\n",
       "  } else {\n",
       "    var attempts = 0;\n",
       "    var timer = setInterval(function(root) {\n",
       "      if (root.Bokeh !== undefined) {\n",
       "        embed_document(root);\n",
       "        clearInterval(timer);\n",
       "      }\n",
       "      attempts++;\n",
       "      if (attempts > 100) {\n",
       "        console.log(\"Bokeh: ERROR: Unable to run BokehJS code because BokehJS library is missing\");\n",
       "        clearInterval(timer);\n",
       "      }\n",
       "    }, 10, root)\n",
       "  }\n",
       "})(window);"
      ],
      "application/vnd.bokehjs_exec.v0+json": ""
     },
     "metadata": {
      "application/vnd.bokehjs_exec.v0+json": {
       "id": "4837"
      }
     },
     "output_type": "display_data"
    }
   ],
   "source": [
    "#Return analysis between predicted return weights and Index\n",
    "colors = palettes.all_palettes['Set1'][5]\n",
    "p = figure(title=\"LR Error\", toolbar_location=None, x_axis_type='datetime')\n",
    "pBC = figure(title=\"Bayes Error\", toolbar_location=None, x_axis_type='datetime')\n",
    "p.line(x=dfDifB.index, y=np.cumprod(1+dfDifB.Rtn/100)*100,  color=colors[1],legend='Bayes Error', line_width=2)\n",
    "p.line(x=dfDifLR.index, y=np.cumprod(1+dfDifLR.Rtn/100)*100,  color=colors[2],legend='LR Error', line_width=2)\n",
    "\n",
    "p.legend.location = \"top_left\"\n",
    "show(p)"
   ]
  },
  {
   "cell_type": "code",
   "execution_count": 56,
   "metadata": {},
   "outputs": [
    {
     "data": {
      "text/plain": [
       "Rtn    4.41552\n",
       "dtype: float64"
      ]
     },
     "execution_count": 56,
     "metadata": {},
     "output_type": "execute_result"
    }
   ],
   "source": [
    "dfDifB.std()"
   ]
  },
  {
   "cell_type": "code",
   "execution_count": 57,
   "metadata": {},
   "outputs": [
    {
     "data": {
      "text/html": [
       "\n",
       "\n",
       "\n",
       "\n",
       "\n",
       "\n",
       "  <div class=\"bk-root\" id=\"ec2847ac-4406-4106-b783-6f2372ca2c6c\" data-root-id=\"5320\"></div>\n"
      ]
     },
     "metadata": {},
     "output_type": "display_data"
    },
    {
     "data": {
      "application/javascript": [
       "(function(root) {\n",
       "  function embed_document(root) {\n",
       "    \n",
       "  var docs_json = {\"8976fc94-721b-407c-80c2-7a963fee1478\":{\"roots\":{\"references\":[{\"attributes\":{\"below\":[{\"id\":\"5331\",\"type\":\"CategoricalAxis\"}],\"center\":[{\"id\":\"5334\",\"type\":\"Grid\"},{\"id\":\"5339\",\"type\":\"Grid\"}],\"left\":[{\"id\":\"5335\",\"type\":\"LinearAxis\"}],\"renderers\":[{\"id\":\"5356\",\"type\":\"GlyphRenderer\"}],\"title\":{\"id\":\"5321\",\"type\":\"Title\"},\"toolbar\":{\"id\":\"5346\",\"type\":\"Toolbar\"},\"toolbar_location\":null,\"x_range\":{\"id\":\"5323\",\"type\":\"FactorRange\"},\"x_scale\":{\"id\":\"5327\",\"type\":\"CategoricalScale\"},\"y_range\":{\"id\":\"5325\",\"type\":\"DataRange1d\"},\"y_scale\":{\"id\":\"5329\",\"type\":\"LinearScale\"}},\"id\":\"5320\",\"subtype\":\"Figure\",\"type\":\"Plot\"},{\"attributes\":{},\"id\":\"5340\",\"type\":\"PanTool\"},{\"attributes\":{},\"id\":\"5343\",\"type\":\"SaveTool\"},{\"attributes\":{\"formatter\":{\"id\":\"5592\",\"type\":\"BasicTickFormatter\"},\"ticker\":{\"id\":\"5336\",\"type\":\"BasicTicker\"}},\"id\":\"5335\",\"type\":\"LinearAxis\"},{\"attributes\":{\"callback\":null},\"id\":\"5325\",\"type\":\"DataRange1d\"},{\"attributes\":{\"callback\":null,\"factors\":[\"000RFJ-E\",\"000C49-E\",\"002F40-E\",\"000J0M-E\",\"0015Q5-E\",\"000LNJ-E\",\"000Y86-E\",\"0016CD-E\",\"000XNY-E\",\"000SVP-E\",\"000Q29-E\",\"06LJVN-E\",\"000WB6-E\",\"000CRY-E\",\"000QW5-E\",\"000RH4-E\",\"0GMHQ0-E\",\"000VTN-E\",\"000KLW-E\",\"000RH5-E\",\"0H2YMH-E\",\"069J8N-E\",\"0017BJ-E\",\"000LV7-E\",\"003DZ1-E\",\"000RBW-E\",\"0014KB-E\",\"000KZV-E\",\"000Y6D-E\",\"000DW8-E\",\"000LPQ-E\",\"000BJB-E\",\"000RC9-E\",\"001VRS-E\",\"0015KG-E\",\"000DRP-E\",\"0030MN-E\",\"000LR9-E\",\"000VNZ-E\",\"000V67-E\",\"0011QQ-E\",\"00172J-E\",\"0010TD-E\",\"000CGK-E\",\"000DSS-E\",\"001W7N-E\",\"000D63-E\",\"002957-E\",\"000JBG-E\"]},\"id\":\"5323\",\"type\":\"FactorRange\"},{\"attributes\":{},\"id\":\"5594\",\"type\":\"CategoricalTickFormatter\"},{\"attributes\":{\"data_source\":{\"id\":\"5353\",\"type\":\"ColumnDataSource\"},\"glyph\":{\"id\":\"5354\",\"type\":\"VBar\"},\"hover_glyph\":null,\"muted_glyph\":null,\"nonselection_glyph\":{\"id\":\"5355\",\"type\":\"VBar\"},\"selection_glyph\":null,\"view\":{\"id\":\"5357\",\"type\":\"CDSView\"}},\"id\":\"5356\",\"type\":\"GlyphRenderer\"},{\"attributes\":{\"bottom_units\":\"screen\",\"fill_alpha\":{\"value\":0.5},\"fill_color\":{\"value\":\"lightgrey\"},\"left_units\":\"screen\",\"level\":\"overlay\",\"line_alpha\":{\"value\":1.0},\"line_color\":{\"value\":\"black\"},\"line_dash\":[4,4],\"line_width\":{\"value\":2},\"render_mode\":\"css\",\"right_units\":\"screen\",\"top_units\":\"screen\"},\"id\":\"5595\",\"type\":\"BoxAnnotation\"},{\"attributes\":{},\"id\":\"5596\",\"type\":\"Selection\"},{\"attributes\":{},\"id\":\"5345\",\"type\":\"HelpTool\"},{\"attributes\":{\"active_drag\":\"auto\",\"active_inspect\":\"auto\",\"active_multi\":null,\"active_scroll\":\"auto\",\"active_tap\":\"auto\",\"tools\":[{\"id\":\"5340\",\"type\":\"PanTool\"},{\"id\":\"5341\",\"type\":\"WheelZoomTool\"},{\"id\":\"5342\",\"type\":\"BoxZoomTool\"},{\"id\":\"5343\",\"type\":\"SaveTool\"},{\"id\":\"5344\",\"type\":\"ResetTool\"},{\"id\":\"5345\",\"type\":\"HelpTool\"}]},\"id\":\"5346\",\"type\":\"Toolbar\"},{\"attributes\":{},\"id\":\"5327\",\"type\":\"CategoricalScale\"},{\"attributes\":{},\"id\":\"5592\",\"type\":\"BasicTickFormatter\"},{\"attributes\":{},\"id\":\"5332\",\"type\":\"CategoricalTicker\"},{\"attributes\":{},\"id\":\"5329\",\"type\":\"LinearScale\"},{\"attributes\":{},\"id\":\"5341\",\"type\":\"WheelZoomTool\"},{\"attributes\":{},\"id\":\"5597\",\"type\":\"UnionRenderers\"},{\"attributes\":{\"dimension\":1,\"ticker\":{\"id\":\"5336\",\"type\":\"BasicTicker\"}},\"id\":\"5339\",\"type\":\"Grid\"},{\"attributes\":{},\"id\":\"5336\",\"type\":\"BasicTicker\"},{\"attributes\":{\"source\":{\"id\":\"5353\",\"type\":\"ColumnDataSource\"}},\"id\":\"5357\",\"type\":\"CDSView\"},{\"attributes\":{\"formatter\":{\"id\":\"5594\",\"type\":\"CategoricalTickFormatter\"},\"major_label_orientation\":0.7853981633974483,\"ticker\":{\"id\":\"5332\",\"type\":\"CategoricalTicker\"}},\"id\":\"5331\",\"type\":\"CategoricalAxis\"},{\"attributes\":{\"fill_alpha\":{\"value\":0.1},\"fill_color\":{\"value\":\"#1f77b4\"},\"line_alpha\":{\"value\":0.1},\"line_color\":{\"value\":\"#1f77b4\"},\"top\":{\"field\":\"top\"},\"width\":{\"value\":1},\"x\":{\"field\":\"x\"}},\"id\":\"5355\",\"type\":\"VBar\"},{\"attributes\":{\"text\":\"Bayes Weights\"},\"id\":\"5321\",\"type\":\"Title\"},{\"attributes\":{\"fill_color\":{\"value\":\"#1f77b4\"},\"line_color\":{\"value\":\"#1f77b4\"},\"top\":{\"field\":\"top\"},\"width\":{\"value\":1},\"x\":{\"field\":\"x\"}},\"id\":\"5354\",\"type\":\"VBar\"},{\"attributes\":{},\"id\":\"5344\",\"type\":\"ResetTool\"},{\"attributes\":{\"callback\":null,\"data\":{\"top\":{\"__ndarray__\":\"f/s6cM6Ioj9zaJHtfD+lP2EyVTAqqYM/bHh6pSxDfD/UK2UZ4lh3P+CcEaW9wXc/JXUCmggbnj8rhxbZzveTP5T2Bl+YTIU/eekmMQisnD+u2F92Tx6WP8uhRbbz/ZQ/QYLix5i7lj8nwoanV8qiPy9uowG8BaI/oWez6nO1dT+U9gZfmEx1P1XBqKROQIM/r5RliGNdnD+Sy39Iv319P4Za07zjFJ0/x7q4jQbwhj/gvg6cM6KkP921hHzQs5k/2ht8YTJVsD956SYxCKx8PxKlvcEXJpM/MuauJeSDjj9fB84ZUdqLP+xRuB6F66E/Iv32deCckT/oaiv2l92DP3o2qz5XW6E/uB6F61G4jj/b+X5qvHSDP5LLf0i/fX0/qDXNO07RgT+vlGWIY12cP4C3QILix4g/rthfdk8edj+hZ7Pqc7WFPyegibDh6ZU/GQRWDi2yjT+U9gZfmEx1P9v5fmq8dJM/nzws1JrmfT+oNc07TtGRP18HzhlR2ps/TDeJQWDlsD8=\",\"dtype\":\"float64\",\"shape\":[49]},\"x\":[\"000RFJ-E\",\"000C49-E\",\"002F40-E\",\"000J0M-E\",\"0015Q5-E\",\"000LNJ-E\",\"000Y86-E\",\"0016CD-E\",\"000XNY-E\",\"000SVP-E\",\"000Q29-E\",\"06LJVN-E\",\"000WB6-E\",\"000CRY-E\",\"000QW5-E\",\"000RH4-E\",\"0GMHQ0-E\",\"000VTN-E\",\"000KLW-E\",\"000RH5-E\",\"0H2YMH-E\",\"069J8N-E\",\"0017BJ-E\",\"000LV7-E\",\"003DZ1-E\",\"000RBW-E\",\"0014KB-E\",\"000KZV-E\",\"000Y6D-E\",\"000DW8-E\",\"000LPQ-E\",\"000BJB-E\",\"000RC9-E\",\"001VRS-E\",\"0015KG-E\",\"000DRP-E\",\"0030MN-E\",\"000LR9-E\",\"000VNZ-E\",\"000V67-E\",\"0011QQ-E\",\"00172J-E\",\"0010TD-E\",\"000CGK-E\",\"000DSS-E\",\"001W7N-E\",\"000D63-E\",\"002957-E\",\"000JBG-E\"]},\"selected\":{\"id\":\"5596\",\"type\":\"Selection\"},\"selection_policy\":{\"id\":\"5597\",\"type\":\"UnionRenderers\"}},\"id\":\"5353\",\"type\":\"ColumnDataSource\"},{\"attributes\":{\"ticker\":{\"id\":\"5332\",\"type\":\"CategoricalTicker\"}},\"id\":\"5334\",\"type\":\"Grid\"},{\"attributes\":{\"overlay\":{\"id\":\"5595\",\"type\":\"BoxAnnotation\"}},\"id\":\"5342\",\"type\":\"BoxZoomTool\"}],\"root_ids\":[\"5320\"]},\"title\":\"Bokeh Application\",\"version\":\"1.3.4\"}};\n",
       "  var render_items = [{\"docid\":\"8976fc94-721b-407c-80c2-7a963fee1478\",\"roots\":{\"5320\":\"ec2847ac-4406-4106-b783-6f2372ca2c6c\"}}];\n",
       "  root.Bokeh.embed.embed_items_notebook(docs_json, render_items);\n",
       "\n",
       "  }\n",
       "  if (root.Bokeh !== undefined) {\n",
       "    embed_document(root);\n",
       "  } else {\n",
       "    var attempts = 0;\n",
       "    var timer = setInterval(function(root) {\n",
       "      if (root.Bokeh !== undefined) {\n",
       "        embed_document(root);\n",
       "        clearInterval(timer);\n",
       "      }\n",
       "      attempts++;\n",
       "      if (attempts > 100) {\n",
       "        console.log(\"Bokeh: ERROR: Unable to run BokehJS code because BokehJS library is missing\");\n",
       "        clearInterval(timer);\n",
       "      }\n",
       "    }, 10, root)\n",
       "  }\n",
       "})(window);"
      ],
      "application/vnd.bokehjs_exec.v0+json": ""
     },
     "metadata": {
      "application/vnd.bokehjs_exec.v0+json": {
       "id": "5320"
      }
     },
     "output_type": "display_data"
    }
   ],
   "source": [
    "w =  lstWeightsB[0][1][[np.round(c,2) > 0.0 for c in lstWeightsB[0][1]['weight']]].copy()\n",
    "pw = figure(title=\"Bayes Weights\", toolbar_location=None, x_range=w['Entity'])\n",
    "pw.xaxis.major_label_orientation = np.pi/4\n",
    "pw.vbar(x=w['Entity'], top=w['weight'], width=1)\n",
    "show(pw)"
   ]
  },
  {
   "cell_type": "code",
   "execution_count": 58,
   "metadata": {},
   "outputs": [],
   "source": [
    "import matplotlib.pyplot as plt\n",
    "%matplotlib inline"
   ]
  },
  {
   "cell_type": "code",
   "execution_count": 59,
   "metadata": {},
   "outputs": [],
   "source": [
    "combined_returns = pd.concat([dfBmk.RETURN.rename('bm'), dfActLR.Rtn.rename('LR'), dfActB.Rtn.rename('Bayes')], axis=1).dropna()"
   ]
  },
  {
   "cell_type": "code",
   "execution_count": 60,
   "metadata": {},
   "outputs": [
    {
     "data": {
      "text/html": [
       "<div>\n",
       "<style scoped>\n",
       "    .dataframe tbody tr th:only-of-type {\n",
       "        vertical-align: middle;\n",
       "    }\n",
       "\n",
       "    .dataframe tbody tr th {\n",
       "        vertical-align: top;\n",
       "    }\n",
       "\n",
       "    .dataframe thead th {\n",
       "        text-align: right;\n",
       "    }\n",
       "</style>\n",
       "<table border=\"1\" class=\"dataframe\">\n",
       "  <thead>\n",
       "    <tr style=\"text-align: right;\">\n",
       "      <th></th>\n",
       "      <th>bm</th>\n",
       "      <th>LR</th>\n",
       "      <th>Bayes</th>\n",
       "    </tr>\n",
       "  </thead>\n",
       "  <tbody>\n",
       "    <tr>\n",
       "      <td>bm</td>\n",
       "      <td>1.000000</td>\n",
       "      <td>-0.147691</td>\n",
       "      <td>-0.210801</td>\n",
       "    </tr>\n",
       "    <tr>\n",
       "      <td>LR</td>\n",
       "      <td>-0.147691</td>\n",
       "      <td>1.000000</td>\n",
       "      <td>0.950316</td>\n",
       "    </tr>\n",
       "    <tr>\n",
       "      <td>Bayes</td>\n",
       "      <td>-0.210801</td>\n",
       "      <td>0.950316</td>\n",
       "      <td>1.000000</td>\n",
       "    </tr>\n",
       "  </tbody>\n",
       "</table>\n",
       "</div>"
      ],
      "text/plain": [
       "             bm        LR     Bayes\n",
       "bm     1.000000 -0.147691 -0.210801\n",
       "LR    -0.147691  1.000000  0.950316\n",
       "Bayes -0.210801  0.950316  1.000000"
      ]
     },
     "execution_count": 60,
     "metadata": {},
     "output_type": "execute_result"
    }
   ],
   "source": [
    "combined_returns.corr()"
   ]
  },
  {
   "cell_type": "code",
   "execution_count": 61,
   "metadata": {},
   "outputs": [
    {
     "data": {
      "text/plain": [
       "bm       1.044035\n",
       "LR       1.010383\n",
       "Bayes    1.012841\n",
       "dtype: float64"
      ]
     },
     "execution_count": 61,
     "metadata": {},
     "output_type": "execute_result"
    }
   ],
   "source": [
    "\n",
    "combined_returns.sub(dfFamaData.loc[combined_returns.index.min():combined_returns.index.max(),'RF'], axis=0).mean()/combined_returns.std()*np.sqrt(12)"
   ]
  },
  {
   "cell_type": "code",
   "execution_count": 62,
   "metadata": {},
   "outputs": [
    {
     "data": {
      "text/plain": [
       "<matplotlib.axes._subplots.AxesSubplot at 0x282cd6e8ec8>"
      ]
     },
     "execution_count": 62,
     "metadata": {},
     "output_type": "execute_result"
    },
    {
     "data": {
      "image/png": "[encoded data removed]",
      "text/plain": [
       "<Figure size 432x288 with 1 Axes>"
      ]
     },
     "metadata": {
      "needs_background": "light"
     },
     "output_type": "display_data"
    }
   ],
   "source": [
    "(combined_returns/100 +1).cumprod().plot()"
   ]
  }
 ],
 "metadata": {
  "kernelspec": {
   "display_name": "Python 3",
   "language": "python",
   "name": "python3"
  },
  "language_info": {
   "codemirror_mode": {
    "name": "ipython",
    "version": 3
   },
   "file_extension": ".py",
   "mimetype": "text/x-python",
   "name": "python",
   "nbconvert_exporter": "python",
   "pygments_lexer": "ipython3",
   "version": "3.7.4"
  }
 },
 "nbformat": 4,
 "nbformat_minor": 4
}
