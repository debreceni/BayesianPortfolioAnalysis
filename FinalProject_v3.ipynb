{
 "cells": [
  {
   "cell_type": "markdown",
   "metadata": {},
   "source": [
    "## Bayesian Portfolio Construction and Error Minimization\n",
    "##### Author: David Debreceni\n",
    "##### Advisor: William Rubens, PhD\n",
    "\n",
    "### Problem Statement\n",
    "##### Can a portfolio constructed using a Bayesian process vs a Linear Regression produce a smaller estimate error?"
   ]
  },
  {
   "cell_type": "markdown",
   "metadata": {},
   "source": [
    "### High Level Process\n",
    "1. Using Fama French 3 Factor Model and Momentum build Linear regression over 20 years of data\n",
    "2. Record the portfolio, weights, expected returns and actual returns for each period\n",
    "3. Calculate the ERROR in the return\n",
    "4. Run the process again for Bayesian Regression\n",
    "5. Compare the ERROR estimates for each return period and report\n",
    " "
   ]
  },
  {
   "cell_type": "markdown",
   "metadata": {},
   "source": [
    "Load Libraries for use in the analysis.  Many of the core methods are abstracted into a seperate Python file."
   ]
  },
  {
   "cell_type": "code",
   "execution_count": 1,
   "metadata": {},
   "outputs": [
    {
     "data": {
      "text/html": [
       "\n",
       "    <div class=\"bk-root\">\n",
       "        <a href=\"https://bokeh.pydata.org\" target=\"_blank\" class=\"bk-logo bk-logo-small bk-logo-notebook\"></a>\n",
       "        <span id=\"1001\">Loading BokehJS ...</span>\n",
       "    </div>"
      ]
     },
     "metadata": {},
     "output_type": "display_data"
    },
    {
     "data": {
      "application/javascript": [
       "\n",
       "(function(root) {\n",
       "  function now() {\n",
       "    return new Date();\n",
       "  }\n",
       "\n",
       "  var force = true;\n",
       "\n",
       "  if (typeof root._bokeh_onload_callbacks === \"undefined\" || force === true) {\n",
       "    root._bokeh_onload_callbacks = [];\n",
       "    root._bokeh_is_loading = undefined;\n",
       "  }\n",
       "\n",
       "  var JS_MIME_TYPE = 'application/javascript';\n",
       "  var HTML_MIME_TYPE = 'text/html';\n",
       "  var EXEC_MIME_TYPE = 'application/vnd.bokehjs_exec.v0+json';\n",
       "  var CLASS_NAME = 'output_bokeh rendered_html';\n",
       "\n",
       "  /**\n",
       "   * Render data to the DOM node\n",
       "   */\n",
       "  function render(props, node) {\n",
       "    var script = document.createElement(\"script\");\n",
       "    node.appendChild(script);\n",
       "  }\n",
       "\n",
       "  /**\n",
       "   * Handle when an output is cleared or removed\n",
       "   */\n",
       "  function handleClearOutput(event, handle) {\n",
       "    var cell = handle.cell;\n",
       "\n",
       "    var id = cell.output_area._bokeh_element_id;\n",
       "    var server_id = cell.output_area._bokeh_server_id;\n",
       "    // Clean up Bokeh references\n",
       "    if (id != null && id in Bokeh.index) {\n",
       "      Bokeh.index[id].model.document.clear();\n",
       "      delete Bokeh.index[id];\n",
       "    }\n",
       "\n",
       "    if (server_id !== undefined) {\n",
       "      // Clean up Bokeh references\n",
       "      var cmd = \"from bokeh.io.state import curstate; print(curstate().uuid_to_server['\" + server_id + \"'].get_sessions()[0].document.roots[0]._id)\";\n",
       "      cell.notebook.kernel.execute(cmd, {\n",
       "        iopub: {\n",
       "          output: function(msg) {\n",
       "            var id = msg.content.text.trim();\n",
       "            if (id in Bokeh.index) {\n",
       "              Bokeh.index[id].model.document.clear();\n",
       "              delete Bokeh.index[id];\n",
       "            }\n",
       "          }\n",
       "        }\n",
       "      });\n",
       "      // Destroy server and session\n",
       "      var cmd = \"import bokeh.io.notebook as ion; ion.destroy_server('\" + server_id + \"')\";\n",
       "      cell.notebook.kernel.execute(cmd);\n",
       "    }\n",
       "  }\n",
       "\n",
       "  /**\n",
       "   * Handle when a new output is added\n",
       "   */\n",
       "  function handleAddOutput(event, handle) {\n",
       "    var output_area = handle.output_area;\n",
       "    var output = handle.output;\n",
       "\n",
       "    // limit handleAddOutput to display_data with EXEC_MIME_TYPE content only\n",
       "    if ((output.output_type != \"display_data\") || (!output.data.hasOwnProperty(EXEC_MIME_TYPE))) {\n",
       "      return\n",
       "    }\n",
       "\n",
       "    var toinsert = output_area.element.find(\".\" + CLASS_NAME.split(' ')[0]);\n",
       "\n",
       "    if (output.metadata[EXEC_MIME_TYPE][\"id\"] !== undefined) {\n",
       "      toinsert[toinsert.length - 1].firstChild.textContent = output.data[JS_MIME_TYPE];\n",
       "      // store reference to embed id on output_area\n",
       "      output_area._bokeh_element_id = output.metadata[EXEC_MIME_TYPE][\"id\"];\n",
       "    }\n",
       "    if (output.metadata[EXEC_MIME_TYPE][\"server_id\"] !== undefined) {\n",
       "      var bk_div = document.createElement(\"div\");\n",
       "      bk_div.innerHTML = output.data[HTML_MIME_TYPE];\n",
       "      var script_attrs = bk_div.children[0].attributes;\n",
       "      for (var i = 0; i < script_attrs.length; i++) {\n",
       "        toinsert[toinsert.length - 1].firstChild.setAttribute(script_attrs[i].name, script_attrs[i].value);\n",
       "      }\n",
       "      // store reference to server id on output_area\n",
       "      output_area._bokeh_server_id = output.metadata[EXEC_MIME_TYPE][\"server_id\"];\n",
       "    }\n",
       "  }\n",
       "\n",
       "  function register_renderer(events, OutputArea) {\n",
       "\n",
       "    function append_mime(data, metadata, element) {\n",
       "      // create a DOM node to render to\n",
       "      var toinsert = this.create_output_subarea(\n",
       "        metadata,\n",
       "        CLASS_NAME,\n",
       "        EXEC_MIME_TYPE\n",
       "      );\n",
       "      this.keyboard_manager.register_events(toinsert);\n",
       "      // Render to node\n",
       "      var props = {data: data, metadata: metadata[EXEC_MIME_TYPE]};\n",
       "      render(props, toinsert[toinsert.length - 1]);\n",
       "      element.append(toinsert);\n",
       "      return toinsert\n",
       "    }\n",
       "\n",
       "    /* Handle when an output is cleared or removed */\n",
       "    events.on('clear_output.CodeCell', handleClearOutput);\n",
       "    events.on('delete.Cell', handleClearOutput);\n",
       "\n",
       "    /* Handle when a new output is added */\n",
       "    events.on('output_added.OutputArea', handleAddOutput);\n",
       "\n",
       "    /**\n",
       "     * Register the mime type and append_mime function with output_area\n",
       "     */\n",
       "    OutputArea.prototype.register_mime_type(EXEC_MIME_TYPE, append_mime, {\n",
       "      /* Is output safe? */\n",
       "      safe: true,\n",
       "      /* Index of renderer in `output_area.display_order` */\n",
       "      index: 0\n",
       "    });\n",
       "  }\n",
       "\n",
       "  // register the mime type if in Jupyter Notebook environment and previously unregistered\n",
       "  if (root.Jupyter !== undefined) {\n",
       "    var events = require('base/js/events');\n",
       "    var OutputArea = require('notebook/js/outputarea').OutputArea;\n",
       "\n",
       "    if (OutputArea.prototype.mime_types().indexOf(EXEC_MIME_TYPE) == -1) {\n",
       "      register_renderer(events, OutputArea);\n",
       "    }\n",
       "  }\n",
       "\n",
       "  \n",
       "  if (typeof (root._bokeh_timeout) === \"undefined\" || force === true) {\n",
       "    root._bokeh_timeout = Date.now() + 5000;\n",
       "    root._bokeh_failed_load = false;\n",
       "  }\n",
       "\n",
       "  var NB_LOAD_WARNING = {'data': {'text/html':\n",
       "     \"<div style='background-color: #fdd'>\\n\"+\n",
       "     \"<p>\\n\"+\n",
       "     \"BokehJS does not appear to have successfully loaded. If loading BokehJS from CDN, this \\n\"+\n",
       "     \"may be due to a slow or bad network connection. Possible fixes:\\n\"+\n",
       "     \"</p>\\n\"+\n",
       "     \"<ul>\\n\"+\n",
       "     \"<li>re-rerun `output_notebook()` to attempt to load from CDN again, or</li>\\n\"+\n",
       "     \"<li>use INLINE resources instead, as so:</li>\\n\"+\n",
       "     \"</ul>\\n\"+\n",
       "     \"<code>\\n\"+\n",
       "     \"from bokeh.resources import INLINE\\n\"+\n",
       "     \"output_notebook(resources=INLINE)\\n\"+\n",
       "     \"</code>\\n\"+\n",
       "     \"</div>\"}};\n",
       "\n",
       "  function display_loaded() {\n",
       "    var el = document.getElementById(\"1001\");\n",
       "    if (el != null) {\n",
       "      el.textContent = \"BokehJS is loading...\";\n",
       "    }\n",
       "    if (root.Bokeh !== undefined) {\n",
       "      if (el != null) {\n",
       "        el.textContent = \"BokehJS \" + root.Bokeh.version + \" successfully loaded.\";\n",
       "      }\n",
       "    } else if (Date.now() < root._bokeh_timeout) {\n",
       "      setTimeout(display_loaded, 100)\n",
       "    }\n",
       "  }\n",
       "\n",
       "\n",
       "  function run_callbacks() {\n",
       "    try {\n",
       "      root._bokeh_onload_callbacks.forEach(function(callback) {\n",
       "        if (callback != null)\n",
       "          callback();\n",
       "      });\n",
       "    } finally {\n",
       "      delete root._bokeh_onload_callbacks\n",
       "    }\n",
       "    console.debug(\"Bokeh: all callbacks have finished\");\n",
       "  }\n",
       "\n",
       "  function load_libs(css_urls, js_urls, callback) {\n",
       "    if (css_urls == null) css_urls = [];\n",
       "    if (js_urls == null) js_urls = [];\n",
       "\n",
       "    root._bokeh_onload_callbacks.push(callback);\n",
       "    if (root._bokeh_is_loading > 0) {\n",
       "      console.debug(\"Bokeh: BokehJS is being loaded, scheduling callback at\", now());\n",
       "      return null;\n",
       "    }\n",
       "    if (js_urls == null || js_urls.length === 0) {\n",
       "      run_callbacks();\n",
       "      return null;\n",
       "    }\n",
       "    console.debug(\"Bokeh: BokehJS not loaded, scheduling load and callback at\", now());\n",
       "    root._bokeh_is_loading = css_urls.length + js_urls.length;\n",
       "\n",
       "    function on_load() {\n",
       "      root._bokeh_is_loading--;\n",
       "      if (root._bokeh_is_loading === 0) {\n",
       "        console.debug(\"Bokeh: all BokehJS libraries/stylesheets loaded\");\n",
       "        run_callbacks()\n",
       "      }\n",
       "    }\n",
       "\n",
       "    function on_error() {\n",
       "      console.error(\"failed to load \" + url);\n",
       "    }\n",
       "\n",
       "    for (var i = 0; i < css_urls.length; i++) {\n",
       "      var url = css_urls[i];\n",
       "      const element = document.createElement(\"link\");\n",
       "      element.onload = on_load;\n",
       "      element.onerror = on_error;\n",
       "      element.rel = \"stylesheet\";\n",
       "      element.type = \"text/css\";\n",
       "      element.href = url;\n",
       "      console.debug(\"Bokeh: injecting link tag for BokehJS stylesheet: \", url);\n",
       "      document.body.appendChild(element);\n",
       "    }\n",
       "\n",
       "    for (var i = 0; i < js_urls.length; i++) {\n",
       "      var url = js_urls[i];\n",
       "      var element = document.createElement('script');\n",
       "      element.onload = on_load;\n",
       "      element.onerror = on_error;\n",
       "      element.async = false;\n",
       "      element.src = url;\n",
       "      console.debug(\"Bokeh: injecting script tag for BokehJS library: \", url);\n",
       "      document.head.appendChild(element);\n",
       "    }\n",
       "  };var element = document.getElementById(\"1001\");\n",
       "  if (element == null) {\n",
       "    console.error(\"Bokeh: ERROR: autoload.js configured with elementid '1001' but no matching script tag was found. \")\n",
       "    return false;\n",
       "  }\n",
       "\n",
       "  function inject_raw_css(css) {\n",
       "    const element = document.createElement(\"style\");\n",
       "    element.appendChild(document.createTextNode(css));\n",
       "    document.body.appendChild(element);\n",
       "  }\n",
       "\n",
       "  var js_urls = [\"https://cdn.pydata.org/bokeh/release/bokeh-1.2.0.min.js\", \"https://cdn.pydata.org/bokeh/release/bokeh-widgets-1.2.0.min.js\", \"https://cdn.pydata.org/bokeh/release/bokeh-tables-1.2.0.min.js\", \"https://cdn.pydata.org/bokeh/release/bokeh-gl-1.2.0.min.js\"];\n",
       "  var css_urls = [\"https://cdn.pydata.org/bokeh/release/bokeh-1.2.0.min.css\", \"https://cdn.pydata.org/bokeh/release/bokeh-widgets-1.2.0.min.css\", \"https://cdn.pydata.org/bokeh/release/bokeh-tables-1.2.0.min.css\"];\n",
       "\n",
       "  var inline_js = [\n",
       "    function(Bokeh) {\n",
       "      Bokeh.set_log_level(\"info\");\n",
       "    },\n",
       "    \n",
       "    function(Bokeh) {\n",
       "      \n",
       "    },\n",
       "    function(Bokeh) {} // ensure no trailing comma for IE\n",
       "  ];\n",
       "\n",
       "  function run_inline_js() {\n",
       "    \n",
       "    if ((root.Bokeh !== undefined) || (force === true)) {\n",
       "      for (var i = 0; i < inline_js.length; i++) {\n",
       "        inline_js[i].call(root, root.Bokeh);\n",
       "      }if (force === true) {\n",
       "        display_loaded();\n",
       "      }} else if (Date.now() < root._bokeh_timeout) {\n",
       "      setTimeout(run_inline_js, 100);\n",
       "    } else if (!root._bokeh_failed_load) {\n",
       "      console.log(\"Bokeh: BokehJS failed to load within specified timeout.\");\n",
       "      root._bokeh_failed_load = true;\n",
       "    } else if (force !== true) {\n",
       "      var cell = $(document.getElementById(\"1001\")).parents('.cell').data().cell;\n",
       "      cell.output_area.append_execute_result(NB_LOAD_WARNING)\n",
       "    }\n",
       "\n",
       "  }\n",
       "\n",
       "  if (root._bokeh_is_loading === 0) {\n",
       "    console.debug(\"Bokeh: BokehJS loaded, going straight to plotting\");\n",
       "    run_inline_js();\n",
       "  } else {\n",
       "    load_libs(css_urls, js_urls, function() {\n",
       "      console.debug(\"Bokeh: BokehJS plotting callback run at\", now());\n",
       "      run_inline_js();\n",
       "    });\n",
       "  }\n",
       "}(window));"
      ],
      "application/vnd.bokehjs_load.v0+json": "\n(function(root) {\n  function now() {\n    return new Date();\n  }\n\n  var force = true;\n\n  if (typeof root._bokeh_onload_callbacks === \"undefined\" || force === true) {\n    root._bokeh_onload_callbacks = [];\n    root._bokeh_is_loading = undefined;\n  }\n\n  \n\n  \n  if (typeof (root._bokeh_timeout) === \"undefined\" || force === true) {\n    root._bokeh_timeout = Date.now() + 5000;\n    root._bokeh_failed_load = false;\n  }\n\n  var NB_LOAD_WARNING = {'data': {'text/html':\n     \"<div style='background-color: #fdd'>\\n\"+\n     \"<p>\\n\"+\n     \"BokehJS does not appear to have successfully loaded. If loading BokehJS from CDN, this \\n\"+\n     \"may be due to a slow or bad network connection. Possible fixes:\\n\"+\n     \"</p>\\n\"+\n     \"<ul>\\n\"+\n     \"<li>re-rerun `output_notebook()` to attempt to load from CDN again, or</li>\\n\"+\n     \"<li>use INLINE resources instead, as so:</li>\\n\"+\n     \"</ul>\\n\"+\n     \"<code>\\n\"+\n     \"from bokeh.resources import INLINE\\n\"+\n     \"output_notebook(resources=INLINE)\\n\"+\n     \"</code>\\n\"+\n     \"</div>\"}};\n\n  function display_loaded() {\n    var el = document.getElementById(\"1001\");\n    if (el != null) {\n      el.textContent = \"BokehJS is loading...\";\n    }\n    if (root.Bokeh !== undefined) {\n      if (el != null) {\n        el.textContent = \"BokehJS \" + root.Bokeh.version + \" successfully loaded.\";\n      }\n    } else if (Date.now() < root._bokeh_timeout) {\n      setTimeout(display_loaded, 100)\n    }\n  }\n\n\n  function run_callbacks() {\n    try {\n      root._bokeh_onload_callbacks.forEach(function(callback) {\n        if (callback != null)\n          callback();\n      });\n    } finally {\n      delete root._bokeh_onload_callbacks\n    }\n    console.debug(\"Bokeh: all callbacks have finished\");\n  }\n\n  function load_libs(css_urls, js_urls, callback) {\n    if (css_urls == null) css_urls = [];\n    if (js_urls == null) js_urls = [];\n\n    root._bokeh_onload_callbacks.push(callback);\n    if (root._bokeh_is_loading > 0) {\n      console.debug(\"Bokeh: BokehJS is being loaded, scheduling callback at\", now());\n      return null;\n    }\n    if (js_urls == null || js_urls.length === 0) {\n      run_callbacks();\n      return null;\n    }\n    console.debug(\"Bokeh: BokehJS not loaded, scheduling load and callback at\", now());\n    root._bokeh_is_loading = css_urls.length + js_urls.length;\n\n    function on_load() {\n      root._bokeh_is_loading--;\n      if (root._bokeh_is_loading === 0) {\n        console.debug(\"Bokeh: all BokehJS libraries/stylesheets loaded\");\n        run_callbacks()\n      }\n    }\n\n    function on_error() {\n      console.error(\"failed to load \" + url);\n    }\n\n    for (var i = 0; i < css_urls.length; i++) {\n      var url = css_urls[i];\n      const element = document.createElement(\"link\");\n      element.onload = on_load;\n      element.onerror = on_error;\n      element.rel = \"stylesheet\";\n      element.type = \"text/css\";\n      element.href = url;\n      console.debug(\"Bokeh: injecting link tag for BokehJS stylesheet: \", url);\n      document.body.appendChild(element);\n    }\n\n    for (var i = 0; i < js_urls.length; i++) {\n      var url = js_urls[i];\n      var element = document.createElement('script');\n      element.onload = on_load;\n      element.onerror = on_error;\n      element.async = false;\n      element.src = url;\n      console.debug(\"Bokeh: injecting script tag for BokehJS library: \", url);\n      document.head.appendChild(element);\n    }\n  };var element = document.getElementById(\"1001\");\n  if (element == null) {\n    console.error(\"Bokeh: ERROR: autoload.js configured with elementid '1001' but no matching script tag was found. \")\n    return false;\n  }\n\n  function inject_raw_css(css) {\n    const element = document.createElement(\"style\");\n    element.appendChild(document.createTextNode(css));\n    document.body.appendChild(element);\n  }\n\n  var js_urls = [\"https://cdn.pydata.org/bokeh/release/bokeh-1.2.0.min.js\", \"https://cdn.pydata.org/bokeh/release/bokeh-widgets-1.2.0.min.js\", \"https://cdn.pydata.org/bokeh/release/bokeh-tables-1.2.0.min.js\", \"https://cdn.pydata.org/bokeh/release/bokeh-gl-1.2.0.min.js\"];\n  var css_urls = [\"https://cdn.pydata.org/bokeh/release/bokeh-1.2.0.min.css\", \"https://cdn.pydata.org/bokeh/release/bokeh-widgets-1.2.0.min.css\", \"https://cdn.pydata.org/bokeh/release/bokeh-tables-1.2.0.min.css\"];\n\n  var inline_js = [\n    function(Bokeh) {\n      Bokeh.set_log_level(\"info\");\n    },\n    \n    function(Bokeh) {\n      \n    },\n    function(Bokeh) {} // ensure no trailing comma for IE\n  ];\n\n  function run_inline_js() {\n    \n    if ((root.Bokeh !== undefined) || (force === true)) {\n      for (var i = 0; i < inline_js.length; i++) {\n        inline_js[i].call(root, root.Bokeh);\n      }if (force === true) {\n        display_loaded();\n      }} else if (Date.now() < root._bokeh_timeout) {\n      setTimeout(run_inline_js, 100);\n    } else if (!root._bokeh_failed_load) {\n      console.log(\"Bokeh: BokehJS failed to load within specified timeout.\");\n      root._bokeh_failed_load = true;\n    } else if (force !== true) {\n      var cell = $(document.getElementById(\"1001\")).parents('.cell').data().cell;\n      cell.output_area.append_execute_result(NB_LOAD_WARNING)\n    }\n\n  }\n\n  if (root._bokeh_is_loading === 0) {\n    console.debug(\"Bokeh: BokehJS loaded, going straight to plotting\");\n    run_inline_js();\n  } else {\n    load_libs(css_urls, js_urls, function() {\n      console.debug(\"Bokeh: BokehJS plotting callback run at\", now());\n      run_inline_js();\n    });\n  }\n}(window));"
     },
     "metadata": {},
     "output_type": "display_data"
    }
   ],
   "source": [
    "from ModelFunctionsBayes import getModelData as gmd\n",
    "from ModelFunctionsBayes import utilityFuncs as utilF\n",
    "from ModelFunctionsBayes import modelFuncs as MF\n",
    "import numpy as np\n",
    "import matplotlib.pyplot as plt\n",
    "import pandas as pd\n",
    "import os\n",
    "import datetime\n",
    "import random\n",
    "from IPython.display import Math\n",
    "from bokeh.plotting import figure, show\n",
    "from bokeh.io import output_notebook\n",
    "import dill\n",
    "\n",
    "output_notebook()\n"
   ]
  },
  {
   "cell_type": "markdown",
   "metadata": {},
   "source": [
    "Obtain the core data.  This will call the fama french website to obtain that data, and then use return data downloaded from Factset and stored in csv's for the analysis.\n",
    "The default universe selected is the Russell 1000 constituents at monthly intervals.  Return data as far back as 20 years is captured for each security.\n",
    "For speed of analysis purposes there is the ability to limit the universe selection via random sampling has been added.  The amount of history remains the same.  The random selection will happpen in the weights method to ensure there are datapoints to work with."
   ]
  },
  {
   "cell_type": "code",
   "execution_count": 2,
   "metadata": {},
   "outputs": [],
   "source": [
    "#get all the security data\n",
    "dfSecRtn, dfFamaData, dfConstList, dfBmk = gmd().getAllData()\n",
    "dfSecRtn.to_csv('output/dfSecRtn_v3.csv')\n",
    "dfFamaData.to_csv('output/dfFamaData_v3.csv')\n",
    "dfConstList.to_csv('output/dfConstList_v3.csv')\n",
    "dfBmk.to_csv('output/dfBmk_v3.csv')\n",
    "#set the random seed for reproducable results\n",
    "random.seed( 30 )"
   ]
  },
  {
   "cell_type": "markdown",
   "metadata": {},
   "source": [
    "The getWeights method is used for the Linear Regression part. \n",
    "Process:\n",
    "1. for the date passed in get the current constituents as of that time\n",
    "2. Limit the results to 100 records for special processing, these columns will be stored to use the same information for Bayes processing\n",
    "3. Get the return, Fama French and RF data for processing\n",
    "4. Run a linear regression for each security vs the Fama French data to get Beta's, Alpha (Intercept) and Error Estimates\n",
    "5. Pass this information into covariance and expected return equation based upon the linear regression\n",
    "6. Record the weights, expected return and columns used.\n",
    "\n",
    "<center>Covariance Matrix<center>\n",
    "$$Q = \\beta \\cdot \\Sigma \\cdot \\beta^T   $$\n",
    "\n",
    "<center>Expected Return<center>\n",
    "$$R = \\alpha +  \\beta \\cdot R_f   $$\n"
   ]
  },
  {
   "cell_type": "code",
   "execution_count": 3,
   "metadata": {},
   "outputs": [],
   "source": [
    "\n",
    "def getWeights(curdt,dfSecRtn, dfFamaData,dfConstList, nextdt):\n",
    "\n",
    "    #get the current securities as of this date\n",
    "    colsTick = dfConstList[dfConstList[curdt.strftime('%Y-%m-%d')]==1].index.get_level_values(0).tolist()\n",
    "    cols = dfSecRtn.loc[curdt,colsTick][~(dfSecRtn.loc[curdt,colsTick].isnull()) & ~(dfSecRtn.loc[:curdt,colsTick].isna().sum()>6)].index.tolist()\n",
    "    #ensure there is not duplicate results as some entities have different tickers\n",
    "    cols = list(set(cols))\n",
    "    #Added for purposes of allowing for faster processing\n",
    "    cols = random.sample(cols,100)\n",
    "    \n",
    "    #Get current subsets of data\n",
    "    curSecRtn = dfSecRtn.loc[:curdt,cols]\n",
    "    curFama= dfFamaData.loc[:curdt,['Mkt-RF','SMB','HML','Mom']]\n",
    "    curRF= dfFamaData.loc[:curdt,'RF']    \n",
    "    \n",
    "    #get the current coef\n",
    "    factBetas,factIntercepts, errEst = MF().buildFactorCoef(curSecRtn,curFama, curRF, cols)\n",
    "        \n",
    "    #predict weights based upon historical values\n",
    "    Q = np.dot(np.dot(factBetas, curFama.cov()),factBetas.T) + np.diag(errEst) \n",
    "    \n",
    "    #Expected return based upon Fama French\n",
    "    R = (factIntercepts + np.dot(factBetas, curFama.iloc[-1])) + np.asscalar( curRF.iloc[-1])\n",
    "    \n",
    "    const = ({'type':'eq','fun':lambda x: np.sum(x)-1}\n",
    "            ,{'type':'eq','fun':lambda x: np.sum(factBetas[:,0]*x)-1})  #constraint makes it BETA Neutral, ie should be the same as the market\n",
    "    \n",
    "    #allow a long only portfolio\n",
    "    bounds = (0.0,1.0)\n",
    "    \n",
    "    #Build an optimal portfolio using a Mean Variance Utility equation\n",
    "    OptWeights = MF() .weightOptimizer(MF().meanVar, len(R),const,bounds, R, Q, 0.5)\n",
    "    \n",
    "    #record the weights\n",
    "    wghts = pd.DataFrame({'Entity':cols,'weight': list(np.round(OptWeights.x, 4))})\n",
    "    #record the expected Return\n",
    "    Ertn = np.nansum(wghts['weight']*R)\n",
    "    \n",
    "    return cols,  wghts, Ertn, R, Q, factBetas,factIntercepts, errEst"
   ]
  },
  {
   "cell_type": "code",
   "execution_count": 4,
   "metadata": {},
   "outputs": [],
   "source": [
    "#Build dataframes for storing\n",
    "dfEstLR = pd.DataFrame(columns=['Date','Rtn'])\n",
    "dfActLR = pd.DataFrame(columns=['Date','Rtn'])\n",
    "lstWeights = []\n",
    "lstCols = []\n",
    "lstReturnsLR = []\n",
    "lstCovLR = []\n",
    "lstfactBetasLR = []\n",
    "lstfactInterceptsLR = []\n",
    "lsterrEstLR = []"
   ]
  },
  {
   "cell_type": "markdown",
   "metadata": {},
   "source": [
    "Start the data at a 10 year seed.  Build the history from there.  Currently the data constantly adds new information to the analysis.  Test for later is to make it a rolling window of history instead, say 10 years to see if the results are any closer.\n",
    "This method will loop through getting the expected and actual return data for later analysis."
   ]
  },
  {
   "cell_type": "code",
   "execution_count": 5,
   "metadata": {},
   "outputs": [
    {
     "name": "stdout",
     "output_type": "stream",
     "text": [
      "Done\n"
     ]
    }
   ],
   "source": [
    "for i in np.arange(119,dfSecRtn.index.size-1): #\n",
    "    \n",
    "    curdt = dfSecRtn.index[i]\n",
    "    nextdt = dfSecRtn.index[i+1]\n",
    "    #caclulate the information bades upon historical values\n",
    "    cols, wghts, ERtn, R, Q, factBetas,factIntercepts, errEst = getWeights(curdt,dfSecRtn, dfFamaData,dfConstList, nextdt)\n",
    "    dfEstLR = dfEstLR.append({'Date':nextdt,'Rtn':ERtn}, ignore_index=True)\n",
    "    #Calculate the actual portfolio return for next month with current weights\n",
    "    nextMthRtn = dfSecRtn.loc[nextdt,cols]\n",
    "    ActPort = np.nansum(wghts['weight']*np.asarray(nextMthRtn))\n",
    "    dfActLR = dfActLR.append({'Date':nextdt ,'Rtn':ActPort}, ignore_index=True)\n",
    "    lstWeights.append([nextdt,wghts])\n",
    "    lstCols.append(cols)\n",
    "    lstReturnsLR.append([curdt,R])\n",
    "    lstCovLR.append([curdt,Q])\n",
    "    lstfactBetasLR.append([curdt,factBetas])\n",
    "    lstfactInterceptsLR.append([curdt,factIntercepts])\n",
    "    lsterrEstLR.append([curdt,errEst])\n",
    "    #LR Results\n",
    "    dfEstLR.to_csv('output/dfEstLR_v3.csv')\n",
    "    dfActLR.to_csv('output/dfActLR_v3.csv')\n",
    "    #weight variables\n",
    "    dill.dump([lstWeights,lstCols,lstReturnsLR,lstCovLR,lstfactBetasLR, lstfactInterceptsLR,lsterrEstLR,cols], open('output/FinalProject_v3_LRVariables.db','wb'))\n",
    "print('Done')"
   ]
  },
  {
   "cell_type": "code",
   "execution_count": 6,
   "metadata": {},
   "outputs": [],
   "source": [
    "dfActLR.set_index('Date', inplace=True)\n",
    "dfEstLR.set_index('Date', inplace=True)"
   ]
  },
  {
   "cell_type": "code",
   "execution_count": 7,
   "metadata": {},
   "outputs": [],
   "source": [
    "#get the constituent counts\n",
    "dfPortCount = pd.DataFrame([ (w[0], sum([np.round(c,2) > 0 for c in w[1]['weight']])) for w in lstWeights], columns=['Date','Count'])\n",
    "#get the difference in returns this is the error we are looking to minimize\n",
    "dfDifLR = (dfActLR - dfEstLR)"
   ]
  },
  {
   "cell_type": "markdown",
   "metadata": {},
   "source": [
    "Show the count of the constituents for each month. Want to ensure that we have a diversified portfolio.  Hoping for a minimum of 20 securities of the 100 sample.\n",
    "As you can see from the graph below, the portfolio selection is diverse with respect to the number of securities in each portfolio"
   ]
  },
  {
   "cell_type": "code",
   "execution_count": 8,
   "metadata": {},
   "outputs": [
    {
     "data": {
      "text/html": [
       "\n",
       "\n",
       "\n",
       "\n",
       "\n",
       "\n",
       "  <div class=\"bk-root\" id=\"b198c74c-6f30-478d-8f0a-3e5e817026e2\" data-root-id=\"1002\"></div>\n"
      ]
     },
     "metadata": {},
     "output_type": "display_data"
    },
    {
     "data": {
      "application/javascript": [
       "(function(root) {\n",
       "  function embed_document(root) {\n",
       "    \n",
       "  var docs_json = {\"7d3a9e72-a231-4b3a-8b70-1f5bff05ab58\":{\"roots\":{\"references\":[{\"attributes\":{\"below\":[{\"id\":\"1013\",\"type\":\"DatetimeAxis\"}],\"center\":[{\"id\":\"1017\",\"type\":\"Grid\"},{\"id\":\"1022\",\"type\":\"Grid\"}],\"left\":[{\"id\":\"1018\",\"type\":\"LinearAxis\"}],\"renderers\":[{\"id\":\"1039\",\"type\":\"GlyphRenderer\"}],\"title\":{\"id\":\"1003\",\"type\":\"Title\"},\"toolbar\":{\"id\":\"1029\",\"type\":\"Toolbar\"},\"toolbar_location\":null,\"x_range\":{\"id\":\"1005\",\"type\":\"DataRange1d\"},\"x_scale\":{\"id\":\"1009\",\"type\":\"LinearScale\"},\"y_range\":{\"id\":\"1007\",\"type\":\"DataRange1d\"},\"y_scale\":{\"id\":\"1011\",\"type\":\"LinearScale\"}},\"id\":\"1002\",\"subtype\":\"Figure\",\"type\":\"Plot\"},{\"attributes\":{\"fill_alpha\":{\"value\":0.1},\"fill_color\":{\"value\":\"#1f77b4\"},\"line_alpha\":{\"value\":0.1},\"line_color\":{\"value\":\"#1f77b4\"},\"top\":{\"field\":\"top\"},\"width\":{\"value\":0.9},\"x\":{\"field\":\"x\"}},\"id\":\"1038\",\"type\":\"VBar\"},{\"attributes\":{},\"id\":\"1023\",\"type\":\"PanTool\"},{\"attributes\":{\"text\":\"Constituent Counts\"},\"id\":\"1003\",\"type\":\"Title\"},{\"attributes\":{},\"id\":\"1042\",\"type\":\"BasicTickFormatter\"},{\"attributes\":{\"fill_color\":{\"value\":\"#1f77b4\"},\"line_color\":{\"value\":\"#1f77b4\"},\"top\":{\"field\":\"top\"},\"width\":{\"value\":0.9},\"x\":{\"field\":\"x\"}},\"id\":\"1037\",\"type\":\"VBar\"},{\"attributes\":{\"months\":[0,1,2,3,4,5,6,7,8,9,10,11]},\"id\":\"1053\",\"type\":\"MonthsTicker\"},{\"attributes\":{\"num_minor_ticks\":5,\"tickers\":[{\"id\":\"1046\",\"type\":\"AdaptiveTicker\"},{\"id\":\"1047\",\"type\":\"AdaptiveTicker\"},{\"id\":\"1048\",\"type\":\"AdaptiveTicker\"},{\"id\":\"1049\",\"type\":\"DaysTicker\"},{\"id\":\"1050\",\"type\":\"DaysTicker\"},{\"id\":\"1051\",\"type\":\"DaysTicker\"},{\"id\":\"1052\",\"type\":\"DaysTicker\"},{\"id\":\"1053\",\"type\":\"MonthsTicker\"},{\"id\":\"1054\",\"type\":\"MonthsTicker\"},{\"id\":\"1055\",\"type\":\"MonthsTicker\"},{\"id\":\"1056\",\"type\":\"MonthsTicker\"},{\"id\":\"1057\",\"type\":\"YearsTicker\"}]},\"id\":\"1014\",\"type\":\"DatetimeTicker\"},{\"attributes\":{},\"id\":\"1059\",\"type\":\"UnionRenderers\"},{\"attributes\":{},\"id\":\"1057\",\"type\":\"YearsTicker\"},{\"attributes\":{},\"id\":\"1058\",\"type\":\"Selection\"},{\"attributes\":{\"months\":[0,2,4,6,8,10]},\"id\":\"1054\",\"type\":\"MonthsTicker\"},{\"attributes\":{\"days\":[1,15]},\"id\":\"1052\",\"type\":\"DaysTicker\"},{\"attributes\":{\"dimension\":1,\"ticker\":{\"id\":\"1019\",\"type\":\"BasicTicker\"}},\"id\":\"1022\",\"type\":\"Grid\"},{\"attributes\":{\"mantissas\":[1,2,5],\"max_interval\":500.0,\"num_minor_ticks\":0},\"id\":\"1046\",\"type\":\"AdaptiveTicker\"},{\"attributes\":{\"base\":24,\"mantissas\":[1,2,4,6,8,12],\"max_interval\":43200000.0,\"min_interval\":3600000.0,\"num_minor_ticks\":0},\"id\":\"1048\",\"type\":\"AdaptiveTicker\"},{\"attributes\":{\"active_drag\":\"auto\",\"active_inspect\":\"auto\",\"active_multi\":null,\"active_scroll\":\"auto\",\"active_tap\":\"auto\",\"tools\":[{\"id\":\"1023\",\"type\":\"PanTool\"},{\"id\":\"1024\",\"type\":\"WheelZoomTool\"},{\"id\":\"1025\",\"type\":\"BoxZoomTool\"},{\"id\":\"1026\",\"type\":\"SaveTool\"},{\"id\":\"1027\",\"type\":\"ResetTool\"},{\"id\":\"1028\",\"type\":\"HelpTool\"}]},\"id\":\"1029\",\"type\":\"Toolbar\"},{\"attributes\":{\"data_source\":{\"id\":\"1036\",\"type\":\"ColumnDataSource\"},\"glyph\":{\"id\":\"1037\",\"type\":\"VBar\"},\"hover_glyph\":null,\"muted_glyph\":null,\"nonselection_glyph\":{\"id\":\"1038\",\"type\":\"VBar\"},\"selection_glyph\":null,\"view\":{\"id\":\"1040\",\"type\":\"CDSView\"}},\"id\":\"1039\",\"type\":\"GlyphRenderer\"},{\"attributes\":{\"callback\":null,\"data\":{\"top\":[55,43,34,56,67,40,42,42,46,47,34,35,40,42,39,39,45,37,44,36,39,42,37,37,43,31,40,42,39,42,35,39,35,38,41,33,38,40,33,39,32,32,38,31,39,42,39,46,45,42,38,42,38,41,43,40,38,38,39,40,41,32,33,38,34,35,41,32,36,34,36,34,48,33,41,42,40,39,39,33,40,33,39,40,32,40,39,43,42,39,32,40,46,37,33,57,36,33,34,38,32,34,53,39,31,47,33,32,40,33,39,46,39,45,41,40,36,34,36,38,37,46,37,34,35,28,43,36,33],\"x\":{\"__ndarray__\":\"AADA1PfocUIAAAAn8vJxQgAAAEj1+3FCAABAmu8FckIAAMCGlw9yQgAAANmRGXJCAACAxTkjckIAAMAXNC1yQgAAAGouN3JCAACAVtZAckIAAMCo0EpyQgAAQJV4VHJCAACA53JeckIAAMA5bWhyQgAAwFpwcXJCAAAArWp7ckIAAICZEoVyQgAAwOsMj3JCAABA2LSYckIAAIAqr6JyQgAAwHyprHJCAABAaVG2ckIAAIC7S8ByQgAAAKjzyXJCAABA+u3TckIAAIBM6N1yQgAAgG3r5nJCAADAv+XwckIAAECsjfpyQgAAgP6HBHNCAAAA6y8Oc0IAAEA9KhhzQgAAgI8kInNCAAAAfMwrc0IAAEDOxjVzQgAAwLpuP3NCAAAADWlJc0IAAEBfY1NzQgAAAOa4XHNCAABAOLNmc0IAAMAkW3BzQgAAAHdVenNCAACAY/2Dc0IAAMC1941zQgAAAAjyl3NCAACA9Jmhc0IAAMBGlKtzQgAAQDM8tXNCAACAhTa/c0IAAMDXMMlzQgAAwPgz0nNCAAAASy7cc0IAAIA31uVzQgAAwInQ73NCAABAdnj5c0IAAIDIcgN0QgAAwBptDXRCAABABxUXdEIAAIBZDyF0QgAAAEa3KnRCAABAmLE0dEIAAIDqqz50QgAAgAuvR3RCAADAXalRdEIAAEBKUVt0QgAAgJxLZXRCAAAAifNudEIAAEDb7Xh0QgAAgC3ognRCAAAAGpCMdEIAAEBsipZ0QgAAwFgyoHRCAAAAqyyqdEIAAED9JrR0QgAAQB4qvXRCAACAcCTHdEIAAABdzNB0QgAAQK/G2nRCAADAm27kdEIAAADuaO50QgAAQEBj+HRCAADALAsCdUIAAAB/BQx1QgAAgGutFXVCAADAvacfdUIAAAAQoil1QgAAwJb3MnVCAAAA6fE8dUIAAIDVmUZ1QgAAwCeUUHVCAABAFDxadUIAAIBmNmR1QgAAwLgwbnVCAABApdh3dUIAAID30oF1QgAAAOR6i3VCAABANnWVdUIAAICIb591QgAAgKlyqHVCAADA+2yydUIAAEDoFLx1QgAAgDoPxnVCAAAAJ7fPdUIAAEB5sdl1QgAAgMur43VCAAAAuFPtdUIAAEAKTvd1QgAAwPb1AHZCAAAASfAKdkIAAECb6hR2QgAAQLztHXZCAACADugndkIAAAD7jzF2QgAAQE2KO3ZCAADAOTJFdkIAAACMLE92QgAAQN4mWXZCAADAys5idkIAAAAdyWx2QgAAgAlxdnZCAADAW2uAdkIAAACuZYp2QgAAAM9ok3ZCAABAIWOddkIAAMANC6d2QgAAAGAFsXZCAACATK26dkIAAMCep8R2QgAAAPGhznZC\",\"dtype\":\"float64\",\"shape\":[129]}},\"selected\":{\"id\":\"1058\",\"type\":\"Selection\"},\"selection_policy\":{\"id\":\"1059\",\"type\":\"UnionRenderers\"}},\"id\":\"1036\",\"type\":\"ColumnDataSource\"},{\"attributes\":{\"days\":[1,8,15,22]},\"id\":\"1051\",\"type\":\"DaysTicker\"},{\"attributes\":{\"formatter\":{\"id\":\"1044\",\"type\":\"DatetimeTickFormatter\"},\"ticker\":{\"id\":\"1014\",\"type\":\"DatetimeTicker\"}},\"id\":\"1013\",\"type\":\"DatetimeAxis\"},{\"attributes\":{\"bottom_units\":\"screen\",\"fill_alpha\":{\"value\":0.5},\"fill_color\":{\"value\":\"lightgrey\"},\"left_units\":\"screen\",\"level\":\"overlay\",\"line_alpha\":{\"value\":1.0},\"line_color\":{\"value\":\"black\"},\"line_dash\":[4,4],\"line_width\":{\"value\":2},\"render_mode\":\"css\",\"right_units\":\"screen\",\"top_units\":\"screen\"},\"id\":\"1060\",\"type\":\"BoxAnnotation\"},{\"attributes\":{\"months\":[0,6]},\"id\":\"1056\",\"type\":\"MonthsTicker\"},{\"attributes\":{},\"id\":\"1011\",\"type\":\"LinearScale\"},{\"attributes\":{},\"id\":\"1028\",\"type\":\"HelpTool\"},{\"attributes\":{},\"id\":\"1044\",\"type\":\"DatetimeTickFormatter\"},{\"attributes\":{\"days\":[1,2,3,4,5,6,7,8,9,10,11,12,13,14,15,16,17,18,19,20,21,22,23,24,25,26,27,28,29,30,31]},\"id\":\"1049\",\"type\":\"DaysTicker\"},{\"attributes\":{\"source\":{\"id\":\"1036\",\"type\":\"ColumnDataSource\"}},\"id\":\"1040\",\"type\":\"CDSView\"},{\"attributes\":{\"base\":60,\"mantissas\":[1,2,5,10,15,20,30],\"max_interval\":1800000.0,\"min_interval\":1000.0,\"num_minor_ticks\":0},\"id\":\"1047\",\"type\":\"AdaptiveTicker\"},{\"attributes\":{\"callback\":null},\"id\":\"1005\",\"type\":\"DataRange1d\"},{\"attributes\":{\"callback\":null},\"id\":\"1007\",\"type\":\"DataRange1d\"},{\"attributes\":{},\"id\":\"1009\",\"type\":\"LinearScale\"},{\"attributes\":{\"months\":[0,4,8]},\"id\":\"1055\",\"type\":\"MonthsTicker\"},{\"attributes\":{},\"id\":\"1019\",\"type\":\"BasicTicker\"},{\"attributes\":{\"days\":[1,4,7,10,13,16,19,22,25,28]},\"id\":\"1050\",\"type\":\"DaysTicker\"},{\"attributes\":{},\"id\":\"1024\",\"type\":\"WheelZoomTool\"},{\"attributes\":{\"overlay\":{\"id\":\"1060\",\"type\":\"BoxAnnotation\"}},\"id\":\"1025\",\"type\":\"BoxZoomTool\"},{\"attributes\":{\"formatter\":{\"id\":\"1042\",\"type\":\"BasicTickFormatter\"},\"ticker\":{\"id\":\"1019\",\"type\":\"BasicTicker\"}},\"id\":\"1018\",\"type\":\"LinearAxis\"},{\"attributes\":{},\"id\":\"1026\",\"type\":\"SaveTool\"},{\"attributes\":{\"ticker\":{\"id\":\"1014\",\"type\":\"DatetimeTicker\"}},\"id\":\"1017\",\"type\":\"Grid\"},{\"attributes\":{},\"id\":\"1027\",\"type\":\"ResetTool\"}],\"root_ids\":[\"1002\"]},\"title\":\"Bokeh Application\",\"version\":\"1.2.0\"}};\n",
       "  var render_items = [{\"docid\":\"7d3a9e72-a231-4b3a-8b70-1f5bff05ab58\",\"roots\":{\"1002\":\"b198c74c-6f30-478d-8f0a-3e5e817026e2\"}}];\n",
       "  root.Bokeh.embed.embed_items_notebook(docs_json, render_items);\n",
       "\n",
       "  }\n",
       "  if (root.Bokeh !== undefined) {\n",
       "    embed_document(root);\n",
       "  } else {\n",
       "    var attempts = 0;\n",
       "    var timer = setInterval(function(root) {\n",
       "      if (root.Bokeh !== undefined) {\n",
       "        embed_document(root);\n",
       "        clearInterval(timer);\n",
       "      }\n",
       "      attempts++;\n",
       "      if (attempts > 100) {\n",
       "        console.log(\"Bokeh: ERROR: Unable to run BokehJS code because BokehJS library is missing\");\n",
       "        clearInterval(timer);\n",
       "      }\n",
       "    }, 10, root)\n",
       "  }\n",
       "})(window);"
      ],
      "application/vnd.bokehjs_exec.v0+json": ""
     },
     "metadata": {
      "application/vnd.bokehjs_exec.v0+json": {
       "id": "1002"
      }
     },
     "output_type": "display_data"
    }
   ],
   "source": [
    "p = figure(title=\"Constituent Counts\", toolbar_location=None, x_axis_type='datetime')\n",
    "p.vbar(x=dfPortCount.Date, top=dfPortCount.Count , width=.9)\n",
    "show(p)"
   ]
  },
  {
   "cell_type": "markdown",
   "metadata": {},
   "source": [
    "Below demonstrates the differences between the actual portfolio return and the estimated portfolio return.  There are periods where the values are very close, but for the most part they are quite far apart.See the Variance for the portfolio return."
   ]
  },
  {
   "cell_type": "code",
   "execution_count": 9,
   "metadata": {},
   "outputs": [
    {
     "data": {
      "text/html": [
       "\n",
       "\n",
       "\n",
       "\n",
       "\n",
       "\n",
       "  <div class=\"bk-root\" id=\"59731f34-638a-4afd-9ca1-9a28abe74772\" data-root-id=\"1181\"></div>\n"
      ]
     },
     "metadata": {},
     "output_type": "display_data"
    },
    {
     "data": {
      "application/javascript": [
       "(function(root) {\n",
       "  function embed_document(root) {\n",
       "    \n",
       "  var docs_json = {\"2a204dce-319f-4bf8-b428-061032ce010b\":{\"roots\":{\"references\":[{\"attributes\":{\"below\":[{\"id\":\"1192\",\"type\":\"DatetimeAxis\"}],\"center\":[{\"id\":\"1196\",\"type\":\"Grid\"},{\"id\":\"1201\",\"type\":\"Grid\"}],\"left\":[{\"id\":\"1197\",\"type\":\"LinearAxis\"}],\"renderers\":[{\"id\":\"1218\",\"type\":\"GlyphRenderer\"}],\"title\":{\"id\":\"1182\",\"type\":\"Title\"},\"toolbar\":{\"id\":\"1208\",\"type\":\"Toolbar\"},\"toolbar_location\":null,\"x_range\":{\"id\":\"1184\",\"type\":\"DataRange1d\"},\"x_scale\":{\"id\":\"1188\",\"type\":\"LinearScale\"},\"y_range\":{\"id\":\"1186\",\"type\":\"DataRange1d\"},\"y_scale\":{\"id\":\"1190\",\"type\":\"LinearScale\"}},\"id\":\"1181\",\"subtype\":\"Figure\",\"type\":\"Plot\"},{\"attributes\":{},\"id\":\"1207\",\"type\":\"HelpTool\"},{\"attributes\":{\"formatter\":{\"id\":\"1243\",\"type\":\"DatetimeTickFormatter\"},\"ticker\":{\"id\":\"1193\",\"type\":\"DatetimeTicker\"}},\"id\":\"1192\",\"type\":\"DatetimeAxis\"},{\"attributes\":{\"months\":[0,4,8]},\"id\":\"1254\",\"type\":\"MonthsTicker\"},{\"attributes\":{},\"id\":\"1205\",\"type\":\"SaveTool\"},{\"attributes\":{\"num_minor_ticks\":5,\"tickers\":[{\"id\":\"1245\",\"type\":\"AdaptiveTicker\"},{\"id\":\"1246\",\"type\":\"AdaptiveTicker\"},{\"id\":\"1247\",\"type\":\"AdaptiveTicker\"},{\"id\":\"1248\",\"type\":\"DaysTicker\"},{\"id\":\"1249\",\"type\":\"DaysTicker\"},{\"id\":\"1250\",\"type\":\"DaysTicker\"},{\"id\":\"1251\",\"type\":\"DaysTicker\"},{\"id\":\"1252\",\"type\":\"MonthsTicker\"},{\"id\":\"1253\",\"type\":\"MonthsTicker\"},{\"id\":\"1254\",\"type\":\"MonthsTicker\"},{\"id\":\"1255\",\"type\":\"MonthsTicker\"},{\"id\":\"1256\",\"type\":\"YearsTicker\"}]},\"id\":\"1193\",\"type\":\"DatetimeTicker\"},{\"attributes\":{\"days\":[1,4,7,10,13,16,19,22,25,28]},\"id\":\"1249\",\"type\":\"DaysTicker\"},{\"attributes\":{},\"id\":\"1190\",\"type\":\"LinearScale\"},{\"attributes\":{\"formatter\":{\"id\":\"1241\",\"type\":\"BasicTickFormatter\"},\"ticker\":{\"id\":\"1198\",\"type\":\"BasicTicker\"}},\"id\":\"1197\",\"type\":\"LinearAxis\"},{\"attributes\":{\"text\":\"Difference between predicted return for period and actual return\"},\"id\":\"1182\",\"type\":\"Title\"},{\"attributes\":{\"base\":60,\"mantissas\":[1,2,5,10,15,20,30],\"max_interval\":1800000.0,\"min_interval\":1000.0,\"num_minor_ticks\":0},\"id\":\"1246\",\"type\":\"AdaptiveTicker\"},{\"attributes\":{\"ticker\":{\"id\":\"1193\",\"type\":\"DatetimeTicker\"}},\"id\":\"1196\",\"type\":\"Grid\"},{\"attributes\":{},\"id\":\"1188\",\"type\":\"LinearScale\"},{\"attributes\":{},\"id\":\"1198\",\"type\":\"BasicTicker\"},{\"attributes\":{},\"id\":\"1241\",\"type\":\"BasicTickFormatter\"},{\"attributes\":{\"mantissas\":[1,2,5],\"max_interval\":500.0,\"num_minor_ticks\":0},\"id\":\"1245\",\"type\":\"AdaptiveTicker\"},{\"attributes\":{\"dimension\":1,\"ticker\":{\"id\":\"1198\",\"type\":\"BasicTicker\"}},\"id\":\"1201\",\"type\":\"Grid\"},{\"attributes\":{},\"id\":\"1243\",\"type\":\"DatetimeTickFormatter\"},{\"attributes\":{},\"id\":\"1258\",\"type\":\"UnionRenderers\"},{\"attributes\":{\"source\":{\"id\":\"1215\",\"type\":\"ColumnDataSource\"}},\"id\":\"1219\",\"type\":\"CDSView\"},{\"attributes\":{\"months\":[0,6]},\"id\":\"1255\",\"type\":\"MonthsTicker\"},{\"attributes\":{},\"id\":\"1202\",\"type\":\"PanTool\"},{\"attributes\":{\"callback\":null},\"id\":\"1186\",\"type\":\"DataRange1d\"},{\"attributes\":{\"days\":[1,8,15,22]},\"id\":\"1250\",\"type\":\"DaysTicker\"},{\"attributes\":{\"days\":[1,2,3,4,5,6,7,8,9,10,11,12,13,14,15,16,17,18,19,20,21,22,23,24,25,26,27,28,29,30,31]},\"id\":\"1248\",\"type\":\"DaysTicker\"},{\"attributes\":{\"fill_alpha\":{\"value\":0.1},\"fill_color\":{\"value\":\"#1f77b4\"},\"line_alpha\":{\"value\":0.1},\"line_color\":{\"value\":\"#1f77b4\"},\"top\":{\"field\":\"top\"},\"width\":{\"value\":1},\"x\":{\"field\":\"x\"}},\"id\":\"1217\",\"type\":\"VBar\"},{\"attributes\":{\"base\":24,\"mantissas\":[1,2,4,6,8,12],\"max_interval\":43200000.0,\"min_interval\":3600000.0,\"num_minor_ticks\":0},\"id\":\"1247\",\"type\":\"AdaptiveTicker\"},{\"attributes\":{\"fill_color\":{\"value\":\"#1f77b4\"},\"line_color\":{\"value\":\"#1f77b4\"},\"top\":{\"field\":\"top\"},\"width\":{\"value\":1},\"x\":{\"field\":\"x\"}},\"id\":\"1216\",\"type\":\"VBar\"},{\"attributes\":{\"callback\":null,\"data\":{\"top\":{\"__ndarray__\":\"+6BO1oKPH8AADKsnIEKxv2TOWpC08itA3KsV4/27BEBU7h3coLUpwGjKDzShJAXAxn+hUjSKEEA+9SE9Hq8bwAA77YbJmAbAoug8F+cyHsBbFruByS4VQOqrCJjt1gHAdH5jSo8eH8DQ9DElOOUcQBCPBGZt5OC/EJ1nDq37IMAqNRC4oSonwODQzA1nqgZA/CLwOvWFKUC+0cnyY+AnwMqhUXdjYilAAFUEi5qPGsD4rjLAoC4SwPK2R92HfBhADn7Kr7ARGcAE6OEvZKT4P6hpgETHiQvA4zx8+LqK8j+uSi6vQYoQwHRQCdiRTvO/lm1roX8a878cht+OOCMSwNIHyKl3QBDA3jBWAHpEM0AQRDkPXMsmwAjUTl6FM/a/vafd/cPdAkB5laNTKwsFwC8iozNyNgbANp8hG6lqF8BqELdrDuUdwMavFtwPLyJA8qE0jhsGCsBsJw7bf+H/vw6Qf6JLFfe/BVK9uzZOCsCn4UzEzJD4P8fhNdscS+2/TQuGFIR0CkCav6CJpBMRwCjI3WrQcQdAlkP7zHgPEcCobcNygqf4v6K5oj1+UxPABuXMcZgTGUCRZTUQiDwhwGxXNd+K6BVAQEmVb8fn1L85US3xf6AOwOQdQ1HKJuu/IBtsX3t0H8C4n35fyikdQICJd9NwXxDAtg+eEQCV/b8u00S6y2Xwv3j4bUFio/0/alGxWS/XF8AAt6JQo+4UQD4V+qRtSiDAwe+5R2I1EEBQ16k/X5jDP0UflIfVWQvAkxwGI38UFcAqfD6L2BcfQKLILXVYYiPA3WYDhiHP4z8AilHVvnVxv0ZGplInsRjAtu6lYeIr3786BhjhiikgwPD5JrjVwOC/ya+zDkOTIEC2+DKBZ70ewFDnQ7s8rQ3AqnSYYsMcCsBYCobEhCcZQHiNJKoFxSJAIjkvXA3pGMBEqhXnh7/fv+/nRBDCQvC/vepsSOZaBUCojsTwFwEOwApk2jvwvfe/ln91fwjE8r8D78oDClIWQGRN6d9BOhzAOPYOPZ6VDsBsnabxr1voP+sHuQqF/RHAoDVWAko86z+0FuMpjHzXP4gGeB/+Juy/UI1lswYwzT+uUJNuPX36vwwyp5Tr9ABAhD6a1tMG8L/iA+rI0Fb2P9PibpmD6grA6uuwpCiQBECwCcba8ZImwJCoQYSlHfc/Hp5qTHlyC0AqwbczOqsCQEqpimo10wrAV33aKLeIEUA7tSwhMB8LwPyS2AZSARDARudGeAggG8Doia1kaoMeQB9NmluPKCbANJ/NYtJyMED+RKV7sUgQwNRwsHEOfPa/lXYzxREPAEAa0Hv1zbEnwHb9WTHLmSlAl8i4b508H8CWFVZWEjoJwFWC2SSqKgpA\",\"dtype\":\"float64\",\"shape\":[129]},\"x\":{\"__ndarray__\":\"AADA1PfocUIAAAAn8vJxQgAAAEj1+3FCAABAmu8FckIAAMCGlw9yQgAAANmRGXJCAACAxTkjckIAAMAXNC1yQgAAAGouN3JCAACAVtZAckIAAMCo0EpyQgAAQJV4VHJCAACA53JeckIAAMA5bWhyQgAAwFpwcXJCAAAArWp7ckIAAICZEoVyQgAAwOsMj3JCAABA2LSYckIAAIAqr6JyQgAAwHyprHJCAABAaVG2ckIAAIC7S8ByQgAAAKjzyXJCAABA+u3TckIAAIBM6N1yQgAAgG3r5nJCAADAv+XwckIAAECsjfpyQgAAgP6HBHNCAAAA6y8Oc0IAAEA9KhhzQgAAgI8kInNCAAAAfMwrc0IAAEDOxjVzQgAAwLpuP3NCAAAADWlJc0IAAEBfY1NzQgAAAOa4XHNCAABAOLNmc0IAAMAkW3BzQgAAAHdVenNCAACAY/2Dc0IAAMC1941zQgAAAAjyl3NCAACA9Jmhc0IAAMBGlKtzQgAAQDM8tXNCAACAhTa/c0IAAMDXMMlzQgAAwPgz0nNCAAAASy7cc0IAAIA31uVzQgAAwInQ73NCAABAdnj5c0IAAIDIcgN0QgAAwBptDXRCAABABxUXdEIAAIBZDyF0QgAAAEa3KnRCAABAmLE0dEIAAIDqqz50QgAAgAuvR3RCAADAXalRdEIAAEBKUVt0QgAAgJxLZXRCAAAAifNudEIAAEDb7Xh0QgAAgC3ognRCAAAAGpCMdEIAAEBsipZ0QgAAwFgyoHRCAAAAqyyqdEIAAED9JrR0QgAAQB4qvXRCAACAcCTHdEIAAABdzNB0QgAAQK/G2nRCAADAm27kdEIAAADuaO50QgAAQEBj+HRCAADALAsCdUIAAAB/BQx1QgAAgGutFXVCAADAvacfdUIAAAAQoil1QgAAwJb3MnVCAAAA6fE8dUIAAIDVmUZ1QgAAwCeUUHVCAABAFDxadUIAAIBmNmR1QgAAwLgwbnVCAABApdh3dUIAAID30oF1QgAAAOR6i3VCAABANnWVdUIAAICIb591QgAAgKlyqHVCAADA+2yydUIAAEDoFLx1QgAAgDoPxnVCAAAAJ7fPdUIAAEB5sdl1QgAAgMur43VCAAAAuFPtdUIAAEAKTvd1QgAAwPb1AHZCAAAASfAKdkIAAECb6hR2QgAAQLztHXZCAACADugndkIAAAD7jzF2QgAAQE2KO3ZCAADAOTJFdkIAAACMLE92QgAAQN4mWXZCAADAys5idkIAAAAdyWx2QgAAgAlxdnZCAADAW2uAdkIAAACuZYp2QgAAAM9ok3ZCAABAIWOddkIAAMANC6d2QgAAAGAFsXZCAACATK26dkIAAMCep8R2QgAAAPGhznZC\",\"dtype\":\"float64\",\"shape\":[129]}},\"selected\":{\"id\":\"1257\",\"type\":\"Selection\"},\"selection_policy\":{\"id\":\"1258\",\"type\":\"UnionRenderers\"}},\"id\":\"1215\",\"type\":\"ColumnDataSource\"},{\"attributes\":{\"months\":[0,1,2,3,4,5,6,7,8,9,10,11]},\"id\":\"1252\",\"type\":\"MonthsTicker\"},{\"attributes\":{\"data_source\":{\"id\":\"1215\",\"type\":\"ColumnDataSource\"},\"glyph\":{\"id\":\"1216\",\"type\":\"VBar\"},\"hover_glyph\":null,\"muted_glyph\":null,\"nonselection_glyph\":{\"id\":\"1217\",\"type\":\"VBar\"},\"selection_glyph\":null,\"view\":{\"id\":\"1219\",\"type\":\"CDSView\"}},\"id\":\"1218\",\"type\":\"GlyphRenderer\"},{\"attributes\":{\"days\":[1,15]},\"id\":\"1251\",\"type\":\"DaysTicker\"},{\"attributes\":{},\"id\":\"1203\",\"type\":\"WheelZoomTool\"},{\"attributes\":{},\"id\":\"1256\",\"type\":\"YearsTicker\"},{\"attributes\":{\"overlay\":{\"id\":\"1259\",\"type\":\"BoxAnnotation\"}},\"id\":\"1204\",\"type\":\"BoxZoomTool\"},{\"attributes\":{\"callback\":null},\"id\":\"1184\",\"type\":\"DataRange1d\"},{\"attributes\":{},\"id\":\"1206\",\"type\":\"ResetTool\"},{\"attributes\":{},\"id\":\"1257\",\"type\":\"Selection\"},{\"attributes\":{\"months\":[0,2,4,6,8,10]},\"id\":\"1253\",\"type\":\"MonthsTicker\"},{\"attributes\":{\"bottom_units\":\"screen\",\"fill_alpha\":{\"value\":0.5},\"fill_color\":{\"value\":\"lightgrey\"},\"left_units\":\"screen\",\"level\":\"overlay\",\"line_alpha\":{\"value\":1.0},\"line_color\":{\"value\":\"black\"},\"line_dash\":[4,4],\"line_width\":{\"value\":2},\"render_mode\":\"css\",\"right_units\":\"screen\",\"top_units\":\"screen\"},\"id\":\"1259\",\"type\":\"BoxAnnotation\"},{\"attributes\":{\"active_drag\":\"auto\",\"active_inspect\":\"auto\",\"active_multi\":null,\"active_scroll\":\"auto\",\"active_tap\":\"auto\",\"tools\":[{\"id\":\"1202\",\"type\":\"PanTool\"},{\"id\":\"1203\",\"type\":\"WheelZoomTool\"},{\"id\":\"1204\",\"type\":\"BoxZoomTool\"},{\"id\":\"1205\",\"type\":\"SaveTool\"},{\"id\":\"1206\",\"type\":\"ResetTool\"},{\"id\":\"1207\",\"type\":\"HelpTool\"}]},\"id\":\"1208\",\"type\":\"Toolbar\"}],\"root_ids\":[\"1181\"]},\"title\":\"Bokeh Application\",\"version\":\"1.2.0\"}};\n",
       "  var render_items = [{\"docid\":\"2a204dce-319f-4bf8-b428-061032ce010b\",\"roots\":{\"1181\":\"59731f34-638a-4afd-9ca1-9a28abe74772\"}}];\n",
       "  root.Bokeh.embed.embed_items_notebook(docs_json, render_items);\n",
       "\n",
       "  }\n",
       "  if (root.Bokeh !== undefined) {\n",
       "    embed_document(root);\n",
       "  } else {\n",
       "    var attempts = 0;\n",
       "    var timer = setInterval(function(root) {\n",
       "      if (root.Bokeh !== undefined) {\n",
       "        embed_document(root);\n",
       "        clearInterval(timer);\n",
       "      }\n",
       "      attempts++;\n",
       "      if (attempts > 100) {\n",
       "        console.log(\"Bokeh: ERROR: Unable to run BokehJS code because BokehJS library is missing\");\n",
       "        clearInterval(timer);\n",
       "      }\n",
       "    }, 10, root)\n",
       "  }\n",
       "})(window);"
      ],
      "application/vnd.bokehjs_exec.v0+json": ""
     },
     "metadata": {
      "application/vnd.bokehjs_exec.v0+json": {
       "id": "1181"
      }
     },
     "output_type": "display_data"
    }
   ],
   "source": [
    "p = figure(title=\"Difference between predicted return for period and actual return\", toolbar_location=None, x_axis_type='datetime')\n",
    "p.vbar(x=dfDifLR.index, top=dfDifLR.Rtn , width=1)\n",
    "show(p)"
   ]
  },
  {
   "cell_type": "markdown",
   "metadata": {},
   "source": [
    "As you can see from the graph below, a compounding portfolio built on the expectations including the error can have a dramatic impact to the long term results of a portfolio.  This is why reducing the error is so critical"
   ]
  },
  {
   "cell_type": "code",
   "execution_count": 10,
   "metadata": {},
   "outputs": [
    {
     "data": {
      "text/html": [
       "\n",
       "\n",
       "\n",
       "\n",
       "\n",
       "\n",
       "  <div class=\"bk-root\" id=\"c5cd7e54-aab3-409d-a4b4-6c0cc71c9ea7\" data-root-id=\"1380\"></div>\n"
      ]
     },
     "metadata": {},
     "output_type": "display_data"
    },
    {
     "data": {
      "application/javascript": [
       "(function(root) {\n",
       "  function embed_document(root) {\n",
       "    \n",
       "  var docs_json = {\"8c1bb773-16e7-4322-acca-6cbf90904810\":{\"roots\":{\"references\":[{\"attributes\":{\"below\":[{\"id\":\"1391\",\"type\":\"DatetimeAxis\"}],\"center\":[{\"id\":\"1395\",\"type\":\"Grid\"},{\"id\":\"1400\",\"type\":\"Grid\"},{\"id\":\"1437\",\"type\":\"Legend\"}],\"left\":[{\"id\":\"1396\",\"type\":\"LinearAxis\"}],\"renderers\":[{\"id\":\"1417\",\"type\":\"GlyphRenderer\"},{\"id\":\"1442\",\"type\":\"GlyphRenderer\"},{\"id\":\"1468\",\"type\":\"GlyphRenderer\"}],\"title\":{\"id\":\"1381\",\"type\":\"Title\"},\"toolbar\":{\"id\":\"1407\",\"type\":\"Toolbar\"},\"toolbar_location\":null,\"x_range\":{\"id\":\"1383\",\"type\":\"DataRange1d\"},\"x_scale\":{\"id\":\"1387\",\"type\":\"LinearScale\"},\"y_range\":{\"id\":\"1385\",\"type\":\"DataRange1d\"},\"y_scale\":{\"id\":\"1389\",\"type\":\"LinearScale\"}},\"id\":\"1380\",\"subtype\":\"Figure\",\"type\":\"Plot\"},{\"attributes\":{},\"id\":\"1387\",\"type\":\"LinearScale\"},{\"attributes\":{\"days\":[1,8,15,22]},\"id\":\"1429\",\"type\":\"DaysTicker\"},{\"attributes\":{},\"id\":\"1555\",\"type\":\"UnionRenderers\"},{\"attributes\":{\"months\":[0,6]},\"id\":\"1434\",\"type\":\"MonthsTicker\"},{\"attributes\":{\"items\":[{\"id\":\"1438\",\"type\":\"LegendItem\"},{\"id\":\"1464\",\"type\":\"LegendItem\"},{\"id\":\"1492\",\"type\":\"LegendItem\"}],\"location\":\"top_left\"},\"id\":\"1437\",\"type\":\"Legend\"},{\"attributes\":{\"data_source\":{\"id\":\"1414\",\"type\":\"ColumnDataSource\"},\"glyph\":{\"id\":\"1415\",\"type\":\"Line\"},\"hover_glyph\":null,\"muted_glyph\":null,\"nonselection_glyph\":{\"id\":\"1416\",\"type\":\"Line\"},\"selection_glyph\":null,\"view\":{\"id\":\"1418\",\"type\":\"CDSView\"}},\"id\":\"1417\",\"type\":\"GlyphRenderer\"},{\"attributes\":{},\"id\":\"1420\",\"type\":\"BasicTickFormatter\"},{\"attributes\":{\"callback\":null,\"data\":{\"x\":{\"__ndarray__\":\"AADA1PfocUIAAAAn8vJxQgAAAEj1+3FCAABAmu8FckIAAMCGlw9yQgAAANmRGXJCAACAxTkjckIAAMAXNC1yQgAAAGouN3JCAACAVtZAckIAAMCo0EpyQgAAQJV4VHJCAACA53JeckIAAMA5bWhyQgAAwFpwcXJCAAAArWp7ckIAAICZEoVyQgAAwOsMj3JCAABA2LSYckIAAIAqr6JyQgAAwHyprHJCAABAaVG2ckIAAIC7S8ByQgAAAKjzyXJCAABA+u3TckIAAIBM6N1yQgAAgG3r5nJCAADAv+XwckIAAECsjfpyQgAAgP6HBHNCAAAA6y8Oc0IAAEA9KhhzQgAAgI8kInNCAAAAfMwrc0IAAEDOxjVzQgAAwLpuP3NCAAAADWlJc0IAAEBfY1NzQgAAAOa4XHNCAABAOLNmc0IAAMAkW3BzQgAAAHdVenNCAACAY/2Dc0IAAMC1941zQgAAAAjyl3NCAACA9Jmhc0IAAMBGlKtzQgAAQDM8tXNCAACAhTa/c0IAAMDXMMlzQgAAwPgz0nNCAAAASy7cc0IAAIA31uVzQgAAwInQ73NCAABAdnj5c0IAAIDIcgN0QgAAwBptDXRCAABABxUXdEIAAIBZDyF0QgAAAEa3KnRCAABAmLE0dEIAAIDqqz50QgAAgAuvR3RCAADAXalRdEIAAEBKUVt0QgAAgJxLZXRCAAAAifNudEIAAEDb7Xh0QgAAgC3ognRCAAAAGpCMdEIAAEBsipZ0QgAAwFgyoHRCAAAAqyyqdEIAAED9JrR0QgAAQB4qvXRCAACAcCTHdEIAAABdzNB0QgAAQK/G2nRCAADAm27kdEIAAADuaO50QgAAQEBj+HRCAADALAsCdUIAAAB/BQx1QgAAgGutFXVCAADAvacfdUIAAAAQoil1QgAAwJb3MnVCAAAA6fE8dUIAAIDVmUZ1QgAAwCeUUHVCAABAFDxadUIAAIBmNmR1QgAAwLgwbnVCAABApdh3dUIAAID30oF1QgAAAOR6i3VCAABANnWVdUIAAICIb591QgAAgKlyqHVCAADA+2yydUIAAEDoFLx1QgAAgDoPxnVCAAAAJ7fPdUIAAEB5sdl1QgAAgMur43VCAAAAuFPtdUIAAEAKTvd1QgAAwPb1AHZCAAAASfAKdkIAAECb6hR2QgAAQLztHXZCAACADugndkIAAAD7jzF2QgAAQE2KO3ZCAADAOTJFdkIAAACMLE92QgAAQN4mWXZCAADAys5idkIAAAAdyWx2QgAAgAlxdnZCAADAW2uAdkIAAACuZYp2QgAAAM9ok3ZCAABAIWOddkIAAMANC6d2QgAAAGAFsXZCAACATK26dkIAAMCep8R2QgAAAPGhznZC\",\"dtype\":\"float64\",\"shape\":[129]},\"y\":{\"__ndarray__\":\"YO79CURmWUAEr9P9jFNXQEu5e/wr6lRAb8Zl6nS+VkD/3MrK0AtZQN5UAf6pblpAteiQHDZ/WkB+GFXF24RcQIElNk8Njl1AKyU6AQ7BXkC4+z3NBxNeQA10AHCN2F9A78sH7YNPYEA8NhVviHJfQHsSylLvPWBAjC2DBm09YUBc8052HI9hQD4tB8u4KmBAY7IGFqSIXkC7L6I58FNgQAE3eyz6MV9A+0w0cdwHYUAB+65ciLFhQAEHjMVNwGFAUDhaaabvYkA8icUROmRjQEZKQ8PlEGRAnBrQgi0eZECJW86lFLlkQFuEn7YrgGRAT3j+nG4kZEBI5UfUh7RjQPyrovkQkmJA0C5fcFQvYUC3XhuBcRxjQO+ZBlKcD2NA1afO3mU4Y0C4+u97LyhkQN8HmGGgCmVAb3G4rS2zZUD+9Qzk8ZJlQNmDPPqMP2RAs3FkGAAGZUBkcrQ61kVlQOyNy70RymVAUPJxBI1ZZkA7DaH99PhlQGmet/+kJWZAgKPEKXFgZkC/0cLuHZdnQJrevCdB6GdA+Bdfr4fUaEB4sc3VUUdpQAEXPatE12lAkB6c2hx9aUDm5lH0QdpqQFRJvhymHGpAN5fDK70Fa0CiKkq0QTZsQAC2xnTkAG1AspjByjLJbUCVh+FYqdVsQOEhnKgJNG5AxRGmcUllbkDlxsbG6IluQHRS2AiPPW9A6N8DoHfzb0CppntnNG9vQD/bP5fbXXBAcOfIvmcUcEDs9rEUAnlwQBhqA7Jp53BA8f3IzFTdcEAtzHTdvmZwQE/5JxlaWXFAJ12EpwsicUAiGmBHLkFxQJWTSTX4enFAfo7PMAUncUAztk5VqHtxQA/kAMxubnBAyFByx0n2b0B+LiYKJ0ZxQLeAscTCVHFAlShZI/EEcUDApUribhpwQOXHhMQEGXBA3SsSmxc4cUAZF6p4EFBxQEQu5HytnXFAHzoE1OOncUCX70SgElRyQLmRUHhOWnJAQiruYwZeckATXiLOVQJyQEPsplkXuHJAubNzmx4Sc0DTUvPPSnRzQI/a+8sRNXRASGVXclY4dEAKlIJREG90QKwlvPXSsXRAtXiMkdDWdEAoageFdkB1QG35sCd7UXVAiK658bLFdUDrCOBoiUV2QDHGLkpp83ZAdmBNJ+k0d0A4uezBBnt4QDMo/VrxlHdA/ZLBEusLd0CXHWeH+B93QKjhF6kVt3dAdzVAFljed0CQ1+SNOLF4QHD9oZUIi3lArPRsJd2jeUCc+lkLYtN3QGilmGCCT3hAvv3A4bAYdkCAaoB8vfJ3QH768lRRwnhA5W2yMKoweUB3mbWeFjV6QOPciY6OiXhA4rYZS4xCekB8LBHE8qp6QO0r7b/oLXpA\",\"dtype\":\"float64\",\"shape\":[129]}},\"selected\":{\"id\":\"1461\",\"type\":\"Selection\"},\"selection_policy\":{\"id\":\"1462\",\"type\":\"UnionRenderers\"}},\"id\":\"1414\",\"type\":\"ColumnDataSource\"},{\"attributes\":{\"days\":[1,15]},\"id\":\"1430\",\"type\":\"DaysTicker\"},{\"attributes\":{},\"id\":\"1489\",\"type\":\"Selection\"},{\"attributes\":{\"months\":[0,1,2,3,4,5,6,7,8,9,10,11]},\"id\":\"1431\",\"type\":\"MonthsTicker\"},{\"attributes\":{},\"id\":\"1422\",\"type\":\"DatetimeTickFormatter\"},{\"attributes\":{\"months\":[0,4,8]},\"id\":\"1433\",\"type\":\"MonthsTicker\"},{\"attributes\":{\"data_source\":{\"id\":\"1465\",\"type\":\"ColumnDataSource\"},\"glyph\":{\"id\":\"1466\",\"type\":\"Line\"},\"hover_glyph\":null,\"muted_glyph\":null,\"nonselection_glyph\":{\"id\":\"1467\",\"type\":\"Line\"},\"selection_glyph\":null,\"view\":{\"id\":\"1469\",\"type\":\"CDSView\"}},\"id\":\"1468\",\"type\":\"GlyphRenderer\"},{\"attributes\":{},\"id\":\"1461\",\"type\":\"Selection\"},{\"attributes\":{\"formatter\":{\"id\":\"1420\",\"type\":\"BasicTickFormatter\"},\"ticker\":{\"id\":\"1397\",\"type\":\"BasicTicker\"}},\"id\":\"1396\",\"type\":\"LinearAxis\"},{\"attributes\":{\"source\":{\"id\":\"1465\",\"type\":\"ColumnDataSource\"}},\"id\":\"1469\",\"type\":\"CDSView\"},{\"attributes\":{},\"id\":\"1405\",\"type\":\"ResetTool\"},{\"attributes\":{},\"id\":\"1406\",\"type\":\"HelpTool\"},{\"attributes\":{},\"id\":\"1462\",\"type\":\"UnionRenderers\"},{\"attributes\":{\"mantissas\":[1,2,5],\"max_interval\":500.0,\"num_minor_ticks\":0},\"id\":\"1424\",\"type\":\"AdaptiveTicker\"},{\"attributes\":{\"line_color\":\"blue\",\"x\":{\"field\":\"x\"},\"y\":{\"field\":\"y\"}},\"id\":\"1466\",\"type\":\"Line\"},{\"attributes\":{},\"id\":\"1389\",\"type\":\"LinearScale\"},{\"attributes\":{},\"id\":\"1401\",\"type\":\"PanTool\"},{\"attributes\":{\"months\":[0,2,4,6,8,10]},\"id\":\"1432\",\"type\":\"MonthsTicker\"},{\"attributes\":{\"base\":24,\"mantissas\":[1,2,4,6,8,12],\"max_interval\":43200000.0,\"min_interval\":3600000.0,\"num_minor_ticks\":0},\"id\":\"1426\",\"type\":\"AdaptiveTicker\"},{\"attributes\":{\"ticker\":{\"id\":\"1392\",\"type\":\"DatetimeTicker\"}},\"id\":\"1395\",\"type\":\"Grid\"},{\"attributes\":{\"dimension\":1,\"ticker\":{\"id\":\"1397\",\"type\":\"BasicTicker\"}},\"id\":\"1400\",\"type\":\"Grid\"},{\"attributes\":{\"source\":{\"id\":\"1439\",\"type\":\"ColumnDataSource\"}},\"id\":\"1443\",\"type\":\"CDSView\"},{\"attributes\":{\"text\":\"Return Comparison\"},\"id\":\"1381\",\"type\":\"Title\"},{\"attributes\":{},\"id\":\"1404\",\"type\":\"SaveTool\"},{\"attributes\":{\"active_drag\":\"auto\",\"active_inspect\":\"auto\",\"active_multi\":null,\"active_scroll\":\"auto\",\"active_tap\":\"auto\",\"tools\":[{\"id\":\"1401\",\"type\":\"PanTool\"},{\"id\":\"1402\",\"type\":\"WheelZoomTool\"},{\"id\":\"1403\",\"type\":\"BoxZoomTool\"},{\"id\":\"1404\",\"type\":\"SaveTool\"},{\"id\":\"1405\",\"type\":\"ResetTool\"},{\"id\":\"1406\",\"type\":\"HelpTool\"}]},\"id\":\"1407\",\"type\":\"Toolbar\"},{\"attributes\":{\"callback\":null,\"data\":{\"x\":{\"__ndarray__\":\"AADA1PfocUIAAAAn8vJxQgAAAEj1+3FCAABAmu8FckIAAMCGlw9yQgAAANmRGXJCAACAxTkjckIAAMAXNC1yQgAAAGouN3JCAACAVtZAckIAAMCo0EpyQgAAQJV4VHJCAACA53JeckIAAMA5bWhyQgAAwFpwcXJCAAAArWp7ckIAAICZEoVyQgAAwOsMj3JCAABA2LSYckIAAIAqr6JyQgAAwHyprHJCAABAaVG2ckIAAIC7S8ByQgAAAKjzyXJCAABA+u3TckIAAIBM6N1yQgAAgG3r5nJCAADAv+XwckIAAECsjfpyQgAAgP6HBHNCAAAA6y8Oc0IAAEA9KhhzQgAAgI8kInNCAAAAfMwrc0IAAEDOxjVzQgAAwLpuP3NCAAAADWlJc0IAAEBfY1NzQgAAAOa4XHNCAABAOLNmc0IAAMAkW3BzQgAAAHdVenNCAACAY/2Dc0IAAMC1941zQgAAAAjyl3NCAACA9Jmhc0IAAMBGlKtzQgAAQDM8tXNCAACAhTa/c0IAAMDXMMlzQgAAwPgz0nNCAAAASy7cc0IAAIA31uVzQgAAwInQ73NCAABAdnj5c0IAAIDIcgN0QgAAwBptDXRCAABABxUXdEIAAIBZDyF0QgAAAEa3KnRCAABAmLE0dEIAAIDqqz50QgAAgAuvR3RCAADAXalRdEIAAEBKUVt0QgAAgJxLZXRCAAAAifNudEIAAEDb7Xh0QgAAgC3ognRCAAAAGpCMdEIAAEBsipZ0QgAAwFgyoHRCAAAAqyyqdEIAAED9JrR0QgAAQB4qvXRCAACAcCTHdEIAAABdzNB0QgAAQK/G2nRCAADAm27kdEIAAADuaO50QgAAQEBj+HRCAADALAsCdUIAAAB/BQx1QgAAgGutFXVCAADAvacfdUIAAAAQoil1QgAAwJb3MnVCAAAA6fE8dUIAAIDVmUZ1QgAAwCeUUHVCAABAFDxadUIAAIBmNmR1QgAAwLgwbnVCAABApdh3dUIAAID30oF1QgAAAOR6i3VCAABANnWVdUIAAICIb591QgAAgKlyqHVCAADA+2yydUIAAEDoFLx1QgAAgDoPxnVCAAAAJ7fPdUIAAEB5sdl1QgAAgMur43VCAAAAuFPtdUIAAEAKTvd1QgAAwPb1AHZCAAAASfAKdkIAAECb6hR2QgAAQLztHXZCAACADugndkIAAAD7jzF2QgAAQE2KO3ZCAADAOTJFdkIAAACMLE92QgAAQN4mWXZCAADAys5idkIAAAAdyWx2QgAAgAlxdnZCAADAW2uAdkIAAACuZYp2QgAAAM9ok3ZCAABAIWOddkIAAMANC6d2QgAAAGAFsXZCAACATK26dkIAAMCep8R2QgAAAPGhznZC\",\"dtype\":\"float64\",\"shape\":[129]},\"y\":{\"__ndarray__\":\"8UupSVd9WUCqrsR8Z59XQF3C285KUVVAMZ6MwfaOV0AaVyx1poRbQMIuBhA/Dl1AI3nSauZ5XUB6MeZst0BgQPOTB/wsX2FA9cKxhmYsYkAO5ZrRNwJiQDzQBb6MQmNAcgP3gP4PZED36X7oHYFjQLhS8LK/pWRAaIDDjy9lZkBpf4htqVJnQPxuIS+doGVAsymQ0KiJZEAu/jrV0SBmQEaO1zh9VGVAX4NMPwV7Z0CCM03U1oloQEJ//8lv4WhAp2bng8MHa0D11hqdSvxrQBeA5XHJVW1ALAxoU0rZbUBtnQnKG9puQJgr7rgfpm5AwA133h1nbkCSv27+NfxtQBrQRhaJkmxArJTw30q4akD7n6x8++JtQPx2vF85Q25AElkDRFEHb0C2c1dTTEpwQFFfUY5ZMnFACfpWSWL+cUCO0ESDjxhyQIEWapDcUXFAFpj/0z8kckBnLgLv05lyQGCqW+h6NnNAHt5yAn75c0B7eaelYAR0QKS7SNdPU3RAflknngzidEAjR/YEpTJ2QMpor7hut3ZAOjzuI73Ud0DSVs9vkI94QDmhwtDEhXlAN0sm/R1keUCWpXgONBJ7QC//xzfIeHpAbbu5HaKhe0CENsK6shx9QAJ/yqebPn5ABHLbbRZef0CKFleQ0Ht+QEHE+DOJD4BAx8kFhFB9gEBt3glAgK2AQBiRjI5MO4FAjWIWvbK8gUDysgrMrKuBQCen45iIj4JAJibnkkd6gkCl7pim7/OCQGvXNERNmYNAl/tWEuDHg0DnhDyPz0SDQO99FUrBd4RAAI2lpvhfhEC8NRvOQbaEQIahl9daM4VA3b8cRtwJhUA0ET9ZZKCFQHL81FHUm4RAF+jejvlEhEC5maXvAvmFQI8bHGwTPYZATr9LJz4UhkBx9pfsfTSFQKKMFehIN4VAcftfi/jMhkB1loZnQk2HQPLH3fDP2YdAQEBUUiv1h0BWongqCuyIQLm1N3pCZIlArG9PgAN7iUDwX9cina+JQKCUmrfY/otANpvAJeb1jEAQ5W7/BqiNQMySmICN5Y5AKC8wydL8jkCAJZVTuWuPQDLIKO9KBpBA26R/O6tKkEBfzyrJF8OQQNox18XB5pBANk2vRdGVkUBcwGKeGjuSQKec0Ap+55JAKrYlUps+k0BqnlB9oJGUQIi3B39W/JNAgHTzs6ylk0CnAUJ5O9eTQB+LR2SRhpRAyaMbWOCqlECIi50CcYuVQAcqGFeUb5ZAn6/aUi2ilkAoo8I/romVQBQNR/pfFZZAgBI0cWtClEAGAOkv/PmVQI9CZWLvxpZAiueq6ak5l0BKmOZ9enWYQEjlVFJIIJdALnOynNXTmEAuq7Ygd3GZQPgUGrLvJZlA\",\"dtype\":\"float64\",\"shape\":[129]}},\"selected\":{\"id\":\"1489\",\"type\":\"Selection\"},\"selection_policy\":{\"id\":\"1490\",\"type\":\"UnionRenderers\"}},\"id\":\"1439\",\"type\":\"ColumnDataSource\"},{\"attributes\":{\"days\":[1,4,7,10,13,16,19,22,25,28]},\"id\":\"1428\",\"type\":\"DaysTicker\"},{\"attributes\":{\"formatter\":{\"id\":\"1422\",\"type\":\"DatetimeTickFormatter\"},\"ticker\":{\"id\":\"1392\",\"type\":\"DatetimeTicker\"}},\"id\":\"1391\",\"type\":\"DatetimeAxis\"},{\"attributes\":{\"line_color\":\"red\",\"x\":{\"field\":\"x\"},\"y\":{\"field\":\"y\"}},\"id\":\"1415\",\"type\":\"Line\"},{\"attributes\":{\"line_alpha\":0.1,\"line_color\":\"#1f77b4\",\"x\":{\"field\":\"x\"},\"y\":{\"field\":\"y\"}},\"id\":\"1416\",\"type\":\"Line\"},{\"attributes\":{},\"id\":\"1554\",\"type\":\"Selection\"},{\"attributes\":{},\"id\":\"1397\",\"type\":\"BasicTicker\"},{\"attributes\":{\"line_alpha\":0.1,\"line_color\":\"#1f77b4\",\"x\":{\"field\":\"x\"},\"y\":{\"field\":\"y\"}},\"id\":\"1467\",\"type\":\"Line\"},{\"attributes\":{\"line_alpha\":0.1,\"line_color\":\"#1f77b4\",\"x\":{\"field\":\"x\"},\"y\":{\"field\":\"y\"}},\"id\":\"1441\",\"type\":\"Line\"},{\"attributes\":{\"days\":[1,2,3,4,5,6,7,8,9,10,11,12,13,14,15,16,17,18,19,20,21,22,23,24,25,26,27,28,29,30,31]},\"id\":\"1427\",\"type\":\"DaysTicker\"},{\"attributes\":{\"line_color\":\"green\",\"x\":{\"field\":\"x\"},\"y\":{\"field\":\"y\"}},\"id\":\"1440\",\"type\":\"Line\"},{\"attributes\":{\"label\":{\"value\":\"R1000\"},\"renderers\":[{\"id\":\"1417\",\"type\":\"GlyphRenderer\"}]},\"id\":\"1438\",\"type\":\"LegendItem\"},{\"attributes\":{\"source\":{\"id\":\"1414\",\"type\":\"ColumnDataSource\"}},\"id\":\"1418\",\"type\":\"CDSView\"},{\"attributes\":{\"num_minor_ticks\":5,\"tickers\":[{\"id\":\"1424\",\"type\":\"AdaptiveTicker\"},{\"id\":\"1425\",\"type\":\"AdaptiveTicker\"},{\"id\":\"1426\",\"type\":\"AdaptiveTicker\"},{\"id\":\"1427\",\"type\":\"DaysTicker\"},{\"id\":\"1428\",\"type\":\"DaysTicker\"},{\"id\":\"1429\",\"type\":\"DaysTicker\"},{\"id\":\"1430\",\"type\":\"DaysTicker\"},{\"id\":\"1431\",\"type\":\"MonthsTicker\"},{\"id\":\"1432\",\"type\":\"MonthsTicker\"},{\"id\":\"1433\",\"type\":\"MonthsTicker\"},{\"id\":\"1434\",\"type\":\"MonthsTicker\"},{\"id\":\"1435\",\"type\":\"YearsTicker\"}]},\"id\":\"1392\",\"type\":\"DatetimeTicker\"},{\"attributes\":{\"base\":60,\"mantissas\":[1,2,5,10,15,20,30],\"max_interval\":1800000.0,\"min_interval\":1000.0,\"num_minor_ticks\":0},\"id\":\"1425\",\"type\":\"AdaptiveTicker\"},{\"attributes\":{},\"id\":\"1490\",\"type\":\"UnionRenderers\"},{\"attributes\":{\"bottom_units\":\"screen\",\"fill_alpha\":{\"value\":0.5},\"fill_color\":{\"value\":\"lightgrey\"},\"left_units\":\"screen\",\"level\":\"overlay\",\"line_alpha\":{\"value\":1.0},\"line_color\":{\"value\":\"black\"},\"line_dash\":[4,4],\"line_width\":{\"value\":2},\"render_mode\":\"css\",\"right_units\":\"screen\",\"top_units\":\"screen\"},\"id\":\"1436\",\"type\":\"BoxAnnotation\"},{\"attributes\":{\"callback\":null},\"id\":\"1383\",\"type\":\"DataRange1d\"},{\"attributes\":{},\"id\":\"1402\",\"type\":\"WheelZoomTool\"},{\"attributes\":{\"data_source\":{\"id\":\"1439\",\"type\":\"ColumnDataSource\"},\"glyph\":{\"id\":\"1440\",\"type\":\"Line\"},\"hover_glyph\":null,\"muted_glyph\":null,\"nonselection_glyph\":{\"id\":\"1441\",\"type\":\"Line\"},\"selection_glyph\":null,\"view\":{\"id\":\"1443\",\"type\":\"CDSView\"}},\"id\":\"1442\",\"type\":\"GlyphRenderer\"},{\"attributes\":{\"overlay\":{\"id\":\"1436\",\"type\":\"BoxAnnotation\"}},\"id\":\"1403\",\"type\":\"BoxZoomTool\"},{\"attributes\":{\"label\":{\"value\":\"Expected Return\"},\"renderers\":[{\"id\":\"1442\",\"type\":\"GlyphRenderer\"}]},\"id\":\"1464\",\"type\":\"LegendItem\"},{\"attributes\":{},\"id\":\"1435\",\"type\":\"YearsTicker\"},{\"attributes\":{\"callback\":null},\"id\":\"1385\",\"type\":\"DataRange1d\"},{\"attributes\":{\"label\":{\"value\":\"Actual Return\"},\"renderers\":[{\"id\":\"1468\",\"type\":\"GlyphRenderer\"}]},\"id\":\"1492\",\"type\":\"LegendItem\"},{\"attributes\":{\"callback\":null,\"data\":{\"x\":{\"__ndarray__\":\"AADA1PfocUIAAAAn8vJxQgAAAEj1+3FCAABAmu8FckIAAMCGlw9yQgAAANmRGXJCAACAxTkjckIAAMAXNC1yQgAAAGouN3JCAACAVtZAckIAAMCo0EpyQgAAQJV4VHJCAACA53JeckIAAMA5bWhyQgAAwFpwcXJCAAAArWp7ckIAAICZEoVyQgAAwOsMj3JCAABA2LSYckIAAIAqr6JyQgAAwHyprHJCAABAaVG2ckIAAIC7S8ByQgAAAKjzyXJCAABA+u3TckIAAIBM6N1yQgAAgG3r5nJCAADAv+XwckIAAECsjfpyQgAAgP6HBHNCAAAA6y8Oc0IAAEA9KhhzQgAAgI8kInNCAAAAfMwrc0IAAEDOxjVzQgAAwLpuP3NCAAAADWlJc0IAAEBfY1NzQgAAAOa4XHNCAABAOLNmc0IAAMAkW3BzQgAAAHdVenNCAACAY/2Dc0IAAMC1941zQgAAAAjyl3NCAACA9Jmhc0IAAMBGlKtzQgAAQDM8tXNCAACAhTa/c0IAAMDXMMlzQgAAwPgz0nNCAAAASy7cc0IAAIA31uVzQgAAwInQ73NCAABAdnj5c0IAAIDIcgN0QgAAwBptDXRCAABABxUXdEIAAIBZDyF0QgAAAEa3KnRCAABAmLE0dEIAAIDqqz50QgAAgAuvR3RCAADAXalRdEIAAEBKUVt0QgAAgJxLZXRCAAAAifNudEIAAEDb7Xh0QgAAgC3ognRCAAAAGpCMdEIAAEBsipZ0QgAAwFgyoHRCAAAAqyyqdEIAAED9JrR0QgAAQB4qvXRCAACAcCTHdEIAAABdzNB0QgAAQK/G2nRCAADAm27kdEIAAADuaO50QgAAQEBj+HRCAADALAsCdUIAAAB/BQx1QgAAgGutFXVCAADAvacfdUIAAAAQoil1QgAAwJb3MnVCAAAA6fE8dUIAAIDVmUZ1QgAAwCeUUHVCAABAFDxadUIAAIBmNmR1QgAAwLgwbnVCAABApdh3dUIAAID30oF1QgAAAOR6i3VCAABANnWVdUIAAICIb591QgAAgKlyqHVCAADA+2yydUIAAEDoFLx1QgAAgDoPxnVCAAAAJ7fPdUIAAEB5sdl1QgAAgMur43VCAAAAuFPtdUIAAEAKTvd1QgAAwPb1AHZCAAAASfAKdkIAAECb6hR2QgAAQLztHXZCAACADugndkIAAAD7jzF2QgAAQE2KO3ZCAADAOTJFdkIAAACMLE92QgAAQN4mWXZCAADAys5idkIAAAAdyWx2QgAAgAlxdnZCAADAW2uAdkIAAACuZYp2QgAAAM9ok3ZCAABAIWOddkIAAMANC6d2QgAAAGAFsXZCAACATK26dkIAAMCep8R2QgAAAPGhznZC\",\"dtype\":\"float64\",\"shape\":[129]},\"y\":{\"__ndarray__\":\"42FEHF+EV0CsK/SZXMdVQHMPlD9qslZA3QI7DM2rWUBq6M9umq9aQF8kyJ++eFtAH3k5wVQBXUCMIRd2kPpdQBcv1LgrMl9AB5/1EcdHXkC3ZhP8AJxfQBoo+xbojGBAQcOpyaXnX0A1s0/OOalgQHoVosqujGFAdei4A32LYUBGf0JJRT1gQA1ufUCrCV9AOo5R3qq3YEAQtAA4LARgQFw/9AqueGFAJVF3cJ8SYkC5tQW2wxBiQKwzmW1dbGNA8MYi/FniY0Asx8ZnoeRkQLnjy6ZzLmVAjSg6Pz7MZUBJYJAPDKFlQKyAesjJOWVA1m/kb0bNZEDV4qAHqZJjQMCMDrz+2mFAF5cN5lgjZEAq/mk4xzpkQAB/bf4PNGRAbUPQWvIwZUC+GuUKkrFlQBdIy6pkTGZAl4Haj8cGZkB92S3xZYFkQG+whkuDfWVADuLEAZnPZUB1tVOYs+1lQOLmAbVjVWZAg9/KKxR8ZkAefyVCteBmQFNQ1D9PBWdAtvYeRdxpaEB5uQIKi+hoQL1+sjBqOGpAjHUeeW9jakCfoXMzN8pqQCa99YRoi2pA/JtaJmwSbEAIWe6ak4JrQLgGL2JlaGxABO3dvDOPbUBe4aUiBANuQDs8Bjay7G5A0Q33FhekbUDnfRRZgfduQMamzjLrXG9AOoA33dieb0DqzpQ0SqhvQCpkOSLJpXBAeHggZcokcECBOshDke1wQBxGHILdZnBAUZ40HDr+cECkdZrMxHRxQNORNEVLdHFATjQDnUqycEAyigiG6o9xQJXzWj/t83BAuiB70hf7cEBPM5Dr0UJxQOA1Kf9MmnBAxEGVrBplcEDXLphReQ5vQIMHkAisbm1Ad0vEaBNjb0CNADgLyJxvQBVnoGp/0m5AW/RJvlqYbUAtUHae4UhuQFsByUk7knBATvcP0+nGcEAbe+0IARBxQFh8itSHSnFAjZuMUYbUcUAJBqN9D+FxQBjtrpRj83FAr7Kb25PNcUCa43ehpfByQKjC+3VwTnNALsx+Wdw7c0D8mIyNpNdzQJ9S4mihx3NA4qxVDqABdEDpnO4/BVx0QPfbfDRmlnRAHO0TXkP6dEDeM5Bfajx1QKeRcAbU3HVAqw4s2jaHdkBUOFJme6t3QNRCT8Ftv3dAieD4vCDJeEBCnO5zlrF3QBDN6RVAXXdAmyRLrSXFd0DHDcuhG494QCFV7B5TlXhAnkE7663UeUB4V+dzKQ16QEA51lwrFnpAWaF8eCKMeECISG5VSzt5QOIr4aNOE3dAmm3o4wr3eEDPYxZdhhB6QOb6N8/UpXpA+/0fx/60e0DYxPEMbeV5QDKi0ozFzHtACMWSC5ase0CKzpZ843x7QM6oqHN0EXxA\",\"dtype\":\"float64\",\"shape\":[129]}},\"selected\":{\"id\":\"1554\",\"type\":\"Selection\"},\"selection_policy\":{\"id\":\"1555\",\"type\":\"UnionRenderers\"}},\"id\":\"1465\",\"type\":\"ColumnDataSource\"}],\"root_ids\":[\"1380\"]},\"title\":\"Bokeh Application\",\"version\":\"1.2.0\"}};\n",
       "  var render_items = [{\"docid\":\"8c1bb773-16e7-4322-acca-6cbf90904810\",\"roots\":{\"1380\":\"c5cd7e54-aab3-409d-a4b4-6c0cc71c9ea7\"}}];\n",
       "  root.Bokeh.embed.embed_items_notebook(docs_json, render_items);\n",
       "\n",
       "  }\n",
       "  if (root.Bokeh !== undefined) {\n",
       "    embed_document(root);\n",
       "  } else {\n",
       "    var attempts = 0;\n",
       "    var timer = setInterval(function(root) {\n",
       "      if (root.Bokeh !== undefined) {\n",
       "        embed_document(root);\n",
       "        clearInterval(timer);\n",
       "      }\n",
       "      attempts++;\n",
       "      if (attempts > 100) {\n",
       "        console.log(\"Bokeh: ERROR: Unable to run BokehJS code because BokehJS library is missing\");\n",
       "        clearInterval(timer);\n",
       "      }\n",
       "    }, 10, root)\n",
       "  }\n",
       "})(window);"
      ],
      "application/vnd.bokehjs_exec.v0+json": ""
     },
     "metadata": {
      "application/vnd.bokehjs_exec.v0+json": {
       "id": "1380"
      }
     },
     "output_type": "display_data"
    }
   ],
   "source": [
    "#Return analysis between predicted return weights and Index\n",
    "p = figure(title=\"Return Comparison\", toolbar_location=None, x_axis_type='datetime')\n",
    "\n",
    "p.line(x=dfBmk[dfEstLR.index.min():].index, y=np.cumprod(1+dfBmk[dfEstLR.index.min():].RETURN/100)*100, color='red', legend='R1000')\n",
    "p.line(x=dfEstLR.index, y=np.cumprod(1+dfEstLR.Rtn/100)*100, color='green', legend='Expected Return')\n",
    "p.line(x=dfActLR.index, y=np.cumprod(1+dfActLR.Rtn/100)*100, color='blue', legend='Actual Return')\n",
    "p.legend.location = \"top_left\"\n",
    "show(p)"
   ]
  },
  {
   "cell_type": "markdown",
   "metadata": {},
   "source": [
    "Bayes"
   ]
  },
  {
   "cell_type": "code",
   "execution_count": 11,
   "metadata": {},
   "outputs": [],
   "source": [
    "def getBayesWeights(curdt,dfSecRtn, dfFamaData,dfConstList, nextdt, cols):\n",
    "\n",
    "    #get the current securities as of this date\n",
    "    #colsTick = dfConstList[dfConstList[curdt.strftime('%Y-%m-%d')]==1].index.get_level_values(0).tolist()\n",
    "    #cols = dfSecRtn.loc[curdt,colsTick][~(dfSecRtn.loc[curdt,colsTick].isnull()) & ~(dfSecRtn.loc[:curdt,colsTick].isna().sum()>6)].index.tolist()\n",
    "    #ensure there is not duplicate results as some entities have different tickers\n",
    "    #cols = list(set(cols))\n",
    "    #Added for purposes of allowing for faster processing\n",
    "    #cols = random.sample(cols,100)\n",
    "    \n",
    "    #Get current subsets of data\n",
    "    curSecRtn = dfSecRtn.loc[:curdt,cols]\n",
    "    curFama= dfFamaData.loc[:curdt,['Mkt-RF','SMB','HML','Mom']]\n",
    "    curRF= dfFamaData.loc[:curdt,'RF']    \n",
    "    \n",
    "    #get the current coef\n",
    "    factBetas,factIntercepts, errEst, factRtns = MF().buildBayesFactorCoef(curSecRtn,curFama, curRF, cols)\n",
    "        \n",
    "    #predict weights based upon historical values\n",
    "    Q = np.dot(np.dot(factBetas, curFama.cov()),factBetas.T) + np.diag(errEst) \n",
    "    \n",
    "    #Expected return based upon Fama French\n",
    "    R = factRtns #(factIntercepts + np.dot(factBetas, curFama.iloc[-1])) + np.asscalar( curRF.iloc[-1])\n",
    "        \n",
    "    const = ({'type':'eq','fun':lambda x: np.sum(x)-1}\n",
    "            ,{'type':'eq','fun':lambda x: np.sum(factBetas[:,0]*x)-1})  #constraint makes it BETA Neutral, ie should be the same as the market\n",
    "    \n",
    "    #allow a long only portfolio\n",
    "    bounds = (0.0,1.0)\n",
    "    \n",
    "    #Build an optimal portfolio using a Mean Variance Utility equation\n",
    "    OptWeights = MF() .weightOptimizer(MF().meanVar, len(R),const,bounds, R, Q, 0.5)\n",
    "    \n",
    "    #record the weights\n",
    "    wghts = pd.DataFrame({'Entity':cols,'weight': list(np.round(OptWeights.x, 4))})\n",
    "    #record the expected Return\n",
    "    Ertn = np.nansum(wghts['weight']*R)\n",
    "    \n",
    "    return wghts, Ertn, R, Q, factBetas,factIntercepts, errEst"
   ]
  },
  {
   "cell_type": "code",
   "execution_count": 12,
   "metadata": {},
   "outputs": [],
   "source": [
    "#Build dataframes for storing\n",
    "dfEstB = pd.DataFrame(columns=['Date','Rtn'])\n",
    "dfActB = pd.DataFrame(columns=['Date','Rtn'])\n",
    "lstWeightsB = []\n",
    "lstReturnsB = []\n",
    "lstCovB = []\n",
    "lstfactBetasB = []\n",
    "lstfactInterceptsB = []\n",
    "lsterrEstB = []"
   ]
  },
  {
   "cell_type": "code",
   "execution_count": 13,
   "metadata": {},
   "outputs": [
    {
     "name": "stdout",
     "output_type": "stream",
     "text": [
      "Bayes Started 12/02/2019, 15:34:54\n",
      "119 12/02/2019, 15:34:54\n",
      "120 12/02/2019, 15:59:00\n",
      "121 12/02/2019, 16:22:16\n",
      "122 12/02/2019, 16:45:25\n",
      "123 12/02/2019, 17:09:27\n",
      "124 12/02/2019, 17:34:36\n",
      "125 12/02/2019, 18:01:04\n",
      "126 12/02/2019, 18:27:09\n",
      "127 12/02/2019, 18:53:34\n",
      "128 12/02/2019, 19:21:27\n",
      "129 12/02/2019, 19:48:20\n",
      "130 12/02/2019, 20:15:01\n",
      "131 12/02/2019, 20:41:31\n",
      "132 12/02/2019, 21:07:54\n",
      "133 12/02/2019, 21:35:42\n",
      "134 12/02/2019, 22:02:04\n",
      "135 12/02/2019, 22:30:03\n",
      "136 12/02/2019, 22:58:05\n",
      "137 12/02/2019, 23:24:21\n",
      "138 12/02/2019, 23:53:44\n",
      "139 12/03/2019, 00:22:23\n",
      "140 12/03/2019, 00:48:17\n",
      "141 12/03/2019, 01:14:17\n",
      "142 12/03/2019, 01:39:11\n",
      "143 12/03/2019, 02:04:49\n",
      "144 12/03/2019, 02:29:31\n",
      "145 12/03/2019, 02:54:06\n",
      "146 12/03/2019, 03:19:05\n",
      "147 12/03/2019, 03:44:20\n",
      "148 12/03/2019, 04:08:49\n",
      "149 12/03/2019, 04:31:49\n",
      "150 12/03/2019, 04:54:54\n",
      "151 12/03/2019, 05:17:58\n",
      "152 12/03/2019, 05:41:43\n",
      "153 12/03/2019, 06:05:00\n",
      "154 12/03/2019, 06:28:09\n",
      "155 12/03/2019, 06:51:20\n",
      "156 12/03/2019, 07:15:14\n",
      "157 12/03/2019, 07:39:10\n",
      "158 12/03/2019, 08:02:51\n",
      "159 12/03/2019, 08:27:11\n",
      "160 12/03/2019, 08:51:45\n",
      "161 12/03/2019, 09:19:00\n",
      "162 12/03/2019, 09:45:38\n",
      "163 12/03/2019, 10:12:38\n",
      "164 12/03/2019, 10:39:46\n",
      "165 12/03/2019, 11:08:07\n",
      "166 12/03/2019, 11:36:10\n",
      "167 12/03/2019, 12:04:55\n",
      "168 12/03/2019, 12:35:33\n",
      "169 12/03/2019, 13:03:11\n",
      "170 12/03/2019, 13:31:23\n",
      "171 12/03/2019, 14:00:02\n",
      "172 12/03/2019, 14:28:30\n",
      "173 12/03/2019, 14:58:05\n",
      "174 12/03/2019, 15:29:43\n",
      "175 12/03/2019, 15:57:03\n",
      "176 12/03/2019, 16:23:00\n",
      "177 12/03/2019, 16:47:58\n",
      "178 12/03/2019, 17:14:55\n",
      "179 12/03/2019, 17:40:55\n",
      "180 12/03/2019, 18:07:40\n",
      "181 12/03/2019, 18:34:21\n",
      "182 12/03/2019, 19:01:48\n",
      "183 12/03/2019, 19:29:54\n",
      "184 12/03/2019, 19:57:07\n",
      "185 12/03/2019, 20:26:57\n",
      "186 12/03/2019, 20:55:55\n",
      "187 12/03/2019, 21:24:23\n",
      "188 12/03/2019, 21:54:01\n",
      "189 12/03/2019, 22:23:47\n",
      "190 12/03/2019, 22:51:53\n",
      "191 12/03/2019, 23:21:25\n",
      "192 12/03/2019, 23:53:22\n",
      "193 12/04/2019, 00:25:07\n",
      "194 12/04/2019, 00:53:36\n",
      "195 12/04/2019, 01:22:17\n",
      "196 12/04/2019, 01:50:53\n",
      "197 12/04/2019, 02:18:49\n",
      "198 12/04/2019, 02:46:55\n",
      "199 12/04/2019, 03:15:15\n",
      "200 12/04/2019, 03:43:53\n",
      "201 12/04/2019, 04:11:07\n",
      "202 12/04/2019, 04:40:00\n",
      "203 12/04/2019, 05:08:52\n",
      "204 12/04/2019, 05:36:25\n",
      "205 12/04/2019, 06:04:25\n",
      "206 12/04/2019, 06:30:41\n",
      "207 12/04/2019, 06:57:52\n",
      "208 12/04/2019, 07:25:33\n",
      "209 12/04/2019, 07:52:24\n",
      "210 12/04/2019, 08:23:00\n",
      "211 12/04/2019, 08:53:11\n",
      "212 12/04/2019, 09:21:43\n",
      "213 12/04/2019, 09:52:07\n",
      "214 12/04/2019, 10:22:31\n",
      "215 12/04/2019, 10:54:24\n",
      "216 12/04/2019, 11:26:23\n",
      "217 12/04/2019, 11:53:56\n",
      "218 12/04/2019, 12:23:13\n",
      "219 12/04/2019, 12:51:55\n",
      "220 12/04/2019, 13:23:16\n",
      "221 12/04/2019, 13:51:24\n",
      "222 12/04/2019, 14:21:41\n",
      "223 12/04/2019, 14:51:09\n",
      "224 12/04/2019, 15:21:23\n",
      "225 12/04/2019, 15:51:57\n",
      "226 12/04/2019, 16:27:18\n",
      "227 12/04/2019, 16:57:17\n",
      "228 12/04/2019, 17:24:08\n",
      "229 12/04/2019, 17:52:47\n",
      "230 12/04/2019, 18:21:02\n",
      "231 12/04/2019, 18:48:02\n",
      "232 12/04/2019, 19:17:53\n",
      "233 12/04/2019, 19:45:14\n",
      "234 12/04/2019, 20:14:27\n",
      "235 12/04/2019, 20:45:50\n",
      "236 12/04/2019, 21:15:52\n",
      "237 12/04/2019, 21:46:53\n",
      "238 12/04/2019, 22:16:09\n",
      "239 12/04/2019, 22:48:09\n",
      "240 12/04/2019, 23:18:16\n",
      "241 12/04/2019, 23:50:16\n",
      "242 12/05/2019, 00:22:49\n",
      "243 12/05/2019, 00:54:33\n",
      "244 12/05/2019, 01:23:46\n",
      "245 12/05/2019, 01:51:53\n",
      "246 12/05/2019, 02:19:48\n",
      "247 12/05/2019, 02:47:37\n",
      "Bayes Done 12/05/2019, 03:17:15\n"
     ]
    }
   ],
   "source": [
    "now = datetime.datetime.now()\n",
    "print('Bayes Started ' + now.strftime(\"%m/%d/%Y, %H:%M:%S\"))\n",
    "lstcnt = 0\n",
    "for i in np.arange(119,dfSecRtn.index.size-1): #\n",
    "    now = datetime.datetime.now() \n",
    "    print(str(i) + ' ' + now.strftime(\"%m/%d/%Y, %H:%M:%S\"))\n",
    "    curdt = dfSecRtn.index[i]\n",
    "    nextdt = dfSecRtn.index[i+1]\n",
    "    #caclulate the information bades upon historical values\n",
    "    wghts, ERtn, R, Q, factBetas,factIntercepts, errEst = getBayesWeights(curdt,dfSecRtn, dfFamaData,dfConstList, nextdt, lstCols[lstcnt])\n",
    "    dfEstB = dfEstB.append({'Date':nextdt,'Rtn':ERtn}, ignore_index=True)\n",
    "    #Calculate the actual portfolio return for next month with current weights\n",
    "    nextMthRtn = dfSecRtn.loc[nextdt,cols]\n",
    "    ActPort = np.nansum(wghts['weight']*np.asarray(nextMthRtn))\n",
    "    dfActB = dfActB.append({'Date':nextdt ,'Rtn':ActPort}, ignore_index=True)\n",
    "    lstWeightsB.append([nextdt,wghts])\n",
    "    lstReturnsB.append([curdt,R])\n",
    "    lstCovB.append([curdt,Q])\n",
    "    lstfactBetasB.append([curdt,factBetas])\n",
    "    lstfactInterceptsB.append([curdt,factIntercepts])\n",
    "    lsterrEstB.append([curdt,errEst])\n",
    "    #LR Results\n",
    "    dfEstB.to_csv('output/dfEstB_v3.csv')\n",
    "    dfActB.to_csv('output/dfActB_v3.csv')\n",
    "    #weight variables\n",
    "    dill.dump([lstWeightsB,lstReturnsB,lstCovB,lstfactBetasB, lstfactInterceptsB,lsterrEstB], open('output/FinalProject_v3_BayesVariables.db','wb'))\n",
    "    lstcnt +=1\n",
    "now = datetime.datetime.now()   \n",
    "print('Bayes Done ' + now.strftime(\"%m/%d/%Y, %H:%M:%S\"))"
   ]
  },
  {
   "cell_type": "code",
   "execution_count": 14,
   "metadata": {},
   "outputs": [],
   "source": [
    "dfActB.set_index('Date', inplace=True)\n",
    "dfEstB.set_index('Date', inplace=True)"
   ]
  },
  {
   "cell_type": "code",
   "execution_count": 15,
   "metadata": {},
   "outputs": [],
   "source": [
    "#get the constituent counts\n",
    "dfPortCountB = pd.DataFrame([ (w[0], sum([np.round(c,2) > 0 for c in w[1]['weight']])) for w in lstWeightsB], columns=['Date','Count'])\n",
    "#get the difference in returns this is the error we are looking to minimize\n",
    "dfDifB = (dfActB - dfEstB)"
   ]
  },
  {
   "cell_type": "code",
   "execution_count": 16,
   "metadata": {},
   "outputs": [
    {
     "data": {
      "text/html": [
       "\n",
       "\n",
       "\n",
       "\n",
       "\n",
       "\n",
       "  <div class=\"bk-root\" id=\"96ba0bc1-56de-4af3-9d68-5cff3ff929ce\" data-root-id=\"1701\"></div>\n"
      ]
     },
     "metadata": {},
     "output_type": "display_data"
    },
    {
     "data": {
      "application/javascript": [
       "(function(root) {\n",
       "  function embed_document(root) {\n",
       "    \n",
       "  var docs_json = {\"3e0f1a00-b7ab-418b-866c-4c11bc037caf\":{\"roots\":{\"references\":[{\"attributes\":{\"below\":[{\"id\":\"1712\",\"type\":\"DatetimeAxis\"}],\"center\":[{\"id\":\"1716\",\"type\":\"Grid\"},{\"id\":\"1721\",\"type\":\"Grid\"}],\"left\":[{\"id\":\"1717\",\"type\":\"LinearAxis\"}],\"renderers\":[{\"id\":\"1738\",\"type\":\"GlyphRenderer\"}],\"title\":{\"id\":\"1702\",\"type\":\"Title\"},\"toolbar\":{\"id\":\"1728\",\"type\":\"Toolbar\"},\"toolbar_location\":null,\"x_range\":{\"id\":\"1704\",\"type\":\"DataRange1d\"},\"x_scale\":{\"id\":\"1708\",\"type\":\"LinearScale\"},\"y_range\":{\"id\":\"1706\",\"type\":\"DataRange1d\"},\"y_scale\":{\"id\":\"1710\",\"type\":\"LinearScale\"}},\"id\":\"1701\",\"subtype\":\"Figure\",\"type\":\"Plot\"},{\"attributes\":{\"callback\":null,\"data\":{\"top\":[57,43,37,55,62,39,42,40,43,45,35,34,42,41,34,37,42,33,42,37,39,43,34,38,44,31,41,41,37,42,34,38,35,36,40,30,35,40,33,36,33,30,36,29,40,39,36,46,44,39,37,42,37,40,41,39,38,38,38,36,39,31,32,39,35,33,42,31,35,35,37,31,47,34,40,39,39,39,37,30,39,33,38,38,32,39,40,43,38,39,31,40,44,35,34,53,36,35,35,39,34,35,53,36,31,44,34,31,36,34,38,47,38,44,39,39,36,34,36,37,37,43,37,34,35,29,42,36,32],\"x\":{\"__ndarray__\":\"AADA1PfocUIAAAAn8vJxQgAAAEj1+3FCAABAmu8FckIAAMCGlw9yQgAAANmRGXJCAACAxTkjckIAAMAXNC1yQgAAAGouN3JCAACAVtZAckIAAMCo0EpyQgAAQJV4VHJCAACA53JeckIAAMA5bWhyQgAAwFpwcXJCAAAArWp7ckIAAICZEoVyQgAAwOsMj3JCAABA2LSYckIAAIAqr6JyQgAAwHyprHJCAABAaVG2ckIAAIC7S8ByQgAAAKjzyXJCAABA+u3TckIAAIBM6N1yQgAAgG3r5nJCAADAv+XwckIAAECsjfpyQgAAgP6HBHNCAAAA6y8Oc0IAAEA9KhhzQgAAgI8kInNCAAAAfMwrc0IAAEDOxjVzQgAAwLpuP3NCAAAADWlJc0IAAEBfY1NzQgAAAOa4XHNCAABAOLNmc0IAAMAkW3BzQgAAAHdVenNCAACAY/2Dc0IAAMC1941zQgAAAAjyl3NCAACA9Jmhc0IAAMBGlKtzQgAAQDM8tXNCAACAhTa/c0IAAMDXMMlzQgAAwPgz0nNCAAAASy7cc0IAAIA31uVzQgAAwInQ73NCAABAdnj5c0IAAIDIcgN0QgAAwBptDXRCAABABxUXdEIAAIBZDyF0QgAAAEa3KnRCAABAmLE0dEIAAIDqqz50QgAAgAuvR3RCAADAXalRdEIAAEBKUVt0QgAAgJxLZXRCAAAAifNudEIAAEDb7Xh0QgAAgC3ognRCAAAAGpCMdEIAAEBsipZ0QgAAwFgyoHRCAAAAqyyqdEIAAED9JrR0QgAAQB4qvXRCAACAcCTHdEIAAABdzNB0QgAAQK/G2nRCAADAm27kdEIAAADuaO50QgAAQEBj+HRCAADALAsCdUIAAAB/BQx1QgAAgGutFXVCAADAvacfdUIAAAAQoil1QgAAwJb3MnVCAAAA6fE8dUIAAIDVmUZ1QgAAwCeUUHVCAABAFDxadUIAAIBmNmR1QgAAwLgwbnVCAABApdh3dUIAAID30oF1QgAAAOR6i3VCAABANnWVdUIAAICIb591QgAAgKlyqHVCAADA+2yydUIAAEDoFLx1QgAAgDoPxnVCAAAAJ7fPdUIAAEB5sdl1QgAAgMur43VCAAAAuFPtdUIAAEAKTvd1QgAAwPb1AHZCAAAASfAKdkIAAECb6hR2QgAAQLztHXZCAACADugndkIAAAD7jzF2QgAAQE2KO3ZCAADAOTJFdkIAAACMLE92QgAAQN4mWXZCAADAys5idkIAAAAdyWx2QgAAgAlxdnZCAADAW2uAdkIAAACuZYp2QgAAAM9ok3ZCAABAIWOddkIAAMANC6d2QgAAAGAFsXZCAACATK26dkIAAMCep8R2QgAAAPGhznZC\",\"dtype\":\"float64\",\"shape\":[129]}},\"selected\":{\"id\":\"1821\",\"type\":\"Selection\"},\"selection_policy\":{\"id\":\"1822\",\"type\":\"UnionRenderers\"}},\"id\":\"1735\",\"type\":\"ColumnDataSource\"},{\"attributes\":{\"base\":24,\"mantissas\":[1,2,4,6,8,12],\"max_interval\":43200000.0,\"min_interval\":3600000.0,\"num_minor_ticks\":0},\"id\":\"1811\",\"type\":\"AdaptiveTicker\"},{\"attributes\":{\"fill_color\":{\"value\":\"#1f77b4\"},\"line_color\":{\"value\":\"#1f77b4\"},\"top\":{\"field\":\"top\"},\"width\":{\"value\":0.9},\"x\":{\"field\":\"x\"}},\"id\":\"1736\",\"type\":\"VBar\"},{\"attributes\":{},\"id\":\"1726\",\"type\":\"ResetTool\"},{\"attributes\":{\"formatter\":{\"id\":\"1805\",\"type\":\"BasicTickFormatter\"},\"ticker\":{\"id\":\"1718\",\"type\":\"BasicTicker\"}},\"id\":\"1717\",\"type\":\"LinearAxis\"},{\"attributes\":{\"days\":[1,2,3,4,5,6,7,8,9,10,11,12,13,14,15,16,17,18,19,20,21,22,23,24,25,26,27,28,29,30,31]},\"id\":\"1812\",\"type\":\"DaysTicker\"},{\"attributes\":{},\"id\":\"1807\",\"type\":\"DatetimeTickFormatter\"},{\"attributes\":{\"days\":[1,8,15,22]},\"id\":\"1814\",\"type\":\"DaysTicker\"},{\"attributes\":{\"days\":[1,4,7,10,13,16,19,22,25,28]},\"id\":\"1813\",\"type\":\"DaysTicker\"},{\"attributes\":{},\"id\":\"1708\",\"type\":\"LinearScale\"},{\"attributes\":{\"dimension\":1,\"ticker\":{\"id\":\"1718\",\"type\":\"BasicTicker\"}},\"id\":\"1721\",\"type\":\"Grid\"},{\"attributes\":{},\"id\":\"1710\",\"type\":\"LinearScale\"},{\"attributes\":{\"days\":[1,15]},\"id\":\"1815\",\"type\":\"DaysTicker\"},{\"attributes\":{\"months\":[0,1,2,3,4,5,6,7,8,9,10,11]},\"id\":\"1816\",\"type\":\"MonthsTicker\"},{\"attributes\":{\"callback\":null},\"id\":\"1704\",\"type\":\"DataRange1d\"},{\"attributes\":{\"months\":[0,2,4,6,8,10]},\"id\":\"1817\",\"type\":\"MonthsTicker\"},{\"attributes\":{\"text\":\"Constituent Counts\"},\"id\":\"1702\",\"type\":\"Title\"},{\"attributes\":{\"overlay\":{\"id\":\"1823\",\"type\":\"BoxAnnotation\"}},\"id\":\"1724\",\"type\":\"BoxZoomTool\"},{\"attributes\":{\"months\":[0,4,8]},\"id\":\"1818\",\"type\":\"MonthsTicker\"},{\"attributes\":{},\"id\":\"1718\",\"type\":\"BasicTicker\"},{\"attributes\":{\"months\":[0,6]},\"id\":\"1819\",\"type\":\"MonthsTicker\"},{\"attributes\":{\"formatter\":{\"id\":\"1807\",\"type\":\"DatetimeTickFormatter\"},\"ticker\":{\"id\":\"1713\",\"type\":\"DatetimeTicker\"}},\"id\":\"1712\",\"type\":\"DatetimeAxis\"},{\"attributes\":{\"source\":{\"id\":\"1735\",\"type\":\"ColumnDataSource\"}},\"id\":\"1739\",\"type\":\"CDSView\"},{\"attributes\":{},\"id\":\"1727\",\"type\":\"HelpTool\"},{\"attributes\":{\"bottom_units\":\"screen\",\"fill_alpha\":{\"value\":0.5},\"fill_color\":{\"value\":\"lightgrey\"},\"left_units\":\"screen\",\"level\":\"overlay\",\"line_alpha\":{\"value\":1.0},\"line_color\":{\"value\":\"black\"},\"line_dash\":[4,4],\"line_width\":{\"value\":2},\"render_mode\":\"css\",\"right_units\":\"screen\",\"top_units\":\"screen\"},\"id\":\"1823\",\"type\":\"BoxAnnotation\"},{\"attributes\":{},\"id\":\"1820\",\"type\":\"YearsTicker\"},{\"attributes\":{},\"id\":\"1805\",\"type\":\"BasicTickFormatter\"},{\"attributes\":{\"ticker\":{\"id\":\"1713\",\"type\":\"DatetimeTicker\"}},\"id\":\"1716\",\"type\":\"Grid\"},{\"attributes\":{\"active_drag\":\"auto\",\"active_inspect\":\"auto\",\"active_multi\":null,\"active_scroll\":\"auto\",\"active_tap\":\"auto\",\"tools\":[{\"id\":\"1722\",\"type\":\"PanTool\"},{\"id\":\"1723\",\"type\":\"WheelZoomTool\"},{\"id\":\"1724\",\"type\":\"BoxZoomTool\"},{\"id\":\"1725\",\"type\":\"SaveTool\"},{\"id\":\"1726\",\"type\":\"ResetTool\"},{\"id\":\"1727\",\"type\":\"HelpTool\"}]},\"id\":\"1728\",\"type\":\"Toolbar\"},{\"attributes\":{\"data_source\":{\"id\":\"1735\",\"type\":\"ColumnDataSource\"},\"glyph\":{\"id\":\"1736\",\"type\":\"VBar\"},\"hover_glyph\":null,\"muted_glyph\":null,\"nonselection_glyph\":{\"id\":\"1737\",\"type\":\"VBar\"},\"selection_glyph\":null,\"view\":{\"id\":\"1739\",\"type\":\"CDSView\"}},\"id\":\"1738\",\"type\":\"GlyphRenderer\"},{\"attributes\":{\"num_minor_ticks\":5,\"tickers\":[{\"id\":\"1809\",\"type\":\"AdaptiveTicker\"},{\"id\":\"1810\",\"type\":\"AdaptiveTicker\"},{\"id\":\"1811\",\"type\":\"AdaptiveTicker\"},{\"id\":\"1812\",\"type\":\"DaysTicker\"},{\"id\":\"1813\",\"type\":\"DaysTicker\"},{\"id\":\"1814\",\"type\":\"DaysTicker\"},{\"id\":\"1815\",\"type\":\"DaysTicker\"},{\"id\":\"1816\",\"type\":\"MonthsTicker\"},{\"id\":\"1817\",\"type\":\"MonthsTicker\"},{\"id\":\"1818\",\"type\":\"MonthsTicker\"},{\"id\":\"1819\",\"type\":\"MonthsTicker\"},{\"id\":\"1820\",\"type\":\"YearsTicker\"}]},\"id\":\"1713\",\"type\":\"DatetimeTicker\"},{\"attributes\":{},\"id\":\"1822\",\"type\":\"UnionRenderers\"},{\"attributes\":{},\"id\":\"1821\",\"type\":\"Selection\"},{\"attributes\":{\"callback\":null},\"id\":\"1706\",\"type\":\"DataRange1d\"},{\"attributes\":{},\"id\":\"1723\",\"type\":\"WheelZoomTool\"},{\"attributes\":{},\"id\":\"1725\",\"type\":\"SaveTool\"},{\"attributes\":{\"fill_alpha\":{\"value\":0.1},\"fill_color\":{\"value\":\"#1f77b4\"},\"line_alpha\":{\"value\":0.1},\"line_color\":{\"value\":\"#1f77b4\"},\"top\":{\"field\":\"top\"},\"width\":{\"value\":0.9},\"x\":{\"field\":\"x\"}},\"id\":\"1737\",\"type\":\"VBar\"},{\"attributes\":{\"base\":60,\"mantissas\":[1,2,5,10,15,20,30],\"max_interval\":1800000.0,\"min_interval\":1000.0,\"num_minor_ticks\":0},\"id\":\"1810\",\"type\":\"AdaptiveTicker\"},{\"attributes\":{\"mantissas\":[1,2,5],\"max_interval\":500.0,\"num_minor_ticks\":0},\"id\":\"1809\",\"type\":\"AdaptiveTicker\"},{\"attributes\":{},\"id\":\"1722\",\"type\":\"PanTool\"}],\"root_ids\":[\"1701\"]},\"title\":\"Bokeh Application\",\"version\":\"1.2.0\"}};\n",
       "  var render_items = [{\"docid\":\"3e0f1a00-b7ab-418b-866c-4c11bc037caf\",\"roots\":{\"1701\":\"96ba0bc1-56de-4af3-9d68-5cff3ff929ce\"}}];\n",
       "  root.Bokeh.embed.embed_items_notebook(docs_json, render_items);\n",
       "\n",
       "  }\n",
       "  if (root.Bokeh !== undefined) {\n",
       "    embed_document(root);\n",
       "  } else {\n",
       "    var attempts = 0;\n",
       "    var timer = setInterval(function(root) {\n",
       "      if (root.Bokeh !== undefined) {\n",
       "        embed_document(root);\n",
       "        clearInterval(timer);\n",
       "      }\n",
       "      attempts++;\n",
       "      if (attempts > 100) {\n",
       "        console.log(\"Bokeh: ERROR: Unable to run BokehJS code because BokehJS library is missing\");\n",
       "        clearInterval(timer);\n",
       "      }\n",
       "    }, 10, root)\n",
       "  }\n",
       "})(window);"
      ],
      "application/vnd.bokehjs_exec.v0+json": ""
     },
     "metadata": {
      "application/vnd.bokehjs_exec.v0+json": {
       "id": "1701"
      }
     },
     "output_type": "display_data"
    }
   ],
   "source": [
    "p = figure(title=\"Constituent Counts\", toolbar_location=None, x_axis_type='datetime')\n",
    "p.vbar(x=dfPortCountB.Date, top=dfPortCountB.Count , width=.9)\n",
    "show(p)"
   ]
  },
  {
   "cell_type": "code",
   "execution_count": 17,
   "metadata": {},
   "outputs": [
    {
     "data": {
      "text/plain": [
       "43.922126353159875"
      ]
     },
     "execution_count": 17,
     "metadata": {},
     "output_type": "execute_result"
    }
   ],
   "source": [
    "dfDifB.Rtn.std()**2"
   ]
  },
  {
   "cell_type": "code",
   "execution_count": 18,
   "metadata": {},
   "outputs": [
    {
     "data": {
      "text/html": [
       "\n",
       "\n",
       "\n",
       "\n",
       "\n",
       "\n",
       "  <div class=\"bk-root\" id=\"d9755e29-170f-42de-85ba-2044dfba10d2\" data-root-id=\"1944\"></div>\n"
      ]
     },
     "metadata": {},
     "output_type": "display_data"
    },
    {
     "data": {
      "application/javascript": [
       "(function(root) {\n",
       "  function embed_document(root) {\n",
       "    \n",
       "  var docs_json = {\"498da7cc-03b0-457c-b2e4-cab2b7720f66\":{\"roots\":{\"references\":[{\"attributes\":{\"below\":[{\"id\":\"1955\",\"type\":\"DatetimeAxis\"}],\"center\":[{\"id\":\"1959\",\"type\":\"Grid\"},{\"id\":\"1964\",\"type\":\"Grid\"}],\"left\":[{\"id\":\"1960\",\"type\":\"LinearAxis\"}],\"renderers\":[{\"id\":\"1981\",\"type\":\"GlyphRenderer\"}],\"title\":{\"id\":\"1945\",\"type\":\"Title\"},\"toolbar\":{\"id\":\"1971\",\"type\":\"Toolbar\"},\"toolbar_location\":null,\"x_range\":{\"id\":\"1947\",\"type\":\"DataRange1d\"},\"x_scale\":{\"id\":\"1951\",\"type\":\"LinearScale\"},\"y_range\":{\"id\":\"1949\",\"type\":\"DataRange1d\"},\"y_scale\":{\"id\":\"1953\",\"type\":\"LinearScale\"}},\"id\":\"1944\",\"subtype\":\"Figure\",\"type\":\"Plot\"},{\"attributes\":{\"data_source\":{\"id\":\"1978\",\"type\":\"ColumnDataSource\"},\"glyph\":{\"id\":\"1979\",\"type\":\"VBar\"},\"hover_glyph\":null,\"muted_glyph\":null,\"nonselection_glyph\":{\"id\":\"1980\",\"type\":\"VBar\"},\"selection_glyph\":null,\"view\":{\"id\":\"1982\",\"type\":\"CDSView\"}},\"id\":\"1981\",\"type\":\"GlyphRenderer\"},{\"attributes\":{},\"id\":\"1970\",\"type\":\"HelpTool\"},{\"attributes\":{\"bottom_units\":\"screen\",\"fill_alpha\":{\"value\":0.5},\"fill_color\":{\"value\":\"lightgrey\"},\"left_units\":\"screen\",\"level\":\"overlay\",\"line_alpha\":{\"value\":1.0},\"line_color\":{\"value\":\"black\"},\"line_dash\":[4,4],\"line_width\":{\"value\":2},\"render_mode\":\"css\",\"right_units\":\"screen\",\"top_units\":\"screen\"},\"id\":\"2086\",\"type\":\"BoxAnnotation\"},{\"attributes\":{},\"id\":\"2070\",\"type\":\"DatetimeTickFormatter\"},{\"attributes\":{},\"id\":\"1951\",\"type\":\"LinearScale\"},{\"attributes\":{},\"id\":\"1965\",\"type\":\"PanTool\"},{\"attributes\":{\"callback\":null,\"data\":{\"top\":{\"__ndarray__\":\"zl8/19YhI8AAbNW4z1PnP3NG9sVGJjRAUM0c8MD9K0D+yd9iiSslwJlQIUg5YhTAlf9XoO1UIUAl8Rc18lcVwAD56D8zwvC/eoGbLybqIMDDJVMWk0sgQGyhDaqFjfq/aOxg2UjyFcBMe+L4uc4gQEi7HPkikfg/SPYDkm3iBMCv+kzyfxgowMAoEcMpEeE/qtGn7dGcKUCk6rPFLVwlwMU45E/bAC9AcyxjUMI2FMBUTPFNEl4AwBoYxhKMQBNAehqbrzp1HMBIX9cFmUEQQF/IpokhwhHA4LIYitgL/D+nLHrWPxERwAhNevKuqf6/DDw33Pl2CsAIpbk5yoYXwI0faOIdWRfA7vNLaMaJMkBa9X5EvuMowMnfjfI17+U/oLy9FTFmEEDIpLzxpfngvxB+MylpN+s/kbEtIv8gFMBNlEpg9vMNwEzTBoA/hiBAkG81jyOoCcD8igq9D67nPyTXCvjMUADA4m2wjeidD8DmJUIF6w0IQD3r7blr//G/HDJJmvA1C0CauK2kG6ILwExZ+t6s5wZASwWw09FnEsBQHGBZY1sOQNb9Ab7CFBPAL29XN1FZIECt+KIB3zYhwCrfxVMy6BpAgL9V01FH3T8wdxncu/rSv3BNWXrbYci/0YyyRfOxDMB2DFAly48hQOq/WKaWOhHA8mop6ZPXC8D33tqB2dYEQLwGWNGxYPg/ikBAyEhPF8CoPYQ7j+ISQMTpDBQNWx7A9rgNg/5NCkBC2NmMWGn2P6pve26KAAbAdHL65G+XEcCevKto/0EkQDzS/IyuOx/A1KCxJb9R978wgRaig7PEv/7CRZsgbALAy61YhEkaFUBexrbWQSUfwJqH6jZ7M/g/Axvcd1CQIkAmIQfr7zEZwM4WpEGP3xHATFlbAY+EF8BklW1cHIwTQIJ5wpGZMiJA15xlbGerFMCMC11CI0H9v1zUfLaLbd2/hoq7myl+F0CtSWc9zdoNwEBtogVjcfW/Xthke008FMDYfmE75XcYQOiNvcKeeyDA9CiiC5Ld6b/kROya41byP1FhxpjniQbAmUNcLzat9T9UJMNo26YHwPOgHXaZmee/8B8faOBMxb+WGIDZOvwCwEcMblCu4gFA0Hb3PeHY2b9gL00XygLkv0BIvnhBjg7AaFwhDMePD0BKBrcP8lokwDvCw0DK2AhA9eIRk1QPEkDaXcZIFFMCQI/inAgd/QjA+WXHAdCIBUBZTf/cR+oNwEANnjjNMRDAKO0c1V8hJcA0pD/oW4cjQGSV3xvVkirAvfJ59OcVM0BKU9RrpjsOwCPVeaS29vW/zEgYOFUUDUC7Usf8OmswwHLs++w/hSpAH/vFCJgYGMAlxHzJTqgXwPfZl3Pa+w5A\",\"dtype\":\"float64\",\"shape\":[129]},\"x\":{\"__ndarray__\":\"AADA1PfocUIAAAAn8vJxQgAAAEj1+3FCAABAmu8FckIAAMCGlw9yQgAAANmRGXJCAACAxTkjckIAAMAXNC1yQgAAAGouN3JCAACAVtZAckIAAMCo0EpyQgAAQJV4VHJCAACA53JeckIAAMA5bWhyQgAAwFpwcXJCAAAArWp7ckIAAICZEoVyQgAAwOsMj3JCAABA2LSYckIAAIAqr6JyQgAAwHyprHJCAABAaVG2ckIAAIC7S8ByQgAAAKjzyXJCAABA+u3TckIAAIBM6N1yQgAAgG3r5nJCAADAv+XwckIAAECsjfpyQgAAgP6HBHNCAAAA6y8Oc0IAAEA9KhhzQgAAgI8kInNCAAAAfMwrc0IAAEDOxjVzQgAAwLpuP3NCAAAADWlJc0IAAEBfY1NzQgAAAOa4XHNCAABAOLNmc0IAAMAkW3BzQgAAAHdVenNCAACAY/2Dc0IAAMC1941zQgAAAAjyl3NCAACA9Jmhc0IAAMBGlKtzQgAAQDM8tXNCAACAhTa/c0IAAMDXMMlzQgAAwPgz0nNCAAAASy7cc0IAAIA31uVzQgAAwInQ73NCAABAdnj5c0IAAIDIcgN0QgAAwBptDXRCAABABxUXdEIAAIBZDyF0QgAAAEa3KnRCAABAmLE0dEIAAIDqqz50QgAAgAuvR3RCAADAXalRdEIAAEBKUVt0QgAAgJxLZXRCAAAAifNudEIAAEDb7Xh0QgAAgC3ognRCAAAAGpCMdEIAAEBsipZ0QgAAwFgyoHRCAAAAqyyqdEIAAED9JrR0QgAAQB4qvXRCAACAcCTHdEIAAABdzNB0QgAAQK/G2nRCAADAm27kdEIAAADuaO50QgAAQEBj+HRCAADALAsCdUIAAAB/BQx1QgAAgGutFXVCAADAvacfdUIAAAAQoil1QgAAwJb3MnVCAAAA6fE8dUIAAIDVmUZ1QgAAwCeUUHVCAABAFDxadUIAAIBmNmR1QgAAwLgwbnVCAABApdh3dUIAAID30oF1QgAAAOR6i3VCAABANnWVdUIAAICIb591QgAAgKlyqHVCAADA+2yydUIAAEDoFLx1QgAAgDoPxnVCAAAAJ7fPdUIAAEB5sdl1QgAAgMur43VCAAAAuFPtdUIAAEAKTvd1QgAAwPb1AHZCAAAASfAKdkIAAECb6hR2QgAAQLztHXZCAACADugndkIAAAD7jzF2QgAAQE2KO3ZCAADAOTJFdkIAAACMLE92QgAAQN4mWXZCAADAys5idkIAAAAdyWx2QgAAgAlxdnZCAADAW2uAdkIAAACuZYp2QgAAAM9ok3ZCAABAIWOddkIAAMANC6d2QgAAAGAFsXZCAACATK26dkIAAMCep8R2QgAAAPGhznZC\",\"dtype\":\"float64\",\"shape\":[129]}},\"selected\":{\"id\":\"2084\",\"type\":\"Selection\"},\"selection_policy\":{\"id\":\"2085\",\"type\":\"UnionRenderers\"}},\"id\":\"1978\",\"type\":\"ColumnDataSource\"},{\"attributes\":{},\"id\":\"2068\",\"type\":\"BasicTickFormatter\"},{\"attributes\":{\"ticker\":{\"id\":\"1956\",\"type\":\"DatetimeTicker\"}},\"id\":\"1959\",\"type\":\"Grid\"},{\"attributes\":{\"text\":\"Difference between predicted return for period and actual return\"},\"id\":\"1945\",\"type\":\"Title\"},{\"attributes\":{\"formatter\":{\"id\":\"2068\",\"type\":\"BasicTickFormatter\"},\"ticker\":{\"id\":\"1961\",\"type\":\"BasicTicker\"}},\"id\":\"1960\",\"type\":\"LinearAxis\"},{\"attributes\":{\"days\":[1,2,3,4,5,6,7,8,9,10,11,12,13,14,15,16,17,18,19,20,21,22,23,24,25,26,27,28,29,30,31]},\"id\":\"2075\",\"type\":\"DaysTicker\"},{\"attributes\":{\"months\":[0,1,2,3,4,5,6,7,8,9,10,11]},\"id\":\"2079\",\"type\":\"MonthsTicker\"},{\"attributes\":{\"months\":[0,2,4,6,8,10]},\"id\":\"2080\",\"type\":\"MonthsTicker\"},{\"attributes\":{\"dimension\":1,\"ticker\":{\"id\":\"1961\",\"type\":\"BasicTicker\"}},\"id\":\"1964\",\"type\":\"Grid\"},{\"attributes\":{\"months\":[0,4,8]},\"id\":\"2081\",\"type\":\"MonthsTicker\"},{\"attributes\":{\"days\":[1,8,15,22]},\"id\":\"2077\",\"type\":\"DaysTicker\"},{\"attributes\":{\"formatter\":{\"id\":\"2070\",\"type\":\"DatetimeTickFormatter\"},\"ticker\":{\"id\":\"1956\",\"type\":\"DatetimeTicker\"}},\"id\":\"1955\",\"type\":\"DatetimeAxis\"},{\"attributes\":{\"days\":[1,4,7,10,13,16,19,22,25,28]},\"id\":\"2076\",\"type\":\"DaysTicker\"},{\"attributes\":{\"callback\":null},\"id\":\"1947\",\"type\":\"DataRange1d\"},{\"attributes\":{},\"id\":\"2084\",\"type\":\"Selection\"},{\"attributes\":{\"base\":24,\"mantissas\":[1,2,4,6,8,12],\"max_interval\":43200000.0,\"min_interval\":3600000.0,\"num_minor_ticks\":0},\"id\":\"2074\",\"type\":\"AdaptiveTicker\"},{\"attributes\":{\"fill_color\":{\"value\":\"#1f77b4\"},\"line_color\":{\"value\":\"#1f77b4\"},\"top\":{\"field\":\"top\"},\"width\":{\"value\":1},\"x\":{\"field\":\"x\"}},\"id\":\"1979\",\"type\":\"VBar\"},{\"attributes\":{},\"id\":\"2083\",\"type\":\"YearsTicker\"},{\"attributes\":{},\"id\":\"2085\",\"type\":\"UnionRenderers\"},{\"attributes\":{\"fill_alpha\":{\"value\":0.1},\"fill_color\":{\"value\":\"#1f77b4\"},\"line_alpha\":{\"value\":0.1},\"line_color\":{\"value\":\"#1f77b4\"},\"top\":{\"field\":\"top\"},\"width\":{\"value\":1},\"x\":{\"field\":\"x\"}},\"id\":\"1980\",\"type\":\"VBar\"},{\"attributes\":{},\"id\":\"1969\",\"type\":\"ResetTool\"},{\"attributes\":{},\"id\":\"1953\",\"type\":\"LinearScale\"},{\"attributes\":{\"callback\":null},\"id\":\"1949\",\"type\":\"DataRange1d\"},{\"attributes\":{\"base\":60,\"mantissas\":[1,2,5,10,15,20,30],\"max_interval\":1800000.0,\"min_interval\":1000.0,\"num_minor_ticks\":0},\"id\":\"2073\",\"type\":\"AdaptiveTicker\"},{\"attributes\":{\"active_drag\":\"auto\",\"active_inspect\":\"auto\",\"active_multi\":null,\"active_scroll\":\"auto\",\"active_tap\":\"auto\",\"tools\":[{\"id\":\"1965\",\"type\":\"PanTool\"},{\"id\":\"1966\",\"type\":\"WheelZoomTool\"},{\"id\":\"1967\",\"type\":\"BoxZoomTool\"},{\"id\":\"1968\",\"type\":\"SaveTool\"},{\"id\":\"1969\",\"type\":\"ResetTool\"},{\"id\":\"1970\",\"type\":\"HelpTool\"}]},\"id\":\"1971\",\"type\":\"Toolbar\"},{\"attributes\":{\"mantissas\":[1,2,5],\"max_interval\":500.0,\"num_minor_ticks\":0},\"id\":\"2072\",\"type\":\"AdaptiveTicker\"},{\"attributes\":{\"overlay\":{\"id\":\"2086\",\"type\":\"BoxAnnotation\"}},\"id\":\"1967\",\"type\":\"BoxZoomTool\"},{\"attributes\":{\"source\":{\"id\":\"1978\",\"type\":\"ColumnDataSource\"}},\"id\":\"1982\",\"type\":\"CDSView\"},{\"attributes\":{\"days\":[1,15]},\"id\":\"2078\",\"type\":\"DaysTicker\"},{\"attributes\":{\"months\":[0,6]},\"id\":\"2082\",\"type\":\"MonthsTicker\"},{\"attributes\":{},\"id\":\"1961\",\"type\":\"BasicTicker\"},{\"attributes\":{\"num_minor_ticks\":5,\"tickers\":[{\"id\":\"2072\",\"type\":\"AdaptiveTicker\"},{\"id\":\"2073\",\"type\":\"AdaptiveTicker\"},{\"id\":\"2074\",\"type\":\"AdaptiveTicker\"},{\"id\":\"2075\",\"type\":\"DaysTicker\"},{\"id\":\"2076\",\"type\":\"DaysTicker\"},{\"id\":\"2077\",\"type\":\"DaysTicker\"},{\"id\":\"2078\",\"type\":\"DaysTicker\"},{\"id\":\"2079\",\"type\":\"MonthsTicker\"},{\"id\":\"2080\",\"type\":\"MonthsTicker\"},{\"id\":\"2081\",\"type\":\"MonthsTicker\"},{\"id\":\"2082\",\"type\":\"MonthsTicker\"},{\"id\":\"2083\",\"type\":\"YearsTicker\"}]},\"id\":\"1956\",\"type\":\"DatetimeTicker\"},{\"attributes\":{},\"id\":\"1968\",\"type\":\"SaveTool\"},{\"attributes\":{},\"id\":\"1966\",\"type\":\"WheelZoomTool\"}],\"root_ids\":[\"1944\"]},\"title\":\"Bokeh Application\",\"version\":\"1.2.0\"}};\n",
       "  var render_items = [{\"docid\":\"498da7cc-03b0-457c-b2e4-cab2b7720f66\",\"roots\":{\"1944\":\"d9755e29-170f-42de-85ba-2044dfba10d2\"}}];\n",
       "  root.Bokeh.embed.embed_items_notebook(docs_json, render_items);\n",
       "\n",
       "  }\n",
       "  if (root.Bokeh !== undefined) {\n",
       "    embed_document(root);\n",
       "  } else {\n",
       "    var attempts = 0;\n",
       "    var timer = setInterval(function(root) {\n",
       "      if (root.Bokeh !== undefined) {\n",
       "        embed_document(root);\n",
       "        clearInterval(timer);\n",
       "      }\n",
       "      attempts++;\n",
       "      if (attempts > 100) {\n",
       "        console.log(\"Bokeh: ERROR: Unable to run BokehJS code because BokehJS library is missing\");\n",
       "        clearInterval(timer);\n",
       "      }\n",
       "    }, 10, root)\n",
       "  }\n",
       "})(window);"
      ],
      "application/vnd.bokehjs_exec.v0+json": ""
     },
     "metadata": {
      "application/vnd.bokehjs_exec.v0+json": {
       "id": "1944"
      }
     },
     "output_type": "display_data"
    }
   ],
   "source": [
    "p = figure(title=\"Difference between predicted return for period and actual return\", toolbar_location=None, x_axis_type='datetime')\n",
    "p.vbar(x=dfDifB.index, top=dfDifB.Rtn , width=1)\n",
    "show(p)"
   ]
  },
  {
   "cell_type": "code",
   "execution_count": 19,
   "metadata": {},
   "outputs": [
    {
     "data": {
      "text/html": [
       "\n",
       "\n",
       "\n",
       "\n",
       "\n",
       "\n",
       "  <div class=\"bk-root\" id=\"4211f893-bd62-43c4-9bda-4434d1218caa\" data-root-id=\"2207\"></div>\n"
      ]
     },
     "metadata": {},
     "output_type": "display_data"
    },
    {
     "data": {
      "application/javascript": [
       "(function(root) {\n",
       "  function embed_document(root) {\n",
       "    \n",
       "  var docs_json = {\"9cedb33a-8dc2-4ea4-b33e-07b4fc2ef4d9\":{\"roots\":{\"references\":[{\"attributes\":{\"below\":[{\"id\":\"2218\",\"type\":\"DatetimeAxis\"}],\"center\":[{\"id\":\"2222\",\"type\":\"Grid\"},{\"id\":\"2227\",\"type\":\"Grid\"},{\"id\":\"2264\",\"type\":\"Legend\"}],\"left\":[{\"id\":\"2223\",\"type\":\"LinearAxis\"}],\"renderers\":[{\"id\":\"2244\",\"type\":\"GlyphRenderer\"},{\"id\":\"2269\",\"type\":\"GlyphRenderer\"},{\"id\":\"2295\",\"type\":\"GlyphRenderer\"}],\"title\":{\"id\":\"2208\",\"type\":\"Title\"},\"toolbar\":{\"id\":\"2234\",\"type\":\"Toolbar\"},\"toolbar_location\":null,\"x_range\":{\"id\":\"2210\",\"type\":\"DataRange1d\"},\"x_scale\":{\"id\":\"2214\",\"type\":\"LinearScale\"},\"y_range\":{\"id\":\"2212\",\"type\":\"DataRange1d\"},\"y_scale\":{\"id\":\"2216\",\"type\":\"LinearScale\"}},\"id\":\"2207\",\"subtype\":\"Figure\",\"type\":\"Plot\"},{\"attributes\":{\"source\":{\"id\":\"2292\",\"type\":\"ColumnDataSource\"}},\"id\":\"2296\",\"type\":\"CDSView\"},{\"attributes\":{\"days\":[1,8,15,22]},\"id\":\"2256\",\"type\":\"DaysTicker\"},{\"attributes\":{},\"id\":\"2232\",\"type\":\"ResetTool\"},{\"attributes\":{\"callback\":null,\"data\":{\"x\":{\"__ndarray__\":\"AADA1PfocUIAAAAn8vJxQgAAAEj1+3FCAABAmu8FckIAAMCGlw9yQgAAANmRGXJCAACAxTkjckIAAMAXNC1yQgAAAGouN3JCAACAVtZAckIAAMCo0EpyQgAAQJV4VHJCAACA53JeckIAAMA5bWhyQgAAwFpwcXJCAAAArWp7ckIAAICZEoVyQgAAwOsMj3JCAABA2LSYckIAAIAqr6JyQgAAwHyprHJCAABAaVG2ckIAAIC7S8ByQgAAAKjzyXJCAABA+u3TckIAAIBM6N1yQgAAgG3r5nJCAADAv+XwckIAAECsjfpyQgAAgP6HBHNCAAAA6y8Oc0IAAEA9KhhzQgAAgI8kInNCAAAAfMwrc0IAAEDOxjVzQgAAwLpuP3NCAAAADWlJc0IAAEBfY1NzQgAAAOa4XHNCAABAOLNmc0IAAMAkW3BzQgAAAHdVenNCAACAY/2Dc0IAAMC1941zQgAAAAjyl3NCAACA9Jmhc0IAAMBGlKtzQgAAQDM8tXNCAACAhTa/c0IAAMDXMMlzQgAAwPgz0nNCAAAASy7cc0IAAIA31uVzQgAAwInQ73NCAABAdnj5c0IAAIDIcgN0QgAAwBptDXRCAABABxUXdEIAAIBZDyF0QgAAAEa3KnRCAABAmLE0dEIAAIDqqz50QgAAgAuvR3RCAADAXalRdEIAAEBKUVt0QgAAgJxLZXRCAAAAifNudEIAAEDb7Xh0QgAAgC3ognRCAAAAGpCMdEIAAEBsipZ0QgAAwFgyoHRCAAAAqyyqdEIAAED9JrR0QgAAQB4qvXRCAACAcCTHdEIAAABdzNB0QgAAQK/G2nRCAADAm27kdEIAAADuaO50QgAAQEBj+HRCAADALAsCdUIAAAB/BQx1QgAAgGutFXVCAADAvacfdUIAAAAQoil1QgAAwJb3MnVCAAAA6fE8dUIAAIDVmUZ1QgAAwCeUUHVCAABAFDxadUIAAIBmNmR1QgAAwLgwbnVCAABApdh3dUIAAID30oF1QgAAAOR6i3VCAABANnWVdUIAAICIb591QgAAgKlyqHVCAADA+2yydUIAAEDoFLx1QgAAgDoPxnVCAAAAJ7fPdUIAAEB5sdl1QgAAgMur43VCAAAAuFPtdUIAAEAKTvd1QgAAwPb1AHZCAAAASfAKdkIAAECb6hR2QgAAQLztHXZCAACADugndkIAAAD7jzF2QgAAQE2KO3ZCAADAOTJFdkIAAACMLE92QgAAQN4mWXZCAADAys5idkIAAAAdyWx2QgAAgAlxdnZCAADAW2uAdkIAAACuZYp2QgAAAM9ok3ZCAABAIWOddkIAAMANC6d2QgAAAGAFsXZCAACATK26dkIAAMCep8R2QgAAAPGhznZC\",\"dtype\":\"float64\",\"shape\":[129]},\"y\":{\"__ndarray__\":\"ukiJ3X3+VkCTpWpsfk1VQAJrQ+nIXldAoxh4LpUHXUDafKRWmMBeQDxWyzy3yl5A/GM3cAzaYECX/IatZKFhQAh3VCGUnmJAU0qZSI3RYUDfpVuUmPhiQIbsq4Ph2WNALBEOfAh/Y0Az4eUWk4RkQDF+uc+M62VA6NS/cLAYZ0C//m4wlihlQHA5yw62omNA9Tq5QlIIZUBNjg05nFpkQLbCere+q2ZAcidL4v60Z0Byn3zTvyxoQHa4v/dNkmlA1aBwZafcaUDO1ql8EbhrQA1rCP+Xt2tApUESJe+GbECPEa61lCZsQMpSGBv6S2tAGgVqHZsUakD2ypqufhJoQBR8oBdXY2VA8fNjHDzjZ0DAe9RjGK5nQBzWiQmNBWhAx1etermDaUBjGiITFZlqQD+W8CHrN2xAEzVdtIX/a0Dr1RvwGfxqQJwdE0Z28mtAyfkpelRLbEC+Jm7g7BttQBpzkbsQam1AIkKM0gxRbUCLRUoPey5uQPCNGxFcL25AUpJ0mLLzb0AtCScqo2JwQM5zLDlCL3FAFsweoRgwcUDnciptaktyQHtlFYp+GXJA4xtKPqJwc0BqX9/59P1yQH0PngmfyXNApM03DbGwdEDacS663bB1QNy4jQSncXZAc21cyqxmdkABer+5Aa93QMKuJUpI4ndA9EqV306md0BHFONPjHp4QLCbzVqRlXlABjiaI9jJeEAMNv/D7M15QAAuAE3qEHlANPn0H+SxeUC1/wwSxap6QMFJH77kx3pAlBDF9YbNeUBoo8JXkK17QNvnr5jlMHtA0lmzovCbekBKeotkM/l6QN5ytgqM6XpAT2nsFXYNfEBH9aQ5Uo96QK1trU3Oq3lAyrwjfBiPe0BTAaXOEhR8QDE9NiKQG3tAKc3l++c8eUDLUIOZFGp5QNDIcj9itHtAwOIEQ61MfEAEGIA361t8QA8yl+ww1XxAVCNMGZybfkBnlo7XSKd+QJJmjT3pwn5AdgUTzdlFfUDspLTvXTx/QNc+Uqoyb39AMn3p5wgcgECf3fOKSqSAQKH7HUz11YBARo7xUc8SgUBpXwCUxcWAQPhi2P+h7YBAZi+EsGEkgUAM1IAy1i2BQCrQqmEtqYFAkc63RxdGgkCo8DHC1ceCQPR1yuPut4JA5oDt0Ta/g0B2fp9vSQaDQH7Zea+KA4NAsSVDDtd/g0B1PSuOLBWEQHs+FD0cFYRAPSxQIYWxhEDk7dhElLyEQFs9FzNBrIRAOOvB7W2bgkD8THOgi3aDQBsAYGdDT4FAzgUdxOceg0DVj1u38/WDQH9o45vKWIRA5YhlvRZphUAHS0h3mvaCQConSHZmXoRAnGGJxjGWhEAEvztdq86DQKzVupbQQYRA\",\"dtype\":\"float64\",\"shape\":[129]}},\"selected\":{\"id\":\"2445\",\"type\":\"Selection\"},\"selection_policy\":{\"id\":\"2446\",\"type\":\"UnionRenderers\"}},\"id\":\"2292\",\"type\":\"ColumnDataSource\"},{\"attributes\":{\"days\":[1,2,3,4,5,6,7,8,9,10,11,12,13,14,15,16,17,18,19,20,21,22,23,24,25,26,27,28,29,30,31]},\"id\":\"2254\",\"type\":\"DaysTicker\"},{\"attributes\":{\"formatter\":{\"id\":\"2247\",\"type\":\"BasicTickFormatter\"},\"ticker\":{\"id\":\"2224\",\"type\":\"BasicTicker\"}},\"id\":\"2223\",\"type\":\"LinearAxis\"},{\"attributes\":{\"num_minor_ticks\":5,\"tickers\":[{\"id\":\"2251\",\"type\":\"AdaptiveTicker\"},{\"id\":\"2252\",\"type\":\"AdaptiveTicker\"},{\"id\":\"2253\",\"type\":\"AdaptiveTicker\"},{\"id\":\"2254\",\"type\":\"DaysTicker\"},{\"id\":\"2255\",\"type\":\"DaysTicker\"},{\"id\":\"2256\",\"type\":\"DaysTicker\"},{\"id\":\"2257\",\"type\":\"DaysTicker\"},{\"id\":\"2258\",\"type\":\"MonthsTicker\"},{\"id\":\"2259\",\"type\":\"MonthsTicker\"},{\"id\":\"2260\",\"type\":\"MonthsTicker\"},{\"id\":\"2261\",\"type\":\"MonthsTicker\"},{\"id\":\"2262\",\"type\":\"YearsTicker\"}]},\"id\":\"2219\",\"type\":\"DatetimeTicker\"},{\"attributes\":{\"line_alpha\":0.1,\"line_color\":\"#1f77b4\",\"x\":{\"field\":\"x\"},\"y\":{\"field\":\"y\"}},\"id\":\"2243\",\"type\":\"Line\"},{\"attributes\":{\"callback\":null,\"data\":{\"x\":{\"__ndarray__\":\"AADA1PfocUIAAAAn8vJxQgAAAEj1+3FCAABAmu8FckIAAMCGlw9yQgAAANmRGXJCAACAxTkjckIAAMAXNC1yQgAAAGouN3JCAACAVtZAckIAAMCo0EpyQgAAQJV4VHJCAACA53JeckIAAMA5bWhyQgAAwFpwcXJCAAAArWp7ckIAAICZEoVyQgAAwOsMj3JCAABA2LSYckIAAIAqr6JyQgAAwHyprHJCAABAaVG2ckIAAIC7S8ByQgAAAKjzyXJCAABA+u3TckIAAIBM6N1yQgAAgG3r5nJCAADAv+XwckIAAECsjfpyQgAAgP6HBHNCAAAA6y8Oc0IAAEA9KhhzQgAAgI8kInNCAAAAfMwrc0IAAEDOxjVzQgAAwLpuP3NCAAAADWlJc0IAAEBfY1NzQgAAAOa4XHNCAABAOLNmc0IAAMAkW3BzQgAAAHdVenNCAACAY/2Dc0IAAMC1941zQgAAAAjyl3NCAACA9Jmhc0IAAMBGlKtzQgAAQDM8tXNCAACAhTa/c0IAAMDXMMlzQgAAwPgz0nNCAAAASy7cc0IAAIA31uVzQgAAwInQ73NCAABAdnj5c0IAAIDIcgN0QgAAwBptDXRCAABABxUXdEIAAIBZDyF0QgAAAEa3KnRCAABAmLE0dEIAAIDqqz50QgAAgAuvR3RCAADAXalRdEIAAEBKUVt0QgAAgJxLZXRCAAAAifNudEIAAEDb7Xh0QgAAgC3ognRCAAAAGpCMdEIAAEBsipZ0QgAAwFgyoHRCAAAAqyyqdEIAAED9JrR0QgAAQB4qvXRCAACAcCTHdEIAAABdzNB0QgAAQK/G2nRCAADAm27kdEIAAADuaO50QgAAQEBj+HRCAADALAsCdUIAAAB/BQx1QgAAgGutFXVCAADAvacfdUIAAAAQoil1QgAAwJb3MnVCAAAA6fE8dUIAAIDVmUZ1QgAAwCeUUHVCAABAFDxadUIAAIBmNmR1QgAAwLgwbnVCAABApdh3dUIAAID30oF1QgAAAOR6i3VCAABANnWVdUIAAICIb591QgAAgKlyqHVCAADA+2yydUIAAEDoFLx1QgAAgDoPxnVCAAAAJ7fPdUIAAEB5sdl1QgAAgMur43VCAAAAuFPtdUIAAEAKTvd1QgAAwPb1AHZCAAAASfAKdkIAAECb6hR2QgAAQLztHXZCAACADugndkIAAAD7jzF2QgAAQE2KO3ZCAADAOTJFdkIAAACMLE92QgAAQN4mWXZCAADAys5idkIAAAAdyWx2QgAAgAlxdnZCAADAW2uAdkIAAACuZYp2QgAAAM9ok3ZCAABAIWOddkIAAMANC6d2QgAAAGAFsXZCAACATK26dkIAAMCep8R2QgAAAPGhznZC\",\"dtype\":\"float64\",\"shape\":[129]},\"y\":{\"__ndarray__\":\"tDRxuLhiWUDo8D6iUFVXQESAL5d25VRAsYkfhTQIV0DIpx4FONZaQN6BluEmPVxAjOlzf0N2XEDFpcdivEtfQEJ4+naKsGBAHRh4YBtiYUCk5FCTXRdhQGCOQFfwKmJALbTPPvnWYkAJLoWnZT5iQDn1dcTfNWNAjLlY+yu+ZEARjouJYoBlQBKUhx3V1mNA7arsnb21YkAXKJUdwhpkQPwk3XvKRmNALlC4uLQhZUCDzOskIftlQMTL8cNmMWZAyZ/fQiEGaEAVFj7kz8VoQP497BXw3mlAnlXxsl8sakBg9k183fFqQD320n7RpGpALUb83IhWakAsK5b86ttpQLYqSRMqfGhAE5VdFrbOZkCHRQtbl3JpQAiMP6vro2lA+tL7Cr0uakCSbecT6m5rQI5MEhIM32xAQS96ukcZbkBiDWMI5CJuQJcqk4qauGxAEO339bz/bUDG1bdDEqRuQAuIC7JMlm9AcGlv+YFdcEBH1ulZJVtwQCHuesC4inBA9VCLwJLycED1RJt0mPdxQLwgOYFHVHJAszRTIBUtc0B370vp5K5zQApk932NaXRALLSEtGBBdEA0QJGCNIh1QBKiFL5Q/HRAu4URcMzYdUDYdfxE4fd2QL+KvFE4z3dA1kR1GDSeeEDjnIk/pN13QF2MnpB3GHlAk1zY3Am5eUAnpTaFWfR5QJOvMs8yu3pAqkT4ux91e0B5Lv2JWEl7QGG4FaCXk3xAZtAb3ZFafEAsK2G7hwd9QCO9aN+e831AYDiXGtMsfkAS1yBPw099QE9vbSqnFX9An4dRiljffkAideStVFh/QDbm5Y/s/n9AohLiKtqpf0BBEs2N1jiAQD70yIAg3n5A6KMqochFfkDroLKB/1+AQGfjArRhioBAEQEE+EVfgEA6IVYwhF9/QC4Y0CeDWH9AGCv/OL3RgEAlvbcyhimBQNmHdvwdh4FAC/RTg9OTgUBhGif8dEKCQA8LUkyPkYJAT5OOLgScgkB5ieEED7iCQKZGDZ50YYRAhFAPVt0NhUBZHDEFKoKFQJ7eWZx7XYZAyfGJfsBghkBareX7JaWGQN6RUEq4BYdAR3FcUvxZh0DS6j+Xu/SHQNI4FwqfF4hAI10e8ZUGiUC8q/PdVOCJQG53HnZvx4pAukx7KKExi0CMypfRffeMQDLlylT/DIxA1Un+CyeAi0De+5XygLGLQBuqeOXcjoxANu7QXH2ojEAy0t5NJcqNQAmGQP9y545AwElnAMMUj0A0TQ6K13mNQBaWMqiMIY5A4xm+/nCIi0CRuQLkd8iNQJCz3sKbxI5AAex9lw9Cj0Ap7gSJo2iQQKHVmm7n5Y5AGN3GX4SLkEC0elD7quWQQBXgbhldoJBA\",\"dtype\":\"float64\",\"shape\":[129]}},\"selected\":{\"id\":\"2316\",\"type\":\"Selection\"},\"selection_policy\":{\"id\":\"2317\",\"type\":\"UnionRenderers\"}},\"id\":\"2266\",\"type\":\"ColumnDataSource\"},{\"attributes\":{\"line_alpha\":0.1,\"line_color\":\"#1f77b4\",\"x\":{\"field\":\"x\"},\"y\":{\"field\":\"y\"}},\"id\":\"2294\",\"type\":\"Line\"},{\"attributes\":{},\"id\":\"2288\",\"type\":\"Selection\"},{\"attributes\":{},\"id\":\"2247\",\"type\":\"BasicTickFormatter\"},{\"attributes\":{\"line_color\":\"blue\",\"x\":{\"field\":\"x\"},\"y\":{\"field\":\"y\"}},\"id\":\"2293\",\"type\":\"Line\"},{\"attributes\":{},\"id\":\"2445\",\"type\":\"Selection\"},{\"attributes\":{\"days\":[1,15]},\"id\":\"2257\",\"type\":\"DaysTicker\"},{\"attributes\":{},\"id\":\"2289\",\"type\":\"UnionRenderers\"},{\"attributes\":{\"label\":{\"value\":\"Expected Return\"},\"renderers\":[{\"id\":\"2269\",\"type\":\"GlyphRenderer\"}]},\"id\":\"2291\",\"type\":\"LegendItem\"},{\"attributes\":{\"ticker\":{\"id\":\"2219\",\"type\":\"DatetimeTicker\"}},\"id\":\"2222\",\"type\":\"Grid\"},{\"attributes\":{},\"id\":\"2229\",\"type\":\"WheelZoomTool\"},{\"attributes\":{\"items\":[{\"id\":\"2265\",\"type\":\"LegendItem\"},{\"id\":\"2291\",\"type\":\"LegendItem\"},{\"id\":\"2319\",\"type\":\"LegendItem\"}],\"location\":\"top_left\"},\"id\":\"2264\",\"type\":\"Legend\"},{\"attributes\":{\"data_source\":{\"id\":\"2266\",\"type\":\"ColumnDataSource\"},\"glyph\":{\"id\":\"2267\",\"type\":\"Line\"},\"hover_glyph\":null,\"muted_glyph\":null,\"nonselection_glyph\":{\"id\":\"2268\",\"type\":\"Line\"},\"selection_glyph\":null,\"view\":{\"id\":\"2270\",\"type\":\"CDSView\"}},\"id\":\"2269\",\"type\":\"GlyphRenderer\"},{\"attributes\":{\"months\":[0,2,4,6,8,10]},\"id\":\"2259\",\"type\":\"MonthsTicker\"},{\"attributes\":{\"line_color\":\"green\",\"x\":{\"field\":\"x\"},\"y\":{\"field\":\"y\"}},\"id\":\"2267\",\"type\":\"Line\"},{\"attributes\":{},\"id\":\"2233\",\"type\":\"HelpTool\"},{\"attributes\":{},\"id\":\"2214\",\"type\":\"LinearScale\"},{\"attributes\":{},\"id\":\"2446\",\"type\":\"UnionRenderers\"},{\"attributes\":{\"overlay\":{\"id\":\"2263\",\"type\":\"BoxAnnotation\"}},\"id\":\"2230\",\"type\":\"BoxZoomTool\"},{\"attributes\":{\"callback\":null},\"id\":\"2210\",\"type\":\"DataRange1d\"},{\"attributes\":{\"data_source\":{\"id\":\"2292\",\"type\":\"ColumnDataSource\"},\"glyph\":{\"id\":\"2293\",\"type\":\"Line\"},\"hover_glyph\":null,\"muted_glyph\":null,\"nonselection_glyph\":{\"id\":\"2294\",\"type\":\"Line\"},\"selection_glyph\":null,\"view\":{\"id\":\"2296\",\"type\":\"CDSView\"}},\"id\":\"2295\",\"type\":\"GlyphRenderer\"},{\"attributes\":{\"text\":\"Bayes Return Comparison\"},\"id\":\"2208\",\"type\":\"Title\"},{\"attributes\":{\"source\":{\"id\":\"2266\",\"type\":\"ColumnDataSource\"}},\"id\":\"2270\",\"type\":\"CDSView\"},{\"attributes\":{},\"id\":\"2224\",\"type\":\"BasicTicker\"},{\"attributes\":{},\"id\":\"2231\",\"type\":\"SaveTool\"},{\"attributes\":{\"months\":[0,6]},\"id\":\"2261\",\"type\":\"MonthsTicker\"},{\"attributes\":{\"active_drag\":\"auto\",\"active_inspect\":\"auto\",\"active_multi\":null,\"active_scroll\":\"auto\",\"active_tap\":\"auto\",\"tools\":[{\"id\":\"2228\",\"type\":\"PanTool\"},{\"id\":\"2229\",\"type\":\"WheelZoomTool\"},{\"id\":\"2230\",\"type\":\"BoxZoomTool\"},{\"id\":\"2231\",\"type\":\"SaveTool\"},{\"id\":\"2232\",\"type\":\"ResetTool\"},{\"id\":\"2233\",\"type\":\"HelpTool\"}]},\"id\":\"2234\",\"type\":\"Toolbar\"},{\"attributes\":{},\"id\":\"2216\",\"type\":\"LinearScale\"},{\"attributes\":{\"months\":[0,1,2,3,4,5,6,7,8,9,10,11]},\"id\":\"2258\",\"type\":\"MonthsTicker\"},{\"attributes\":{\"days\":[1,4,7,10,13,16,19,22,25,28]},\"id\":\"2255\",\"type\":\"DaysTicker\"},{\"attributes\":{\"line_alpha\":0.1,\"line_color\":\"#1f77b4\",\"x\":{\"field\":\"x\"},\"y\":{\"field\":\"y\"}},\"id\":\"2268\",\"type\":\"Line\"},{\"attributes\":{},\"id\":\"2249\",\"type\":\"DatetimeTickFormatter\"},{\"attributes\":{},\"id\":\"2316\",\"type\":\"Selection\"},{\"attributes\":{\"callback\":null,\"data\":{\"x\":{\"__ndarray__\":\"AADA1PfocUIAAAAn8vJxQgAAAEj1+3FCAABAmu8FckIAAMCGlw9yQgAAANmRGXJCAACAxTkjckIAAMAXNC1yQgAAAGouN3JCAACAVtZAckIAAMCo0EpyQgAAQJV4VHJCAACA53JeckIAAMA5bWhyQgAAwFpwcXJCAAAArWp7ckIAAICZEoVyQgAAwOsMj3JCAABA2LSYckIAAIAqr6JyQgAAwHyprHJCAABAaVG2ckIAAIC7S8ByQgAAAKjzyXJCAABA+u3TckIAAIBM6N1yQgAAgG3r5nJCAADAv+XwckIAAECsjfpyQgAAgP6HBHNCAAAA6y8Oc0IAAEA9KhhzQgAAgI8kInNCAAAAfMwrc0IAAEDOxjVzQgAAwLpuP3NCAAAADWlJc0IAAEBfY1NzQgAAAOa4XHNCAABAOLNmc0IAAMAkW3BzQgAAAHdVenNCAACAY/2Dc0IAAMC1941zQgAAAAjyl3NCAACA9Jmhc0IAAMBGlKtzQgAAQDM8tXNCAACAhTa/c0IAAMDXMMlzQgAAwPgz0nNCAAAASy7cc0IAAIA31uVzQgAAwInQ73NCAABAdnj5c0IAAIDIcgN0QgAAwBptDXRCAABABxUXdEIAAIBZDyF0QgAAAEa3KnRCAABAmLE0dEIAAIDqqz50QgAAgAuvR3RCAADAXalRdEIAAEBKUVt0QgAAgJxLZXRCAAAAifNudEIAAEDb7Xh0QgAAgC3ognRCAAAAGpCMdEIAAEBsipZ0QgAAwFgyoHRCAAAAqyyqdEIAAED9JrR0QgAAQB4qvXRCAACAcCTHdEIAAABdzNB0QgAAQK/G2nRCAADAm27kdEIAAADuaO50QgAAQEBj+HRCAADALAsCdUIAAAB/BQx1QgAAgGutFXVCAADAvacfdUIAAAAQoil1QgAAwJb3MnVCAAAA6fE8dUIAAIDVmUZ1QgAAwCeUUHVCAABAFDxadUIAAIBmNmR1QgAAwLgwbnVCAABApdh3dUIAAID30oF1QgAAAOR6i3VCAABANnWVdUIAAICIb591QgAAgKlyqHVCAADA+2yydUIAAEDoFLx1QgAAgDoPxnVCAAAAJ7fPdUIAAEB5sdl1QgAAgMur43VCAAAAuFPtdUIAAEAKTvd1QgAAwPb1AHZCAAAASfAKdkIAAECb6hR2QgAAQLztHXZCAACADugndkIAAAD7jzF2QgAAQE2KO3ZCAADAOTJFdkIAAACMLE92QgAAQN4mWXZCAADAys5idkIAAAAdyWx2QgAAgAlxdnZCAADAW2uAdkIAAACuZYp2QgAAAM9ok3ZCAABAIWOddkIAAMANC6d2QgAAAGAFsXZCAACATK26dkIAAMCep8R2QgAAAPGhznZC\",\"dtype\":\"float64\",\"shape\":[129]},\"y\":{\"__ndarray__\":\"YO79CURmWUAEr9P9jFNXQEu5e/wr6lRAb8Zl6nS+VkD/3MrK0AtZQN5UAf6pblpAteiQHDZ/WkB+GFXF24RcQIElNk8Njl1AKyU6AQ7BXkC4+z3NBxNeQA10AHCN2F9A78sH7YNPYEA8NhVviHJfQHsSylLvPWBAjC2DBm09YUBc8052HI9hQD4tB8u4KmBAY7IGFqSIXkC7L6I58FNgQAE3eyz6MV9A+0w0cdwHYUAB+65ciLFhQAEHjMVNwGFAUDhaaabvYkA8icUROmRjQEZKQ8PlEGRAnBrQgi0eZECJW86lFLlkQFuEn7YrgGRAT3j+nG4kZEBI5UfUh7RjQPyrovkQkmJA0C5fcFQvYUC3XhuBcRxjQO+ZBlKcD2NA1afO3mU4Y0C4+u97LyhkQN8HmGGgCmVAb3G4rS2zZUD+9Qzk8ZJlQNmDPPqMP2RAs3FkGAAGZUBkcrQ61kVlQOyNy70RymVAUPJxBI1ZZkA7DaH99PhlQGmet/+kJWZAgKPEKXFgZkC/0cLuHZdnQJrevCdB6GdA+Bdfr4fUaEB4sc3VUUdpQAEXPatE12lAkB6c2hx9aUDm5lH0QdpqQFRJvhymHGpAN5fDK70Fa0CiKkq0QTZsQAC2xnTkAG1AspjByjLJbUCVh+FYqdVsQOEhnKgJNG5AxRGmcUllbkDlxsbG6IluQHRS2AiPPW9A6N8DoHfzb0CppntnNG9vQD/bP5fbXXBAcOfIvmcUcEDs9rEUAnlwQBhqA7Jp53BA8f3IzFTdcEAtzHTdvmZwQE/5JxlaWXFAJ12EpwsicUAiGmBHLkFxQJWTSTX4enFAfo7PMAUncUAztk5VqHtxQA/kAMxubnBAyFByx0n2b0B+LiYKJ0ZxQLeAscTCVHFAlShZI/EEcUDApUribhpwQOXHhMQEGXBA3SsSmxc4cUAZF6p4EFBxQEQu5HytnXFAHzoE1OOncUCX70SgElRyQLmRUHhOWnJAQiruYwZeckATXiLOVQJyQEPsplkXuHJAubNzmx4Sc0DTUvPPSnRzQI/a+8sRNXRASGVXclY4dEAKlIJREG90QKwlvPXSsXRAtXiMkdDWdEAoageFdkB1QG35sCd7UXVAiK658bLFdUDrCOBoiUV2QDHGLkpp83ZAdmBNJ+k0d0A4uezBBnt4QDMo/VrxlHdA/ZLBEusLd0CXHWeH+B93QKjhF6kVt3dAdzVAFljed0CQ1+SNOLF4QHD9oZUIi3lArPRsJd2jeUCc+lkLYtN3QGilmGCCT3hAvv3A4bAYdkCAaoB8vfJ3QH768lRRwnhA5W2yMKoweUB3mbWeFjV6QOPciY6OiXhA4rYZS4xCekB8LBHE8qp6QO0r7b/oLXpA\",\"dtype\":\"float64\",\"shape\":[129]}},\"selected\":{\"id\":\"2288\",\"type\":\"Selection\"},\"selection_policy\":{\"id\":\"2289\",\"type\":\"UnionRenderers\"}},\"id\":\"2241\",\"type\":\"ColumnDataSource\"},{\"attributes\":{\"label\":{\"value\":\"Actual Return\"},\"renderers\":[{\"id\":\"2295\",\"type\":\"GlyphRenderer\"}]},\"id\":\"2319\",\"type\":\"LegendItem\"},{\"attributes\":{\"dimension\":1,\"ticker\":{\"id\":\"2224\",\"type\":\"BasicTicker\"}},\"id\":\"2227\",\"type\":\"Grid\"},{\"attributes\":{},\"id\":\"2228\",\"type\":\"PanTool\"},{\"attributes\":{\"base\":24,\"mantissas\":[1,2,4,6,8,12],\"max_interval\":43200000.0,\"min_interval\":3600000.0,\"num_minor_ticks\":0},\"id\":\"2253\",\"type\":\"AdaptiveTicker\"},{\"attributes\":{\"data_source\":{\"id\":\"2241\",\"type\":\"ColumnDataSource\"},\"glyph\":{\"id\":\"2242\",\"type\":\"Line\"},\"hover_glyph\":null,\"muted_glyph\":null,\"nonselection_glyph\":{\"id\":\"2243\",\"type\":\"Line\"},\"selection_glyph\":null,\"view\":{\"id\":\"2245\",\"type\":\"CDSView\"}},\"id\":\"2244\",\"type\":\"GlyphRenderer\"},{\"attributes\":{\"bottom_units\":\"screen\",\"fill_alpha\":{\"value\":0.5},\"fill_color\":{\"value\":\"lightgrey\"},\"left_units\":\"screen\",\"level\":\"overlay\",\"line_alpha\":{\"value\":1.0},\"line_color\":{\"value\":\"black\"},\"line_dash\":[4,4],\"line_width\":{\"value\":2},\"render_mode\":\"css\",\"right_units\":\"screen\",\"top_units\":\"screen\"},\"id\":\"2263\",\"type\":\"BoxAnnotation\"},{\"attributes\":{\"months\":[0,4,8]},\"id\":\"2260\",\"type\":\"MonthsTicker\"},{\"attributes\":{\"formatter\":{\"id\":\"2249\",\"type\":\"DatetimeTickFormatter\"},\"ticker\":{\"id\":\"2219\",\"type\":\"DatetimeTicker\"}},\"id\":\"2218\",\"type\":\"DatetimeAxis\"},{\"attributes\":{\"base\":60,\"mantissas\":[1,2,5,10,15,20,30],\"max_interval\":1800000.0,\"min_interval\":1000.0,\"num_minor_ticks\":0},\"id\":\"2252\",\"type\":\"AdaptiveTicker\"},{\"attributes\":{},\"id\":\"2317\",\"type\":\"UnionRenderers\"},{\"attributes\":{\"label\":{\"value\":\"R1000\"},\"renderers\":[{\"id\":\"2244\",\"type\":\"GlyphRenderer\"}]},\"id\":\"2265\",\"type\":\"LegendItem\"},{\"attributes\":{\"mantissas\":[1,2,5],\"max_interval\":500.0,\"num_minor_ticks\":0},\"id\":\"2251\",\"type\":\"AdaptiveTicker\"},{\"attributes\":{\"callback\":null},\"id\":\"2212\",\"type\":\"DataRange1d\"},{\"attributes\":{\"line_color\":\"red\",\"x\":{\"field\":\"x\"},\"y\":{\"field\":\"y\"}},\"id\":\"2242\",\"type\":\"Line\"},{\"attributes\":{\"source\":{\"id\":\"2241\",\"type\":\"ColumnDataSource\"}},\"id\":\"2245\",\"type\":\"CDSView\"},{\"attributes\":{},\"id\":\"2262\",\"type\":\"YearsTicker\"}],\"root_ids\":[\"2207\"]},\"title\":\"Bokeh Application\",\"version\":\"1.2.0\"}};\n",
       "  var render_items = [{\"docid\":\"9cedb33a-8dc2-4ea4-b33e-07b4fc2ef4d9\",\"roots\":{\"2207\":\"4211f893-bd62-43c4-9bda-4434d1218caa\"}}];\n",
       "  root.Bokeh.embed.embed_items_notebook(docs_json, render_items);\n",
       "\n",
       "  }\n",
       "  if (root.Bokeh !== undefined) {\n",
       "    embed_document(root);\n",
       "  } else {\n",
       "    var attempts = 0;\n",
       "    var timer = setInterval(function(root) {\n",
       "      if (root.Bokeh !== undefined) {\n",
       "        embed_document(root);\n",
       "        clearInterval(timer);\n",
       "      }\n",
       "      attempts++;\n",
       "      if (attempts > 100) {\n",
       "        console.log(\"Bokeh: ERROR: Unable to run BokehJS code because BokehJS library is missing\");\n",
       "        clearInterval(timer);\n",
       "      }\n",
       "    }, 10, root)\n",
       "  }\n",
       "})(window);"
      ],
      "application/vnd.bokehjs_exec.v0+json": ""
     },
     "metadata": {
      "application/vnd.bokehjs_exec.v0+json": {
       "id": "2207"
      }
     },
     "output_type": "display_data"
    }
   ],
   "source": [
    "#Return analysis between predicted return weights and Index\n",
    "p = figure(title=\"Bayes Return Comparison\", toolbar_location=None, x_axis_type='datetime')\n",
    "\n",
    "p.line(x=dfBmk[dfEstB.index.min():dfEstB.index.max()].index, y=np.cumprod(1+dfBmk[dfEstB.index.min():dfEstB.index.max()].RETURN/100)*100, color='red', legend='R1000')\n",
    "p.line(x=dfEstB.index, y=np.cumprod(1+dfEstB.Rtn/100)*100, color='green', legend='Expected Return')\n",
    "p.line(x=dfActB.index, y=np.cumprod(1+dfActB.Rtn/100)*100, color='blue', legend='Actual Return')\n",
    "p.legend.location = \"top_left\"\n",
    "show(p)"
   ]
  }
 ],
 "metadata": {
  "kernelspec": {
   "display_name": "Python 3",
   "language": "python",
   "name": "python3"
  },
  "language_info": {
   "codemirror_mode": {
    "name": "ipython",
    "version": 3
   },
   "file_extension": ".py",
   "mimetype": "text/x-python",
   "name": "python",
   "nbconvert_exporter": "python",
   "pygments_lexer": "ipython3",
   "version": "3.7.4"
  }
 },
 "nbformat": 4,
 "nbformat_minor": 4
}
